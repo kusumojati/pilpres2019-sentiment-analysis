{
 "cells": [
  {
   "cell_type": "code",
   "execution_count": 3,
   "metadata": {
    "colab": {
     "base_uri": "https://localhost:8080/"
    },
    "executionInfo": {
     "elapsed": 34841,
     "status": "ok",
     "timestamp": 1710301420541,
     "user": {
      "displayName": "Alfandy Surya",
      "userId": "04251874478570968890"
     },
     "user_tz": -420
    },
    "id": "kIwBUs-yTEwA",
    "outputId": "2104d925-8c3e-4f61-d7ba-4895a3833a62",
    "scrolled": true
   },
   "outputs": [],
   "source": [
    "# !pip install Sastrawi\n",
    "# !pip install nlp-id\n",
    "# !pip install emoji\n",
    "# !pip install optuna\n",
    "# !pip install gensim==4.3.2\n",
    "# !pip install scikit-learn==1.2.2\n",
    "# !pip install numpy==1.25.2"
   ]
  },
  {
   "cell_type": "markdown",
   "metadata": {
    "id": "HZdb7pUVGNz4"
   },
   "source": [
    "# Import Libraries"
   ]
  },
  {
   "cell_type": "code",
   "execution_count": 4,
   "metadata": {
    "colab": {
     "base_uri": "https://localhost:8080/"
    },
    "executionInfo": {
     "elapsed": 2731,
     "status": "ok",
     "timestamp": 1710301423267,
     "user": {
      "displayName": "Alfandy Surya",
      "userId": "04251874478570968890"
     },
     "user_tz": -420
    },
    "id": "wU36gI7eGE3m",
    "outputId": "3b27cfa3-eb95-4824-bd47-af3f36682e4b"
   },
   "outputs": [
    {
     "name": "stderr",
     "output_type": "stream",
     "text": [
      "[nltk_data] Downloading package stopwords to\n",
      "[nltk_data]     C:\\Users\\alfan\\AppData\\Roaming\\nltk_data...\n",
      "[nltk_data]   Package stopwords is already up-to-date!\n",
      "[nltk_data] Downloading package punkt to\n",
      "[nltk_data]     C:\\Users\\alfan\\AppData\\Roaming\\nltk_data...\n",
      "[nltk_data]   Package punkt is already up-to-date!\n",
      "[nltk_data] Downloading package words to\n",
      "[nltk_data]     C:\\Users\\alfan\\AppData\\Roaming\\nltk_data...\n",
      "[nltk_data]   Package words is already up-to-date!\n"
     ]
    }
   ],
   "source": [
    "import pandas as pd\n",
    "import numpy as np\n",
    "import matplotlib.pyplot as plt\n",
    "import seaborn as sns\n",
    "import os\n",
    "import nltk\n",
    "import spacy\n",
    "import re\n",
    "import json\n",
    "import emoji\n",
    "import optuna\n",
    "import joblib\n",
    "import json\n",
    "import gensim\n",
    "\n",
    "from nltk import FreqDist\n",
    "from nltk.corpus import stopwords\n",
    "from nltk.tokenize import word_tokenize\n",
    "from nltk.corpus import words\n",
    "from spacy.lang.id.stop_words import STOP_WORDS\n",
    "from Sastrawi.StopWordRemover.StopWordRemoverFactory import StopWordRemoverFactory\n",
    "from sklearn.metrics import accuracy_score, precision_score, recall_score, f1_score, classification_report, confusion_matrix\n",
    "from sklearn.linear_model import LogisticRegression\n",
    "from sklearn.metrics import classification_report, accuracy_score\n",
    "from xgboost import XGBClassifier\n",
    "from sklearn.ensemble import RandomForestClassifier\n",
    "from sklearn.model_selection import train_test_split\n",
    "from sklearn.model_selection import GridSearchCV\n",
    "from sklearn.base import BaseEstimator\n",
    "from Sastrawi.Stemmer.StemmerFactory import StemmerFactory\n",
    "from sklearn.feature_extraction.text import TfidfVectorizer\n",
    "from nlp_id.lemmatizer import Lemmatizer\n",
    "from gensim.models import Word2Vec\n",
    "from nlp_id.postag import PosTag\n",
    "nltk.download('stopwords')\n",
    "nltk.download('punkt')\n",
    "nltk.download('words')\n",
    "\n",
    "import tensorflow as tf\n",
    "from tensorflow.keras.models import Sequential\n",
    "from tensorflow.keras.layers import Embedding, Conv1D, MaxPooling1D, Bidirectional, LSTM, Dense, Dropout\n",
    "from tensorflow.keras.optimizers import SGD, Adam\n",
    "from tensorflow.keras.optimizers.schedules import ExponentialDecay\n",
    "from tensorflow.keras.callbacks import LearningRateScheduler\n",
    "from tensorflow.keras.callbacks import History\n",
    "from tensorflow.keras.callbacks import EarlyStopping\n",
    "from gensim.models import Word2Vec\n",
    "from tensorflow.keras.preprocessing.sequence import pad_sequences\n",
    "\n",
    "custom_params = {\"axes.spines.right\": False, \"axes.spines.top\": False}\n",
    "sns.set_theme(style=\"ticks\", rc=custom_params)\n",
    "pd.set_option('display.max_colwidth', 100)\n",
    "pd.set_option('display.max_columns', 40)\n",
    "pd.set_option('display.max_rows', 500)\n",
    "\n",
    "import warnings\n",
    "warnings.filterwarnings(\"ignore\")"
   ]
  },
  {
   "cell_type": "markdown",
   "metadata": {
    "id": "CtrjwjF6Gcwf"
   },
   "source": [
    "# Load Tweet Dataset"
   ]
  },
  {
   "cell_type": "markdown",
   "metadata": {
    "id": "nXH9W4xuGjTM"
   },
   "source": [
    "## Set Parameters"
   ]
  },
  {
   "cell_type": "code",
   "execution_count": 5,
   "metadata": {
    "executionInfo": {
     "elapsed": 10,
     "status": "ok",
     "timestamp": 1710301423267,
     "user": {
      "displayName": "Alfandy Surya",
      "userId": "04251874478570968890"
     },
     "user_tz": -420
    },
    "id": "8pfOFjdAHB7c"
   },
   "outputs": [],
   "source": [
    "path = os.getcwd()\n",
    "\n",
    "resources_folder = 'resources'\n",
    "resources_path = os.path.join(path, resources_folder)\n",
    "\n",
    "dataset_folder = 'dataset'\n",
    "dataset_path = os.path.join(path, dataset_folder)\n",
    "dataset_name = 'tweet.csv'\n",
    "\n",
    "model_folder = 'models'\n",
    "model_path = os.path.join(path, model_folder)\n",
    "\n",
    "# rf_model_sg_baseline = joblib.load(os.path.join(model_path, 'model_rf_sg_baseline.joblib'))\n",
    "# rf_model_sg_tuned = joblib.load(os.path.join(model_path, 'model_rf_sg_tuned.joblib'))\n",
    "# rf_model_cbow_baseline = joblib.load(os.path.join(model_path, 'model_rf_cbow_baseline.joblib'))\n",
    "# rf_model_cbow_tuned = joblib.load(os.path.join(model_path, 'model_rf_cbow_tuned.joblib'))\n",
    "\n",
    "word2vec_model_sg = os.path.join(model_path, 'word2vec_model_sg_min_8_window_6_no_sw.bin')\n",
    "word2vec_model_cbow = os.path.join(model_path, 'word2vec_model_cbow_min_8_window_6_no_sw.bin')"
   ]
  },
  {
   "cell_type": "markdown",
   "metadata": {
    "id": "k3_wfMsGJ-Mh"
   },
   "source": [
    "## Load Dataset"
   ]
  },
  {
   "cell_type": "code",
   "execution_count": 6,
   "metadata": {
    "colab": {
     "base_uri": "https://localhost:8080/",
     "height": 206
    },
    "executionInfo": {
     "elapsed": 9,
     "status": "ok",
     "timestamp": 1710301423267,
     "user": {
      "displayName": "Alfandy Surya",
      "userId": "04251874478570968890"
     },
     "user_tz": -420
    },
    "id": "Zozx3QJoGZlj",
    "outputId": "40e4e0cc-9fe2-4e2c-d948-be282e37cea0"
   },
   "outputs": [
    {
     "data": {
      "text/html": [
       "<div>\n",
       "<style scoped>\n",
       "    .dataframe tbody tr th:only-of-type {\n",
       "        vertical-align: middle;\n",
       "    }\n",
       "\n",
       "    .dataframe tbody tr th {\n",
       "        vertical-align: top;\n",
       "    }\n",
       "\n",
       "    .dataframe thead th {\n",
       "        text-align: right;\n",
       "    }\n",
       "</style>\n",
       "<table border=\"1\" class=\"dataframe\">\n",
       "  <thead>\n",
       "    <tr style=\"text-align: right;\">\n",
       "      <th></th>\n",
       "      <th>Unnamed: 0</th>\n",
       "      <th>sentimen</th>\n",
       "      <th>tweet</th>\n",
       "    </tr>\n",
       "  </thead>\n",
       "  <tbody>\n",
       "    <tr>\n",
       "      <th>0</th>\n",
       "      <td>0</td>\n",
       "      <td>negatif</td>\n",
       "      <td>Kata @prabowo Indonesia tidak dihargai bangsa asing!   Berita ini ðŸ‘‡ pasti hoax buatan penguas...</td>\n",
       "    </tr>\n",
       "    <tr>\n",
       "      <th>1</th>\n",
       "      <td>1</td>\n",
       "      <td>netral</td>\n",
       "      <td>Batuan Langka, Tasbih Jokowi Hadiah dari Habib Luthfi Seharga Mercy?  http://dlvr.it/R2pvZVÂ</td>\n",
       "    </tr>\n",
       "    <tr>\n",
       "      <th>2</th>\n",
       "      <td>2</td>\n",
       "      <td>netral</td>\n",
       "      <td>Di era Jokowi, ekonomi Indonesia semakin baik. #01IndonesiaMaju #JokowiLagi #JokowiMenangTotalDe...</td>\n",
       "    </tr>\n",
       "    <tr>\n",
       "      <th>3</th>\n",
       "      <td>3</td>\n",
       "      <td>positif</td>\n",
       "      <td>Bagi Sumatera Selatan, Asian Games berdampak pd ekonomi langsung diprediksi mencapai 18,5 triliu...</td>\n",
       "    </tr>\n",
       "    <tr>\n",
       "      <th>4</th>\n",
       "      <td>4</td>\n",
       "      <td>negatif</td>\n",
       "      <td>Negara kita ngutang buat bngun infrastruktur yang udah dipake masyarakat, terus masyarakatnya ng...</td>\n",
       "    </tr>\n",
       "  </tbody>\n",
       "</table>\n",
       "</div>"
      ],
      "text/plain": [
       "   Unnamed: 0 sentimen  \\\n",
       "0           0  negatif   \n",
       "1           1   netral   \n",
       "2           2   netral   \n",
       "3           3  positif   \n",
       "4           4  negatif   \n",
       "\n",
       "                                                                                                 tweet  \n",
       "0  Kata @prabowo Indonesia tidak dihargai bangsa asing!   Berita ini ðŸ‘‡ pasti hoax buatan penguas...  \n",
       "1        Batuan Langka, Tasbih Jokowi Hadiah dari Habib Luthfi Seharga Mercy?  http://dlvr.it/R2pvZVÂ   \n",
       "2  Di era Jokowi, ekonomi Indonesia semakin baik. #01IndonesiaMaju #JokowiLagi #JokowiMenangTotalDe...  \n",
       "3  Bagi Sumatera Selatan, Asian Games berdampak pd ekonomi langsung diprediksi mencapai 18,5 triliu...  \n",
       "4  Negara kita ngutang buat bngun infrastruktur yang udah dipake masyarakat, terus masyarakatnya ng...  "
      ]
     },
     "execution_count": 6,
     "metadata": {},
     "output_type": "execute_result"
    }
   ],
   "source": [
    "df = pd.read_csv(os.path.join(dataset_path, dataset_name), encoding='utf-8')\n",
    "df.head()"
   ]
  },
  {
   "cell_type": "code",
   "execution_count": 7,
   "metadata": {},
   "outputs": [
    {
     "data": {
      "text/plain": [
       "array([0, 'negatif',\n",
       "       'Kata @prabowo Indonesia tidak dihargai bangsa asing!   Berita ini ðŸ‘‡ pasti hoax buatan penguasa, ya kan @rockygerung?ðŸ˜œ https://twitter.com/mediaindonesia/status/1117575436337160192?s=21Â\\xa0â€¦'],\n",
       "      dtype=object)"
      ]
     },
     "execution_count": 7,
     "metadata": {},
     "output_type": "execute_result"
    }
   ],
   "source": [
    "df.loc[0].values"
   ]
  },
  {
   "cell_type": "code",
   "execution_count": 241,
   "metadata": {
    "executionInfo": {
     "elapsed": 8,
     "status": "ok",
     "timestamp": 1710301423267,
     "user": {
      "displayName": "Alfandy Surya",
      "userId": "04251874478570968890"
     },
     "user_tz": -420
    },
    "id": "FLHXPQ9BJMzn"
   },
   "outputs": [],
   "source": [
    "df.drop('Unnamed: 0', axis=1, inplace=True) # drop column with 'Unnamed: 0' name"
   ]
  },
  {
   "cell_type": "markdown",
   "metadata": {
    "id": "MVDJOw0JKhKL"
   },
   "source": [
    "# Data Inspection"
   ]
  },
  {
   "cell_type": "markdown",
   "metadata": {
    "id": "3gJMSSQULA_A"
   },
   "source": [
    "## Check Null Values"
   ]
  },
  {
   "cell_type": "code",
   "execution_count": 242,
   "metadata": {
    "colab": {
     "base_uri": "https://localhost:8080/"
    },
    "executionInfo": {
     "elapsed": 9,
     "status": "ok",
     "timestamp": 1710301423268,
     "user": {
      "displayName": "Alfandy Surya",
      "userId": "04251874478570968890"
     },
     "user_tz": -420
    },
    "id": "oOm_D0EFJ0rf",
    "outputId": "2bfcd01c-9339-4978-acf8-5ebdbe627a11"
   },
   "outputs": [
    {
     "name": "stdout",
     "output_type": "stream",
     "text": [
      "<class 'pandas.core.frame.DataFrame'>\n",
      "RangeIndex: 1815 entries, 0 to 1814\n",
      "Data columns (total 2 columns):\n",
      " #   Column    Non-Null Count  Dtype \n",
      "---  ------    --------------  ----- \n",
      " 0   sentimen  1815 non-null   object\n",
      " 1   tweet     1815 non-null   object\n",
      "dtypes: object(2)\n",
      "memory usage: 28.5+ KB\n"
     ]
    }
   ],
   "source": [
    "df.info()"
   ]
  },
  {
   "cell_type": "code",
   "execution_count": 243,
   "metadata": {
    "colab": {
     "base_uri": "https://localhost:8080/"
    },
    "executionInfo": {
     "elapsed": 7,
     "status": "ok",
     "timestamp": 1710301423268,
     "user": {
      "displayName": "Alfandy Surya",
      "userId": "04251874478570968890"
     },
     "user_tz": -420
    },
    "id": "Z8CnktdmKoij",
    "outputId": "0226f101-f3fd-4c22-8f59-526f723738ba"
   },
   "outputs": [
    {
     "data": {
      "text/plain": [
       "sentimen    0.0\n",
       "tweet       0.0\n",
       "dtype: float64"
      ]
     },
     "execution_count": 243,
     "metadata": {},
     "output_type": "execute_result"
    }
   ],
   "source": [
    "df.isna().sum()/len(df) # check null values proportion"
   ]
  },
  {
   "cell_type": "markdown",
   "metadata": {
    "id": "hdSCW5nkK6u_"
   },
   "source": [
    "Dapat dilihat bahwa tidak terdapat null values di dataset yang kita gunakan. Artinya kita tidak perlu melakukan proses imputation."
   ]
  },
  {
   "cell_type": "markdown",
   "metadata": {
    "id": "Frk2j7nCLESC"
   },
   "source": [
    "## Check Label Proportion"
   ]
  },
  {
   "cell_type": "code",
   "execution_count": 244,
   "metadata": {},
   "outputs": [
    {
     "data": {
      "text/plain": [
       "sentimen\n",
       "positif     612\n",
       "netral      607\n",
       "negatif     596\n",
       "dtype: int64"
      ]
     },
     "execution_count": 244,
     "metadata": {},
     "output_type": "execute_result"
    }
   ],
   "source": [
    "df[['sentimen']].value_counts()"
   ]
  },
  {
   "cell_type": "code",
   "execution_count": 245,
   "metadata": {
    "colab": {
     "base_uri": "https://localhost:8080/",
     "height": 551
    },
    "executionInfo": {
     "elapsed": 455,
     "status": "ok",
     "timestamp": 1710301423717,
     "user": {
      "displayName": "Alfandy Surya",
      "userId": "04251874478570968890"
     },
     "user_tz": -420
    },
    "id": "tZ68vt2rK6Hf",
    "outputId": "7ca29cbd-78d0-4b4d-85c1-6d3aa9eae7e6"
   },
   "outputs": [
    {
     "data": {
      "image/png": "[encoded data removed]",
      "text/plain": [
       "<Figure size 800x600 with 1 Axes>"
      ]
     },
     "metadata": {},
     "output_type": "display_data"
    }
   ],
   "source": [
    "plt.figure(figsize=(8, 6), dpi=100)\n",
    "ax = sns.countplot(data=df, x='sentimen', hue='sentimen', dodge=False)\n",
    "total = float(len(df))  # total number of data points\n",
    "\n",
    "for p in ax.patches:\n",
    "    height = p.get_height()\n",
    "    ax.annotate(f'{height/total:.1%}', (p.get_x() + p.get_width() / 2., height), ha='center', va='center', xytext=(0, 10), textcoords='offset points')\n",
    "\n",
    "plt.show()"
   ]
  },
  {
   "cell_type": "markdown",
   "metadata": {
    "id": "gNjlVvRhMTH5"
   },
   "source": [
    "Label (sentimen) yang kita miliki cukup balance sehingga tidak perlu melakukan proses oversampling atau undersampling. Selain itu, kita dapat menggunakan metriks akurasi untuk mengukur performa model."
   ]
  },
  {
   "cell_type": "markdown",
   "metadata": {
    "id": "p2qDzilVNCoW"
   },
   "source": [
    "## Check Data Duplication"
   ]
  },
  {
   "cell_type": "code",
   "execution_count": 246,
   "metadata": {
    "colab": {
     "base_uri": "https://localhost:8080/"
    },
    "executionInfo": {
     "elapsed": 6,
     "status": "ok",
     "timestamp": 1710301423717,
     "user": {
      "displayName": "Alfandy Surya",
      "userId": "04251874478570968890"
     },
     "user_tz": -420
    },
    "id": "nAIrgPR6KxIV",
    "outputId": "d6c4f273-2308-4fc0-c382-6d579ed4fc6b"
   },
   "outputs": [
    {
     "name": "stdout",
     "output_type": "stream",
     "text": [
      "Number of rows before duplicates data dropped:  1815\n",
      "Number of rows after duplicates data dropped:  1815\n",
      "Number of duplicated rows:  0\n"
     ]
    }
   ],
   "source": [
    "print('Number of rows before duplicates data dropped: ', len(df))\n",
    "print('Number of rows after duplicates data dropped: ',len(df.drop_duplicates()))\n",
    "print('Number of duplicated rows: ' , len(df) - len(df.drop_duplicates()))"
   ]
  },
  {
   "cell_type": "markdown",
   "metadata": {
    "id": "o1oRIbBJNbK4"
   },
   "source": [
    "Tidak terdapat data yang duplicated dari dataset yang kita miliki."
   ]
  },
  {
   "cell_type": "markdown",
   "metadata": {
    "id": "XG4TizAnNvZg"
   },
   "source": [
    "# Text Preprocessing"
   ]
  },
  {
   "cell_type": "code",
   "execution_count": 247,
   "metadata": {
    "executionInfo": {
     "elapsed": 5,
     "status": "ok",
     "timestamp": 1710301423717,
     "user": {
      "displayName": "Alfandy Surya",
      "userId": "04251874478570968890"
     },
     "user_tz": -420
    },
    "id": "MmIpjrn3pFlL"
   },
   "outputs": [],
   "source": [
    "with open(os.path.join(resources_folder,'slang_word_dictionary.json'), 'r') as json_file:\n",
    "    slangword_dict = json.load(json_file)"
   ]
  },
  {
   "cell_type": "code",
   "execution_count": 248,
   "metadata": {
    "executionInfo": {
     "elapsed": 5,
     "status": "ok",
     "timestamp": 1710301423717,
     "user": {
      "displayName": "Alfandy Surya",
      "userId": "04251874478570968890"
     },
     "user_tz": -420
    },
    "id": "74c9c2baqk_D"
   },
   "outputs": [],
   "source": [
    "with open(os.path.join(resources_folder,'emoji_dictionary.json'), 'r') as json_file:\n",
    "    emoji_dict = json.load(json_file)"
   ]
  },
  {
   "cell_type": "code",
   "execution_count": 249,
   "metadata": {
    "executionInfo": {
     "elapsed": 5,
     "status": "ok",
     "timestamp": 1710301423718,
     "user": {
      "displayName": "Alfandy Surya",
      "userId": "04251874478570968890"
     },
     "user_tz": -420
    },
    "id": "k8p9D78frt7h"
   },
   "outputs": [],
   "source": [
    "additional_stopwords = [\n",
    "    'sih', 'nya', 'iya', 'pak', 'se', 'ya', 'ke', 'pa', 'om', 'hmmmmm', 'hmm', 'oh', 'eh', 'com'\n",
    "]\n",
    "\n",
    "excluded_stopwords = [\n",
    "    'tidak', 'belum', 'bukan', 'tanpa', 'jarang', 'kurang', 'hampir tidak', 'tidak pernah',\n",
    "    'belum pernah', 'tidak boleh', 'tidak bisa', 'tidak seharusnya', 'tidak mungkin',\n",
    "    'tidak akan', 'tidak harus', 'tidak mengizinkan', 'tidak diizinkan', 'tidak diinginkan',\n",
    "    'tidak disarankan', 'tidak disetujui', 'baik', 'bisa', 'mungkin', 'boleh', 'salah', 'semakin'\n",
    "]\n",
    "\n",
    "stop_words = set(stopwords.words('indonesian'))\n",
    "stop_words_excluded = [value for value in stop_words if value not in excluded_stopwords] + additional_stopwords\n",
    "stop_words_all = list(stop_words) + additional_stopwords"
   ]
  },
  {
   "cell_type": "code",
   "execution_count": 250,
   "metadata": {
    "executionInfo": {
     "elapsed": 5,
     "status": "ok",
     "timestamp": 1710301423718,
     "user": {
      "displayName": "Alfandy Surya",
      "userId": "04251874478570968890"
     },
     "user_tz": -420
    },
    "id": "PVi2ySWPrkiv"
   },
   "outputs": [],
   "source": [
    "def random_tweet(before, after, low=0, high=10, length=len(df)):\n",
    "      for i in np.random.randint(low, length, high):\n",
    "        print(\"------------\"*100)\n",
    "        print(f'index {i}')\n",
    "        print('before: ', before.loc[i])\n",
    "        print('after: ', after.loc[i])"
   ]
  },
  {
   "cell_type": "code",
   "execution_count": 251,
   "metadata": {
    "executionInfo": {
     "elapsed": 1195,
     "status": "ok",
     "timestamp": 1710301424908,
     "user": {
      "displayName": "Alfandy Surya",
      "userId": "04251874478570968890"
     },
     "user_tz": -420
    },
    "id": "xy08GgdhNKE4"
   },
   "outputs": [],
   "source": [
    "# Text processing function\n",
    "\n",
    "def clean_tweet(text):\n",
    "    cleaned_text = re.sub(r\"#\\w+\", \"\", text)\n",
    "    cleaned_text = re.sub(r'http[s]?://(?:[a-zA-Z]|[0-9]|[$-_@.&+]|[!*\\\\(\\\\),]|(?:%[0-9a-fA-F][0-9a-fA-F]))+', '', cleaned_text)  # Remove URLs starting with http/https\n",
    "    cleaned_text = re.sub(r'www\\.[^ ]+', '', cleaned_text)  # Remove www URLs\n",
    "    cleaned_text = re.sub(r'pic\\.twitter\\.com/\\S+', '', cleaned_text)  # Remove pic.twitter.com links\n",
    "    cleaned_text = re.sub(r'\\b[A-Za-z0-9._%+-]+@[A-Za-z0-9.-]+\\.[A-Z|a-z]{2,}\\b', '', cleaned_text)  # Remove emails\n",
    "    cleaned_text = re.sub(r'<.*?>', '', cleaned_text) # Remove HTML\n",
    "    cleaned_text = cleaned_text.replace('@', '')  # Remove @ in mentions\n",
    "\n",
    "    return cleaned_text\n",
    "\n",
    "def remove_emojis(text):\n",
    "    emojis_to_remove = [\"😂\", \"…\", \"👍\", \"😁\", '😄','😆', '😊', '😭']\n",
    "    for emoji in emojis_to_remove:\n",
    "        text = text.replace(emoji, \"\")\n",
    "    return text\n",
    "\n",
    "def extract_emojis(text):\n",
    "    emojis = [c for c in text if c in emoji.EMOJI_DATA]\n",
    "    combined_emoji = ''.join(emojis)\n",
    "    return combined_emoji\n",
    "\n",
    "def process_punctuation(text):\n",
    "    modified_text = re.sub(r'[-\\']', '',text)\n",
    "    return modified_text\n",
    "\n",
    "def remove_punctuation(text):\n",
    "    punctuation_pattern = r'[^\\w\\s]'\n",
    "    cleaned_text = re.sub(punctuation_pattern, ' ', text)\n",
    "    return cleaned_text\n",
    "\n",
    "def remove_extra_spaces(text):\n",
    "    extra_spaces_pattern = r\"\\s+\"\n",
    "    cleaned_text = re.sub(extra_spaces_pattern, \" \", text)\n",
    "    cleaned_text = cleaned_text.strip()\n",
    "    return cleaned_text\n",
    "\n",
    "def remove_special_characters(text):\n",
    "    cleaned_text = re.sub(r'[^A-Za-z0-9\\s]', ' ', text)\n",
    "    return cleaned_text\n",
    "\n",
    "def lowercase(text):\n",
    "    lowercase_text = text.lower()\n",
    "    return lowercase_text\n",
    "\n",
    "def process_slang(text, dictionary=slangword_dict):\n",
    "    pattern_short_words = re.compile(r'\\b(?:' + '|'.join(re.escape(word) for word in dictionary.keys()) + r')\\b')\n",
    "    output_text = pattern_short_words.sub(lambda x: dictionary[x.group()], text)\n",
    "    return output_text\n",
    "\n",
    "def remove_stopwords(text, stopwords=stop_words_excluded):\n",
    "    tokens = word_tokenize(text)\n",
    "    filtered_tokens = [token for token in tokens if token.lower() not in stop_words_excluded]\n",
    "    cleaned_text = ' '.join(filtered_tokens)\n",
    "    return cleaned_text\n",
    "\n",
    "def remove_specific_numbers(text):\n",
    "    pattern = re.compile(r'\\b(?!2\\b|1\\b|2019\\b)\\d+\\b')\n",
    "    result = re.sub(pattern, '', text)\n",
    "    return result\n",
    "\n",
    "# Text normalization function\n",
    "lemmatizer = Lemmatizer()\n",
    "\n",
    "def custom_lemmatization(text, exclude_words=[]):\n",
    "    words = text.split()\n",
    "    lemmatized_words = [lemmatizer.lemmatize(word) if word.lower() not in exclude_words else word for word in words]\n",
    "    lemmatized_text = ' '.join(lemmatized_words)\n",
    "\n",
    "    return lemmatized_text\n",
    "\n",
    "def get_english_words(word_list):\n",
    "    english_words = set(words.words())\n",
    "    return [word for word in word_list if word.lower() in english_words]\n",
    "\n",
    "# Word embedding\n",
    "def mean_vector_df_val(model, train_sentences, val_sentences, test_sentences):\n",
    "    # train\n",
    "    vectorized_lists_train = []\n",
    "    for word_list in train_sentences:\n",
    "        vectorized_words_train = [model.wv[word] for word in word_list if word in model.wv]  # OOV handler (ignore)\n",
    "        vectorized_lists_train.append(vectorized_words_train)\n",
    "\n",
    "    mean_vector_train = []\n",
    "    for matrix in vectorized_lists_train:\n",
    "        transposed_matrix_train = list(map(list, zip(*matrix)))\n",
    "        column_means_train = [sum(column) / len(column) for column in transposed_matrix_train]\n",
    "        mean_vector_train.append(column_means_train)\n",
    "\n",
    "    X_train_mean_vector = pd.DataFrame(np.array(mean_vector_train))\n",
    "\n",
    "    # validation\n",
    "    vectorized_lists_val = []\n",
    "    for word_list in val_sentences:\n",
    "        vectorized_words_val = [model.wv[word] for word in word_list if word in model.wv] #OOV handler (ignore)\n",
    "        vectorized_lists_val.append(vectorized_words_val)\n",
    "\n",
    "    mean_vector_val = []\n",
    "    for matrix in vectorized_lists_val:\n",
    "        transposed_matrix_val = list(map(list, zip(*matrix)))\n",
    "        column_means_val = [sum(column) / len(column) for column in transposed_matrix_val]\n",
    "        mean_vector_val.append(column_means_val)\n",
    "\n",
    "    X_val_mean_vector = pd.DataFrame(np.array(mean_vector_val))\n",
    "\n",
    "    # Test\n",
    "    vectorized_lists_test = []\n",
    "    for word_list in test_sentences:\n",
    "        vectorized_words_test = [model.wv[word] for word in word_list if word in model.wv] #OOV handler (ignore)\n",
    "        vectorized_lists_test.append(vectorized_words_test)\n",
    "\n",
    "    mean_vector_test = []\n",
    "    for matrix in vectorized_lists_test:\n",
    "        transposed_matrix_test = list(map(list, zip(*matrix)))\n",
    "        column_means_test = [sum(column) / len(column) for column in transposed_matrix_test]\n",
    "        mean_vector_test.append(column_means_test)\n",
    "\n",
    "    X_test_mean_vector = pd.DataFrame(np.array(mean_vector_test))\n",
    "\n",
    "    return X_train_mean_vector, X_val_mean_vector, X_test_mean_vector\n",
    "\n",
    "# Modelling\n",
    "def evaluate_classification_model(y_train, y_train_pred, y_val, y_val_pred, y_test, y_test_pred, model_name=''):\n",
    "    train_accuracy = round(accuracy_score(y_train, y_train_pred), 2)\n",
    "    val_accuracy = round(accuracy_score(y_val, y_val_pred), 2)\n",
    "    test_accuracy = round(accuracy_score(y_test, y_test_pred), 2)\n",
    "\n",
    "    metrics_df = pd.DataFrame({\n",
    "        'Model Name': [model_name],\n",
    "        'Train Accuracy': [train_accuracy],\n",
    "        'Validation Accuracy': [val_accuracy],\n",
    "        'Test Accuracy': [test_accuracy]\n",
    "    })\n",
    "\n",
    "    metrics_df.set_index('Model Name', inplace=True)\n",
    "    return metrics_df"
   ]
  },
  {
   "cell_type": "markdown",
   "metadata": {
    "id": "4YFZ6Vy1RCjo"
   },
   "source": [
    "## Text Cleaning"
   ]
  },
  {
   "cell_type": "markdown",
   "metadata": {
    "id": "ZWJVGaSK9Ds6"
   },
   "source": [
    "### Process Emoji"
   ]
  },
  {
   "cell_type": "code",
   "execution_count": 252,
   "metadata": {
    "executionInfo": {
     "elapsed": 5,
     "status": "ok",
     "timestamp": 1710301424908,
     "user": {
      "displayName": "Alfandy Surya",
      "userId": "04251874478570968890"
     },
     "user_tz": -420
    },
    "id": "1dojx8aS9HmS"
   },
   "outputs": [],
   "source": [
    "special_character_list = list()\n",
    "for text in df.tweet.values:\n",
    "    non_ascii_characters = re.findall(r'[^\\x00-\\x7F]+', text)\n",
    "\n",
    "    for c in non_ascii_characters:\n",
    "        if c not in special_character_list:\n",
    "            special_character_list.append(c)"
   ]
  },
  {
   "cell_type": "code",
   "execution_count": 253,
   "metadata": {
    "executionInfo": {
     "elapsed": 5,
     "status": "ok",
     "timestamp": 1710301424909,
     "user": {
      "displayName": "Alfandy Surya",
      "userId": "04251874478570968890"
     },
     "user_tz": -420
    },
    "id": "6N-CoZOg9Hb_"
   },
   "outputs": [],
   "source": [
    "index = list()\n",
    "special_character = list()\n",
    "label = list()\n",
    "for s in special_character_list:\n",
    "    for idx,text in enumerate(df.tweet.values):\n",
    "        if s in text:\n",
    "            index.append(idx)\n",
    "            special_character.append(s)\n",
    "            label.append(df.iloc[idx, 0])"
   ]
  },
  {
   "cell_type": "code",
   "execution_count": 254,
   "metadata": {
    "executionInfo": {
     "elapsed": 4,
     "status": "ok",
     "timestamp": 1710301424909,
     "user": {
      "displayName": "Alfandy Surya",
      "userId": "04251874478570968890"
     },
     "user_tz": -420
    },
    "id": "xE1nfw849HOZ"
   },
   "outputs": [],
   "source": [
    "emoji_list = pd.DataFrame({\n",
    "    'row': index,\n",
    "    'special_character': special_character,\n",
    "    'label': label\n",
    "})"
   ]
  },
  {
   "cell_type": "code",
   "execution_count": 255,
   "metadata": {
    "executionInfo": {
     "elapsed": 595,
     "status": "ok",
     "timestamp": 1710301425500,
     "user": {
      "displayName": "Alfandy Surya",
      "userId": "04251874478570968890"
     },
     "user_tz": -420
    },
    "id": "XcC7mz209HC3"
   },
   "outputs": [],
   "source": [
    "for idx in emoji_list.index:\n",
    "    try:\n",
    "        row = emoji_list.iloc[idx, 0]\n",
    "        text = df.iloc[row, 1]\n",
    "        word = emoji_list.iloc[idx, 1]\n",
    "        replacement = emoji_dict[word]\n",
    "\n",
    "        df.iloc[row, 1] = text.replace(word, replacement)\n",
    "    except:\n",
    "        print(word, 'Cannot be found the associated emoji or text')\n",
    "\n",
    "emoji_list['emoji'] = emoji_list['special_character']\n",
    "\n",
    "for idx in emoji_list.index:\n",
    "    text = emoji_list.iloc[idx, 3]\n",
    "    replacement = emoji_dict[text]\n",
    "    emoji_list.iloc[idx, 3] = text.replace(text, replacement)"
   ]
  },
  {
   "cell_type": "code",
   "execution_count": 256,
   "metadata": {
    "executionInfo": {
     "elapsed": 4,
     "status": "ok",
     "timestamp": 1710301425500,
     "user": {
      "displayName": "Alfandy Surya",
      "userId": "04251874478570968890"
     },
     "user_tz": -420
    },
    "id": "OTnvai2G9G2t"
   },
   "outputs": [],
   "source": [
    "df['remove_unrelevant_emoji'] = df['tweet'].apply(remove_emojis)\n",
    "df['emojis'] = df['remove_unrelevant_emoji'].apply(extract_emojis)"
   ]
  },
  {
   "cell_type": "markdown",
   "metadata": {
    "id": "u9_vXrEaaoua"
   },
   "source": [
    "### Remove Hashtag, URL, and HTML"
   ]
  },
  {
   "cell_type": "code",
   "execution_count": 257,
   "metadata": {
    "executionInfo": {
     "elapsed": 4,
     "status": "ok",
     "timestamp": 1710301425500,
     "user": {
      "displayName": "Alfandy Surya",
      "userId": "04251874478570968890"
     },
     "user_tz": -420
    },
    "id": "RRAlM_VjbuzP"
   },
   "outputs": [],
   "source": [
    "df['tweet_clean'] = df['tweet'].apply(clean_tweet)"
   ]
  },
  {
   "cell_type": "markdown",
   "metadata": {
    "id": "aRg44GxlRt4T"
   },
   "source": [
    "### Process & Remove Punctuation"
   ]
  },
  {
   "cell_type": "code",
   "execution_count": 258,
   "metadata": {
    "executionInfo": {
     "elapsed": 3,
     "status": "ok",
     "timestamp": 1710301425500,
     "user": {
      "displayName": "Alfandy Surya",
      "userId": "04251874478570968890"
     },
     "user_tz": -420
    },
    "id": "pLE8wXlTXNjZ"
   },
   "outputs": [],
   "source": [
    "df['tweet_proc_punct'] = df['tweet_clean'].apply(process_punctuation)\n",
    "df['tweet_no_punct'] = df['tweet_proc_punct'].apply(remove_punctuation)"
   ]
  },
  {
   "cell_type": "markdown",
   "metadata": {
    "id": "ZfOr-IVNXtUI"
   },
   "source": [
    "### Remove Special Character"
   ]
  },
  {
   "cell_type": "code",
   "execution_count": 259,
   "metadata": {
    "executionInfo": {
     "elapsed": 3,
     "status": "ok",
     "timestamp": 1710301425500,
     "user": {
      "displayName": "Alfandy Surya",
      "userId": "04251874478570968890"
     },
     "user_tz": -420
    },
    "id": "jZDCfDmXYPIf"
   },
   "outputs": [],
   "source": [
    "df['tweet_no_sc'] = df['tweet_no_punct'].apply(remove_special_characters)"
   ]
  },
  {
   "cell_type": "markdown",
   "metadata": {
    "id": "3o4Ma4cralaR"
   },
   "source": [
    "### Case Folding"
   ]
  },
  {
   "cell_type": "code",
   "execution_count": 260,
   "metadata": {
    "executionInfo": {
     "elapsed": 3,
     "status": "ok",
     "timestamp": 1710301425500,
     "user": {
      "displayName": "Alfandy Surya",
      "userId": "04251874478570968890"
     },
     "user_tz": -420
    },
    "id": "3J9eEIcHakZy"
   },
   "outputs": [],
   "source": [
    "df['tweet_lowercase'] = df['tweet_no_sc'].apply(lowercase)"
   ]
  },
  {
   "cell_type": "markdown",
   "metadata": {
    "id": "sPF4v8qRfJsV"
   },
   "source": [
    "### Slang & Short Words Processing"
   ]
  },
  {
   "cell_type": "code",
   "execution_count": 261,
   "metadata": {
    "executionInfo": {
     "elapsed": 60961,
     "status": "ok",
     "timestamp": 1710301486458,
     "user": {
      "displayName": "Alfandy Surya",
      "userId": "04251874478570968890"
     },
     "user_tz": -420
    },
    "id": "xtc59RfPTuoo"
   },
   "outputs": [],
   "source": [
    "df['tweet_no_slang'] = df['tweet_lowercase'].apply(process_slang)"
   ]
  },
  {
   "cell_type": "markdown",
   "metadata": {
    "id": "8ZPLql0JRGqV"
   },
   "source": [
    "### Remove Stopwords"
   ]
  },
  {
   "cell_type": "code",
   "execution_count": 262,
   "metadata": {
    "executionInfo": {
     "elapsed": 633,
     "status": "ok",
     "timestamp": 1710301487080,
     "user": {
      "displayName": "Alfandy Surya",
      "userId": "04251874478570968890"
     },
     "user_tz": -420
    },
    "id": "nGZPBP2KUv82"
   },
   "outputs": [],
   "source": [
    "df['tweet_no_sw'] = df['tweet_no_slang'].apply(remove_stopwords)"
   ]
  },
  {
   "cell_type": "markdown",
   "metadata": {
    "id": "8UcoazNIhhMj"
   },
   "source": [
    "### Process Number"
   ]
  },
  {
   "cell_type": "code",
   "execution_count": 263,
   "metadata": {
    "executionInfo": {
     "elapsed": 3,
     "status": "ok",
     "timestamp": 1710301487081,
     "user": {
      "displayName": "Alfandy Surya",
      "userId": "04251874478570968890"
     },
     "user_tz": -420
    },
    "id": "aJ3f1Ad6GT-y"
   },
   "outputs": [],
   "source": [
    "df['tweet_no_number'] = df['tweet_no_sw'].apply(remove_specific_numbers)"
   ]
  },
  {
   "cell_type": "markdown",
   "metadata": {
    "id": "yX1I6r95fsL5"
   },
   "source": [
    "### Remove Extra Spaces"
   ]
  },
  {
   "cell_type": "code",
   "execution_count": 264,
   "metadata": {
    "executionInfo": {
     "elapsed": 381,
     "status": "ok",
     "timestamp": 1710301487460,
     "user": {
      "displayName": "Alfandy Surya",
      "userId": "04251874478570968890"
     },
     "user_tz": -420
    },
    "id": "k0sObXF4jhnJ"
   },
   "outputs": [],
   "source": [
    "df['tweet_no_extra_spaces'] = df['tweet_no_number'].apply(remove_extra_spaces)"
   ]
  },
  {
   "cell_type": "markdown",
   "metadata": {
    "id": "535pvUVc__G1"
   },
   "source": [
    "## Text Normalization"
   ]
  },
  {
   "cell_type": "markdown",
   "metadata": {
    "id": "8pfmyvhEPa01"
   },
   "source": [
    "### Lemmatization"
   ]
  },
  {
   "cell_type": "code",
   "execution_count": 265,
   "metadata": {
    "executionInfo": {
     "elapsed": 3,
     "status": "ok",
     "timestamp": 1710301487461,
     "user": {
      "displayName": "Alfandy Surya",
      "userId": "04251874478570968890"
     },
     "user_tz": -420
    },
    "id": "cXGxJevetWGE"
   },
   "outputs": [],
   "source": [
    "text = list(df['tweet_no_sw'])\n",
    "\n",
    "kosa_kata = []\n",
    "for line in text:\n",
    "    kosa_kata.extend(line.split())"
   ]
  },
  {
   "cell_type": "code",
   "execution_count": 266,
   "metadata": {
    "executionInfo": {
     "elapsed": 3,
     "status": "ok",
     "timestamp": 1710301487461,
     "user": {
      "displayName": "Alfandy Surya",
      "userId": "04251874478570968890"
     },
     "user_tz": -420
    },
    "id": "TL0TH2-lsQRh"
   },
   "outputs": [],
   "source": [
    "english_words = get_english_words(kosa_kata)"
   ]
  },
  {
   "cell_type": "code",
   "execution_count": 267,
   "metadata": {
    "executionInfo": {
     "elapsed": 2308,
     "status": "ok",
     "timestamp": 1710301489766,
     "user": {
      "displayName": "Alfandy Surya",
      "userId": "04251874478570968890"
     },
     "user_tz": -420
    },
    "id": "ZROUX-c3XvNK"
   },
   "outputs": [],
   "source": [
    "exclude_words = ['asian', 'setuju'] + english_words\n",
    "df['tweet_lem'] = df['tweet_no_extra_spaces'].apply(lambda x: custom_lemmatization(x, exclude_words))"
   ]
  },
  {
   "cell_type": "code",
   "execution_count": 268,
   "metadata": {},
   "outputs": [],
   "source": [
    "df['final_tweet'] = df['tweet_lem'] + ' ' + df['emojis']"
   ]
  },
  {
   "cell_type": "markdown",
   "metadata": {
    "id": "2LI3FKxB5_wv"
   },
   "source": [
    "## Text Tokenization"
   ]
  },
  {
   "cell_type": "code",
   "execution_count": 269,
   "metadata": {
    "executionInfo": {
     "elapsed": 632,
     "status": "ok",
     "timestamp": 1710301490396,
     "user": {
      "displayName": "Alfandy Surya",
      "userId": "04251874478570968890"
     },
     "user_tz": -420
    },
    "id": "ENhA-1RNWvog"
   },
   "outputs": [],
   "source": [
    "df['tweet_tokenization'] = df['final_tweet'].apply(word_tokenize)"
   ]
  },
  {
   "cell_type": "markdown",
   "metadata": {
    "id": "N4WiMoEMidBo"
   },
   "source": [
    "# Modelling"
   ]
  },
  {
   "cell_type": "markdown",
   "metadata": {
    "id": "QRXLVyImifRc"
   },
   "source": [
    "## Data Splitting"
   ]
  },
  {
   "cell_type": "code",
   "execution_count": 315,
   "metadata": {
    "executionInfo": {
     "elapsed": 6,
     "status": "ok",
     "timestamp": 1710301490396,
     "user": {
      "displayName": "Alfandy Surya",
      "userId": "04251874478570968890"
     },
     "user_tz": -420
    },
    "id": "4zC5GuprWb4f"
   },
   "outputs": [],
   "source": [
    "df.loc[df['sentimen']=='positif', 'label'] = 0\n",
    "df.loc[df['sentimen']=='netral', 'label'] = 1\n",
    "df.loc[df['sentimen']=='negatif', 'label'] = 2"
   ]
  },
  {
   "cell_type": "code",
   "execution_count": 316,
   "metadata": {
    "executionInfo": {
     "elapsed": 5,
     "status": "ok",
     "timestamp": 1710301490396,
     "user": {
      "displayName": "Alfandy Surya",
      "userId": "04251874478570968890"
     },
     "user_tz": -420
    },
    "id": "TqmdW8TIWcim"
   },
   "outputs": [],
   "source": [
    "X = df.copy()\n",
    "y = np.array(df['label'])\n",
    "\n",
    "X_train, X_temp, y_train, y_temp = train_test_split(X, y, test_size=0.4, random_state=42, stratify=y)\n",
    "X_val, X_test, y_val, y_test = train_test_split(X_temp, y_temp, test_size=0.5, random_state=42, stratify=y_temp)"
   ]
  },
  {
   "cell_type": "code",
   "execution_count": 317,
   "metadata": {
    "executionInfo": {
     "elapsed": 2,
     "status": "ok",
     "timestamp": 1710298806142,
     "user": {
      "displayName": "Alfandy Surya",
      "userId": "04251874478570968890"
     },
     "user_tz": -420
    },
    "id": "uj29T3jJW4HF"
   },
   "outputs": [],
   "source": [
    "train_sentences = (X_train['tweet_tokenization']).to_list()\n",
    "val_sentences = (X_val['tweet_tokenization']).to_list()\n",
    "test_sentences = (X_test['tweet_tokenization']).to_list()"
   ]
  },
  {
   "cell_type": "markdown",
   "metadata": {
    "id": "yHK6VcN-Lq53"
   },
   "source": [
    "## Word Embedding"
   ]
  },
  {
   "cell_type": "markdown",
   "metadata": {
    "id": "SoDi_SpC7pU3"
   },
   "source": [
    "### Word2Vec - Skip-Gram"
   ]
  },
  {
   "cell_type": "code",
   "execution_count": 326,
   "metadata": {},
   "outputs": [],
   "source": [
    "model_w2v = Word2Vec(sentences=train_sentences, vector_size=100, window=6, min_count=8, workers=4, sg=1)\n",
    "model_w2v.save(os.path.join(model_path, 'word2vec_model_sg_min_8_window_6_no_sw.bin'))"
   ]
  },
  {
   "cell_type": "code",
   "execution_count": 327,
   "metadata": {
    "executionInfo": {
     "elapsed": 2,
     "status": "ok",
     "timestamp": 1710301560565,
     "user": {
      "displayName": "Alfandy Surya",
      "userId": "04251874478570968890"
     },
     "user_tz": -420
    },
    "id": "Y2VtXGOLH2dY"
   },
   "outputs": [],
   "source": [
    "model_w2v_sg = Word2Vec.load(word2vec_model_sg)"
   ]
  },
  {
   "cell_type": "code",
   "execution_count": 328,
   "metadata": {
    "executionInfo": {
     "elapsed": 1438,
     "status": "ok",
     "timestamp": 1710301563804,
     "user": {
      "displayName": "Alfandy Surya",
      "userId": "04251874478570968890"
     },
     "user_tz": -420
    },
    "id": "YbJx0352bviD"
   },
   "outputs": [],
   "source": [
    "X_train_sg, X_val_sg, X_test_sg = mean_vector_df_val(model_w2v_sg, train_sentences, val_sentences, test_sentences)"
   ]
  },
  {
   "cell_type": "markdown",
   "metadata": {
    "id": "sPjiH7gpx7PQ"
   },
   "source": [
    "### Word2Vec - CBOW"
   ]
  },
  {
   "cell_type": "code",
   "execution_count": 329,
   "metadata": {},
   "outputs": [],
   "source": [
    "model_w2v = Word2Vec(sentences=train_sentences, vector_size=100, window=6, min_count=8, workers=4, sg=0)\n",
    "model_w2v.save(os.path.join(model_path, 'word2vec_model_cbow_min_8_window_6_no_sw.bin'))"
   ]
  },
  {
   "cell_type": "code",
   "execution_count": 330,
   "metadata": {
    "executionInfo": {
     "elapsed": 2,
     "status": "ok",
     "timestamp": 1710301566329,
     "user": {
      "displayName": "Alfandy Surya",
      "userId": "04251874478570968890"
     },
     "user_tz": -420
    },
    "id": "iUia4gmxfJhB"
   },
   "outputs": [],
   "source": [
    "model_w2v_cbow = Word2Vec.load(word2vec_model_cbow)"
   ]
  },
  {
   "cell_type": "code",
   "execution_count": 331,
   "metadata": {
    "executionInfo": {
     "elapsed": 1261,
     "status": "ok",
     "timestamp": 1710301567589,
     "user": {
      "displayName": "Alfandy Surya",
      "userId": "04251874478570968890"
     },
     "user_tz": -420
    },
    "id": "W6PlwfLpfNXe"
   },
   "outputs": [],
   "source": [
    "X_train_cbow, X_val_cbow, X_test_cbow = mean_vector_df_val(model_w2v_cbow, train_sentences, val_sentences, test_sentences)"
   ]
  },
  {
   "cell_type": "markdown",
   "metadata": {
    "id": "TcuDuaQsmc1O"
   },
   "source": [
    "## Model Training (Baseline) - Random Forest"
   ]
  },
  {
   "cell_type": "markdown",
   "metadata": {
    "id": "ohETT1AvvpxK"
   },
   "source": [
    "### Random Forest (Baseline) - Skip-Gram"
   ]
  },
  {
   "cell_type": "code",
   "execution_count": 332,
   "metadata": {
    "colab": {
     "base_uri": "https://localhost:8080/",
     "height": 74
    },
    "executionInfo": {
     "elapsed": 373,
     "status": "ok",
     "timestamp": 1710301571378,
     "user": {
      "displayName": "Alfandy Surya",
      "userId": "04251874478570968890"
     },
     "user_tz": -420
    },
    "id": "uH52x6Drwo6G",
    "outputId": "7f6e927e-e0d3-457f-c9c9-8704950f0690"
   },
   "outputs": [
    {
     "data": {
      "text/html": [
       "<style>#sk-container-id-16 {color: black;background-color: white;}#sk-container-id-16 pre{padding: 0;}#sk-container-id-16 div.sk-toggleable {background-color: white;}#sk-container-id-16 label.sk-toggleable__label {cursor: pointer;display: block;width: 100%;margin-bottom: 0;padding: 0.3em;box-sizing: border-box;text-align: center;}#sk-container-id-16 label.sk-toggleable__label-arrow:before {content: \"▸\";float: left;margin-right: 0.25em;color: #696969;}#sk-container-id-16 label.sk-toggleable__label-arrow:hover:before {color: black;}#sk-container-id-16 div.sk-estimator:hover label.sk-toggleable__label-arrow:before {color: black;}#sk-container-id-16 div.sk-toggleable__content {max-height: 0;max-width: 0;overflow: hidden;text-align: left;background-color: #f0f8ff;}#sk-container-id-16 div.sk-toggleable__content pre {margin: 0.2em;color: black;border-radius: 0.25em;background-color: #f0f8ff;}#sk-container-id-16 input.sk-toggleable__control:checked~div.sk-toggleable__content {max-height: 200px;max-width: 100%;overflow: auto;}#sk-container-id-16 input.sk-toggleable__control:checked~label.sk-toggleable__label-arrow:before {content: \"▾\";}#sk-container-id-16 div.sk-estimator input.sk-toggleable__control:checked~label.sk-toggleable__label {background-color: #d4ebff;}#sk-container-id-16 div.sk-label input.sk-toggleable__control:checked~label.sk-toggleable__label {background-color: #d4ebff;}#sk-container-id-16 input.sk-hidden--visually {border: 0;clip: rect(1px 1px 1px 1px);clip: rect(1px, 1px, 1px, 1px);height: 1px;margin: -1px;overflow: hidden;padding: 0;position: absolute;width: 1px;}#sk-container-id-16 div.sk-estimator {font-family: monospace;background-color: #f0f8ff;border: 1px dotted black;border-radius: 0.25em;box-sizing: border-box;margin-bottom: 0.5em;}#sk-container-id-16 div.sk-estimator:hover {background-color: #d4ebff;}#sk-container-id-16 div.sk-parallel-item::after {content: \"\";width: 100%;border-bottom: 1px solid gray;flex-grow: 1;}#sk-container-id-16 div.sk-label:hover label.sk-toggleable__label {background-color: #d4ebff;}#sk-container-id-16 div.sk-serial::before {content: \"\";position: absolute;border-left: 1px solid gray;box-sizing: border-box;top: 0;bottom: 0;left: 50%;z-index: 0;}#sk-container-id-16 div.sk-serial {display: flex;flex-direction: column;align-items: center;background-color: white;padding-right: 0.2em;padding-left: 0.2em;position: relative;}#sk-container-id-16 div.sk-item {position: relative;z-index: 1;}#sk-container-id-16 div.sk-parallel {display: flex;align-items: stretch;justify-content: center;background-color: white;position: relative;}#sk-container-id-16 div.sk-item::before, #sk-container-id-16 div.sk-parallel-item::before {content: \"\";position: absolute;border-left: 1px solid gray;box-sizing: border-box;top: 0;bottom: 0;left: 50%;z-index: -1;}#sk-container-id-16 div.sk-parallel-item {display: flex;flex-direction: column;z-index: 1;position: relative;background-color: white;}#sk-container-id-16 div.sk-parallel-item:first-child::after {align-self: flex-end;width: 50%;}#sk-container-id-16 div.sk-parallel-item:last-child::after {align-self: flex-start;width: 50%;}#sk-container-id-16 div.sk-parallel-item:only-child::after {width: 0;}#sk-container-id-16 div.sk-dashed-wrapped {border: 1px dashed gray;margin: 0 0.4em 0.5em 0.4em;box-sizing: border-box;padding-bottom: 0.4em;background-color: white;}#sk-container-id-16 div.sk-label label {font-family: monospace;font-weight: bold;display: inline-block;line-height: 1.2em;}#sk-container-id-16 div.sk-label-container {text-align: center;}#sk-container-id-16 div.sk-container {/* jupyter's `normalize.less` sets `[hidden] { display: none; }` but bootstrap.min.css set `[hidden] { display: none !important; }` so we also need the `!important` here to be able to override the default hidden behavior on the sphinx rendered scikit-learn.org. See: https://github.com/scikit-learn/scikit-learn/issues/21755 */display: inline-block !important;position: relative;}#sk-container-id-16 div.sk-text-repr-fallback {display: none;}</style><div id=\"sk-container-id-16\" class=\"sk-top-container\"><div class=\"sk-text-repr-fallback\"><pre>RandomForestClassifier(random_state=42)</pre><b>In a Jupyter environment, please rerun this cell to show the HTML representation or trust the notebook. <br />On GitHub, the HTML representation is unable to render, please try loading this page with nbviewer.org.</b></div><div class=\"sk-container\" hidden><div class=\"sk-item\"><div class=\"sk-estimator sk-toggleable\"><input class=\"sk-toggleable__control sk-hidden--visually\" id=\"sk-estimator-id-16\" type=\"checkbox\" checked><label for=\"sk-estimator-id-16\" class=\"sk-toggleable__label sk-toggleable__label-arrow\">RandomForestClassifier</label><div class=\"sk-toggleable__content\"><pre>RandomForestClassifier(random_state=42)</pre></div></div></div></div></div>"
      ],
      "text/plain": [
       "RandomForestClassifier(random_state=42)"
      ]
     },
     "execution_count": 332,
     "metadata": {},
     "output_type": "execute_result"
    }
   ],
   "source": [
    "rf_model_sg_baseline = RandomForestClassifier(random_state=42)\n",
    "rf_model_sg_baseline.fit(X_train_sg, y_train)"
   ]
  },
  {
   "cell_type": "code",
   "execution_count": 333,
   "metadata": {
    "colab": {
     "base_uri": "https://localhost:8080/",
     "height": 112
    },
    "executionInfo": {
     "elapsed": 537,
     "status": "ok",
     "timestamp": 1710301571913,
     "user": {
      "displayName": "Alfandy Surya",
      "userId": "04251874478570968890"
     },
     "user_tz": -420
    },
    "id": "wiNPbblylIwO",
    "outputId": "d7d86b53-5c50-4ef2-e782-6e5ae5385d37"
   },
   "outputs": [
    {
     "data": {
      "text/html": [
       "<div>\n",
       "<style scoped>\n",
       "    .dataframe tbody tr th:only-of-type {\n",
       "        vertical-align: middle;\n",
       "    }\n",
       "\n",
       "    .dataframe tbody tr th {\n",
       "        vertical-align: top;\n",
       "    }\n",
       "\n",
       "    .dataframe thead th {\n",
       "        text-align: right;\n",
       "    }\n",
       "</style>\n",
       "<table border=\"1\" class=\"dataframe\">\n",
       "  <thead>\n",
       "    <tr style=\"text-align: right;\">\n",
       "      <th></th>\n",
       "      <th>Train Accuracy</th>\n",
       "      <th>Validation Accuracy</th>\n",
       "      <th>Test Accuracy</th>\n",
       "    </tr>\n",
       "    <tr>\n",
       "      <th>Model Name</th>\n",
       "      <th></th>\n",
       "      <th></th>\n",
       "      <th></th>\n",
       "    </tr>\n",
       "  </thead>\n",
       "  <tbody>\n",
       "    <tr>\n",
       "      <th>RandomForestClassifier - SkipGram (Baseline)</th>\n",
       "      <td>0.99</td>\n",
       "      <td>0.6</td>\n",
       "      <td>0.53</td>\n",
       "    </tr>\n",
       "  </tbody>\n",
       "</table>\n",
       "</div>"
      ],
      "text/plain": [
       "                                              Train Accuracy  \\\n",
       "Model Name                                                     \n",
       "RandomForestClassifier - SkipGram (Baseline)            0.99   \n",
       "\n",
       "                                              Validation Accuracy  \\\n",
       "Model Name                                                          \n",
       "RandomForestClassifier - SkipGram (Baseline)                  0.6   \n",
       "\n",
       "                                              Test Accuracy  \n",
       "Model Name                                                   \n",
       "RandomForestClassifier - SkipGram (Baseline)           0.53  "
      ]
     },
     "execution_count": 333,
     "metadata": {},
     "output_type": "execute_result"
    }
   ],
   "source": [
    "metrics_rf_sg_baseline = evaluate_classification_model(y_train,\n",
    "                                                  rf_model_sg_baseline.predict(X_train_sg),\n",
    "                                                  y_val,\n",
    "                                                  rf_model_sg_baseline.predict(X_val_sg),\n",
    "                                                  y_test,\n",
    "                                                  rf_model_sg_baseline.predict(X_test_sg),\n",
    "                                                  'RandomForestClassifier - SkipGram (Baseline)')\n",
    "metrics_rf_sg_baseline"
   ]
  },
  {
   "cell_type": "markdown",
   "metadata": {
    "id": "GHokUD8Pvmvl"
   },
   "source": [
    "### Random Forest (Baseline) - CBOW"
   ]
  },
  {
   "cell_type": "code",
   "execution_count": 336,
   "metadata": {
    "colab": {
     "base_uri": "https://localhost:8080/",
     "height": 74
    },
    "executionInfo": {
     "elapsed": 1243,
     "status": "ok",
     "timestamp": 1710298984594,
     "user": {
      "displayName": "Alfandy Surya",
      "userId": "04251874478570968890"
     },
     "user_tz": -420
    },
    "id": "VPcFbGh5pS-r",
    "outputId": "d9f9ac09-7c5b-4814-f83a-b43cd73af517"
   },
   "outputs": [
    {
     "data": {
      "text/html": [
       "<style>#sk-container-id-18 {color: black;background-color: white;}#sk-container-id-18 pre{padding: 0;}#sk-container-id-18 div.sk-toggleable {background-color: white;}#sk-container-id-18 label.sk-toggleable__label {cursor: pointer;display: block;width: 100%;margin-bottom: 0;padding: 0.3em;box-sizing: border-box;text-align: center;}#sk-container-id-18 label.sk-toggleable__label-arrow:before {content: \"▸\";float: left;margin-right: 0.25em;color: #696969;}#sk-container-id-18 label.sk-toggleable__label-arrow:hover:before {color: black;}#sk-container-id-18 div.sk-estimator:hover label.sk-toggleable__label-arrow:before {color: black;}#sk-container-id-18 div.sk-toggleable__content {max-height: 0;max-width: 0;overflow: hidden;text-align: left;background-color: #f0f8ff;}#sk-container-id-18 div.sk-toggleable__content pre {margin: 0.2em;color: black;border-radius: 0.25em;background-color: #f0f8ff;}#sk-container-id-18 input.sk-toggleable__control:checked~div.sk-toggleable__content {max-height: 200px;max-width: 100%;overflow: auto;}#sk-container-id-18 input.sk-toggleable__control:checked~label.sk-toggleable__label-arrow:before {content: \"▾\";}#sk-container-id-18 div.sk-estimator input.sk-toggleable__control:checked~label.sk-toggleable__label {background-color: #d4ebff;}#sk-container-id-18 div.sk-label input.sk-toggleable__control:checked~label.sk-toggleable__label {background-color: #d4ebff;}#sk-container-id-18 input.sk-hidden--visually {border: 0;clip: rect(1px 1px 1px 1px);clip: rect(1px, 1px, 1px, 1px);height: 1px;margin: -1px;overflow: hidden;padding: 0;position: absolute;width: 1px;}#sk-container-id-18 div.sk-estimator {font-family: monospace;background-color: #f0f8ff;border: 1px dotted black;border-radius: 0.25em;box-sizing: border-box;margin-bottom: 0.5em;}#sk-container-id-18 div.sk-estimator:hover {background-color: #d4ebff;}#sk-container-id-18 div.sk-parallel-item::after {content: \"\";width: 100%;border-bottom: 1px solid gray;flex-grow: 1;}#sk-container-id-18 div.sk-label:hover label.sk-toggleable__label {background-color: #d4ebff;}#sk-container-id-18 div.sk-serial::before {content: \"\";position: absolute;border-left: 1px solid gray;box-sizing: border-box;top: 0;bottom: 0;left: 50%;z-index: 0;}#sk-container-id-18 div.sk-serial {display: flex;flex-direction: column;align-items: center;background-color: white;padding-right: 0.2em;padding-left: 0.2em;position: relative;}#sk-container-id-18 div.sk-item {position: relative;z-index: 1;}#sk-container-id-18 div.sk-parallel {display: flex;align-items: stretch;justify-content: center;background-color: white;position: relative;}#sk-container-id-18 div.sk-item::before, #sk-container-id-18 div.sk-parallel-item::before {content: \"\";position: absolute;border-left: 1px solid gray;box-sizing: border-box;top: 0;bottom: 0;left: 50%;z-index: -1;}#sk-container-id-18 div.sk-parallel-item {display: flex;flex-direction: column;z-index: 1;position: relative;background-color: white;}#sk-container-id-18 div.sk-parallel-item:first-child::after {align-self: flex-end;width: 50%;}#sk-container-id-18 div.sk-parallel-item:last-child::after {align-self: flex-start;width: 50%;}#sk-container-id-18 div.sk-parallel-item:only-child::after {width: 0;}#sk-container-id-18 div.sk-dashed-wrapped {border: 1px dashed gray;margin: 0 0.4em 0.5em 0.4em;box-sizing: border-box;padding-bottom: 0.4em;background-color: white;}#sk-container-id-18 div.sk-label label {font-family: monospace;font-weight: bold;display: inline-block;line-height: 1.2em;}#sk-container-id-18 div.sk-label-container {text-align: center;}#sk-container-id-18 div.sk-container {/* jupyter's `normalize.less` sets `[hidden] { display: none; }` but bootstrap.min.css set `[hidden] { display: none !important; }` so we also need the `!important` here to be able to override the default hidden behavior on the sphinx rendered scikit-learn.org. See: https://github.com/scikit-learn/scikit-learn/issues/21755 */display: inline-block !important;position: relative;}#sk-container-id-18 div.sk-text-repr-fallback {display: none;}</style><div id=\"sk-container-id-18\" class=\"sk-top-container\"><div class=\"sk-text-repr-fallback\"><pre>RandomForestClassifier(random_state=42)</pre><b>In a Jupyter environment, please rerun this cell to show the HTML representation or trust the notebook. <br />On GitHub, the HTML representation is unable to render, please try loading this page with nbviewer.org.</b></div><div class=\"sk-container\" hidden><div class=\"sk-item\"><div class=\"sk-estimator sk-toggleable\"><input class=\"sk-toggleable__control sk-hidden--visually\" id=\"sk-estimator-id-18\" type=\"checkbox\" checked><label for=\"sk-estimator-id-18\" class=\"sk-toggleable__label sk-toggleable__label-arrow\">RandomForestClassifier</label><div class=\"sk-toggleable__content\"><pre>RandomForestClassifier(random_state=42)</pre></div></div></div></div></div>"
      ],
      "text/plain": [
       "RandomForestClassifier(random_state=42)"
      ]
     },
     "execution_count": 336,
     "metadata": {},
     "output_type": "execute_result"
    }
   ],
   "source": [
    "rf_model_cbow_baseline = RandomForestClassifier(random_state=42)\n",
    "rf_model_cbow_baseline.fit(X_train_cbow, y_train)"
   ]
  },
  {
   "cell_type": "code",
   "execution_count": 337,
   "metadata": {
    "colab": {
     "base_uri": "https://localhost:8080/",
     "height": 112
    },
    "executionInfo": {
     "elapsed": 623,
     "status": "ok",
     "timestamp": 1710298988050,
     "user": {
      "displayName": "Alfandy Surya",
      "userId": "04251874478570968890"
     },
     "user_tz": -420
    },
    "id": "ALR13VAGmuxg",
    "outputId": "f2de597b-4a73-4dfb-f4dd-86128dec025b"
   },
   "outputs": [
    {
     "data": {
      "text/html": [
       "<div>\n",
       "<style scoped>\n",
       "    .dataframe tbody tr th:only-of-type {\n",
       "        vertical-align: middle;\n",
       "    }\n",
       "\n",
       "    .dataframe tbody tr th {\n",
       "        vertical-align: top;\n",
       "    }\n",
       "\n",
       "    .dataframe thead th {\n",
       "        text-align: right;\n",
       "    }\n",
       "</style>\n",
       "<table border=\"1\" class=\"dataframe\">\n",
       "  <thead>\n",
       "    <tr style=\"text-align: right;\">\n",
       "      <th></th>\n",
       "      <th>Train Accuracy</th>\n",
       "      <th>Validation Accuracy</th>\n",
       "      <th>Test Accuracy</th>\n",
       "    </tr>\n",
       "    <tr>\n",
       "      <th>Model Name</th>\n",
       "      <th></th>\n",
       "      <th></th>\n",
       "      <th></th>\n",
       "    </tr>\n",
       "  </thead>\n",
       "  <tbody>\n",
       "    <tr>\n",
       "      <th>RandomForestClassifier - CBOW (Baseline)</th>\n",
       "      <td>0.99</td>\n",
       "      <td>0.48</td>\n",
       "      <td>0.46</td>\n",
       "    </tr>\n",
       "  </tbody>\n",
       "</table>\n",
       "</div>"
      ],
      "text/plain": [
       "                                          Train Accuracy  Validation Accuracy  \\\n",
       "Model Name                                                                      \n",
       "RandomForestClassifier - CBOW (Baseline)            0.99                 0.48   \n",
       "\n",
       "                                          Test Accuracy  \n",
       "Model Name                                               \n",
       "RandomForestClassifier - CBOW (Baseline)           0.46  "
      ]
     },
     "execution_count": 337,
     "metadata": {},
     "output_type": "execute_result"
    }
   ],
   "source": [
    "metrics_rf_cbow_baseline = evaluate_classification_model(y_train,\n",
    "                                                  rf_model_cbow_baseline.predict(X_train_cbow),\n",
    "                                                  y_val,\n",
    "                                                  rf_model_cbow_baseline.predict(X_val_cbow),\n",
    "                                                  y_test,\n",
    "                                                  rf_model_cbow_baseline.predict(X_test_cbow),\n",
    "                                                  'RandomForestClassifier - CBOW (Baseline)')\n",
    "metrics_rf_cbow_baseline"
   ]
  },
  {
   "cell_type": "markdown",
   "metadata": {
    "id": "bNjf6HGj-W1K"
   },
   "source": [
    "## Model Training (Tuned) - Random Forest"
   ]
  },
  {
   "cell_type": "markdown",
   "metadata": {
    "id": "qSDxa2DyxUzM"
   },
   "source": [
    "### Random Forest (Tuned) - Skip-Gram"
   ]
  },
  {
   "cell_type": "code",
   "execution_count": 340,
   "metadata": {
    "colab": {
     "base_uri": "https://localhost:8080/"
    },
    "collapsed": true,
    "executionInfo": {
     "elapsed": 892038,
     "status": "ok",
     "timestamp": 1710234389910,
     "user": {
      "displayName": "Alfandy Surya",
      "userId": "04251874478570968890"
     },
     "user_tz": -420
    },
    "id": "fFZvR2xnxxsQ",
    "jupyter": {
     "outputs_hidden": true
    },
    "outputId": "e115cc82-8f22-4237-cb4d-fbe7ab0408f1",
    "tags": []
   },
   "outputs": [
    {
     "name": "stderr",
     "output_type": "stream",
     "text": [
      "[I 2024-03-14 10:11:00,369] A new study created in memory with name: no-name-87652c6d-26ad-418b-b401-2566f969dc45\n",
      "[I 2024-03-14 10:11:00,532] Trial 0 finished with value: 0.33884297520661155 and parameters: {'n_estimators': 113, 'max_depth': 45, 'min_samples_split': 0.08458705756755111, 'min_samples_leaf': 0.8943935577164566, 'max_features': 'auto'}. Best is trial 0 with value: 0.33884297520661155.\n",
      "[I 2024-03-14 10:11:00,898] Trial 1 finished with value: 0.33884297520661155 and parameters: {'n_estimators': 297, 'max_depth': 29, 'min_samples_split': 0.7831608391013081, 'min_samples_leaf': 0.0211271958911725, 'max_features': 'auto'}. Best is trial 0 with value: 0.33884297520661155.\n",
      "[I 2024-03-14 10:11:01,154] Trial 2 finished with value: 0.33884297520661155 and parameters: {'n_estimators': 215, 'max_depth': 18, 'min_samples_split': 0.9352640136662085, 'min_samples_leaf': 0.7555772541645922, 'max_features': 'auto'}. Best is trial 0 with value: 0.33884297520661155.\n",
      "[I 2024-03-14 10:11:01,479] Trial 3 finished with value: 0.33884297520661155 and parameters: {'n_estimators': 214, 'max_depth': 13, 'min_samples_split': 0.058490668164137054, 'min_samples_leaf': 0.6462651624307225, 'max_features': 'auto'}. Best is trial 0 with value: 0.33884297520661155.\n",
      "[I 2024-03-14 10:11:01,824] Trial 4 finished with value: 0.33884297520661155 and parameters: {'n_estimators': 254, 'max_depth': 49, 'min_samples_split': 0.0844863868620211, 'min_samples_leaf': 0.5866418316831203, 'max_features': 'auto'}. Best is trial 0 with value: 0.33884297520661155.\n",
      "[I 2024-03-14 10:11:02,006] Trial 5 finished with value: 0.33884297520661155 and parameters: {'n_estimators': 140, 'max_depth': 42, 'min_samples_split': 0.6518142024279118, 'min_samples_leaf': 0.1350596721079904, 'max_features': 'auto'}. Best is trial 0 with value: 0.33884297520661155.\n",
      "[I 2024-03-14 10:11:02,276] Trial 6 finished with value: 0.33884297520661155 and parameters: {'n_estimators': 179, 'max_depth': 41, 'min_samples_split': 0.8837580088698951, 'min_samples_leaf': 0.544723175089276, 'max_features': 'auto'}. Best is trial 0 with value: 0.33884297520661155.\n",
      "[I 2024-03-14 10:11:02,785] Trial 7 finished with value: 0.46005509641873277 and parameters: {'n_estimators': 266, 'max_depth': 50, 'min_samples_split': 0.08584635468048239, 'min_samples_leaf': 0.24649476177210883, 'max_features': 'auto'}. Best is trial 7 with value: 0.46005509641873277.\n",
      "[I 2024-03-14 10:11:03,014] Trial 8 finished with value: 0.33884297520661155 and parameters: {'n_estimators': 161, 'max_depth': 32, 'min_samples_split': 0.7628676058115418, 'min_samples_leaf': 0.9611323428755961, 'max_features': 'auto'}. Best is trial 7 with value: 0.46005509641873277.\n",
      "[I 2024-03-14 10:11:03,277] Trial 9 finished with value: 0.33884297520661155 and parameters: {'n_estimators': 191, 'max_depth': 47, 'min_samples_split': 0.9817327040183421, 'min_samples_leaf': 0.2799545682486888, 'max_features': 'auto'}. Best is trial 7 with value: 0.46005509641873277.\n",
      "[I 2024-03-14 10:11:03,757] Trial 10 finished with value: 0.33884297520661155 and parameters: {'n_estimators': 294, 'max_depth': 5, 'min_samples_split': 0.34359413099196107, 'min_samples_leaf': 0.3373570040148263, 'max_features': 'auto'}. Best is trial 7 with value: 0.46005509641873277.\n",
      "[I 2024-03-14 10:11:03,921] Trial 11 finished with value: 0.33884297520661155 and parameters: {'n_estimators': 103, 'max_depth': 36, 'min_samples_split': 0.25306418256349916, 'min_samples_leaf': 0.9820667638895715, 'max_features': 'auto'}. Best is trial 7 with value: 0.46005509641873277.\n",
      "[I 2024-03-14 10:11:04,081] Trial 12 finished with value: 0.33884297520661155 and parameters: {'n_estimators': 103, 'max_depth': 42, 'min_samples_split': 0.020582767311494984, 'min_samples_leaf': 0.39503558135254113, 'max_features': 'auto'}. Best is trial 7 with value: 0.46005509641873277.\n",
      "[I 2024-03-14 10:11:04,421] Trial 13 finished with value: 0.33884297520661155 and parameters: {'n_estimators': 246, 'max_depth': 22, 'min_samples_split': 0.3134136498020418, 'min_samples_leaf': 0.7898821042217613, 'max_features': 'auto'}. Best is trial 7 with value: 0.46005509641873277.\n",
      "[I 2024-03-14 10:11:04,764] Trial 14 finished with value: 0.33884297520661155 and parameters: {'n_estimators': 244, 'max_depth': 50, 'min_samples_split': 0.18322209735821507, 'min_samples_leaf': 0.41947938139472385, 'max_features': 'auto'}. Best is trial 7 with value: 0.46005509641873277.\n",
      "[I 2024-03-14 10:11:05,061] Trial 15 finished with value: 0.4793388429752066 and parameters: {'n_estimators': 139, 'max_depth': 37, 'min_samples_split': 0.4369553532263034, 'min_samples_leaf': 0.22826622168733446, 'max_features': 'auto'}. Best is trial 15 with value: 0.4793388429752066.\n",
      "[I 2024-03-14 10:11:05,359] Trial 16 finished with value: 0.4820936639118457 and parameters: {'n_estimators': 135, 'max_depth': 36, 'min_samples_split': 0.5113775182127692, 'min_samples_leaf': 0.20759286145567413, 'max_features': 'auto'}. Best is trial 16 with value: 0.4820936639118457.\n",
      "[I 2024-03-14 10:11:05,700] Trial 17 finished with value: 0.48760330578512395 and parameters: {'n_estimators': 140, 'max_depth': 36, 'min_samples_split': 0.46492233324327453, 'min_samples_leaf': 0.1330487642706623, 'max_features': 'auto'}. Best is trial 17 with value: 0.48760330578512395.\n",
      "[I 2024-03-14 10:11:06,044] Trial 18 finished with value: 0.5289256198347108 and parameters: {'n_estimators': 136, 'max_depth': 24, 'min_samples_split': 0.556527854386646, 'min_samples_leaf': 0.01984231192853292, 'max_features': 'auto'}. Best is trial 18 with value: 0.5289256198347108.\n",
      "[I 2024-03-14 10:11:06,446] Trial 19 finished with value: 0.5316804407713499 and parameters: {'n_estimators': 164, 'max_depth': 24, 'min_samples_split': 0.5372467867908929, 'min_samples_leaf': 0.02305816543888556, 'max_features': 'auto'}. Best is trial 19 with value: 0.5316804407713499.\n",
      "[I 2024-03-14 10:11:06,873] Trial 20 finished with value: 0.5371900826446281 and parameters: {'n_estimators': 173, 'max_depth': 24, 'min_samples_split': 0.5813231066180011, 'min_samples_leaf': 0.018431108456172185, 'max_features': 'auto'}. Best is trial 20 with value: 0.5371900826446281.\n",
      "[I 2024-03-14 10:11:07,316] Trial 21 finished with value: 0.5344352617079889 and parameters: {'n_estimators': 169, 'max_depth': 23, 'min_samples_split': 0.5605631509896917, 'min_samples_leaf': 0.0359561357041394, 'max_features': 'auto'}. Best is trial 20 with value: 0.5371900826446281.\n",
      "[I 2024-03-14 10:11:07,669] Trial 22 finished with value: 0.5316804407713499 and parameters: {'n_estimators': 171, 'max_depth': 17, 'min_samples_split': 0.6254312653535334, 'min_samples_leaf': 0.022929106057610976, 'max_features': 'auto'}. Best is trial 20 with value: 0.5371900826446281.\n",
      "[I 2024-03-14 10:11:08,012] Trial 23 finished with value: 0.48484848484848486 and parameters: {'n_estimators': 160, 'max_depth': 25, 'min_samples_split': 0.6033920891072222, 'min_samples_leaf': 0.11540962192239504, 'max_features': 'auto'}. Best is trial 20 with value: 0.5371900826446281.\n",
      "[I 2024-03-14 10:11:08,285] Trial 24 finished with value: 0.33884297520661155 and parameters: {'n_estimators': 203, 'max_depth': 18, 'min_samples_split': 0.6977576622519976, 'min_samples_leaf': 0.10032420960043499, 'max_features': 'auto'}. Best is trial 20 with value: 0.5371900826446281.\n",
      "[I 2024-03-14 10:11:08,654] Trial 25 finished with value: 0.4793388429752066 and parameters: {'n_estimators': 188, 'max_depth': 28, 'min_samples_split': 0.5580475603961622, 'min_samples_leaf': 0.18207926673695005, 'max_features': 'auto'}. Best is trial 20 with value: 0.5371900826446281.\n",
      "[I 2024-03-14 10:11:09,072] Trial 26 finished with value: 0.509641873278237 and parameters: {'n_estimators': 161, 'max_depth': 10, 'min_samples_split': 0.40794614770841553, 'min_samples_leaf': 0.07140159897771502, 'max_features': 'auto'}. Best is trial 20 with value: 0.5371900826446281.\n",
      "[I 2024-03-14 10:11:09,474] Trial 27 finished with value: 0.4793388429752066 and parameters: {'n_estimators': 209, 'max_depth': 21, 'min_samples_split': 0.5012883061540939, 'min_samples_leaf': 0.1830586602253511, 'max_features': 'auto'}. Best is trial 20 with value: 0.5371900826446281.\n",
      "[I 2024-03-14 10:11:10,024] Trial 28 finished with value: 0.5179063360881543 and parameters: {'n_estimators': 228, 'max_depth': 31, 'min_samples_split': 0.5597081362524611, 'min_samples_leaf': 0.010767327929153796, 'max_features': 'auto'}. Best is trial 20 with value: 0.5371900826446281.\n",
      "[I 2024-03-14 10:11:10,337] Trial 29 finished with value: 0.5068870523415978 and parameters: {'n_estimators': 121, 'max_depth': 14, 'min_samples_split': 0.39719359782111097, 'min_samples_leaf': 0.08888308955747828, 'max_features': 'auto'}. Best is trial 20 with value: 0.5371900826446281.\n",
      "[I 2024-03-14 10:11:10,584] Trial 30 finished with value: 0.33884297520661155 and parameters: {'n_estimators': 175, 'max_depth': 25, 'min_samples_split': 0.6954686985770151, 'min_samples_leaf': 0.2953977792686781, 'max_features': 'auto'}. Best is trial 20 with value: 0.5371900826446281.\n",
      "[I 2024-03-14 10:11:10,951] Trial 31 finished with value: 0.5234159779614325 and parameters: {'n_estimators': 171, 'max_depth': 19, 'min_samples_split': 0.6103784939262092, 'min_samples_leaf': 0.013796639850648884, 'max_features': 'auto'}. Best is trial 20 with value: 0.5371900826446281.\n",
      "[I 2024-03-14 10:11:11,316] Trial 32 finished with value: 0.512396694214876 and parameters: {'n_estimators': 153, 'max_depth': 15, 'min_samples_split': 0.5033278168628557, 'min_samples_leaf': 0.061003882709466904, 'max_features': 'auto'}. Best is trial 20 with value: 0.5371900826446281.\n",
      "[I 2024-03-14 10:11:11,597] Trial 33 finished with value: 0.44352617079889806 and parameters: {'n_estimators': 191, 'max_depth': 22, 'min_samples_split': 0.6395594144938036, 'min_samples_leaf': 0.17265337421484445, 'max_features': 'auto'}. Best is trial 20 with value: 0.5371900826446281.\n",
      "[I 2024-03-14 10:11:11,811] Trial 34 finished with value: 0.33884297520661155 and parameters: {'n_estimators': 151, 'max_depth': 10, 'min_samples_split': 0.7613991099632502, 'min_samples_leaf': 0.06874489344813467, 'max_features': 'auto'}. Best is trial 20 with value: 0.5371900826446281.\n",
      "[I 2024-03-14 10:11:12,059] Trial 35 finished with value: 0.33884297520661155 and parameters: {'n_estimators': 180, 'max_depth': 17, 'min_samples_split': 0.6855943818900756, 'min_samples_leaf': 0.13914856991417118, 'max_features': 'auto'}. Best is trial 20 with value: 0.5371900826446281.\n",
      "[I 2024-03-14 10:11:12,327] Trial 36 finished with value: 0.5206611570247934 and parameters: {'n_estimators': 121, 'max_depth': 30, 'min_samples_split': 0.591957289834632, 'min_samples_leaf': 0.06368729328357517, 'max_features': 'auto'}. Best is trial 20 with value: 0.5371900826446281.\n",
      "[I 2024-03-14 10:11:12,909] Trial 37 finished with value: 0.5179063360881543 and parameters: {'n_estimators': 220, 'max_depth': 27, 'min_samples_split': 0.4697236801347871, 'min_samples_leaf': 0.010086924305933831, 'max_features': 'auto'}. Best is trial 20 with value: 0.5371900826446281.\n",
      "[I 2024-03-14 10:11:13,139] Trial 38 finished with value: 0.33884297520661155 and parameters: {'n_estimators': 171, 'max_depth': 20, 'min_samples_split': 0.8482812101601032, 'min_samples_leaf': 0.14952208145130585, 'max_features': 'auto'}. Best is trial 20 with value: 0.5371900826446281.\n",
      "[I 2024-03-14 10:11:13,408] Trial 39 finished with value: 0.33884297520661155 and parameters: {'n_estimators': 197, 'max_depth': 11, 'min_samples_split': 0.7292554656583927, 'min_samples_leaf': 0.22715396129748322, 'max_features': 'auto'}. Best is trial 20 with value: 0.5371900826446281.\n",
      "[I 2024-03-14 10:11:13,657] Trial 40 finished with value: 0.33884297520661155 and parameters: {'n_estimators': 181, 'max_depth': 16, 'min_samples_split': 0.8055284205330551, 'min_samples_leaf': 0.12287965238571018, 'max_features': 'auto'}. Best is trial 20 with value: 0.5371900826446281.\n",
      "[I 2024-03-14 10:11:13,993] Trial 41 finished with value: 0.5316804407713499 and parameters: {'n_estimators': 149, 'max_depth': 25, 'min_samples_split': 0.5516191306718133, 'min_samples_leaf': 0.06906211343178764, 'max_features': 'auto'}. Best is trial 20 with value: 0.5371900826446281.\n",
      "[I 2024-03-14 10:11:14,324] Trial 42 finished with value: 0.5234159779614325 and parameters: {'n_estimators': 155, 'max_depth': 33, 'min_samples_split': 0.5472091469680292, 'min_samples_leaf': 0.07783993214721296, 'max_features': 'auto'}. Best is trial 20 with value: 0.5371900826446281.\n",
      "[I 2024-03-14 10:11:14,618] Trial 43 finished with value: 0.49586776859504134 and parameters: {'n_estimators': 166, 'max_depth': 27, 'min_samples_split': 0.6372606029170279, 'min_samples_leaf': 0.04459201661664154, 'max_features': 'auto'}. Best is trial 20 with value: 0.5371900826446281.\n",
      "[I 2024-03-14 10:11:14,817] Trial 44 finished with value: 0.33884297520661155 and parameters: {'n_estimators': 145, 'max_depth': 23, 'min_samples_split': 0.6557866170569934, 'min_samples_leaf': 0.12198475690532794, 'max_features': 'auto'}. Best is trial 20 with value: 0.5371900826446281.\n",
      "[I 2024-03-14 10:11:15,085] Trial 45 finished with value: 0.5261707988980716 and parameters: {'n_estimators': 123, 'max_depth': 26, 'min_samples_split': 0.5986093784867556, 'min_samples_leaf': 0.052652836149857045, 'max_features': 'auto'}. Best is trial 20 with value: 0.5371900826446281.\n",
      "[I 2024-03-14 10:11:15,470] Trial 46 finished with value: 0.4765840220385675 and parameters: {'n_estimators': 184, 'max_depth': 29, 'min_samples_split': 0.5290828337893099, 'min_samples_leaf': 0.16652392966773036, 'max_features': 'auto'}. Best is trial 20 with value: 0.5371900826446281.\n",
      "[I 2024-03-14 10:11:15,928] Trial 47 finished with value: 0.4931129476584022 and parameters: {'n_estimators': 166, 'max_depth': 19, 'min_samples_split': 0.4663696603516525, 'min_samples_leaf': 0.09969658215557355, 'max_features': 'auto'}. Best is trial 20 with value: 0.5371900826446281.\n",
      "[I 2024-03-14 10:11:16,318] Trial 48 finished with value: 0.5261707988980716 and parameters: {'n_estimators': 148, 'max_depth': 23, 'min_samples_split': 0.589750574649367, 'min_samples_leaf': 0.05490231022321341, 'max_features': 'auto'}. Best is trial 20 with value: 0.5371900826446281.\n",
      "[I 2024-03-14 10:11:16,503] Trial 49 finished with value: 0.33884297520661155 and parameters: {'n_estimators': 129, 'max_depth': 33, 'min_samples_split': 0.6620846197168095, 'min_samples_leaf': 0.2691321770143595, 'max_features': 'auto'}. Best is trial 20 with value: 0.5371900826446281.\n",
      "[I 2024-03-14 10:11:16,885] Trial 50 finished with value: 0.4738292011019284 and parameters: {'n_estimators': 200, 'max_depth': 12, 'min_samples_split': 0.51643710509894, 'min_samples_leaf': 0.20534208689400504, 'max_features': 'auto'}. Best is trial 20 with value: 0.5371900826446281.\n",
      "[I 2024-03-14 10:11:17,221] Trial 51 finished with value: 0.5261707988980716 and parameters: {'n_estimators': 133, 'max_depth': 25, 'min_samples_split': 0.5613984106348395, 'min_samples_leaf': 0.015883524472454755, 'max_features': 'auto'}. Best is trial 20 with value: 0.5371900826446281.\n",
      "[I 2024-03-14 10:11:17,584] Trial 52 finished with value: 0.5316804407713499 and parameters: {'n_estimators': 145, 'max_depth': 24, 'min_samples_split': 0.6213922111817946, 'min_samples_leaf': 0.04231922482459461, 'max_features': 'auto'}. Best is trial 20 with value: 0.5371900826446281.\n",
      "[I 2024-03-14 10:11:17,923] Trial 53 finished with value: 0.4820936639118457 and parameters: {'n_estimators': 161, 'max_depth': 21, 'min_samples_split': 0.6172393892374034, 'min_samples_leaf': 0.0957155978807212, 'max_features': 'auto'}. Best is trial 20 with value: 0.5371900826446281.\n",
      "[I 2024-03-14 10:11:18,131] Trial 54 finished with value: 0.33884297520661155 and parameters: {'n_estimators': 145, 'max_depth': 23, 'min_samples_split': 0.71102141472224, 'min_samples_leaf': 0.04543870795311707, 'max_features': 'auto'}. Best is trial 20 with value: 0.5371900826446281.\n",
      "[I 2024-03-14 10:11:18,529] Trial 55 finished with value: 0.33884297520661155 and parameters: {'n_estimators': 280, 'max_depth': 29, 'min_samples_split': 0.6728794336678956, 'min_samples_leaf': 0.14778249950275663, 'max_features': 'auto'}. Best is trial 20 with value: 0.5371900826446281.\n",
      "[I 2024-03-14 10:11:18,728] Trial 56 finished with value: 0.46831955922865015 and parameters: {'n_estimators': 108, 'max_depth': 17, 'min_samples_split': 0.6351030548120571, 'min_samples_leaf': 0.09588596089317618, 'max_features': 'auto'}. Best is trial 20 with value: 0.5371900826446281.\n",
      "[I 2024-03-14 10:11:19,157] Trial 57 finished with value: 0.5344352617079889 and parameters: {'n_estimators': 172, 'max_depth': 20, 'min_samples_split': 0.5861318680995136, 'min_samples_leaf': 0.040681029719985676, 'max_features': 'auto'}. Best is trial 20 with value: 0.5371900826446281.\n",
      "[I 2024-03-14 10:11:19,581] Trial 58 finished with value: 0.49586776859504134 and parameters: {'n_estimators': 173, 'max_depth': 19, 'min_samples_split': 0.575563601959547, 'min_samples_leaf': 0.11057534961175872, 'max_features': 'auto'}. Best is trial 20 with value: 0.5371900826446281.\n",
      "[I 2024-03-14 10:11:19,978] Trial 59 finished with value: 0.4793388429752066 and parameters: {'n_estimators': 186, 'max_depth': 7, 'min_samples_split': 0.532144635853576, 'min_samples_leaf': 0.18661770888028564, 'max_features': 'auto'}. Best is trial 20 with value: 0.5371900826446281.\n",
      "[I 2024-03-14 10:11:20,492] Trial 60 finished with value: 0.5179063360881543 and parameters: {'n_estimators': 194, 'max_depth': 21, 'min_samples_split': 0.49926827740893054, 'min_samples_leaf': 0.036953348002860244, 'max_features': 'auto'}. Best is trial 20 with value: 0.5371900826446281.\n",
      "[I 2024-03-14 10:11:20,863] Trial 61 finished with value: 0.5316804407713499 and parameters: {'n_estimators': 156, 'max_depth': 24, 'min_samples_split': 0.6298392666971889, 'min_samples_leaf': 0.04228555414714776, 'max_features': 'auto'}. Best is trial 20 with value: 0.5371900826446281.\n",
      "[I 2024-03-14 10:11:21,321] Trial 62 finished with value: 0.5316804407713499 and parameters: {'n_estimators': 167, 'max_depth': 26, 'min_samples_split': 0.5892336499534495, 'min_samples_leaf': 0.011778002072090635, 'max_features': 'auto'}. Best is trial 20 with value: 0.5371900826446281.\n",
      "[I 2024-03-14 10:11:21,730] Trial 63 finished with value: 0.5068870523415978 and parameters: {'n_estimators': 176, 'max_depth': 22, 'min_samples_split': 0.5401569045370951, 'min_samples_leaf': 0.08104317819038953, 'max_features': 'auto'}. Best is trial 20 with value: 0.5371900826446281.\n",
      "[I 2024-03-14 10:11:22,028] Trial 64 finished with value: 0.48484848484848486 and parameters: {'n_estimators': 142, 'max_depth': 20, 'min_samples_split': 0.5664101821406439, 'min_samples_leaf': 0.1428935384609436, 'max_features': 'auto'}. Best is trial 20 with value: 0.5371900826446281.\n",
      "[I 2024-03-14 10:11:22,252] Trial 65 finished with value: 0.33884297520661155 and parameters: {'n_estimators': 160, 'max_depth': 28, 'min_samples_split': 0.6656412798720264, 'min_samples_leaf': 0.083839426336006, 'max_features': 'auto'}. Best is trial 20 with value: 0.5371900826446281.\n",
      "[I 2024-03-14 10:11:22,626] Trial 66 finished with value: 0.5261707988980716 and parameters: {'n_estimators': 129, 'max_depth': 15, 'min_samples_split': 0.614585964501676, 'min_samples_leaf': 0.04010062394948746, 'max_features': 'auto'}. Best is trial 20 with value: 0.5371900826446281.\n",
      "[I 2024-03-14 10:11:23,159] Trial 67 finished with value: 0.4793388429752066 and parameters: {'n_estimators': 205, 'max_depth': 24, 'min_samples_split': 0.47607872456455524, 'min_samples_leaf': 0.11821625571700232, 'max_features': 'auto'}. Best is trial 20 with value: 0.5371900826446281.\n",
      "[I 2024-03-14 10:11:23,557] Trial 68 finished with value: 0.512396694214876 and parameters: {'n_estimators': 151, 'max_depth': 18, 'min_samples_split': 0.4336621000447959, 'min_samples_leaf': 0.0720619568220142, 'max_features': 'auto'}. Best is trial 20 with value: 0.5371900826446281.\n",
      "[I 2024-03-14 10:11:23,840] Trial 69 finished with value: 0.33884297520661155 and parameters: {'n_estimators': 167, 'max_depth': 31, 'min_samples_split': 0.7282972492599278, 'min_samples_leaf': 0.034348522457472164, 'max_features': 'auto'}. Best is trial 20 with value: 0.5371900826446281.\n",
      "[I 2024-03-14 10:11:24,349] Trial 70 finished with value: 0.5261707988980716 and parameters: {'n_estimators': 182, 'max_depth': 26, 'min_samples_split': 0.5266637223732761, 'min_samples_leaf': 0.012953660480663511, 'max_features': 'auto'}. Best is trial 20 with value: 0.5371900826446281.\n",
      "[I 2024-03-14 10:11:24,690] Trial 71 finished with value: 0.5234159779614325 and parameters: {'n_estimators': 154, 'max_depth': 25, 'min_samples_split': 0.6346118233322771, 'min_samples_leaf': 0.046721341355187095, 'max_features': 'auto'}. Best is trial 20 with value: 0.5371900826446281.\n",
      "[I 2024-03-14 10:11:25,058] Trial 72 finished with value: 0.512396694214876 and parameters: {'n_estimators': 159, 'max_depth': 22, 'min_samples_split': 0.5590420161278454, 'min_samples_leaf': 0.06265490464542607, 'max_features': 'auto'}. Best is trial 20 with value: 0.5371900826446281.\n",
      "[I 2024-03-14 10:11:25,516] Trial 73 finished with value: 0.48760330578512395 and parameters: {'n_estimators': 176, 'max_depth': 24, 'min_samples_split': 0.6126933453099089, 'min_samples_leaf': 0.112846212406844, 'max_features': 'auto'}. Best is trial 20 with value: 0.5371900826446281.\n",
      "[I 2024-03-14 10:11:25,916] Trial 74 finished with value: 0.48484848484848486 and parameters: {'n_estimators': 156, 'max_depth': 20, 'min_samples_split': 0.5834601230490786, 'min_samples_leaf': 0.15112928790078484, 'max_features': 'auto'}. Best is trial 20 with value: 0.5371900826446281.\n",
      "[I 2024-03-14 10:11:26,202] Trial 75 finished with value: 0.3774104683195592 and parameters: {'n_estimators': 165, 'max_depth': 27, 'min_samples_split': 0.6530721552889898, 'min_samples_leaf': 0.03659481552445718, 'max_features': 'auto'}. Best is trial 20 with value: 0.5371900826446281.\n",
      "[I 2024-03-14 10:11:26,398] Trial 76 finished with value: 0.33884297520661155 and parameters: {'n_estimators': 138, 'max_depth': 24, 'min_samples_split': 0.6845527369734145, 'min_samples_leaf': 0.08538028760382381, 'max_features': 'auto'}. Best is trial 20 with value: 0.5371900826446281.\n",
      "[I 2024-03-14 10:11:26,705] Trial 77 finished with value: 0.4765840220385675 and parameters: {'n_estimators': 146, 'max_depth': 18, 'min_samples_split': 0.503287761542349, 'min_samples_leaf': 0.12999588002089624, 'max_features': 'auto'}. Best is trial 20 with value: 0.5371900826446281.\n",
      "[I 2024-03-14 10:11:27,077] Trial 78 finished with value: 0.5289256198347108 and parameters: {'n_estimators': 191, 'max_depth': 22, 'min_samples_split': 0.6248066042303869, 'min_samples_leaf': 0.06294828794760657, 'max_features': 'auto'}. Best is trial 20 with value: 0.5371900826446281.\n",
      "[I 2024-03-14 10:11:27,484] Trial 79 finished with value: 0.5289256198347108 and parameters: {'n_estimators': 172, 'max_depth': 16, 'min_samples_split': 0.5749370515076913, 'min_samples_leaf': 0.03377107065096095, 'max_features': 'auto'}. Best is trial 20 with value: 0.5371900826446281.\n",
      "[I 2024-03-14 10:11:27,737] Trial 80 finished with value: 0.48484848484848486 and parameters: {'n_estimators': 114, 'max_depth': 29, 'min_samples_split': 0.539036248455352, 'min_samples_leaf': 0.10035462303684586, 'max_features': 'auto'}. Best is trial 20 with value: 0.5371900826446281.\n",
      "[I 2024-03-14 10:11:28,130] Trial 81 finished with value: 0.5316804407713499 and parameters: {'n_estimators': 168, 'max_depth': 26, 'min_samples_split': 0.5934958242819985, 'min_samples_leaf': 0.013009482985469827, 'max_features': 'auto'}. Best is trial 20 with value: 0.5371900826446281.\n",
      "[I 2024-03-14 10:11:28,474] Trial 82 finished with value: 0.5344352617079889 and parameters: {'n_estimators': 149, 'max_depth': 25, 'min_samples_split': 0.5919316936029063, 'min_samples_leaf': 0.013583797133208531, 'max_features': 'auto'}. Best is trial 20 with value: 0.5371900826446281.\n",
      "[I 2024-03-14 10:11:28,701] Trial 83 finished with value: 0.4214876033057851 and parameters: {'n_estimators': 150, 'max_depth': 21, 'min_samples_split': 0.6417221458955598, 'min_samples_leaf': 0.07900507363399407, 'max_features': 'auto'}. Best is trial 20 with value: 0.5371900826446281.\n",
      "[I 2024-03-14 10:11:29,008] Trial 84 finished with value: 0.5234159779614325 and parameters: {'n_estimators': 141, 'max_depth': 45, 'min_samples_split': 0.6157613281590898, 'min_samples_leaf': 0.05367012809109096, 'max_features': 'auto'}. Best is trial 20 with value: 0.5371900826446281.\n",
      "[I 2024-03-14 10:11:29,390] Trial 85 finished with value: 0.5399449035812672 and parameters: {'n_estimators': 163, 'max_depth': 23, 'min_samples_split': 0.5533832461990433, 'min_samples_leaf': 0.03309932692875221, 'max_features': 'auto'}. Best is trial 85 with value: 0.5399449035812672.\n",
      "[I 2024-03-14 10:11:29,809] Trial 86 finished with value: 0.5206611570247934 and parameters: {'n_estimators': 162, 'max_depth': 23, 'min_samples_split': 0.4871363294667705, 'min_samples_leaf': 0.030864668359764147, 'max_features': 'auto'}. Best is trial 85 with value: 0.5399449035812672.\n",
      "[I 2024-03-14 10:11:30,112] Trial 87 finished with value: 0.509641873278237 and parameters: {'n_estimators': 129, 'max_depth': 20, 'min_samples_split': 0.5203870359212011, 'min_samples_leaf': 0.06590452135294418, 'max_features': 'auto'}. Best is trial 85 with value: 0.5399449035812672.\n",
      "[I 2024-03-14 10:11:30,476] Trial 88 finished with value: 0.4765840220385675 and parameters: {'n_estimators': 178, 'max_depth': 25, 'min_samples_split': 0.5517820746719083, 'min_samples_leaf': 0.16781932560590396, 'max_features': 'auto'}. Best is trial 85 with value: 0.5399449035812672.\n",
      "[I 2024-03-14 10:11:30,839] Trial 89 finished with value: 0.48760330578512395 and parameters: {'n_estimators': 171, 'max_depth': 28, 'min_samples_split': 0.5774508976191584, 'min_samples_leaf': 0.12135912720880929, 'max_features': 'auto'}. Best is trial 85 with value: 0.5399449035812672.\n",
      "[I 2024-03-14 10:11:31,194] Trial 90 finished with value: 0.4793388429752066 and parameters: {'n_estimators': 148, 'max_depth': 13, 'min_samples_split': 0.5116820025489746, 'min_samples_leaf': 0.10069408828897938, 'max_features': 'auto'}. Best is trial 85 with value: 0.5399449035812672.\n",
      "[I 2024-03-14 10:11:31,544] Trial 91 finished with value: 0.5261707988980716 and parameters: {'n_estimators': 157, 'max_depth': 23, 'min_samples_split': 0.6017612312147649, 'min_samples_leaf': 0.010167171965005946, 'max_features': 'auto'}. Best is trial 85 with value: 0.5399449035812672.\n",
      "[I 2024-03-14 10:11:31,871] Trial 92 finished with value: 0.5234159779614325 and parameters: {'n_estimators': 136, 'max_depth': 24, 'min_samples_split': 0.54450120454888, 'min_samples_leaf': 0.03461107775220233, 'max_features': 'auto'}. Best is trial 85 with value: 0.5399449035812672.\n",
      "[I 2024-03-14 10:11:32,095] Trial 93 finished with value: 0.33884297520661155 and parameters: {'n_estimators': 163, 'max_depth': 27, 'min_samples_split': 0.6521260364268816, 'min_samples_leaf': 0.05622998395307774, 'max_features': 'auto'}. Best is trial 85 with value: 0.5399449035812672.\n",
      "[I 2024-03-14 10:11:32,437] Trial 94 finished with value: 0.5261707988980716 and parameters: {'n_estimators': 156, 'max_depth': 19, 'min_samples_split': 0.5653424620337621, 'min_samples_leaf': 0.07807334856027781, 'max_features': 'auto'}. Best is trial 85 with value: 0.5399449035812672.\n",
      "[I 2024-03-14 10:11:32,696] Trial 95 finished with value: 0.33884297520661155 and parameters: {'n_estimators': 186, 'max_depth': 22, 'min_samples_split': 0.676008688959725, 'min_samples_leaf': 0.03043640857730883, 'max_features': 'auto'}. Best is trial 85 with value: 0.5399449035812672.\n",
      "[I 2024-03-14 10:11:33,005] Trial 96 finished with value: 0.5234159779614325 and parameters: {'n_estimators': 144, 'max_depth': 25, 'min_samples_split': 0.6008312432600672, 'min_samples_leaf': 0.05082251118215647, 'max_features': 'auto'}. Best is trial 85 with value: 0.5399449035812672.\n",
      "[I 2024-03-14 10:11:33,320] Trial 97 finished with value: 0.4903581267217631 and parameters: {'n_estimators': 153, 'max_depth': 17, 'min_samples_split': 0.6277424526162861, 'min_samples_leaf': 0.13281780799380263, 'max_features': 'auto'}. Best is trial 85 with value: 0.5399449035812672.\n",
      "[I 2024-03-14 10:11:33,740] Trial 98 finished with value: 0.4903581267217631 and parameters: {'n_estimators': 180, 'max_depth': 30, 'min_samples_split': 0.5689997835673799, 'min_samples_leaf': 0.09399110857089846, 'max_features': 'auto'}. Best is trial 85 with value: 0.5399449035812672.\n",
      "[I 2024-03-14 10:11:34,142] Trial 99 finished with value: 0.5151515151515151 and parameters: {'n_estimators': 170, 'max_depth': 24, 'min_samples_split': 0.5349610542566345, 'min_samples_leaf': 0.06832093092248698, 'max_features': 'auto'}. Best is trial 85 with value: 0.5399449035812672.\n",
      "[I 2024-03-14 10:11:34,528] Trial 100 finished with value: 0.5151515151515151 and parameters: {'n_estimators': 133, 'max_depth': 21, 'min_samples_split': 0.4905341987204712, 'min_samples_leaf': 0.02545217715946911, 'max_features': 'auto'}. Best is trial 85 with value: 0.5399449035812672.\n",
      "[I 2024-03-14 10:11:34,945] Trial 101 finished with value: 0.5371900826446281 and parameters: {'n_estimators': 163, 'max_depth': 26, 'min_samples_split': 0.5801462584837092, 'min_samples_leaf': 0.012576508320774914, 'max_features': 'auto'}. Best is trial 85 with value: 0.5399449035812672.\n",
      "[I 2024-03-14 10:11:35,356] Trial 102 finished with value: 0.5261707988980716 and parameters: {'n_estimators': 164, 'max_depth': 26, 'min_samples_split': 0.5937278364165436, 'min_samples_leaf': 0.044221616866317114, 'max_features': 'auto'}. Best is trial 85 with value: 0.5399449035812672.\n",
      "[I 2024-03-14 10:11:35,749] Trial 103 finished with value: 0.5399449035812672 and parameters: {'n_estimators': 158, 'max_depth': 23, 'min_samples_split': 0.6259521536440381, 'min_samples_leaf': 0.012969861068259397, 'max_features': 'auto'}. Best is trial 85 with value: 0.5399449035812672.\n",
      "[I 2024-03-14 10:11:36,139] Trial 104 finished with value: 0.5316804407713499 and parameters: {'n_estimators': 149, 'max_depth': 23, 'min_samples_split': 0.5525843607592684, 'min_samples_leaf': 0.011422693664785957, 'max_features': 'auto'}. Best is trial 85 with value: 0.5399449035812672.\n",
      "[I 2024-03-14 10:11:36,527] Trial 105 finished with value: 0.4931129476584022 and parameters: {'n_estimators': 160, 'max_depth': 20, 'min_samples_split': 0.5199472081526032, 'min_samples_leaf': 0.08572850410297225, 'max_features': 'auto'}. Best is trial 85 with value: 0.5399449035812672.\n",
      "[I 2024-03-14 10:11:36,908] Trial 106 finished with value: 0.4931129476584022 and parameters: {'n_estimators': 177, 'max_depth': 27, 'min_samples_split': 0.5809209637171009, 'min_samples_leaf': 0.10671687110623887, 'max_features': 'auto'}. Best is trial 85 with value: 0.5399449035812672.\n",
      "[I 2024-03-14 10:11:37,174] Trial 107 finished with value: 0.33884297520661155 and parameters: {'n_estimators': 174, 'max_depth': 25, 'min_samples_split': 0.6657883604612926, 'min_samples_leaf': 0.027189802656801716, 'max_features': 'auto'}. Best is trial 85 with value: 0.5399449035812672.\n",
      "[I 2024-03-14 10:11:37,516] Trial 108 finished with value: 0.5426997245179064 and parameters: {'n_estimators': 152, 'max_depth': 22, 'min_samples_split': 0.6230521703070216, 'min_samples_leaf': 0.06724357074477628, 'max_features': 'auto'}. Best is trial 108 with value: 0.5426997245179064.\n",
      "[I 2024-03-14 10:11:37,895] Trial 109 finished with value: 0.5234159779614325 and parameters: {'n_estimators': 169, 'max_depth': 21, 'min_samples_split': 0.6028828158142733, 'min_samples_leaf': 0.06609427034031362, 'max_features': 'auto'}. Best is trial 108 with value: 0.5426997245179064.\n",
      "[I 2024-03-14 10:11:38,116] Trial 110 finished with value: 0.33884297520661155 and parameters: {'n_estimators': 153, 'max_depth': 19, 'min_samples_split': 0.6500079153092309, 'min_samples_leaf': 0.058493826696895276, 'max_features': 'auto'}. Best is trial 108 with value: 0.5426997245179064.\n",
      "[I 2024-03-14 10:11:38,433] Trial 111 finished with value: 0.5289256198347108 and parameters: {'n_estimators': 141, 'max_depth': 22, 'min_samples_split': 0.6174262244301291, 'min_samples_leaf': 0.02322600634803754, 'max_features': 'auto'}. Best is trial 108 with value: 0.5426997245179064.\n",
      "[I 2024-03-14 10:11:38,797] Trial 112 finished with value: 0.5289256198347108 and parameters: {'n_estimators': 164, 'max_depth': 23, 'min_samples_split': 0.5794141106442473, 'min_samples_leaf': 0.04916148007933661, 'max_features': 'auto'}. Best is trial 108 with value: 0.5426997245179064.\n",
      "[I 2024-03-14 10:11:39,201] Trial 113 finished with value: 0.5289256198347108 and parameters: {'n_estimators': 158, 'max_depth': 26, 'min_samples_split': 0.5474002622262797, 'min_samples_leaf': 0.010404306262837285, 'max_features': 'auto'}. Best is trial 108 with value: 0.5426997245179064.\n",
      "[I 2024-03-14 10:11:39,413] Trial 114 finished with value: 0.33884297520661155 and parameters: {'n_estimators': 146, 'max_depth': 28, 'min_samples_split': 0.7004520454667712, 'min_samples_leaf': 0.0915153080290471, 'max_features': 'auto'}. Best is trial 108 with value: 0.5426997245179064.\n",
      "[I 2024-03-14 10:11:39,712] Trial 115 finished with value: 0.5289256198347108 and parameters: {'n_estimators': 151, 'max_depth': 22, 'min_samples_split': 0.626373175068032, 'min_samples_leaf': 0.07239214370902988, 'max_features': 'auto'}. Best is trial 108 with value: 0.5426997245179064.\n",
      "[I 2024-03-14 10:11:40,133] Trial 116 finished with value: 0.5289256198347108 and parameters: {'n_estimators': 182, 'max_depth': 24, 'min_samples_split': 0.5658142228679841, 'min_samples_leaf': 0.034810071413936376, 'max_features': 'auto'}. Best is trial 108 with value: 0.5426997245179064.\n",
      "[I 2024-03-14 10:11:40,469] Trial 117 finished with value: 0.48760330578512395 and parameters: {'n_estimators': 160, 'max_depth': 25, 'min_samples_split': 0.5298897407163154, 'min_samples_leaf': 0.11101722194098948, 'max_features': 'auto'}. Best is trial 108 with value: 0.5426997245179064.\n",
      "[I 2024-03-14 10:11:40,717] Trial 118 finished with value: 0.44077134986225897 and parameters: {'n_estimators': 168, 'max_depth': 21, 'min_samples_split': 0.6413592597371999, 'min_samples_leaf': 0.1528090373532012, 'max_features': 'auto'}. Best is trial 108 with value: 0.5426997245179064.\n",
      "[I 2024-03-14 10:11:41,134] Trial 119 finished with value: 0.5234159779614325 and parameters: {'n_estimators': 174, 'max_depth': 18, 'min_samples_split': 0.6052085124263623, 'min_samples_leaf': 0.053237251082303906, 'max_features': 'auto'}. Best is trial 108 with value: 0.5426997245179064.\n",
      "[I 2024-03-14 10:11:41,408] Trial 120 finished with value: 0.33884297520661155 and parameters: {'n_estimators': 138, 'max_depth': 39, 'min_samples_split': 0.6730928299285491, 'min_samples_leaf': 0.07809336581427152, 'max_features': 'auto'}. Best is trial 108 with value: 0.5426997245179064.\n",
      "[I 2024-03-14 10:11:41,754] Trial 121 finished with value: 0.5399449035812672 and parameters: {'n_estimators': 156, 'max_depth': 24, 'min_samples_split': 0.6273629710558931, 'min_samples_leaf': 0.03292253551038976, 'max_features': 'auto'}. Best is trial 108 with value: 0.5426997245179064.\n",
      "[I 2024-03-14 10:11:42,257] Trial 122 finished with value: 0.5234159779614325 and parameters: {'n_estimators': 228, 'max_depth': 23, 'min_samples_split': 0.58399815199634, 'min_samples_leaf': 0.0297631766313502, 'max_features': 'auto'}. Best is trial 108 with value: 0.5426997245179064.\n",
      "[I 2024-03-14 10:11:42,597] Trial 123 finished with value: 0.5316804407713499 and parameters: {'n_estimators': 154, 'max_depth': 26, 'min_samples_split': 0.6195914128331332, 'min_samples_leaf': 0.04830001803285013, 'max_features': 'auto'}. Best is trial 108 with value: 0.5426997245179064.\n",
      "[I 2024-03-14 10:11:42,831] Trial 124 finished with value: 0.3774104683195592 and parameters: {'n_estimators': 164, 'max_depth': 25, 'min_samples_split': 0.6524573741149782, 'min_samples_leaf': 0.023341768629179964, 'max_features': 'auto'}. Best is trial 108 with value: 0.5426997245179064.\n",
      "[I 2024-03-14 10:11:43,185] Trial 125 finished with value: 0.5261707988980716 and parameters: {'n_estimators': 144, 'max_depth': 23, 'min_samples_split': 0.5568492325912964, 'min_samples_leaf': 0.010849339813699909, 'max_features': 'auto'}. Best is trial 108 with value: 0.5426997245179064.\n",
      "[I 2024-03-14 10:11:43,582] Trial 126 finished with value: 0.5041322314049587 and parameters: {'n_estimators': 189, 'max_depth': 20, 'min_samples_split': 0.6012447753433359, 'min_samples_leaf': 0.08856018207998548, 'max_features': 'auto'}. Best is trial 108 with value: 0.5426997245179064.\n",
      "[I 2024-03-14 10:11:43,899] Trial 127 finished with value: 0.4793388429752066 and parameters: {'n_estimators': 150, 'max_depth': 27, 'min_samples_split': 0.506702968086052, 'min_samples_leaf': 0.12536287932347506, 'max_features': 'auto'}. Best is trial 108 with value: 0.5426997245179064.\n",
      "[I 2024-03-14 10:11:44,140] Trial 128 finished with value: 0.33884297520661155 and parameters: {'n_estimators': 159, 'max_depth': 24, 'min_samples_split': 0.6898002210841143, 'min_samples_leaf': 0.06606368777880119, 'max_features': 'auto'}. Best is trial 108 with value: 0.5426997245179064.\n",
      "[I 2024-03-14 10:11:44,421] Trial 129 finished with value: 0.5344352617079889 and parameters: {'n_estimators': 156, 'max_depth': 30, 'min_samples_split': 0.6309659484572986, 'min_samples_leaf': 0.03746428668743222, 'max_features': 'auto'}. Best is trial 108 with value: 0.5426997245179064.\n",
      "[I 2024-03-14 10:11:44,656] Trial 130 finished with value: 0.33884297520661155 and parameters: {'n_estimators': 172, 'max_depth': 30, 'min_samples_split': 0.6380168163795282, 'min_samples_leaf': 0.5027540628347743, 'max_features': 'auto'}. Best is trial 108 with value: 0.5426997245179064.\n",
      "[I 2024-03-14 10:11:45,014] Trial 131 finished with value: 0.5316804407713499 and parameters: {'n_estimators': 166, 'max_depth': 31, 'min_samples_split': 0.5850970019448772, 'min_samples_leaf': 0.040535659902958016, 'max_features': 'auto'}. Best is trial 108 with value: 0.5426997245179064.\n",
      "[I 2024-03-14 10:11:45,607] Trial 132 finished with value: 0.5151515151515151 and parameters: {'n_estimators': 260, 'max_depth': 29, 'min_samples_split': 0.5429242657048355, 'min_samples_leaf': 0.050290399743034356, 'max_features': 'auto'}. Best is trial 108 with value: 0.5426997245179064.\n",
      "[I 2024-03-14 10:11:45,936] Trial 133 finished with value: 0.5206611570247934 and parameters: {'n_estimators': 154, 'max_depth': 22, 'min_samples_split': 0.6061101899805756, 'min_samples_leaf': 0.035481473895796437, 'max_features': 'auto'}. Best is trial 108 with value: 0.5426997245179064.\n",
      "[I 2024-03-14 10:11:46,299] Trial 134 finished with value: 0.5344352617079889 and parameters: {'n_estimators': 147, 'max_depth': 33, 'min_samples_split': 0.566021545006624, 'min_samples_leaf': 0.010102483102005504, 'max_features': 'auto'}. Best is trial 108 with value: 0.5426997245179064.\n",
      "[I 2024-03-14 10:11:46,640] Trial 135 finished with value: 0.5206611570247934 and parameters: {'n_estimators': 162, 'max_depth': 34, 'min_samples_split': 0.5741633061426799, 'min_samples_leaf': 0.07578910346662926, 'max_features': 'auto'}. Best is trial 108 with value: 0.5426997245179064.\n",
      "[I 2024-03-14 10:11:47,028] Trial 136 finished with value: 0.5261707988980716 and parameters: {'n_estimators': 157, 'max_depth': 28, 'min_samples_split': 0.5270419416686235, 'min_samples_leaf': 0.01202674676079609, 'max_features': 'auto'}. Best is trial 108 with value: 0.5426997245179064.\n",
      "[I 2024-03-14 10:11:47,374] Trial 137 finished with value: 0.4738292011019284 and parameters: {'n_estimators': 149, 'max_depth': 15, 'min_samples_split': 0.48571630268682403, 'min_samples_leaf': 0.10814323278383947, 'max_features': 'auto'}. Best is trial 108 with value: 0.5426997245179064.\n",
      "[I 2024-03-14 10:11:47,772] Trial 138 finished with value: 0.509641873278237 and parameters: {'n_estimators': 178, 'max_depth': 34, 'min_samples_split': 0.5545312258973703, 'min_samples_leaf': 0.05941306308703752, 'max_features': 'auto'}. Best is trial 108 with value: 0.5426997245179064.\n",
      "[I 2024-03-14 10:11:47,999] Trial 139 finished with value: 0.33884297520661155 and parameters: {'n_estimators': 168, 'max_depth': 33, 'min_samples_split': 0.661437668855801, 'min_samples_leaf': 0.025244033265418974, 'max_features': 'auto'}. Best is trial 108 with value: 0.5426997245179064.\n",
      "[I 2024-03-14 10:11:48,323] Trial 140 finished with value: 0.4903581267217631 and parameters: {'n_estimators': 134, 'max_depth': 35, 'min_samples_split': 0.4597586641901612, 'min_samples_leaf': 0.0851420275308856, 'max_features': 'auto'}. Best is trial 108 with value: 0.5426997245179064.\n",
      "[I 2024-03-14 10:11:48,675] Trial 141 finished with value: 0.5234159779614325 and parameters: {'n_estimators': 143, 'max_depth': 32, 'min_samples_split': 0.6252058080674605, 'min_samples_leaf': 0.032321436546555435, 'max_features': 'auto'}. Best is trial 108 with value: 0.5426997245179064.\n",
      "[I 2024-03-14 10:11:49,014] Trial 142 finished with value: 0.5261707988980716 and parameters: {'n_estimators': 147, 'max_depth': 24, 'min_samples_split': 0.5698459460238414, 'min_samples_leaf': 0.04966262907502489, 'max_features': 'auto'}. Best is trial 108 with value: 0.5426997245179064.\n",
      "[I 2024-03-14 10:11:49,403] Trial 143 finished with value: 0.5289256198347108 and parameters: {'n_estimators': 157, 'max_depth': 26, 'min_samples_split': 0.6138101095082248, 'min_samples_leaf': 0.06783043310462755, 'max_features': 'auto'}. Best is trial 108 with value: 0.5426997245179064.\n",
      "[I 2024-03-14 10:11:49,814] Trial 144 finished with value: 0.5316804407713499 and parameters: {'n_estimators': 153, 'max_depth': 37, 'min_samples_split': 0.5959553056040304, 'min_samples_leaf': 0.010390825995900077, 'max_features': 'auto'}. Best is trial 108 with value: 0.5426997245179064.\n",
      "[I 2024-03-14 10:11:50,074] Trial 145 finished with value: 0.38016528925619836 and parameters: {'n_estimators': 162, 'max_depth': 25, 'min_samples_split': 0.644812913860973, 'min_samples_leaf': 0.036047204362310695, 'max_features': 'auto'}. Best is trial 108 with value: 0.5426997245179064.\n",
      "[I 2024-03-14 10:11:50,396] Trial 146 finished with value: 0.4903581267217631 and parameters: {'n_estimators': 142, 'max_depth': 22, 'min_samples_split': 0.5872196853445412, 'min_samples_leaf': 0.09525484842111831, 'max_features': 'auto'}. Best is trial 108 with value: 0.5426997245179064.\n",
      "[I 2024-03-14 10:11:50,776] Trial 147 finished with value: 0.5151515151515151 and parameters: {'n_estimators': 148, 'max_depth': 23, 'min_samples_split': 0.5335167030991285, 'min_samples_leaf': 0.05364742824687148, 'max_features': 'auto'}. Best is trial 108 with value: 0.5426997245179064.\n",
      "[I 2024-03-14 10:11:51,167] Trial 148 finished with value: 0.45179063360881544 and parameters: {'n_estimators': 172, 'max_depth': 24, 'min_samples_split': 0.5562797946834621, 'min_samples_leaf': 0.25232409802275935, 'max_features': 'auto'}. Best is trial 108 with value: 0.5426997245179064.\n",
      "[I 2024-03-14 10:11:51,643] Trial 149 finished with value: 0.33884297520661155 and parameters: {'n_estimators': 297, 'max_depth': 27, 'min_samples_split': 0.6294846878635092, 'min_samples_leaf': 0.335789850139073, 'max_features': 'auto'}. Best is trial 108 with value: 0.5426997245179064.\n",
      "[I 2024-03-14 10:11:51,888] Trial 150 finished with value: 0.33884297520661155 and parameters: {'n_estimators': 138, 'max_depth': 21, 'min_samples_split': 0.6779946195480537, 'min_samples_leaf': 0.028329938918179188, 'max_features': 'auto'}. Best is trial 108 with value: 0.5426997245179064.\n",
      "[I 2024-03-14 10:11:52,226] Trial 151 finished with value: 0.5371900826446281 and parameters: {'n_estimators': 156, 'max_depth': 24, 'min_samples_split': 0.6239687430197173, 'min_samples_leaf': 0.04615688921388076, 'max_features': 'auto'}. Best is trial 108 with value: 0.5426997245179064.\n",
      "[I 2024-03-14 10:11:52,594] Trial 152 finished with value: 0.5261707988980716 and parameters: {'n_estimators': 160, 'max_depth': 26, 'min_samples_split': 0.6068225208889151, 'min_samples_leaf': 0.010292317380207333, 'max_features': 'auto'}. Best is trial 108 with value: 0.5426997245179064.\n",
      "[I 2024-03-14 10:11:52,956] Trial 153 finished with value: 0.5234159779614325 and parameters: {'n_estimators': 165, 'max_depth': 23, 'min_samples_split': 0.5726669439646624, 'min_samples_leaf': 0.0653064827267577, 'max_features': 'auto'}. Best is trial 108 with value: 0.5426997245179064.\n",
      "[I 2024-03-14 10:11:53,196] Trial 154 finished with value: 0.3746556473829201 and parameters: {'n_estimators': 152, 'max_depth': 25, 'min_samples_split': 0.6553434385199939, 'min_samples_leaf': 0.041914065523540926, 'max_features': 'auto'}. Best is trial 108 with value: 0.5426997245179064.\n",
      "[I 2024-03-14 10:11:53,520] Trial 155 finished with value: 0.4986225895316804 and parameters: {'n_estimators': 156, 'max_depth': 24, 'min_samples_split': 0.628707897027157, 'min_samples_leaf': 0.08378207906557264, 'max_features': 'auto'}. Best is trial 108 with value: 0.5426997245179064.\n",
      "[I 2024-03-14 10:11:53,767] Trial 156 finished with value: 0.33884297520661155 and parameters: {'n_estimators': 169, 'max_depth': 21, 'min_samples_split': 0.7094068969479909, 'min_samples_leaf': 0.028697872297888546, 'max_features': 'auto'}. Best is trial 108 with value: 0.5426997245179064.\n",
      "[I 2024-03-14 10:11:54,093] Trial 157 finished with value: 0.5234159779614325 and parameters: {'n_estimators': 147, 'max_depth': 19, 'min_samples_split': 0.5931638973293935, 'min_samples_leaf': 0.05173017997007912, 'max_features': 'auto'}. Best is trial 108 with value: 0.5426997245179064.\n",
      "[I 2024-03-14 10:11:54,465] Trial 158 finished with value: 0.4793388429752066 and parameters: {'n_estimators': 162, 'max_depth': 23, 'min_samples_split': 0.5062438777005208, 'min_samples_leaf': 0.10824381153957988, 'max_features': 'auto'}. Best is trial 108 with value: 0.5426997245179064.\n",
      "[I 2024-03-14 10:11:54,806] Trial 159 finished with value: 0.5261707988980716 and parameters: {'n_estimators': 157, 'max_depth': 25, 'min_samples_split': 0.614545917444082, 'min_samples_leaf': 0.07205458835308684, 'max_features': 'auto'}. Best is trial 108 with value: 0.5426997245179064.\n",
      "[I 2024-03-14 10:11:55,116] Trial 160 finished with value: 0.5206611570247934 and parameters: {'n_estimators': 124, 'max_depth': 28, 'min_samples_split': 0.5397131144489067, 'min_samples_leaf': 0.02885128325071161, 'max_features': 'auto'}. Best is trial 108 with value: 0.5426997245179064.\n",
      "[I 2024-03-14 10:11:55,341] Trial 161 finished with value: 0.36639118457300274 and parameters: {'n_estimators': 151, 'max_depth': 24, 'min_samples_split': 0.6450360122986006, 'min_samples_leaf': 0.045377640982575865, 'max_features': 'auto'}. Best is trial 108 with value: 0.5426997245179064.\n",
      "[I 2024-03-14 10:11:55,628] Trial 162 finished with value: 0.5454545454545454 and parameters: {'n_estimators': 155, 'max_depth': 22, 'min_samples_split': 0.6294677930452637, 'min_samples_leaf': 0.05833436450014222, 'max_features': 'auto'}. Best is trial 162 with value: 0.5454545454545454.\n",
      "[I 2024-03-14 10:11:55,973] Trial 163 finished with value: 0.5261707988980716 and parameters: {'n_estimators': 166, 'max_depth': 22, 'min_samples_split': 0.5905297755239056, 'min_samples_leaf': 0.067368013544376, 'max_features': 'auto'}. Best is trial 162 with value: 0.5454545454545454.\n",
      "[I 2024-03-14 10:11:56,343] Trial 164 finished with value: 0.5371900826446281 and parameters: {'n_estimators': 155, 'max_depth': 20, 'min_samples_split': 0.569671918862211, 'min_samples_leaf': 0.01228725740955655, 'max_features': 'auto'}. Best is trial 162 with value: 0.5454545454545454.\n",
      "[I 2024-03-14 10:11:56,729] Trial 165 finished with value: 0.5344352617079889 and parameters: {'n_estimators': 160, 'max_depth': 20, 'min_samples_split': 0.5662565237190598, 'min_samples_leaf': 0.023844635110180916, 'max_features': 'auto'}. Best is trial 162 with value: 0.5454545454545454.\n",
      "[I 2024-03-14 10:11:57,121] Trial 166 finished with value: 0.5371900826446281 and parameters: {'n_estimators': 161, 'max_depth': 17, 'min_samples_split': 0.5649680635894024, 'min_samples_leaf': 0.013110107144000505, 'max_features': 'auto'}. Best is trial 162 with value: 0.5454545454545454.\n",
      "[I 2024-03-14 10:11:57,507] Trial 167 finished with value: 0.5316804407713499 and parameters: {'n_estimators': 157, 'max_depth': 18, 'min_samples_split': 0.5504100773713421, 'min_samples_leaf': 0.014212647593456286, 'max_features': 'auto'}. Best is trial 162 with value: 0.5454545454545454.\n",
      "[I 2024-03-14 10:11:57,902] Trial 168 finished with value: 0.5371900826446281 and parameters: {'n_estimators': 162, 'max_depth': 19, 'min_samples_split': 0.5635082370948681, 'min_samples_leaf': 0.010201822105166583, 'max_features': 'auto'}. Best is trial 162 with value: 0.5454545454545454.\n",
      "[I 2024-03-14 10:11:58,274] Trial 169 finished with value: 0.5344352617079889 and parameters: {'n_estimators': 160, 'max_depth': 20, 'min_samples_split': 0.5696057879263958, 'min_samples_leaf': 0.029873792503631192, 'max_features': 'auto'}. Best is trial 162 with value: 0.5454545454545454.\n",
      "[I 2024-03-14 10:11:58,635] Trial 170 finished with value: 0.5371900826446281 and parameters: {'n_estimators': 154, 'max_depth': 17, 'min_samples_split': 0.583741376398893, 'min_samples_leaf': 0.011909259768879278, 'max_features': 'auto'}. Best is trial 162 with value: 0.5454545454545454.\n",
      "[I 2024-03-14 10:11:59,001] Trial 171 finished with value: 0.5289256198347108 and parameters: {'n_estimators': 154, 'max_depth': 16, 'min_samples_split': 0.5764413441449053, 'min_samples_leaf': 0.028243632142414203, 'max_features': 'auto'}. Best is trial 162 with value: 0.5454545454545454.\n",
      "[I 2024-03-14 10:11:59,370] Trial 172 finished with value: 0.5344352617079889 and parameters: {'n_estimators': 163, 'max_depth': 17, 'min_samples_split': 0.5935460196074409, 'min_samples_leaf': 0.010083607117487344, 'max_features': 'auto'}. Best is trial 162 with value: 0.5454545454545454.\n",
      "[I 2024-03-14 10:11:59,758] Trial 173 finished with value: 0.5344352617079889 and parameters: {'n_estimators': 154, 'max_depth': 19, 'min_samples_split': 0.5236903802424233, 'min_samples_leaf': 0.01092209947619679, 'max_features': 'auto'}. Best is trial 162 with value: 0.5454545454545454.\n",
      "[I 2024-03-14 10:12:00,124] Trial 174 finished with value: 0.5234159779614325 and parameters: {'n_estimators': 159, 'max_depth': 18, 'min_samples_split': 0.5652972799146498, 'min_samples_leaf': 0.04762872219195946, 'max_features': 'auto'}. Best is trial 162 with value: 0.5454545454545454.\n",
      "[I 2024-03-14 10:12:00,445] Trial 175 finished with value: 0.5261707988980716 and parameters: {'n_estimators': 151, 'max_depth': 16, 'min_samples_split': 0.6116120790941227, 'min_samples_leaf': 0.04612756093045607, 'max_features': 'auto'}. Best is trial 162 with value: 0.5454545454545454.\n",
      "[I 2024-03-14 10:12:00,667] Trial 176 finished with value: 0.33884297520661155 and parameters: {'n_estimators': 166, 'max_depth': 20, 'min_samples_split': 0.5864961894659783, 'min_samples_leaf': 0.6823695790895782, 'max_features': 'auto'}. Best is trial 162 with value: 0.5454545454545454.\n",
      "[I 2024-03-14 10:12:00,964] Trial 177 finished with value: 0.4628099173553719 and parameters: {'n_estimators': 170, 'max_depth': 20, 'min_samples_split': 0.6316625407950281, 'min_samples_leaf': 0.20421600804134687, 'max_features': 'auto'}. Best is trial 162 with value: 0.5454545454545454.\n",
      "[I 2024-03-14 10:12:01,354] Trial 178 finished with value: 0.5371900826446281 and parameters: {'n_estimators': 161, 'max_depth': 17, 'min_samples_split': 0.546604001547421, 'min_samples_leaf': 0.028962089636767763, 'max_features': 'auto'}. Best is trial 162 with value: 0.5454545454545454.\n",
      "[I 2024-03-14 10:12:01,680] Trial 179 finished with value: 0.5179063360881543 and parameters: {'n_estimators': 146, 'max_depth': 17, 'min_samples_split': 0.5452053306131678, 'min_samples_leaf': 0.05835769386797077, 'max_features': 'auto'}. Best is trial 162 with value: 0.5454545454545454.\n",
      "[I 2024-03-14 10:12:02,074] Trial 180 finished with value: 0.5206611570247934 and parameters: {'n_estimators': 155, 'max_depth': 15, 'min_samples_split': 0.5112032384552506, 'min_samples_leaf': 0.010388185776340486, 'max_features': 'auto'}. Best is trial 162 with value: 0.5454545454545454.\n",
      "[I 2024-03-14 10:12:02,439] Trial 181 finished with value: 0.5344352617079889 and parameters: {'n_estimators': 160, 'max_depth': 18, 'min_samples_split': 0.5736807850174857, 'min_samples_leaf': 0.034558724892812205, 'max_features': 'auto'}. Best is trial 162 with value: 0.5454545454545454.\n",
      "[I 2024-03-14 10:12:02,823] Trial 182 finished with value: 0.5261707988980716 and parameters: {'n_estimators': 163, 'max_depth': 21, 'min_samples_split': 0.5598243947665863, 'min_samples_leaf': 0.04060768754793302, 'max_features': 'auto'}. Best is trial 162 with value: 0.5454545454545454.\n",
      "[I 2024-03-14 10:12:03,186] Trial 183 finished with value: 0.5234159779614325 and parameters: {'n_estimators': 158, 'max_depth': 14, 'min_samples_split': 0.608313933788869, 'min_samples_leaf': 0.027701372341667113, 'max_features': 'auto'}. Best is trial 162 with value: 0.5454545454545454.\n",
      "[I 2024-03-14 10:12:03,546] Trial 184 finished with value: 0.5179063360881543 and parameters: {'n_estimators': 150, 'max_depth': 17, 'min_samples_split': 0.5319605693477995, 'min_samples_leaf': 0.06258030317853097, 'max_features': 'auto'}. Best is trial 162 with value: 0.5454545454545454.\n",
      "[I 2024-03-14 10:12:04,108] Trial 185 finished with value: 0.509641873278237 and parameters: {'n_estimators': 281, 'max_depth': 19, 'min_samples_split': 0.5947328277501372, 'min_samples_leaf': 0.08195267938507705, 'max_features': 'auto'}. Best is trial 162 with value: 0.5454545454545454.\n",
      "[I 2024-03-14 10:12:04,333] Trial 186 finished with value: 0.33884297520661155 and parameters: {'n_estimators': 166, 'max_depth': 21, 'min_samples_split': 0.5574244992273274, 'min_samples_leaf': 0.42848585778143466, 'max_features': 'auto'}. Best is trial 162 with value: 0.5454545454545454.\n",
      "[I 2024-03-14 10:12:04,693] Trial 187 finished with value: 0.5151515151515151 and parameters: {'n_estimators': 175, 'max_depth': 22, 'min_samples_split': 0.6229718197668522, 'min_samples_leaf': 0.010031400242021881, 'max_features': 'auto'}. Best is trial 162 with value: 0.5454545454545454.\n",
      "[I 2024-03-14 10:12:05,054] Trial 188 finished with value: 0.5316804407713499 and parameters: {'n_estimators': 155, 'max_depth': 20, 'min_samples_split': 0.5780474359685513, 'min_samples_leaf': 0.031106647950345925, 'max_features': 'auto'}. Best is trial 162 with value: 0.5454545454545454.\n",
      "[I 2024-03-14 10:12:05,293] Trial 189 finished with value: 0.33884297520661155 and parameters: {'n_estimators': 162, 'max_depth': 18, 'min_samples_split': 0.6606593156370865, 'min_samples_leaf': 0.052444115544934396, 'max_features': 'auto'}. Best is trial 162 with value: 0.5454545454545454.\n",
      "[I 2024-03-14 10:12:05,715] Trial 190 finished with value: 0.5206611570247934 and parameters: {'n_estimators': 169, 'max_depth': 19, 'min_samples_split': 0.6060818239336124, 'min_samples_leaf': 0.010011634048187428, 'max_features': 'auto'}. Best is trial 162 with value: 0.5454545454545454.\n",
      "[I 2024-03-14 10:12:06,123] Trial 191 finished with value: 0.5344352617079889 and parameters: {'n_estimators': 160, 'max_depth': 20, 'min_samples_split': 0.5712231448521784, 'min_samples_leaf': 0.03250340296928335, 'max_features': 'auto'}. Best is trial 162 with value: 0.5454545454545454.\n",
      "[I 2024-03-14 10:12:06,517] Trial 192 finished with value: 0.5289256198347108 and parameters: {'n_estimators': 152, 'max_depth': 16, 'min_samples_split': 0.5415219808166676, 'min_samples_leaf': 0.03035318482872586, 'max_features': 'auto'}. Best is trial 162 with value: 0.5454545454545454.\n",
      "[I 2024-03-14 10:12:06,919] Trial 193 finished with value: 0.5261707988980716 and parameters: {'n_estimators': 159, 'max_depth': 22, 'min_samples_split': 0.558874306867442, 'min_samples_leaf': 0.055710161821180514, 'max_features': 'auto'}. Best is trial 162 with value: 0.5454545454545454.\n",
      "[I 2024-03-14 10:12:07,340] Trial 194 finished with value: 0.5316804407713499 and parameters: {'n_estimators': 164, 'max_depth': 22, 'min_samples_split': 0.5892479635653484, 'min_samples_leaf': 0.028686198062750277, 'max_features': 'auto'}. Best is trial 162 with value: 0.5454545454545454.\n",
      "[I 2024-03-14 10:12:07,646] Trial 195 finished with value: 0.45454545454545453 and parameters: {'n_estimators': 156, 'max_depth': 20, 'min_samples_split': 0.6382660466940021, 'min_samples_leaf': 0.06726348175056608, 'max_features': 'auto'}. Best is trial 162 with value: 0.5454545454545454.\n",
      "[I 2024-03-14 10:12:08,044] Trial 196 finished with value: 0.509641873278237 and parameters: {'n_estimators': 143, 'max_depth': 21, 'min_samples_split': 0.5258151208675526, 'min_samples_leaf': 0.042745414087297005, 'max_features': 'auto'}. Best is trial 162 with value: 0.5454545454545454.\n",
      "[I 2024-03-14 10:12:08,364] Trial 197 finished with value: 0.48760330578512395 and parameters: {'n_estimators': 148, 'max_depth': 23, 'min_samples_split': 0.5828741604637108, 'min_samples_leaf': 0.08966776307402671, 'max_features': 'auto'}. Best is trial 162 with value: 0.5454545454545454.\n",
      "[I 2024-03-14 10:12:08,769] Trial 198 finished with value: 0.5289256198347108 and parameters: {'n_estimators': 173, 'max_depth': 19, 'min_samples_split': 0.6063096493957197, 'min_samples_leaf': 0.032108144086395674, 'max_features': 'auto'}. Best is trial 162 with value: 0.5454545454545454.\n",
      "[I 2024-03-14 10:12:09,178] Trial 199 finished with value: 0.5261707988980716 and parameters: {'n_estimators': 161, 'max_depth': 23, 'min_samples_split': 0.5641101875491442, 'min_samples_leaf': 0.05123866604357318, 'max_features': 'auto'}. Best is trial 162 with value: 0.5454545454545454.\n",
      "[I 2024-03-14 10:12:09,586] Trial 200 finished with value: 0.5344352617079889 and parameters: {'n_estimators': 152, 'max_depth': 19, 'min_samples_split': 0.5433797613027507, 'min_samples_leaf': 0.01061174268764626, 'max_features': 'auto'}. Best is trial 162 with value: 0.5454545454545454.\n",
      "[I 2024-03-14 10:12:09,962] Trial 201 finished with value: 0.5316804407713499 and parameters: {'n_estimators': 164, 'max_depth': 16, 'min_samples_split': 0.5973707795096281, 'min_samples_leaf': 0.011539540539259393, 'max_features': 'auto'}. Best is trial 162 with value: 0.5454545454545454.\n",
      "[I 2024-03-14 10:12:10,285] Trial 202 finished with value: 0.4573002754820937 and parameters: {'n_estimators': 168, 'max_depth': 14, 'min_samples_split': 0.5760124356728429, 'min_samples_leaf': 0.2847863814956998, 'max_features': 'auto'}. Best is trial 162 with value: 0.5454545454545454.\n",
      "[I 2024-03-14 10:12:10,639] Trial 203 finished with value: 0.512396694214876 and parameters: {'n_estimators': 162, 'max_depth': 17, 'min_samples_split': 0.6210331209741724, 'min_samples_leaf': 0.02642078747966615, 'max_features': 'auto'}. Best is trial 162 with value: 0.5454545454545454.\n",
      "[I 2024-03-14 10:12:11,020] Trial 204 finished with value: 0.5261707988980716 and parameters: {'n_estimators': 157, 'max_depth': 18, 'min_samples_split': 0.5935347355366022, 'min_samples_leaf': 0.04400928238402801, 'max_features': 'auto'}. Best is trial 162 with value: 0.5454545454545454.\n",
      "[I 2024-03-14 10:12:11,270] Trial 205 finished with value: 0.48760330578512395 and parameters: {'n_estimators': 159, 'max_depth': 17, 'min_samples_split': 0.6399404795513959, 'min_samples_leaf': 0.011594273932501398, 'max_features': 'auto'}. Best is trial 162 with value: 0.5454545454545454.\n",
      "[I 2024-03-14 10:12:11,619] Trial 206 finished with value: 0.5289256198347108 and parameters: {'n_estimators': 165, 'max_depth': 20, 'min_samples_split': 0.5585271654477001, 'min_samples_leaf': 0.07479629591077919, 'max_features': 'auto'}. Best is trial 162 with value: 0.5454545454545454.\n",
      "[I 2024-03-14 10:12:11,839] Trial 207 finished with value: 0.33884297520661155 and parameters: {'n_estimators': 154, 'max_depth': 18, 'min_samples_split': 0.6144301128510287, 'min_samples_leaf': 0.8617092461604219, 'max_features': 'auto'}. Best is trial 162 with value: 0.5454545454545454.\n",
      "[I 2024-03-14 10:12:12,214] Trial 208 finished with value: 0.5179063360881543 and parameters: {'n_estimators': 150, 'max_depth': 21, 'min_samples_split': 0.5135071691538358, 'min_samples_leaf': 0.028453486669301507, 'max_features': 'auto'}. Best is trial 162 with value: 0.5454545454545454.\n",
      "[I 2024-03-14 10:12:12,579] Trial 209 finished with value: 0.5289256198347108 and parameters: {'n_estimators': 170, 'max_depth': 24, 'min_samples_split': 0.5853589035186699, 'min_samples_leaf': 0.05969962167107193, 'max_features': 'auto'}. Best is trial 162 with value: 0.5454545454545454.\n",
      "[I 2024-03-14 10:12:12,805] Trial 210 finished with value: 0.33884297520661155 and parameters: {'n_estimators': 162, 'max_depth': 22, 'min_samples_split': 0.6677541830031093, 'min_samples_leaf': 0.046657299784683866, 'max_features': 'auto'}. Best is trial 162 with value: 0.5454545454545454.\n",
      "[I 2024-03-14 10:12:13,201] Trial 211 finished with value: 0.5344352617079889 and parameters: {'n_estimators': 154, 'max_depth': 19, 'min_samples_split': 0.5239932808257751, 'min_samples_leaf': 0.012577652654978837, 'max_features': 'auto'}. Best is trial 162 with value: 0.5454545454545454.\n",
      "[I 2024-03-14 10:12:13,589] Trial 212 finished with value: 0.5289256198347108 and parameters: {'n_estimators': 156, 'max_depth': 17, 'min_samples_split': 0.5428615110068487, 'min_samples_leaf': 0.010557250960200272, 'max_features': 'auto'}. Best is trial 162 with value: 0.5454545454545454.\n",
      "[I 2024-03-14 10:12:13,974] Trial 213 finished with value: 0.5261707988980716 and parameters: {'n_estimators': 147, 'max_depth': 32, 'min_samples_split': 0.4894077935897725, 'min_samples_leaf': 0.028773523680765998, 'max_features': 'auto'}. Best is trial 162 with value: 0.5454545454545454.\n",
      "[I 2024-03-14 10:12:14,187] Trial 214 finished with value: 0.33884297520661155 and parameters: {'n_estimators': 153, 'max_depth': 19, 'min_samples_split': 0.9187847996343661, 'min_samples_leaf': 0.0433919307291557, 'max_features': 'auto'}. Best is trial 162 with value: 0.5454545454545454.\n",
      "[I 2024-03-14 10:12:14,576] Trial 215 finished with value: 0.5371900826446281 and parameters: {'n_estimators': 160, 'max_depth': 48, 'min_samples_split': 0.5682886571826063, 'min_samples_leaf': 0.01098160046011162, 'max_features': 'auto'}. Best is trial 162 with value: 0.5454545454545454.\n",
      "[I 2024-03-14 10:12:14,892] Trial 216 finished with value: 0.4793388429752066 and parameters: {'n_estimators': 159, 'max_depth': 46, 'min_samples_split': 0.5746069843822836, 'min_samples_leaf': 0.18039038264446203, 'max_features': 'auto'}. Best is trial 162 with value: 0.5454545454545454.\n",
      "[I 2024-03-14 10:12:15,254] Trial 217 finished with value: 0.5261707988980716 and parameters: {'n_estimators': 166, 'max_depth': 45, 'min_samples_split': 0.5983703739669864, 'min_samples_leaf': 0.06370301395677057, 'max_features': 'auto'}. Best is trial 162 with value: 0.5454545454545454.\n",
      "[I 2024-03-14 10:12:15,639] Trial 218 finished with value: 0.5371900826446281 and parameters: {'n_estimators': 163, 'max_depth': 38, 'min_samples_split': 0.5622885658772466, 'min_samples_leaf': 0.030838287023401505, 'max_features': 'auto'}. Best is trial 162 with value: 0.5454545454545454.\n",
      "[I 2024-03-14 10:12:16,012] Trial 219 finished with value: 0.5316804407713499 and parameters: {'n_estimators': 158, 'max_depth': 49, 'min_samples_split': 0.5581928272039985, 'min_samples_leaf': 0.03433167776866265, 'max_features': 'auto'}. Best is trial 162 with value: 0.5454545454545454.\n",
      "[I 2024-03-14 10:12:16,383] Trial 220 finished with value: 0.5399449035812672 and parameters: {'n_estimators': 175, 'max_depth': 38, 'min_samples_split': 0.5645922400025172, 'min_samples_leaf': 0.07742571086764771, 'max_features': 'auto'}. Best is trial 162 with value: 0.5454545454545454.\n",
      "[I 2024-03-14 10:12:16,754] Trial 221 finished with value: 0.5261707988980716 and parameters: {'n_estimators': 179, 'max_depth': 39, 'min_samples_split': 0.5657003143944703, 'min_samples_leaf': 0.07806016627712681, 'max_features': 'auto'}. Best is trial 162 with value: 0.5454545454545454.\n",
      "[I 2024-03-14 10:12:16,998] Trial 222 finished with value: 0.33884297520661155 and parameters: {'n_estimators': 174, 'max_depth': 36, 'min_samples_split': 0.5385104182851032, 'min_samples_leaf': 0.3285328268718467, 'max_features': 'auto'}. Best is trial 162 with value: 0.5454545454545454.\n",
      "[I 2024-03-14 10:12:17,362] Trial 223 finished with value: 0.5344352617079889 and parameters: {'n_estimators': 167, 'max_depth': 35, 'min_samples_split': 0.5755330103491709, 'min_samples_leaf': 0.04798294994701262, 'max_features': 'auto'}. Best is trial 162 with value: 0.5454545454545454.\n",
      "[I 2024-03-14 10:12:18,003] Trial 224 finished with value: 0.5730027548209367 and parameters: {'n_estimators': 164, 'max_depth': 42, 'min_samples_split': 0.15138733964634338, 'min_samples_leaf': 0.027121443020812132, 'max_features': 'auto'}. Best is trial 224 with value: 0.5730027548209367.\n",
      "[I 2024-03-14 10:12:18,560] Trial 225 finished with value: 0.5454545454545454 and parameters: {'n_estimators': 171, 'max_depth': 40, 'min_samples_split': 0.1984083701357628, 'min_samples_leaf': 0.06073025184577924, 'max_features': 'auto'}. Best is trial 224 with value: 0.5730027548209367.\n",
      "[I 2024-03-14 10:12:19,125] Trial 226 finished with value: 0.5454545454545454 and parameters: {'n_estimators': 171, 'max_depth': 42, 'min_samples_split': 0.15625988324452697, 'min_samples_leaf': 0.06590239365246967, 'max_features': 'auto'}. Best is trial 224 with value: 0.5730027548209367.\n",
      "[I 2024-03-14 10:12:19,660] Trial 227 finished with value: 0.5371900826446281 and parameters: {'n_estimators': 183, 'max_depth': 41, 'min_samples_split': 0.14347669630964927, 'min_samples_leaf': 0.09743391909427374, 'max_features': 'auto'}. Best is trial 224 with value: 0.5730027548209367.\n",
      "[I 2024-03-14 10:12:20,175] Trial 228 finished with value: 0.5371900826446281 and parameters: {'n_estimators': 179, 'max_depth': 40, 'min_samples_split': 0.14646384322201533, 'min_samples_leaf': 0.1019845874455271, 'max_features': 'auto'}. Best is trial 224 with value: 0.5730027548209367.\n",
      "[I 2024-03-14 10:12:20,690] Trial 229 finished with value: 0.5289256198347108 and parameters: {'n_estimators': 181, 'max_depth': 42, 'min_samples_split': 0.16362943777231917, 'min_samples_leaf': 0.1013555614171277, 'max_features': 'auto'}. Best is trial 224 with value: 0.5730027548209367.\n",
      "[I 2024-03-14 10:12:21,176] Trial 230 finished with value: 0.5068870523415978 and parameters: {'n_estimators': 186, 'max_depth': 40, 'min_samples_split': 0.12236710054670433, 'min_samples_leaf': 0.12720175219064955, 'max_features': 'auto'}. Best is trial 224 with value: 0.5730027548209367.\n",
      "[I 2024-03-14 10:12:21,777] Trial 231 finished with value: 0.5344352617079889 and parameters: {'n_estimators': 177, 'max_depth': 43, 'min_samples_split': 0.15834378405406213, 'min_samples_leaf': 0.09229262487213619, 'max_features': 'auto'}. Best is trial 224 with value: 0.5730027548209367.\n",
      "[I 2024-03-14 10:12:22,137] Trial 232 finished with value: 0.465564738292011 and parameters: {'n_estimators': 184, 'max_depth': 41, 'min_samples_split': 0.14201794392143646, 'min_samples_leaf': 0.2369709169916879, 'max_features': 'auto'}. Best is trial 224 with value: 0.5730027548209367.\n",
      "[I 2024-03-14 10:12:22,702] Trial 233 finished with value: 0.5482093663911846 and parameters: {'n_estimators': 173, 'max_depth': 39, 'min_samples_split': 0.214522529151222, 'min_samples_leaf': 0.078785868600251, 'max_features': 'auto'}. Best is trial 224 with value: 0.5730027548209367.\n",
      "[I 2024-03-14 10:12:23,240] Trial 234 finished with value: 0.5316804407713499 and parameters: {'n_estimators': 174, 'max_depth': 40, 'min_samples_split': 0.19168161899328692, 'min_samples_leaf': 0.11345868387227907, 'max_features': 'auto'}. Best is trial 224 with value: 0.5730027548209367.\n",
      "[I 2024-03-14 10:12:23,764] Trial 235 finished with value: 0.5041322314049587 and parameters: {'n_estimators': 177, 'max_depth': 43, 'min_samples_split': 0.18747872032924662, 'min_samples_leaf': 0.14148994485599414, 'max_features': 'auto'}. Best is trial 224 with value: 0.5730027548209367.\n",
      "[I 2024-03-14 10:12:24,293] Trial 236 finished with value: 0.5454545454545454 and parameters: {'n_estimators': 172, 'max_depth': 38, 'min_samples_split': 0.23395707168744706, 'min_samples_leaf': 0.08619872385010167, 'max_features': 'auto'}. Best is trial 224 with value: 0.5730027548209367.\n",
      "[I 2024-03-14 10:12:24,832] Trial 237 finished with value: 0.5454545454545454 and parameters: {'n_estimators': 172, 'max_depth': 39, 'min_samples_split': 0.21111491285474226, 'min_samples_leaf': 0.087034728929436, 'max_features': 'auto'}. Best is trial 224 with value: 0.5730027548209367.\n",
      "[I 2024-03-14 10:12:25,406] Trial 238 finished with value: 0.5399449035812672 and parameters: {'n_estimators': 170, 'max_depth': 39, 'min_samples_split': 0.21619830926419242, 'min_samples_leaf': 0.08607049293638322, 'max_features': 'auto'}. Best is trial 224 with value: 0.5730027548209367.\n",
      "[I 2024-03-14 10:12:25,941] Trial 239 finished with value: 0.5564738292011019 and parameters: {'n_estimators': 172, 'max_depth': 39, 'min_samples_split': 0.23983630610952594, 'min_samples_leaf': 0.0777650027232909, 'max_features': 'auto'}. Best is trial 224 with value: 0.5730027548209367.\n",
      "[I 2024-03-14 10:12:26,460] Trial 240 finished with value: 0.5564738292011019 and parameters: {'n_estimators': 171, 'max_depth': 38, 'min_samples_split': 0.23333674109690847, 'min_samples_leaf': 0.08036756121153056, 'max_features': 'auto'}. Best is trial 224 with value: 0.5730027548209367.\n",
      "[I 2024-03-14 10:12:27,006] Trial 241 finished with value: 0.5426997245179064 and parameters: {'n_estimators': 171, 'max_depth': 38, 'min_samples_split': 0.19328344667315495, 'min_samples_leaf': 0.0746889446409763, 'max_features': 'auto'}. Best is trial 224 with value: 0.5730027548209367.\n",
      "[I 2024-03-14 10:12:27,536] Trial 242 finished with value: 0.5509641873278237 and parameters: {'n_estimators': 171, 'max_depth': 38, 'min_samples_split': 0.22753386490638758, 'min_samples_leaf': 0.08042497900708205, 'max_features': 'auto'}. Best is trial 224 with value: 0.5730027548209367.\n",
      "[I 2024-03-14 10:12:28,060] Trial 243 finished with value: 0.5509641873278237 and parameters: {'n_estimators': 171, 'max_depth': 38, 'min_samples_split': 0.2133759985892233, 'min_samples_leaf': 0.08022077982888232, 'max_features': 'auto'}. Best is trial 224 with value: 0.5730027548209367.\n",
      "[I 2024-03-14 10:12:28,526] Trial 244 finished with value: 0.5344352617079889 and parameters: {'n_estimators': 172, 'max_depth': 38, 'min_samples_split': 0.21390252899845533, 'min_samples_leaf': 0.11761917098407179, 'max_features': 'auto'}. Best is trial 224 with value: 0.5730027548209367.\n",
      "[I 2024-03-14 10:12:29,030] Trial 245 finished with value: 0.5482093663911846 and parameters: {'n_estimators': 171, 'max_depth': 38, 'min_samples_split': 0.22808136484803632, 'min_samples_leaf': 0.08251491372808686, 'max_features': 'auto'}. Best is trial 224 with value: 0.5730027548209367.\n",
      "[I 2024-03-14 10:12:29,547] Trial 246 finished with value: 0.5482093663911846 and parameters: {'n_estimators': 175, 'max_depth': 38, 'min_samples_split': 0.23491107324529753, 'min_samples_leaf': 0.08221180609429354, 'max_features': 'auto'}. Best is trial 224 with value: 0.5730027548209367.\n",
      "[I 2024-03-14 10:12:30,084] Trial 247 finished with value: 0.5482093663911846 and parameters: {'n_estimators': 172, 'max_depth': 38, 'min_samples_split': 0.23872212955611846, 'min_samples_leaf': 0.08398841037463116, 'max_features': 'auto'}. Best is trial 224 with value: 0.5730027548209367.\n",
      "[I 2024-03-14 10:12:30,587] Trial 248 finished with value: 0.5426997245179064 and parameters: {'n_estimators': 175, 'max_depth': 38, 'min_samples_split': 0.2337752262190245, 'min_samples_leaf': 0.09026434146067043, 'max_features': 'auto'}. Best is trial 224 with value: 0.5730027548209367.\n",
      "[I 2024-03-14 10:12:31,101] Trial 249 finished with value: 0.5509641873278237 and parameters: {'n_estimators': 175, 'max_depth': 38, 'min_samples_split': 0.23115840287185827, 'min_samples_leaf': 0.08643454697919704, 'max_features': 'auto'}. Best is trial 224 with value: 0.5730027548209367.\n",
      "[I 2024-03-14 10:12:31,607] Trial 250 finished with value: 0.5482093663911846 and parameters: {'n_estimators': 175, 'max_depth': 37, 'min_samples_split': 0.23425790584506986, 'min_samples_leaf': 0.08866333192141758, 'max_features': 'auto'}. Best is trial 224 with value: 0.5730027548209367.\n",
      "[I 2024-03-14 10:12:32,122] Trial 251 finished with value: 0.5399449035812672 and parameters: {'n_estimators': 176, 'max_depth': 38, 'min_samples_split': 0.22504923040475697, 'min_samples_leaf': 0.08925796899029542, 'max_features': 'auto'}. Best is trial 224 with value: 0.5730027548209367.\n",
      "[I 2024-03-14 10:12:32,601] Trial 252 finished with value: 0.5289256198347108 and parameters: {'n_estimators': 176, 'max_depth': 38, 'min_samples_split': 0.22584393477553086, 'min_samples_leaf': 0.11615159147878887, 'max_features': 'auto'}. Best is trial 224 with value: 0.5730027548209367.\n",
      "[I 2024-03-14 10:12:33,093] Trial 253 finished with value: 0.5482093663911846 and parameters: {'n_estimators': 172, 'max_depth': 37, 'min_samples_split': 0.25038150806734216, 'min_samples_leaf': 0.09067182225824952, 'max_features': 'auto'}. Best is trial 224 with value: 0.5730027548209367.\n",
      "[I 2024-03-14 10:12:33,578] Trial 254 finished with value: 0.5399449035812672 and parameters: {'n_estimators': 172, 'max_depth': 39, 'min_samples_split': 0.2456255686592187, 'min_samples_leaf': 0.09928137097878673, 'max_features': 'auto'}. Best is trial 224 with value: 0.5730027548209367.\n",
      "[I 2024-03-14 10:12:34,023] Trial 255 finished with value: 0.4986225895316804 and parameters: {'n_estimators': 172, 'max_depth': 37, 'min_samples_split': 0.2598005488751085, 'min_samples_leaf': 0.1383072907304952, 'max_features': 'auto'}. Best is trial 224 with value: 0.5730027548209367.\n",
      "[I 2024-03-14 10:12:34,534] Trial 256 finished with value: 0.5454545454545454 and parameters: {'n_estimators': 180, 'max_depth': 37, 'min_samples_split': 0.25035459633310025, 'min_samples_leaf': 0.08925307726636843, 'max_features': 'auto'}. Best is trial 224 with value: 0.5730027548209367.\n",
      "[I 2024-03-14 10:12:35,003] Trial 257 finished with value: 0.509641873278237 and parameters: {'n_estimators': 179, 'max_depth': 37, 'min_samples_split': 0.2535757968795122, 'min_samples_leaf': 0.12179269379993077, 'max_features': 'auto'}. Best is trial 224 with value: 0.5730027548209367.\n",
      "[I 2024-03-14 10:12:35,527] Trial 258 finished with value: 0.5482093663911846 and parameters: {'n_estimators': 181, 'max_depth': 36, 'min_samples_split': 0.23971847653613285, 'min_samples_leaf': 0.08429439337829764, 'max_features': 'auto'}. Best is trial 224 with value: 0.5730027548209367.\n",
      "[I 2024-03-14 10:12:36,029] Trial 259 finished with value: 0.5371900826446281 and parameters: {'n_estimators': 181, 'max_depth': 37, 'min_samples_split': 0.24000261424217165, 'min_samples_leaf': 0.10157114596806005, 'max_features': 'auto'}. Best is trial 224 with value: 0.5730027548209367.\n",
      "[I 2024-03-14 10:12:36,517] Trial 260 finished with value: 0.5509641873278237 and parameters: {'n_estimators': 171, 'max_depth': 36, 'min_samples_split': 0.27062383345983493, 'min_samples_leaf': 0.08220560472627378, 'max_features': 'auto'}. Best is trial 224 with value: 0.5730027548209367.\n",
      "[I 2024-03-14 10:12:36,954] Trial 261 finished with value: 0.5013774104683195 and parameters: {'n_estimators': 171, 'max_depth': 36, 'min_samples_split': 0.2768571807484467, 'min_samples_leaf': 0.1287439333987551, 'max_features': 'auto'}. Best is trial 224 with value: 0.5730027548209367.\n",
      "[I 2024-03-14 10:12:37,397] Trial 262 finished with value: 0.5013774104683195 and parameters: {'n_estimators': 176, 'max_depth': 39, 'min_samples_split': 0.2061606828647927, 'min_samples_leaf': 0.16229468858260368, 'max_features': 'auto'}. Best is trial 224 with value: 0.5730027548209367.\n",
      "[I 2024-03-14 10:12:37,989] Trial 263 finished with value: 0.5454545454545454 and parameters: {'n_estimators': 182, 'max_depth': 37, 'min_samples_split': 0.23530587664920305, 'min_samples_leaf': 0.08395367007161765, 'max_features': 'auto'}. Best is trial 224 with value: 0.5730027548209367.\n",
      "[I 2024-03-14 10:12:38,516] Trial 264 finished with value: 0.5289256198347108 and parameters: {'n_estimators': 187, 'max_depth': 36, 'min_samples_split': 0.23252670383012405, 'min_samples_leaf': 0.10821616964330386, 'max_features': 'auto'}. Best is trial 224 with value: 0.5730027548209367.\n",
      "[I 2024-03-14 10:12:39,122] Trial 265 finished with value: 0.5399449035812672 and parameters: {'n_estimators': 183, 'max_depth': 37, 'min_samples_split': 0.20260291061298885, 'min_samples_leaf': 0.08399488776708372, 'max_features': 'auto'}. Best is trial 224 with value: 0.5730027548209367.\n",
      "[I 2024-03-14 10:12:39,717] Trial 266 finished with value: 0.5482093663911846 and parameters: {'n_estimators': 178, 'max_depth': 40, 'min_samples_split': 0.26813275736023523, 'min_samples_leaf': 0.08327154097909559, 'max_features': 'auto'}. Best is trial 224 with value: 0.5730027548209367.\n",
      "[I 2024-03-14 10:12:40,273] Trial 267 finished with value: 0.5482093663911846 and parameters: {'n_estimators': 179, 'max_depth': 40, 'min_samples_split': 0.26608729210333854, 'min_samples_leaf': 0.08567006068609127, 'max_features': 'auto'}. Best is trial 224 with value: 0.5730027548209367.\n",
      "[I 2024-03-14 10:12:40,849] Trial 268 finished with value: 0.5371900826446281 and parameters: {'n_estimators': 192, 'max_depth': 40, 'min_samples_split': 0.2797773232241747, 'min_samples_leaf': 0.07681689198759407, 'max_features': 'auto'}. Best is trial 224 with value: 0.5730027548209367.\n",
      "[I 2024-03-14 10:12:41,385] Trial 269 finished with value: 0.512396694214876 and parameters: {'n_estimators': 180, 'max_depth': 39, 'min_samples_split': 0.26195370238818483, 'min_samples_leaf': 0.11141033646684068, 'max_features': 'auto'}. Best is trial 224 with value: 0.5730027548209367.\n",
      "[I 2024-03-14 10:12:41,887] Trial 270 finished with value: 0.4986225895316804 and parameters: {'n_estimators': 197, 'max_depth': 42, 'min_samples_split': 0.204569931754347, 'min_samples_leaf': 0.1422141024902401, 'max_features': 'auto'}. Best is trial 224 with value: 0.5730027548209367.\n",
      "[I 2024-03-14 10:12:42,429] Trial 271 finished with value: 0.5454545454545454 and parameters: {'n_estimators': 179, 'max_depth': 35, 'min_samples_split': 0.23314929018115618, 'min_samples_leaf': 0.08068723249455094, 'max_features': 'auto'}. Best is trial 224 with value: 0.5730027548209367.\n",
      "[I 2024-03-14 10:12:42,976] Trial 272 finished with value: 0.5371900826446281 and parameters: {'n_estimators': 184, 'max_depth': 35, 'min_samples_split': 0.23625794405681486, 'min_samples_leaf': 0.10082340750755539, 'max_features': 'auto'}. Best is trial 224 with value: 0.5730027548209367.\n",
      "[I 2024-03-14 10:12:43,444] Trial 273 finished with value: 0.5068870523415978 and parameters: {'n_estimators': 179, 'max_depth': 37, 'min_samples_split': 0.2698471525225307, 'min_samples_leaf': 0.12682125788143817, 'max_features': 'auto'}. Best is trial 224 with value: 0.5730027548209367.\n",
      "[I 2024-03-14 10:12:43,948] Trial 274 finished with value: 0.5482093663911846 and parameters: {'n_estimators': 177, 'max_depth': 40, 'min_samples_split': 0.25240422976204224, 'min_samples_leaf': 0.08435063102633227, 'max_features': 'auto'}. Best is trial 224 with value: 0.5730027548209367.\n",
      "[I 2024-03-14 10:12:44,450] Trial 275 finished with value: 0.5454545454545454 and parameters: {'n_estimators': 178, 'max_depth': 41, 'min_samples_split': 0.2491796878671357, 'min_samples_leaf': 0.09052905448706944, 'max_features': 'auto'}. Best is trial 224 with value: 0.5730027548209367.\n",
      "[I 2024-03-14 10:12:44,939] Trial 276 finished with value: 0.5013774104683195 and parameters: {'n_estimators': 189, 'max_depth': 36, 'min_samples_split': 0.2960960383455334, 'min_samples_leaf': 0.1176502703200207, 'max_features': 'auto'}. Best is trial 224 with value: 0.5730027548209367.\n",
      "[I 2024-03-14 10:12:45,485] Trial 277 finished with value: 0.5482093663911846 and parameters: {'n_estimators': 182, 'max_depth': 40, 'min_samples_split': 0.22369542518858027, 'min_samples_leaf': 0.07954096450360883, 'max_features': 'auto'}. Best is trial 224 with value: 0.5730027548209367.\n",
      "[I 2024-03-14 10:12:45,990] Trial 278 finished with value: 0.5344352617079889 and parameters: {'n_estimators': 183, 'max_depth': 40, 'min_samples_split': 0.21547425480990454, 'min_samples_leaf': 0.10685754373215162, 'max_features': 'auto'}. Best is trial 224 with value: 0.5730027548209367.\n",
      "[I 2024-03-14 10:12:46,408] Trial 279 finished with value: 0.49586776859504134 and parameters: {'n_estimators': 174, 'max_depth': 41, 'min_samples_split': 0.2520611485377884, 'min_samples_leaf': 0.14706758080786816, 'max_features': 'auto'}. Best is trial 224 with value: 0.5730027548209367.\n",
      "[I 2024-03-14 10:12:46,934] Trial 280 finished with value: 0.5482093663911846 and parameters: {'n_estimators': 174, 'max_depth': 39, 'min_samples_split': 0.21976473992670453, 'min_samples_leaf': 0.07448221448336143, 'max_features': 'auto'}. Best is trial 224 with value: 0.5730027548209367.\n",
      "[I 2024-03-14 10:12:47,468] Trial 281 finished with value: 0.5564738292011019 and parameters: {'n_estimators': 170, 'max_depth': 43, 'min_samples_split': 0.216675503446506, 'min_samples_leaf': 0.07159094771858465, 'max_features': 'auto'}. Best is trial 224 with value: 0.5730027548209367.\n",
      "[I 2024-03-14 10:12:48,021] Trial 282 finished with value: 0.5371900826446281 and parameters: {'n_estimators': 171, 'max_depth': 43, 'min_samples_split': 0.17570320279154766, 'min_samples_leaf': 0.06617241697577823, 'max_features': 'auto'}. Best is trial 224 with value: 0.5730027548209367.\n",
      "[I 2024-03-14 10:12:48,611] Trial 283 finished with value: 0.5426997245179064 and parameters: {'n_estimators': 174, 'max_depth': 39, 'min_samples_split': 0.21264237270606626, 'min_samples_leaf': 0.06912637017648635, 'max_features': 'auto'}. Best is trial 224 with value: 0.5730027548209367.\n",
      "[I 2024-03-14 10:12:49,094] Trial 284 finished with value: 0.5289256198347108 and parameters: {'n_estimators': 169, 'max_depth': 42, 'min_samples_split': 0.18623396635046507, 'min_samples_leaf': 0.10431445500845779, 'max_features': 'auto'}. Best is trial 224 with value: 0.5730027548209367.\n",
      "[I 2024-03-14 10:12:49,538] Trial 285 finished with value: 0.5151515151515151 and parameters: {'n_estimators': 169, 'max_depth': 40, 'min_samples_split': 0.27871703142728543, 'min_samples_leaf': 0.12450549050018399, 'max_features': 'auto'}. Best is trial 224 with value: 0.5730027548209367.\n",
      "[I 2024-03-14 10:12:50,078] Trial 286 finished with value: 0.5399449035812672 and parameters: {'n_estimators': 175, 'max_depth': 39, 'min_samples_split': 0.2198758989758837, 'min_samples_leaf': 0.06943096296436618, 'max_features': 'auto'}. Best is trial 224 with value: 0.5730027548209367.\n",
      "[I 2024-03-14 10:12:50,576] Trial 287 finished with value: 0.5399449035812672 and parameters: {'n_estimators': 169, 'max_depth': 44, 'min_samples_split': 0.2033283422662771, 'min_samples_leaf': 0.0943869039887685, 'max_features': 'auto'}. Best is trial 224 with value: 0.5730027548209367.\n",
      "[I 2024-03-14 10:12:50,991] Trial 288 finished with value: 0.49586776859504134 and parameters: {'n_estimators': 173, 'max_depth': 41, 'min_samples_split': 0.26542806609195935, 'min_samples_leaf': 0.15184725292990256, 'max_features': 'auto'}. Best is trial 224 with value: 0.5730027548209367.\n",
      "[I 2024-03-14 10:12:51,512] Trial 289 finished with value: 0.5399449035812672 and parameters: {'n_estimators': 176, 'max_depth': 40, 'min_samples_split': 0.290570753503172, 'min_samples_leaf': 0.07611082681657924, 'max_features': 'auto'}. Best is trial 224 with value: 0.5730027548209367.\n",
      "[I 2024-03-14 10:12:51,902] Trial 290 finished with value: 0.4903581267217631 and parameters: {'n_estimators': 168, 'max_depth': 38, 'min_samples_split': 0.22221379657428808, 'min_samples_leaf': 0.1698460732523679, 'max_features': 'auto'}. Best is trial 224 with value: 0.5730027548209367.\n",
      "[I 2024-03-14 10:12:52,381] Trial 291 finished with value: 0.5426997245179064 and parameters: {'n_estimators': 173, 'max_depth': 39, 'min_samples_split': 0.17968492079092263, 'min_samples_leaf': 0.10840261032620767, 'max_features': 'auto'}. Best is trial 224 with value: 0.5730027548209367.\n",
      "[I 2024-03-14 10:12:52,920] Trial 292 finished with value: 0.5482093663911846 and parameters: {'n_estimators': 177, 'max_depth': 41, 'min_samples_split': 0.2503551541486679, 'min_samples_leaf': 0.06904468579505499, 'max_features': 'auto'}. Best is trial 224 with value: 0.5730027548209367.\n",
      "[I 2024-03-14 10:12:53,475] Trial 293 finished with value: 0.5261707988980716 and parameters: {'n_estimators': 177, 'max_depth': 41, 'min_samples_split': 0.30787606583456173, 'min_samples_leaf': 0.06614220976039774, 'max_features': 'auto'}. Best is trial 224 with value: 0.5730027548209367.\n",
      "[I 2024-03-14 10:12:54,064] Trial 294 finished with value: 0.5013774104683195 and parameters: {'n_estimators': 216, 'max_depth': 42, 'min_samples_split': 0.25177272330767764, 'min_samples_leaf': 0.13158534966827784, 'max_features': 'auto'}. Best is trial 224 with value: 0.5730027548209367.\n",
      "[I 2024-03-14 10:12:54,412] Trial 295 finished with value: 0.4573002754820937 and parameters: {'n_estimators': 179, 'max_depth': 40, 'min_samples_split': 0.2397104859738555, 'min_samples_leaf': 0.2712366040711987, 'max_features': 'auto'}. Best is trial 224 with value: 0.5730027548209367.\n",
      "[I 2024-03-14 10:12:55,008] Trial 296 finished with value: 0.5509641873278237 and parameters: {'n_estimators': 186, 'max_depth': 38, 'min_samples_split': 0.26814947063818795, 'min_samples_leaf': 0.07136717667315937, 'max_features': 'auto'}. Best is trial 224 with value: 0.5730027548209367.\n",
      "[I 2024-03-14 10:12:55,633] Trial 297 finished with value: 0.5454545454545454 and parameters: {'n_estimators': 184, 'max_depth': 44, 'min_samples_split': 0.2641249220532834, 'min_samples_leaf': 0.07593142907772997, 'max_features': 'auto'}. Best is trial 224 with value: 0.5730027548209367.\n",
      "[I 2024-03-14 10:12:55,920] Trial 298 finished with value: 0.33884297520661155 and parameters: {'n_estimators': 186, 'max_depth': 40, 'min_samples_split': 0.26895364028435936, 'min_samples_leaf': 0.4057470961474594, 'max_features': 'auto'}. Best is trial 224 with value: 0.5730027548209367.\n",
      "[I 2024-03-14 10:12:56,199] Trial 299 finished with value: 0.33884297520661155 and parameters: {'n_estimators': 191, 'max_depth': 38, 'min_samples_split': 0.3224834272620256, 'min_samples_leaf': 0.5113490146636209, 'max_features': 'auto'}. Best is trial 224 with value: 0.5730027548209367.\n",
      "[I 2024-03-14 10:12:56,792] Trial 300 finished with value: 0.5426997245179064 and parameters: {'n_estimators': 177, 'max_depth': 42, 'min_samples_split': 0.1954676826056512, 'min_samples_leaf': 0.06209024389046921, 'max_features': 'auto'}. Best is trial 224 with value: 0.5730027548209367.\n",
      "[I 2024-03-14 10:12:57,362] Trial 301 finished with value: 0.5234159779614325 and parameters: {'n_estimators': 188, 'max_depth': 36, 'min_samples_split': 0.24653077070106405, 'min_samples_leaf': 0.10800466992887099, 'max_features': 'auto'}. Best is trial 224 with value: 0.5730027548209367.\n",
      "[I 2024-03-14 10:12:57,606] Trial 302 finished with value: 0.33884297520661155 and parameters: {'n_estimators': 168, 'max_depth': 39, 'min_samples_split': 0.2841493403043789, 'min_samples_leaf': 0.5608139523485256, 'max_features': 'auto'}. Best is trial 224 with value: 0.5730027548209367.\n",
      "[I 2024-03-14 10:12:58,190] Trial 303 finished with value: 0.5454545454545454 and parameters: {'n_estimators': 180, 'max_depth': 38, 'min_samples_split': 0.22394339550112388, 'min_samples_leaf': 0.06401678000488131, 'max_features': 'auto'}. Best is trial 224 with value: 0.5730027548209367.\n",
      "[I 2024-03-14 10:12:58,717] Trial 304 finished with value: 0.5206611570247934 and parameters: {'n_estimators': 182, 'max_depth': 41, 'min_samples_split': 0.2618106914428066, 'min_samples_leaf': 0.10310230832391645, 'max_features': 'auto'}. Best is trial 224 with value: 0.5730027548209367.\n",
      "[I 2024-03-14 10:12:58,973] Trial 305 finished with value: 0.33884297520661155 and parameters: {'n_estimators': 175, 'max_depth': 43, 'min_samples_split': 0.17301856293110723, 'min_samples_leaf': 0.3590621955205251, 'max_features': 'auto'}. Best is trial 224 with value: 0.5730027548209367.\n",
      "[I 2024-03-14 10:12:59,338] Trial 306 finished with value: 0.48760330578512395 and parameters: {'n_estimators': 168, 'max_depth': 40, 'min_samples_split': 0.1999610104720072, 'min_samples_leaf': 0.19540503318082258, 'max_features': 'auto'}. Best is trial 224 with value: 0.5730027548209367.\n",
      "[I 2024-03-14 10:12:59,828] Trial 307 finished with value: 0.5399449035812672 and parameters: {'n_estimators': 177, 'max_depth': 37, 'min_samples_split': 0.2982904513100582, 'min_samples_leaf': 0.0871801007201061, 'max_features': 'auto'}. Best is trial 224 with value: 0.5730027548209367.\n",
      "[I 2024-03-14 10:13:00,366] Trial 308 finished with value: 0.5371900826446281 and parameters: {'n_estimators': 172, 'max_depth': 39, 'min_samples_split': 0.22681338992612918, 'min_samples_leaf': 0.06533549736878763, 'max_features': 'auto'}. Best is trial 224 with value: 0.5730027548209367.\n",
      "[I 2024-03-14 10:13:00,611] Trial 309 finished with value: 0.33884297520661155 and parameters: {'n_estimators': 182, 'max_depth': 41, 'min_samples_split': 0.2407848591131998, 'min_samples_leaf': 0.606366468030276, 'max_features': 'auto'}. Best is trial 224 with value: 0.5730027548209367.\n",
      "[I 2024-03-14 10:13:01,039] Trial 310 finished with value: 0.4986225895316804 and parameters: {'n_estimators': 167, 'max_depth': 38, 'min_samples_split': 0.2735699080296172, 'min_samples_leaf': 0.13676540995111106, 'max_features': 'auto'}. Best is trial 224 with value: 0.5730027548209367.\n",
      "[I 2024-03-14 10:13:01,281] Trial 311 finished with value: 0.33884297520661155 and parameters: {'n_estimators': 174, 'max_depth': 36, 'min_samples_split': 0.18587260890943544, 'min_samples_leaf': 0.4452786459179845, 'max_features': 'auto'}. Best is trial 224 with value: 0.5730027548209367.\n",
      "[I 2024-03-14 10:13:01,690] Trial 312 finished with value: 0.48760330578512395 and parameters: {'n_estimators': 185, 'max_depth': 37, 'min_samples_split': 0.21373948882019414, 'min_samples_leaf': 0.18396306372384336, 'max_features': 'auto'}. Best is trial 224 with value: 0.5730027548209367.\n",
      "[I 2024-03-14 10:13:02,156] Trial 313 finished with value: 0.5234159779614325 and parameters: {'n_estimators': 177, 'max_depth': 40, 'min_samples_split': 0.25724980800518427, 'min_samples_leaf': 0.1208455414783763, 'max_features': 'auto'}. Best is trial 224 with value: 0.5730027548209367.\n",
      "[I 2024-03-14 10:13:02,389] Trial 314 finished with value: 0.33884297520661155 and parameters: {'n_estimators': 171, 'max_depth': 39, 'min_samples_split': 0.31749620560016656, 'min_samples_leaf': 0.743709881227737, 'max_features': 'auto'}. Best is trial 224 with value: 0.5730027548209367.\n",
      "[I 2024-03-14 10:13:02,890] Trial 315 finished with value: 0.5426997245179064 and parameters: {'n_estimators': 180, 'max_depth': 44, 'min_samples_split': 0.2870557417189006, 'min_samples_leaf': 0.09254418941283327, 'max_features': 'auto'}. Best is trial 224 with value: 0.5730027548209367.\n",
      "[I 2024-03-14 10:13:03,200] Trial 316 finished with value: 0.4490358126721763 and parameters: {'n_estimators': 167, 'max_depth': 38, 'min_samples_split': 0.23059435972412623, 'min_samples_leaf': 0.2649429133118618, 'max_features': 'auto'}. Best is trial 224 with value: 0.5730027548209367.\n",
      "[I 2024-03-14 10:13:03,452] Trial 317 finished with value: 0.39118457300275483 and parameters: {'n_estimators': 175, 'max_depth': 41, 'min_samples_split': 0.249414451666661, 'min_samples_leaf': 0.31965422365573665, 'max_features': 'auto'}. Best is trial 224 with value: 0.5730027548209367.\n",
      "[I 2024-03-14 10:13:03,814] Trial 318 finished with value: 0.4628099173553719 and parameters: {'n_estimators': 187, 'max_depth': 42, 'min_samples_split': 0.20022327312860622, 'min_samples_leaf': 0.24086892743182298, 'max_features': 'auto'}. Best is trial 224 with value: 0.5730027548209367.\n",
      "[I 2024-03-14 10:13:04,385] Trial 319 finished with value: 0.5426997245179064 and parameters: {'n_estimators': 171, 'max_depth': 39, 'min_samples_split': 0.16707083297802006, 'min_samples_leaf': 0.058399948938502304, 'max_features': 'auto'}. Best is trial 224 with value: 0.5730027548209367.\n",
      "[I 2024-03-14 10:13:04,963] Trial 320 finished with value: 0.5482093663911846 and parameters: {'n_estimators': 178, 'max_depth': 37, 'min_samples_split': 0.11749495329292864, 'min_samples_leaf': 0.07429005989536833, 'max_features': 'auto'}. Best is trial 224 with value: 0.5730027548209367.\n",
      "[I 2024-03-14 10:13:05,520] Trial 321 finished with value: 0.5564738292011019 and parameters: {'n_estimators': 181, 'max_depth': 35, 'min_samples_split': 0.11512143803639031, 'min_samples_leaf': 0.08079731190762662, 'max_features': 'auto'}. Best is trial 224 with value: 0.5730027548209367.\n",
      "[I 2024-03-14 10:13:05,949] Trial 322 finished with value: 0.4765840220385675 and parameters: {'n_estimators': 195, 'max_depth': 34, 'min_samples_split': 0.10414999615392041, 'min_samples_leaf': 0.2011596673688901, 'max_features': 'auto'}. Best is trial 224 with value: 0.5730027548209367.\n",
      "[I 2024-03-14 10:13:06,479] Trial 323 finished with value: 0.5316804407713499 and parameters: {'n_estimators': 183, 'max_depth': 36, 'min_samples_split': 0.08361635126392301, 'min_samples_leaf': 0.10161637305549193, 'max_features': 'auto'}. Best is trial 224 with value: 0.5730027548209367.\n",
      "[I 2024-03-14 10:13:06,723] Trial 324 finished with value: 0.33884297520661155 and parameters: {'n_estimators': 179, 'max_depth': 37, 'min_samples_split': 0.1090280098029825, 'min_samples_leaf': 0.9979805543068087, 'max_features': 'auto'}. Best is trial 224 with value: 0.5730027548209367.\n",
      "[I 2024-03-14 10:13:07,217] Trial 325 finished with value: 0.5261707988980716 and parameters: {'n_estimators': 188, 'max_depth': 35, 'min_samples_split': 0.36330875295986287, 'min_samples_leaf': 0.08419145860151427, 'max_features': 'auto'}. Best is trial 224 with value: 0.5730027548209367.\n",
      "[I 2024-03-14 10:13:07,636] Trial 326 finished with value: 0.5013774104683195 and parameters: {'n_estimators': 182, 'max_depth': 37, 'min_samples_split': 0.26229440620953737, 'min_samples_leaf': 0.16241096098296187, 'max_features': 'auto'}. Best is trial 224 with value: 0.5730027548209367.\n",
      "[I 2024-03-14 10:13:08,004] Trial 327 finished with value: 0.45179063360881544 and parameters: {'n_estimators': 202, 'max_depth': 38, 'min_samples_split': 0.1331513198384004, 'min_samples_leaf': 0.30509210678027, 'max_features': 'auto'}. Best is trial 224 with value: 0.5730027548209367.\n",
      "[I 2024-03-14 10:13:08,472] Trial 328 finished with value: 0.509641873278237 and parameters: {'n_estimators': 177, 'max_depth': 36, 'min_samples_split': 0.28492822096817744, 'min_samples_leaf': 0.11673812120772314, 'max_features': 'auto'}. Best is trial 224 with value: 0.5730027548209367.\n",
      "[I 2024-03-14 10:13:09,007] Trial 329 finished with value: 0.5426997245179064 and parameters: {'n_estimators': 179, 'max_depth': 37, 'min_samples_split': 0.2243852138625216, 'min_samples_leaf': 0.08107786114664306, 'max_features': 'auto'}. Best is trial 224 with value: 0.5730027548209367.\n",
      "[I 2024-03-14 10:13:09,572] Trial 330 finished with value: 0.5399449035812672 and parameters: {'n_estimators': 185, 'max_depth': 38, 'min_samples_split': 0.24570217479918338, 'min_samples_leaf': 0.09951443781466016, 'max_features': 'auto'}. Best is trial 224 with value: 0.5730027548209367.\n",
      "[I 2024-03-14 10:13:09,835] Trial 331 finished with value: 0.33884297520661155 and parameters: {'n_estimators': 174, 'max_depth': 35, 'min_samples_split': 0.060275301410724826, 'min_samples_leaf': 0.9487394214446151, 'max_features': 'auto'}. Best is trial 224 with value: 0.5730027548209367.\n",
      "[I 2024-03-14 10:13:10,312] Trial 332 finished with value: 0.509641873278237 and parameters: {'n_estimators': 176, 'max_depth': 39, 'min_samples_split': 0.16926426982533785, 'min_samples_leaf': 0.1275166379968524, 'max_features': 'auto'}. Best is trial 224 with value: 0.5730027548209367.\n",
      "[I 2024-03-14 10:13:10,588] Trial 333 finished with value: 0.33884297520661155 and parameters: {'n_estimators': 192, 'max_depth': 36, 'min_samples_split': 0.21789352103023513, 'min_samples_leaf': 0.3733734517866336, 'max_features': 'auto'}. Best is trial 224 with value: 0.5730027548209367.\n",
      "[I 2024-03-14 10:13:11,171] Trial 334 finished with value: 0.5537190082644629 and parameters: {'n_estimators': 181, 'max_depth': 38, 'min_samples_split': 0.2660801266891991, 'min_samples_leaf': 0.07422080098859904, 'max_features': 'auto'}. Best is trial 224 with value: 0.5730027548209367.\n",
      "[I 2024-03-14 10:13:11,788] Trial 335 finished with value: 0.5482093663911846 and parameters: {'n_estimators': 182, 'max_depth': 38, 'min_samples_split': 0.2747849763145648, 'min_samples_leaf': 0.08127867075943342, 'max_features': 'auto'}. Best is trial 224 with value: 0.5730027548209367.\n",
      "[I 2024-03-14 10:13:12,180] Trial 336 finished with value: 0.4738292011019284 and parameters: {'n_estimators': 186, 'max_depth': 39, 'min_samples_split': 0.2434494795295741, 'min_samples_leaf': 0.2173693890868631, 'max_features': 'auto'}. Best is trial 224 with value: 0.5730027548209367.\n",
      "[I 2024-03-14 10:13:12,628] Trial 337 finished with value: 0.4986225895316804 and parameters: {'n_estimators': 178, 'max_depth': 37, 'min_samples_split': 0.3014073124776465, 'min_samples_leaf': 0.14820094735236336, 'max_features': 'auto'}. Best is trial 224 with value: 0.5730027548209367.\n",
      "[I 2024-03-14 10:13:13,124] Trial 338 finished with value: 0.5206611570247934 and parameters: {'n_estimators': 168, 'max_depth': 40, 'min_samples_split': 0.26883632695654697, 'min_samples_leaf': 0.10964024899706024, 'max_features': 'auto'}. Best is trial 224 with value: 0.5730027548209367.\n",
      "[I 2024-03-14 10:13:13,723] Trial 339 finished with value: 0.5454545454545454 and parameters: {'n_estimators': 181, 'max_depth': 38, 'min_samples_split': 0.23257120737512513, 'min_samples_leaf': 0.06731262486683467, 'max_features': 'auto'}. Best is trial 224 with value: 0.5730027548209367.\n",
      "[I 2024-03-14 10:13:14,227] Trial 340 finished with value: 0.5426997245179064 and parameters: {'n_estimators': 174, 'max_depth': 34, 'min_samples_split': 0.25286077799593487, 'min_samples_leaf': 0.09507645886878899, 'max_features': 'auto'}. Best is trial 224 with value: 0.5730027548209367.\n",
      "[I 2024-03-14 10:13:14,825] Trial 341 finished with value: 0.5399449035812672 and parameters: {'n_estimators': 188, 'max_depth': 39, 'min_samples_split': 0.21521903498694273, 'min_samples_leaf': 0.07954535747082156, 'max_features': 'auto'}. Best is trial 224 with value: 0.5730027548209367.\n",
      "[I 2024-03-14 10:13:15,293] Trial 342 finished with value: 0.5234159779614325 and parameters: {'n_estimators': 175, 'max_depth': 37, 'min_samples_split': 0.1917303437414532, 'min_samples_leaf': 0.1261138268259035, 'max_features': 'auto'}. Best is trial 224 with value: 0.5730027548209367.\n",
      "[I 2024-03-14 10:13:15,877] Trial 343 finished with value: 0.5564738292011019 and parameters: {'n_estimators': 167, 'max_depth': 36, 'min_samples_split': 0.1483354846272224, 'min_samples_leaf': 0.05924950524117536, 'max_features': 'auto'}. Best is trial 224 with value: 0.5730027548209367.\n",
      "[I 2024-03-14 10:13:16,580] Trial 344 finished with value: 0.5371900826446281 and parameters: {'n_estimators': 207, 'max_depth': 35, 'min_samples_split': 0.1821369804770652, 'min_samples_leaf': 0.05653109735300714, 'max_features': 'auto'}. Best is trial 224 with value: 0.5730027548209367.\n",
      "[I 2024-03-14 10:13:17,077] Trial 345 finished with value: 0.5371900826446281 and parameters: {'n_estimators': 167, 'max_depth': 40, 'min_samples_split': 0.15089368750787685, 'min_samples_leaf': 0.09640893417528251, 'max_features': 'auto'}. Best is trial 224 with value: 0.5730027548209367.\n",
      "[I 2024-03-14 10:13:17,526] Trial 346 finished with value: 0.45179063360881544 and parameters: {'n_estimators': 251, 'max_depth': 36, 'min_samples_split': 0.28789073856728675, 'min_samples_leaf': 0.2986474861515656, 'max_features': 'auto'}. Best is trial 224 with value: 0.5730027548209367.\n",
      "[I 2024-03-14 10:13:17,761] Trial 347 finished with value: 0.33884297520661155 and parameters: {'n_estimators': 166, 'max_depth': 38, 'min_samples_split': 0.2569312838294849, 'min_samples_leaf': 0.48283948114235403, 'max_features': 'auto'}. Best is trial 224 with value: 0.5730027548209367.\n",
      "[I 2024-03-14 10:13:18,248] Trial 348 finished with value: 0.5344352617079889 and parameters: {'n_estimators': 170, 'max_depth': 39, 'min_samples_split': 0.32636131369157395, 'min_samples_leaf': 0.058664366527709254, 'max_features': 'auto'}. Best is trial 224 with value: 0.5730027548209367.\n",
      "[I 2024-03-14 10:13:18,727] Trial 349 finished with value: 0.5399449035812672 and parameters: {'n_estimators': 172, 'max_depth': 41, 'min_samples_split': 0.23636773992196583, 'min_samples_leaf': 0.1068881793185296, 'max_features': 'auto'}. Best is trial 224 with value: 0.5730027548209367.\n",
      "[I 2024-03-14 10:13:19,229] Trial 350 finished with value: 0.5482093663911846 and parameters: {'n_estimators': 166, 'max_depth': 36, 'min_samples_split': 0.2088063635208471, 'min_samples_leaf': 0.08132717135335488, 'max_features': 'auto'}. Best is trial 224 with value: 0.5730027548209367.\n",
      "[I 2024-03-14 10:13:19,559] Trial 351 finished with value: 0.47107438016528924 and parameters: {'n_estimators': 173, 'max_depth': 40, 'min_samples_split': 0.2738292371703037, 'min_samples_leaf': 0.22175895234838605, 'max_features': 'auto'}. Best is trial 224 with value: 0.5730027548209367.\n",
      "[I 2024-03-14 10:13:19,807] Trial 352 finished with value: 0.33884297520661155 and parameters: {'n_estimators': 183, 'max_depth': 38, 'min_samples_split': 0.3012313736229164, 'min_samples_leaf': 0.3501892482755642, 'max_features': 'auto'}. Best is trial 224 with value: 0.5730027548209367.\n",
      "[I 2024-03-14 10:13:20,428] Trial 353 finished with value: 0.5509641873278237 and parameters: {'n_estimators': 170, 'max_depth': 39, 'min_samples_split': 0.12889391126973682, 'min_samples_leaf': 0.05246884909281732, 'max_features': 'auto'}. Best is trial 224 with value: 0.5730027548209367.\n",
      "[I 2024-03-14 10:13:21,047] Trial 354 finished with value: 0.5564738292011019 and parameters: {'n_estimators': 169, 'max_depth': 39, 'min_samples_split': 0.12520651708903272, 'min_samples_leaf': 0.050702448036011594, 'max_features': 'auto'}. Best is trial 224 with value: 0.5730027548209367.\n",
      "[I 2024-03-14 10:13:21,288] Trial 355 finished with value: 0.33884297520661155 and parameters: {'n_estimators': 169, 'max_depth': 38, 'min_samples_split': 0.13242003132663507, 'min_samples_leaf': 0.6596087157127135, 'max_features': 'auto'}. Best is trial 224 with value: 0.5730027548209367.\n",
      "[I 2024-03-14 10:13:21,926] Trial 356 finished with value: 0.5702479338842975 and parameters: {'n_estimators': 165, 'max_depth': 37, 'min_samples_split': 0.10133338448578709, 'min_samples_leaf': 0.04867913821697539, 'max_features': 'auto'}. Best is trial 224 with value: 0.5730027548209367.\n",
      "[I 2024-03-14 10:13:22,576] Trial 357 finished with value: 0.5674931129476584 and parameters: {'n_estimators': 165, 'max_depth': 37, 'min_samples_split': 0.09768329132864985, 'min_samples_leaf': 0.05057296823547825, 'max_features': 'auto'}. Best is trial 224 with value: 0.5730027548209367.\n",
      "[I 2024-03-14 10:13:23,200] Trial 358 finished with value: 0.5702479338842975 and parameters: {'n_estimators': 164, 'max_depth': 35, 'min_samples_split': 0.12298302686469299, 'min_samples_leaf': 0.04824188907470908, 'max_features': 'auto'}. Best is trial 224 with value: 0.5730027548209367.\n",
      "[I 2024-03-14 10:13:23,828] Trial 359 finished with value: 0.5702479338842975 and parameters: {'n_estimators': 165, 'max_depth': 34, 'min_samples_split': 0.09514736066836516, 'min_samples_leaf': 0.04927962427464149, 'max_features': 'auto'}. Best is trial 224 with value: 0.5730027548209367.\n",
      "[I 2024-03-14 10:13:24,478] Trial 360 finished with value: 0.5647382920110193 and parameters: {'n_estimators': 165, 'max_depth': 34, 'min_samples_split': 0.09107669099132501, 'min_samples_leaf': 0.045410235036191224, 'max_features': 'auto'}. Best is trial 224 with value: 0.5730027548209367.\n",
      "[I 2024-03-14 10:13:25,107] Trial 361 finished with value: 0.5674931129476584 and parameters: {'n_estimators': 164, 'max_depth': 34, 'min_samples_split': 0.08685121291651268, 'min_samples_leaf': 0.04855275514676864, 'max_features': 'auto'}. Best is trial 224 with value: 0.5730027548209367.\n",
      "[I 2024-03-14 10:13:25,789] Trial 362 finished with value: 0.5674931129476584 and parameters: {'n_estimators': 164, 'max_depth': 34, 'min_samples_split': 0.09230514305778995, 'min_samples_leaf': 0.05086690419001849, 'max_features': 'auto'}. Best is trial 224 with value: 0.5730027548209367.\n",
      "[I 2024-03-14 10:13:26,443] Trial 363 finished with value: 0.5674931129476584 and parameters: {'n_estimators': 164, 'max_depth': 33, 'min_samples_split': 0.09130315489680782, 'min_samples_leaf': 0.05124743143366515, 'max_features': 'auto'}. Best is trial 224 with value: 0.5730027548209367.\n",
      "[I 2024-03-14 10:13:27,132] Trial 364 finished with value: 0.5647382920110193 and parameters: {'n_estimators': 165, 'max_depth': 34, 'min_samples_split': 0.09591981353576193, 'min_samples_leaf': 0.04716187490240958, 'max_features': 'auto'}. Best is trial 224 with value: 0.5730027548209367.\n",
      "[I 2024-03-14 10:13:27,848] Trial 365 finished with value: 0.5619834710743802 and parameters: {'n_estimators': 164, 'max_depth': 33, 'min_samples_split': 0.09056074262404518, 'min_samples_leaf': 0.04759309265491369, 'max_features': 'auto'}. Best is trial 224 with value: 0.5730027548209367.\n",
      "[I 2024-03-14 10:13:28,518] Trial 366 finished with value: 0.5674931129476584 and parameters: {'n_estimators': 164, 'max_depth': 33, 'min_samples_split': 0.08764929147844226, 'min_samples_leaf': 0.045448735217113956, 'max_features': 'auto'}. Best is trial 224 with value: 0.5730027548209367.\n",
      "[I 2024-03-14 10:13:29,198] Trial 367 finished with value: 0.5674931129476584 and parameters: {'n_estimators': 165, 'max_depth': 33, 'min_samples_split': 0.08796254408190426, 'min_samples_leaf': 0.048580533414643974, 'max_features': 'auto'}. Best is trial 224 with value: 0.5730027548209367.\n",
      "[I 2024-03-14 10:13:29,842] Trial 368 finished with value: 0.5674931129476584 and parameters: {'n_estimators': 164, 'max_depth': 33, 'min_samples_split': 0.08759028754900754, 'min_samples_leaf': 0.051189006630521304, 'max_features': 'auto'}. Best is trial 224 with value: 0.5730027548209367.\n",
      "[I 2024-03-14 10:13:30,501] Trial 369 finished with value: 0.5674931129476584 and parameters: {'n_estimators': 163, 'max_depth': 33, 'min_samples_split': 0.08491349364719791, 'min_samples_leaf': 0.04215832515479177, 'max_features': 'auto'}. Best is trial 224 with value: 0.5730027548209367.\n",
      "[I 2024-03-14 10:13:31,209] Trial 370 finished with value: 0.5674931129476584 and parameters: {'n_estimators': 164, 'max_depth': 32, 'min_samples_split': 0.08767858809150464, 'min_samples_leaf': 0.03711766056335904, 'max_features': 'auto'}. Best is trial 224 with value: 0.5730027548209367.\n",
      "[I 2024-03-14 10:13:31,860] Trial 371 finished with value: 0.5647382920110193 and parameters: {'n_estimators': 164, 'max_depth': 33, 'min_samples_split': 0.08734470380299351, 'min_samples_leaf': 0.04435003807113511, 'max_features': 'auto'}. Best is trial 224 with value: 0.5730027548209367.\n",
      "[I 2024-03-14 10:13:32,498] Trial 372 finished with value: 0.5619834710743802 and parameters: {'n_estimators': 163, 'max_depth': 33, 'min_samples_split': 0.09204750175636459, 'min_samples_leaf': 0.04535808375445923, 'max_features': 'auto'}. Best is trial 224 with value: 0.5730027548209367.\n",
      "[I 2024-03-14 10:13:33,128] Trial 373 finished with value: 0.5647382920110193 and parameters: {'n_estimators': 163, 'max_depth': 33, 'min_samples_split': 0.08853668126162179, 'min_samples_leaf': 0.04619862898061885, 'max_features': 'auto'}. Best is trial 224 with value: 0.5730027548209367.\n",
      "[I 2024-03-14 10:13:33,795] Trial 374 finished with value: 0.5674931129476584 and parameters: {'n_estimators': 163, 'max_depth': 33, 'min_samples_split': 0.08596838622052162, 'min_samples_leaf': 0.03624071621130415, 'max_features': 'auto'}. Best is trial 224 with value: 0.5730027548209367.\n",
      "[I 2024-03-14 10:13:34,431] Trial 375 finished with value: 0.5619834710743802 and parameters: {'n_estimators': 162, 'max_depth': 33, 'min_samples_split': 0.0822335512008996, 'min_samples_leaf': 0.04368949293134717, 'max_features': 'auto'}. Best is trial 224 with value: 0.5730027548209367.\n",
      "[I 2024-03-14 10:13:35,058] Trial 376 finished with value: 0.5647382920110193 and parameters: {'n_estimators': 163, 'max_depth': 33, 'min_samples_split': 0.08237572679369327, 'min_samples_leaf': 0.04604091484052805, 'max_features': 'auto'}. Best is trial 224 with value: 0.5730027548209367.\n",
      "[I 2024-03-14 10:13:35,709] Trial 377 finished with value: 0.5702479338842975 and parameters: {'n_estimators': 163, 'max_depth': 32, 'min_samples_split': 0.08171382518517159, 'min_samples_leaf': 0.04227148873651962, 'max_features': 'auto'}. Best is trial 224 with value: 0.5730027548209367.\n",
      "[I 2024-03-14 10:13:36,374] Trial 378 finished with value: 0.5619834710743802 and parameters: {'n_estimators': 164, 'max_depth': 32, 'min_samples_split': 0.08192123349658736, 'min_samples_leaf': 0.04046435312155021, 'max_features': 'auto'}. Best is trial 224 with value: 0.5730027548209367.\n",
      "[I 2024-03-14 10:13:37,072] Trial 379 finished with value: 0.5674931129476584 and parameters: {'n_estimators': 163, 'max_depth': 32, 'min_samples_split': 0.08469474759385932, 'min_samples_leaf': 0.03652730301018525, 'max_features': 'auto'}. Best is trial 224 with value: 0.5730027548209367.\n",
      "[I 2024-03-14 10:13:37,733] Trial 380 finished with value: 0.5702479338842975 and parameters: {'n_estimators': 162, 'max_depth': 32, 'min_samples_split': 0.08479601206949541, 'min_samples_leaf': 0.04043094005678102, 'max_features': 'auto'}. Best is trial 224 with value: 0.5730027548209367.\n",
      "[I 2024-03-14 10:13:38,386] Trial 381 finished with value: 0.5619834710743802 and parameters: {'n_estimators': 163, 'max_depth': 33, 'min_samples_split': 0.0721157589208487, 'min_samples_leaf': 0.04083401750879297, 'max_features': 'auto'}. Best is trial 224 with value: 0.5730027548209367.\n",
      "[I 2024-03-14 10:13:39,065] Trial 382 finished with value: 0.559228650137741 and parameters: {'n_estimators': 164, 'max_depth': 31, 'min_samples_split': 0.09478196824276482, 'min_samples_leaf': 0.03756677052062275, 'max_features': 'auto'}. Best is trial 224 with value: 0.5730027548209367.\n",
      "[I 2024-03-14 10:13:39,737] Trial 383 finished with value: 0.5619834710743802 and parameters: {'n_estimators': 162, 'max_depth': 32, 'min_samples_split': 0.051094565970132746, 'min_samples_leaf': 0.03862718795307283, 'max_features': 'auto'}. Best is trial 224 with value: 0.5730027548209367.\n",
      "[I 2024-03-14 10:13:40,374] Trial 384 finished with value: 0.5564738292011019 and parameters: {'n_estimators': 161, 'max_depth': 33, 'min_samples_split': 0.09882616562160984, 'min_samples_leaf': 0.04299602389852039, 'max_features': 'auto'}. Best is trial 224 with value: 0.5730027548209367.\n",
      "[I 2024-03-14 10:13:41,020] Trial 385 finished with value: 0.5702479338842975 and parameters: {'n_estimators': 162, 'max_depth': 32, 'min_samples_split': 0.06594881665466004, 'min_samples_leaf': 0.04228902321314947, 'max_features': 'auto'}. Best is trial 224 with value: 0.5730027548209367.\n",
      "[I 2024-03-14 10:13:41,741] Trial 386 finished with value: 0.559228650137741 and parameters: {'n_estimators': 164, 'max_depth': 31, 'min_samples_split': 0.05594982939947058, 'min_samples_leaf': 0.0420883478630939, 'max_features': 'auto'}. Best is trial 224 with value: 0.5730027548209367.\n",
      "[I 2024-03-14 10:13:42,517] Trial 387 finished with value: 0.5730027548209367 and parameters: {'n_estimators': 160, 'max_depth': 34, 'min_samples_split': 0.0687720987151548, 'min_samples_leaf': 0.03669486309292101, 'max_features': 'auto'}. Best is trial 224 with value: 0.5730027548209367.\n",
      "[I 2024-03-14 10:13:43,326] Trial 388 finished with value: 0.581267217630854 and parameters: {'n_estimators': 159, 'max_depth': 32, 'min_samples_split': 0.06524109476052148, 'min_samples_leaf': 0.02949690350857416, 'max_features': 'auto'}. Best is trial 388 with value: 0.581267217630854.\n",
      "[I 2024-03-14 10:13:44,155] Trial 389 finished with value: 0.5950413223140496 and parameters: {'n_estimators': 159, 'max_depth': 32, 'min_samples_split': 0.06827264659346019, 'min_samples_leaf': 0.027914973384522302, 'max_features': 'auto'}. Best is trial 389 with value: 0.5950413223140496.\n",
      "[I 2024-03-14 10:13:44,890] Trial 390 finished with value: 0.5840220385674931 and parameters: {'n_estimators': 156, 'max_depth': 31, 'min_samples_split': 0.04536114225925965, 'min_samples_leaf': 0.027905187537959234, 'max_features': 'auto'}. Best is trial 389 with value: 0.5950413223140496.\n",
      "[I 2024-03-14 10:13:45,679] Trial 391 finished with value: 0.5922865013774105 and parameters: {'n_estimators': 159, 'max_depth': 31, 'min_samples_split': 0.03797668781982644, 'min_samples_leaf': 0.026958413298452458, 'max_features': 'auto'}. Best is trial 389 with value: 0.5950413223140496.\n",
      "[I 2024-03-14 10:13:46,412] Trial 392 finished with value: 0.5922865013774105 and parameters: {'n_estimators': 159, 'max_depth': 30, 'min_samples_split': 0.03672784711675233, 'min_samples_leaf': 0.026863082886613966, 'max_features': 'auto'}. Best is trial 389 with value: 0.5950413223140496.\n",
      "[I 2024-03-14 10:13:47,166] Trial 393 finished with value: 0.5922865013774105 and parameters: {'n_estimators': 158, 'max_depth': 30, 'min_samples_split': 0.03600430026009701, 'min_samples_leaf': 0.02685541075555701, 'max_features': 'auto'}. Best is trial 389 with value: 0.5950413223140496.\n",
      "[I 2024-03-14 10:13:47,930] Trial 394 finished with value: 0.5785123966942148 and parameters: {'n_estimators': 160, 'max_depth': 30, 'min_samples_split': 0.036540410722165746, 'min_samples_leaf': 0.026442187750661452, 'max_features': 'auto'}. Best is trial 389 with value: 0.5950413223140496.\n",
      "[I 2024-03-14 10:13:48,738] Trial 395 finished with value: 0.5922865013774105 and parameters: {'n_estimators': 158, 'max_depth': 30, 'min_samples_split': 0.03278566249337337, 'min_samples_leaf': 0.02449491432179503, 'max_features': 'auto'}. Best is trial 389 with value: 0.5950413223140496.\n",
      "[I 2024-03-14 10:13:49,475] Trial 396 finished with value: 0.5757575757575758 and parameters: {'n_estimators': 158, 'max_depth': 30, 'min_samples_split': 0.03554746513740649, 'min_samples_leaf': 0.025831249885622617, 'max_features': 'auto'}. Best is trial 389 with value: 0.5950413223140496.\n",
      "[I 2024-03-14 10:13:50,231] Trial 397 finished with value: 0.5922865013774105 and parameters: {'n_estimators': 158, 'max_depth': 30, 'min_samples_split': 0.02822763510965963, 'min_samples_leaf': 0.024446456814814752, 'max_features': 'auto'}. Best is trial 389 with value: 0.5950413223140496.\n",
      "[I 2024-03-14 10:13:51,002] Trial 398 finished with value: 0.5785123966942148 and parameters: {'n_estimators': 158, 'max_depth': 30, 'min_samples_split': 0.030582394150788356, 'min_samples_leaf': 0.022962011377100938, 'max_features': 'auto'}. Best is trial 389 with value: 0.5950413223140496.\n",
      "[I 2024-03-14 10:13:51,781] Trial 399 finished with value: 0.5895316804407713 and parameters: {'n_estimators': 156, 'max_depth': 30, 'min_samples_split': 0.029044507178499466, 'min_samples_leaf': 0.021793326717809293, 'max_features': 'auto'}. Best is trial 389 with value: 0.5950413223140496.\n",
      "[I 2024-03-14 10:13:52,563] Trial 400 finished with value: 0.5785123966942148 and parameters: {'n_estimators': 158, 'max_depth': 30, 'min_samples_split': 0.028427033667963106, 'min_samples_leaf': 0.023464065030594, 'max_features': 'auto'}. Best is trial 389 with value: 0.5950413223140496.\n",
      "[I 2024-03-14 10:13:53,350] Trial 401 finished with value: 0.5922865013774105 and parameters: {'n_estimators': 157, 'max_depth': 30, 'min_samples_split': 0.020635191750273847, 'min_samples_leaf': 0.021577235681903048, 'max_features': 'auto'}. Best is trial 389 with value: 0.5950413223140496.\n",
      "[I 2024-03-14 10:13:54,184] Trial 402 finished with value: 0.5895316804407713 and parameters: {'n_estimators': 158, 'max_depth': 30, 'min_samples_split': 0.021496338103028263, 'min_samples_leaf': 0.02266089003807388, 'max_features': 'auto'}. Best is trial 389 with value: 0.5950413223140496.\n",
      "[I 2024-03-14 10:13:55,095] Trial 403 finished with value: 0.5950413223140496 and parameters: {'n_estimators': 158, 'max_depth': 30, 'min_samples_split': 0.026944742824747875, 'min_samples_leaf': 0.010116091431410703, 'max_features': 'auto'}. Best is trial 389 with value: 0.5950413223140496.\n",
      "[I 2024-03-14 10:13:55,864] Trial 404 finished with value: 0.5922865013774105 and parameters: {'n_estimators': 157, 'max_depth': 30, 'min_samples_split': 0.0237517339515649, 'min_samples_leaf': 0.021223905078896772, 'max_features': 'auto'}. Best is trial 389 with value: 0.5950413223140496.\n",
      "[I 2024-03-14 10:13:56,634] Trial 405 finished with value: 0.5922865013774105 and parameters: {'n_estimators': 157, 'max_depth': 30, 'min_samples_split': 0.02137425544384431, 'min_samples_leaf': 0.02171095714512213, 'max_features': 'auto'}. Best is trial 389 with value: 0.5950413223140496.\n",
      "[I 2024-03-14 10:13:57,492] Trial 406 finished with value: 0.6005509641873278 and parameters: {'n_estimators': 157, 'max_depth': 29, 'min_samples_split': 0.022485388449227844, 'min_samples_leaf': 0.016696379667478604, 'max_features': 'auto'}. Best is trial 406 with value: 0.6005509641873278.\n",
      "[I 2024-03-14 10:13:58,308] Trial 407 finished with value: 0.5922865013774105 and parameters: {'n_estimators': 157, 'max_depth': 29, 'min_samples_split': 0.020930245512940687, 'min_samples_leaf': 0.02119412298986854, 'max_features': 'auto'}. Best is trial 406 with value: 0.6005509641873278.\n",
      "[I 2024-03-14 10:13:59,171] Trial 408 finished with value: 0.5977961432506887 and parameters: {'n_estimators': 156, 'max_depth': 29, 'min_samples_split': 0.021999920553742815, 'min_samples_leaf': 0.018140588844656712, 'max_features': 'auto'}. Best is trial 406 with value: 0.6005509641873278.\n",
      "[I 2024-03-14 10:14:00,049] Trial 409 finished with value: 0.6033057851239669 and parameters: {'n_estimators': 152, 'max_depth': 29, 'min_samples_split': 0.018145208607413015, 'min_samples_leaf': 0.018741409275839574, 'max_features': 'auto'}. Best is trial 409 with value: 0.6033057851239669.\n",
      "[I 2024-03-14 10:14:00,874] Trial 410 finished with value: 0.6033057851239669 and parameters: {'n_estimators': 152, 'max_depth': 30, 'min_samples_split': 0.017165121718329818, 'min_samples_leaf': 0.01874692981185473, 'max_features': 'auto'}. Best is trial 409 with value: 0.6033057851239669.\n",
      "[I 2024-03-14 10:14:01,813] Trial 411 finished with value: 0.5922865013774105 and parameters: {'n_estimators': 151, 'max_depth': 29, 'min_samples_split': 0.01684560303572461, 'min_samples_leaf': 0.010393109685621968, 'max_features': 'auto'}. Best is trial 409 with value: 0.6033057851239669.\n",
      "[I 2024-03-14 10:14:02,747] Trial 412 finished with value: 0.5922865013774105 and parameters: {'n_estimators': 151, 'max_depth': 29, 'min_samples_split': 0.014199938601821767, 'min_samples_leaf': 0.012718398263182194, 'max_features': 'auto'}. Best is trial 409 with value: 0.6033057851239669.\n",
      "[I 2024-03-14 10:14:03,606] Trial 413 finished with value: 0.5922865013774105 and parameters: {'n_estimators': 150, 'max_depth': 29, 'min_samples_split': 0.014426889279625498, 'min_samples_leaf': 0.01300602589057825, 'max_features': 'auto'}. Best is trial 409 with value: 0.6033057851239669.\n",
      "[I 2024-03-14 10:14:04,457] Trial 414 finished with value: 0.5922865013774105 and parameters: {'n_estimators': 150, 'max_depth': 29, 'min_samples_split': 0.011752084119139966, 'min_samples_leaf': 0.012318343477648026, 'max_features': 'auto'}. Best is trial 409 with value: 0.6033057851239669.\n",
      "[I 2024-03-14 10:14:05,367] Trial 415 finished with value: 0.5950413223140496 and parameters: {'n_estimators': 150, 'max_depth': 29, 'min_samples_split': 0.0149810214300697, 'min_samples_leaf': 0.010689049504964934, 'max_features': 'auto'}. Best is trial 409 with value: 0.6033057851239669.\n",
      "[I 2024-03-14 10:14:06,218] Trial 416 finished with value: 0.5922865013774105 and parameters: {'n_estimators': 150, 'max_depth': 29, 'min_samples_split': 0.016672907780055375, 'min_samples_leaf': 0.012330559879182279, 'max_features': 'auto'}. Best is trial 409 with value: 0.6033057851239669.\n",
      "[I 2024-03-14 10:14:07,096] Trial 417 finished with value: 0.5950413223140496 and parameters: {'n_estimators': 150, 'max_depth': 29, 'min_samples_split': 0.01240177748192653, 'min_samples_leaf': 0.011010052725075707, 'max_features': 'auto'}. Best is trial 409 with value: 0.6033057851239669.\n",
      "[I 2024-03-14 10:14:07,868] Trial 418 finished with value: 0.5895316804407713 and parameters: {'n_estimators': 146, 'max_depth': 29, 'min_samples_split': 0.01158299164547382, 'min_samples_leaf': 0.015930412572598016, 'max_features': 'auto'}. Best is trial 409 with value: 0.6033057851239669.\n",
      "[I 2024-03-14 10:14:08,692] Trial 419 finished with value: 0.5977961432506887 and parameters: {'n_estimators': 143, 'max_depth': 29, 'min_samples_split': 0.013079185211768995, 'min_samples_leaf': 0.01030940381139742, 'max_features': 'auto'}. Best is trial 409 with value: 0.6033057851239669.\n",
      "[I 2024-03-14 10:14:09,544] Trial 420 finished with value: 0.5977961432506887 and parameters: {'n_estimators': 143, 'max_depth': 29, 'min_samples_split': 0.011731500434774892, 'min_samples_leaf': 0.01079290873465471, 'max_features': 'auto'}. Best is trial 409 with value: 0.6033057851239669.\n",
      "[I 2024-03-14 10:14:10,304] Trial 421 finished with value: 0.5922865013774105 and parameters: {'n_estimators': 142, 'max_depth': 28, 'min_samples_split': 0.011206928438304814, 'min_samples_leaf': 0.015898884074165228, 'max_features': 'auto'}. Best is trial 409 with value: 0.6033057851239669.\n",
      "[I 2024-03-14 10:14:11,130] Trial 422 finished with value: 0.6033057851239669 and parameters: {'n_estimators': 140, 'max_depth': 29, 'min_samples_split': 0.012519831925912668, 'min_samples_leaf': 0.01023656100144208, 'max_features': 'auto'}. Best is trial 409 with value: 0.6033057851239669.\n",
      "[I 2024-03-14 10:14:11,903] Trial 423 finished with value: 0.5867768595041323 and parameters: {'n_estimators': 140, 'max_depth': 29, 'min_samples_split': 0.011499028468577786, 'min_samples_leaf': 0.013128515209747971, 'max_features': 'auto'}. Best is trial 409 with value: 0.6033057851239669.\n",
      "[I 2024-03-14 10:14:12,659] Trial 424 finished with value: 0.6005509641873278 and parameters: {'n_estimators': 135, 'max_depth': 28, 'min_samples_split': 0.042384169978923074, 'min_samples_leaf': 0.010539434012265434, 'max_features': 'auto'}. Best is trial 409 with value: 0.6033057851239669.\n",
      "[I 2024-03-14 10:14:13,423] Trial 425 finished with value: 0.5950413223140496 and parameters: {'n_estimators': 133, 'max_depth': 28, 'min_samples_split': 0.04251626951187686, 'min_samples_leaf': 0.012801504789045053, 'max_features': 'auto'}. Best is trial 409 with value: 0.6033057851239669.\n",
      "[I 2024-03-14 10:14:14,191] Trial 426 finished with value: 0.5977961432506887 and parameters: {'n_estimators': 131, 'max_depth': 28, 'min_samples_split': 0.04152483281079943, 'min_samples_leaf': 0.010343963086599654, 'max_features': 'auto'}. Best is trial 409 with value: 0.6033057851239669.\n",
      "[I 2024-03-14 10:14:14,972] Trial 427 finished with value: 0.5895316804407713 and parameters: {'n_estimators': 135, 'max_depth': 28, 'min_samples_split': 0.04359398061104956, 'min_samples_leaf': 0.013422864652057758, 'max_features': 'auto'}. Best is trial 409 with value: 0.6033057851239669.\n",
      "[I 2024-03-14 10:14:15,769] Trial 428 finished with value: 0.5895316804407713 and parameters: {'n_estimators': 125, 'max_depth': 27, 'min_samples_split': 0.041323789518262044, 'min_samples_leaf': 0.011794618863582865, 'max_features': 'auto'}. Best is trial 409 with value: 0.6033057851239669.\n",
      "[I 2024-03-14 10:14:16,536] Trial 429 finished with value: 0.5867768595041323 and parameters: {'n_estimators': 131, 'max_depth': 28, 'min_samples_split': 0.04333425556844969, 'min_samples_leaf': 0.010039935624257685, 'max_features': 'auto'}. Best is trial 409 with value: 0.6033057851239669.\n",
      "[I 2024-03-14 10:14:17,204] Trial 430 finished with value: 0.5895316804407713 and parameters: {'n_estimators': 127, 'max_depth': 29, 'min_samples_split': 0.03296479693498644, 'min_samples_leaf': 0.022281137857873765, 'max_features': 'auto'}. Best is trial 409 with value: 0.6033057851239669.\n",
      "[I 2024-03-14 10:14:17,971] Trial 431 finished with value: 0.5895316804407713 and parameters: {'n_estimators': 140, 'max_depth': 28, 'min_samples_split': 0.05321746301903593, 'min_samples_leaf': 0.012542168138587634, 'max_features': 'auto'}. Best is trial 409 with value: 0.6033057851239669.\n",
      "[I 2024-03-14 10:14:18,772] Trial 432 finished with value: 0.5922865013774105 and parameters: {'n_estimators': 131, 'max_depth': 30, 'min_samples_split': 0.03122312269572446, 'min_samples_leaf': 0.012649650054823547, 'max_features': 'auto'}. Best is trial 409 with value: 0.6033057851239669.\n",
      "[I 2024-03-14 10:14:19,435] Trial 433 finished with value: 0.5785123966942148 and parameters: {'n_estimators': 136, 'max_depth': 27, 'min_samples_split': 0.048384848107617145, 'min_samples_leaf': 0.0277649462331837, 'max_features': 'auto'}. Best is trial 409 with value: 0.6033057851239669.\n",
      "[I 2024-03-14 10:14:20,259] Trial 434 finished with value: 0.5867768595041323 and parameters: {'n_estimators': 145, 'max_depth': 28, 'min_samples_split': 0.02743272238578135, 'min_samples_leaf': 0.012735218133127384, 'max_features': 'auto'}. Best is trial 409 with value: 0.6033057851239669.\n",
      "[I 2024-03-14 10:14:21,131] Trial 435 finished with value: 0.6060606060606061 and parameters: {'n_estimators': 144, 'max_depth': 29, 'min_samples_split': 0.014160288466871278, 'min_samples_leaf': 0.010034386157695287, 'max_features': 'auto'}. Best is trial 435 with value: 0.6060606060606061.\n",
      "[I 2024-03-14 10:14:21,809] Trial 436 finished with value: 0.5950413223140496 and parameters: {'n_estimators': 121, 'max_depth': 31, 'min_samples_split': 0.040966399291092886, 'min_samples_leaf': 0.010331357029763797, 'max_features': 'auto'}. Best is trial 435 with value: 0.6060606060606061.\n",
      "[I 2024-03-14 10:14:21,987] Trial 437 finished with value: 0.33884297520661155 and parameters: {'n_estimators': 114, 'max_depth': 31, 'min_samples_split': 0.05083797228233364, 'min_samples_leaf': 0.36944091647791333, 'max_features': 'auto'}. Best is trial 435 with value: 0.6060606060606061.\n",
      "[I 2024-03-14 10:14:22,159] Trial 438 finished with value: 0.33884297520661155 and parameters: {'n_estimators': 115, 'max_depth': 31, 'min_samples_split': 0.03596327512249334, 'min_samples_leaf': 0.5977782190991089, 'max_features': 'auto'}. Best is trial 435 with value: 0.6060606060606061.\n",
      "[I 2024-03-14 10:14:22,318] Trial 439 finished with value: 0.33884297520661155 and parameters: {'n_estimators': 105, 'max_depth': 30, 'min_samples_split': 0.056078212911907246, 'min_samples_leaf': 0.4468995311180034, 'max_features': 'auto'}. Best is trial 435 with value: 0.6060606060606061.\n",
      "[I 2024-03-14 10:14:23,140] Trial 440 finished with value: 0.6088154269972452 and parameters: {'n_estimators': 138, 'max_depth': 28, 'min_samples_split': 0.010385351929294089, 'min_samples_leaf': 0.010054846590921672, 'max_features': 'auto'}. Best is trial 440 with value: 0.6088154269972452.\n",
      "[I 2024-03-14 10:14:23,378] Trial 441 finished with value: 0.4628099173553719 and parameters: {'n_estimators': 119, 'max_depth': 27, 'min_samples_split': 0.04045749322789979, 'min_samples_leaf': 0.24809563115622346, 'max_features': 'auto'}. Best is trial 440 with value: 0.6088154269972452.\n",
      "[I 2024-03-14 10:14:23,681] Trial 442 finished with value: 0.4573002754820937 and parameters: {'n_estimators': 138, 'max_depth': 28, 'min_samples_split': 0.010530921278094635, 'min_samples_leaf': 0.2548732116608546, 'max_features': 'auto'}. Best is trial 440 with value: 0.6088154269972452.\n",
      "[I 2024-03-14 10:14:24,315] Trial 443 finished with value: 0.5757575757575758 and parameters: {'n_estimators': 143, 'max_depth': 31, 'min_samples_split': 0.05847545103807597, 'min_samples_leaf': 0.03084667985184249, 'max_features': 'auto'}. Best is trial 440 with value: 0.6088154269972452.\n",
      "[I 2024-03-14 10:14:24,508] Trial 444 finished with value: 0.33884297520661155 and parameters: {'n_estimators': 131, 'max_depth': 29, 'min_samples_split': 0.03575457297137082, 'min_samples_leaf': 0.40450399098668777, 'max_features': 'auto'}. Best is trial 440 with value: 0.6088154269972452.\n",
      "[I 2024-03-14 10:14:24,727] Trial 445 finished with value: 0.44077134986225897 and parameters: {'n_estimators': 140, 'max_depth': 30, 'min_samples_split': 0.03175446568509317, 'min_samples_leaf': 0.3170760809674787, 'max_features': 'auto'}. Best is trial 440 with value: 0.6088154269972452.\n",
      "[I 2024-03-14 10:14:25,373] Trial 446 finished with value: 0.5840220385674931 and parameters: {'n_estimators': 134, 'max_depth': 31, 'min_samples_split': 0.05518101367614457, 'min_samples_leaf': 0.025191902420563413, 'max_features': 'auto'}. Best is trial 440 with value: 0.6088154269972452.\n",
      "[I 2024-03-14 10:14:25,554] Trial 447 finished with value: 0.33884297520661155 and parameters: {'n_estimators': 122, 'max_depth': 28, 'min_samples_split': 0.010907254215556248, 'min_samples_leaf': 0.3320947509336146, 'max_features': 'auto'}. Best is trial 440 with value: 0.6088154269972452.\n",
      "[I 2024-03-14 10:14:25,764] Trial 448 finished with value: 0.33884297520661155 and parameters: {'n_estimators': 144, 'max_depth': 30, 'min_samples_split': 0.034234943160319734, 'min_samples_leaf': 0.7977473996036824, 'max_features': 'auto'}. Best is trial 440 with value: 0.6088154269972452.\n",
      "[I 2024-03-14 10:14:26,492] Trial 449 finished with value: 0.5840220385674931 and parameters: {'n_estimators': 137, 'max_depth': 29, 'min_samples_split': 0.05778914256722366, 'min_samples_leaf': 0.011025260837322175, 'max_features': 'auto'}. Best is trial 440 with value: 0.6088154269972452.\n",
      "[I 2024-03-14 10:14:26,749] Trial 450 finished with value: 0.48484848484848486 and parameters: {'n_estimators': 128, 'max_depth': 27, 'min_samples_split': 0.030785818278055488, 'min_samples_leaf': 0.2293090745759913, 'max_features': 'auto'}. Best is trial 440 with value: 0.6088154269972452.\n",
      "[I 2024-03-14 10:14:26,962] Trial 451 finished with value: 0.33884297520661155 and parameters: {'n_estimators': 146, 'max_depth': 31, 'min_samples_split': 0.01003282685506948, 'min_samples_leaf': 0.5294135092829922, 'max_features': 'auto'}. Best is trial 440 with value: 0.6088154269972452.\n",
      "[I 2024-03-14 10:14:28,024] Trial 452 finished with value: 0.5840220385674931 and parameters: {'n_estimators': 236, 'max_depth': 30, 'min_samples_split': 0.048298809092173677, 'min_samples_leaf': 0.02819953335417109, 'max_features': 'auto'}. Best is trial 440 with value: 0.6088154269972452.\n",
      "[I 2024-03-14 10:14:28,220] Trial 453 finished with value: 0.33884297520661155 and parameters: {'n_estimators': 134, 'max_depth': 28, 'min_samples_split': 0.029460377402696646, 'min_samples_leaf': 0.3849610399703666, 'max_features': 'auto'}. Best is trial 440 with value: 0.6088154269972452.\n",
      "[I 2024-03-14 10:14:28,959] Trial 454 finished with value: 0.5867768595041323 and parameters: {'n_estimators': 141, 'max_depth': 29, 'min_samples_split': 0.061682068705776735, 'min_samples_leaf': 0.01088934662439808, 'max_features': 'auto'}. Best is trial 440 with value: 0.6088154269972452.\n",
      "[I 2024-03-14 10:14:29,678] Trial 455 finished with value: 0.5785123966942148 and parameters: {'n_estimators': 146, 'max_depth': 31, 'min_samples_split': 0.04281791974465582, 'min_samples_leaf': 0.028306816376026715, 'max_features': 'auto'}. Best is trial 440 with value: 0.6088154269972452.\n",
      "[I 2024-03-14 10:14:29,881] Trial 456 finished with value: 0.33884297520661155 and parameters: {'n_estimators': 118, 'max_depth': 30, 'min_samples_split': 0.026097113714983484, 'min_samples_leaf': 0.6148400811192335, 'max_features': 'auto'}. Best is trial 440 with value: 0.6088154269972452.\n",
      "[I 2024-03-14 10:14:30,601] Trial 457 finished with value: 0.581267217630854 and parameters: {'n_estimators': 148, 'max_depth': 29, 'min_samples_split': 0.012503119027378324, 'min_samples_leaf': 0.028287792483854553, 'max_features': 'auto'}. Best is trial 440 with value: 0.6088154269972452.\n",
      "[I 2024-03-14 10:14:30,939] Trial 458 finished with value: 0.4793388429752066 and parameters: {'n_estimators': 137, 'max_depth': 28, 'min_samples_split': 0.05689491131526809, 'min_samples_leaf': 0.20327560850377768, 'max_features': 'auto'}. Best is trial 440 with value: 0.6088154269972452.\n",
      "[I 2024-03-14 10:14:31,345] Trial 459 finished with value: 0.48760330578512395 and parameters: {'n_estimators': 153, 'max_depth': 27, 'min_samples_split': 0.010275046269191658, 'min_samples_leaf': 0.17794637084885734, 'max_features': 'auto'}. Best is trial 440 with value: 0.6088154269972452.\n",
      "[I 2024-03-14 10:14:32,241] Trial 460 finished with value: 0.5895316804407713 and parameters: {'n_estimators': 144, 'max_depth': 30, 'min_samples_split': 0.04017553886469092, 'min_samples_leaf': 0.010634447458357607, 'max_features': 'auto'}. Best is trial 440 with value: 0.6088154269972452.\n",
      "[I 2024-03-14 10:14:32,496] Trial 461 finished with value: 0.33884297520661155 and parameters: {'n_estimators': 153, 'max_depth': 29, 'min_samples_split': 0.03142792857377997, 'min_samples_leaf': 0.576550816604605, 'max_features': 'auto'}. Best is trial 440 with value: 0.6088154269972452.\n",
      "[I 2024-03-14 10:14:32,730] Trial 462 finished with value: 0.33884297520661155 and parameters: {'n_estimators': 148, 'max_depth': 31, 'min_samples_split': 0.06346441470820689, 'min_samples_leaf': 0.4985593171816172, 'max_features': 'auto'}. Best is trial 440 with value: 0.6088154269972452.\n",
      "[I 2024-03-14 10:14:33,375] Trial 463 finished with value: 0.581267217630854 and parameters: {'n_estimators': 129, 'max_depth': 30, 'min_samples_split': 0.04390862719469924, 'min_samples_leaf': 0.029661004568180147, 'max_features': 'auto'}. Best is trial 440 with value: 0.6088154269972452.\n",
      "[I 2024-03-14 10:14:34,027] Trial 464 finished with value: 0.5840220385674931 and parameters: {'n_estimators': 140, 'max_depth': 28, 'min_samples_split': 0.02836739302891752, 'min_samples_leaf': 0.029382875107401073, 'max_features': 'auto'}. Best is trial 440 with value: 0.6088154269972452.\n",
      "[I 2024-03-14 10:14:34,808] Trial 465 finished with value: 0.5950413223140496 and parameters: {'n_estimators': 134, 'max_depth': 31, 'min_samples_split': 0.060731629530293346, 'min_samples_leaf': 0.010233489395860988, 'max_features': 'auto'}. Best is trial 440 with value: 0.6088154269972452.\n",
      "[I 2024-03-14 10:14:35,009] Trial 466 finished with value: 0.33884297520661155 and parameters: {'n_estimators': 131, 'max_depth': 26, 'min_samples_split': 0.060432998608284424, 'min_samples_leaf': 0.4666262839530308, 'max_features': 'auto'}. Best is trial 440 with value: 0.6088154269972452.\n",
      "[I 2024-03-14 10:14:35,699] Trial 467 finished with value: 0.6088154269972452 and parameters: {'n_estimators': 124, 'max_depth': 27, 'min_samples_split': 0.046981546192925015, 'min_samples_leaf': 0.010179380947826978, 'max_features': 'auto'}. Best is trial 440 with value: 0.6088154269972452.\n",
      "[I 2024-03-14 10:14:36,376] Trial 468 finished with value: 0.6005509641873278 and parameters: {'n_estimators': 124, 'max_depth': 27, 'min_samples_split': 0.04973391028564166, 'min_samples_leaf': 0.010258510002063171, 'max_features': 'auto'}. Best is trial 440 with value: 0.6088154269972452.\n",
      "[I 2024-03-14 10:14:36,561] Trial 469 finished with value: 0.33884297520661155 and parameters: {'n_estimators': 123, 'max_depth': 27, 'min_samples_split': 0.0613039163592942, 'min_samples_leaf': 0.41970141085435314, 'max_features': 'auto'}. Best is trial 440 with value: 0.6088154269972452.\n",
      "[I 2024-03-14 10:14:36,744] Trial 470 finished with value: 0.33884297520661155 and parameters: {'n_estimators': 120, 'max_depth': 26, 'min_samples_split': 0.04704896171647921, 'min_samples_leaf': 0.38400267825044093, 'max_features': 'auto'}. Best is trial 440 with value: 0.6088154269972452.\n",
      "[I 2024-03-14 10:14:36,999] Trial 471 finished with value: 0.4462809917355372 and parameters: {'n_estimators': 126, 'max_depth': 28, 'min_samples_split': 0.065367386293191, 'min_samples_leaf': 0.3070122889832262, 'max_features': 'auto'}. Best is trial 440 with value: 0.6088154269972452.\n",
      "[I 2024-03-14 10:14:37,604] Trial 472 finished with value: 0.5785123966942148 and parameters: {'n_estimators': 134, 'max_depth': 27, 'min_samples_split': 0.04332898302557713, 'min_samples_leaf': 0.02997183486202846, 'max_features': 'auto'}. Best is trial 440 with value: 0.6088154269972452.\n",
      "[I 2024-03-14 10:14:38,296] Trial 473 finished with value: 0.5895316804407713 and parameters: {'n_estimators': 129, 'max_depth': 29, 'min_samples_split': 0.06888508089210595, 'min_samples_leaf': 0.011249957384528267, 'max_features': 'auto'}. Best is trial 440 with value: 0.6088154269972452.\n",
      "[I 2024-03-14 10:14:38,874] Trial 474 finished with value: 0.5730027548209367 and parameters: {'n_estimators': 127, 'max_depth': 6, 'min_samples_split': 0.04560624903036888, 'min_samples_leaf': 0.029792236677725244, 'max_features': 'auto'}. Best is trial 440 with value: 0.6088154269972452.\n",
      "[I 2024-03-14 10:14:39,363] Trial 475 finished with value: 0.5702479338842975 and parameters: {'n_estimators': 111, 'max_depth': 28, 'min_samples_split': 0.034697124354858555, 'min_samples_leaf': 0.034102464486507, 'max_features': 'auto'}. Best is trial 440 with value: 0.6088154269972452.\n",
      "[I 2024-03-14 10:14:39,609] Trial 476 finished with value: 0.46005509641873277 and parameters: {'n_estimators': 123, 'max_depth': 27, 'min_samples_split': 0.013629561070621438, 'min_samples_leaf': 0.2806429053065539, 'max_features': 'auto'}. Best is trial 440 with value: 0.6088154269972452.\n",
      "[I 2024-03-14 10:14:39,869] Trial 477 finished with value: 0.45179063360881544 and parameters: {'n_estimators': 135, 'max_depth': 31, 'min_samples_split': 0.010444754692422589, 'min_samples_leaf': 0.30052320445870934, 'max_features': 'auto'}. Best is trial 440 with value: 0.6088154269972452.\n",
      "[I 2024-03-14 10:14:40,605] Trial 478 finished with value: 0.5867768595041323 and parameters: {'n_estimators': 141, 'max_depth': 26, 'min_samples_split': 0.061708896867994814, 'min_samples_leaf': 0.010224287823050068, 'max_features': 'auto'}. Best is trial 440 with value: 0.6088154269972452.\n",
      "[I 2024-03-14 10:14:41,371] Trial 479 finished with value: 0.5867768595041323 and parameters: {'n_estimators': 138, 'max_depth': 29, 'min_samples_split': 0.04107037600597664, 'min_samples_leaf': 0.011675099719194594, 'max_features': 'auto'}. Best is trial 440 with value: 0.6088154269972452.\n",
      "[I 2024-03-14 10:14:41,986] Trial 480 finished with value: 0.5895316804407713 and parameters: {'n_estimators': 117, 'max_depth': 28, 'min_samples_split': 0.06650572013668504, 'min_samples_leaf': 0.010087790354984139, 'max_features': 'auto'}. Best is trial 440 with value: 0.6088154269972452.\n",
      "[I 2024-03-14 10:14:42,592] Trial 481 finished with value: 0.5757575757575758 and parameters: {'n_estimators': 133, 'max_depth': 29, 'min_samples_split': 0.031724595126792474, 'min_samples_leaf': 0.03042390882522106, 'max_features': 'auto'}. Best is trial 440 with value: 0.6088154269972452.\n",
      "[I 2024-03-14 10:14:42,785] Trial 482 finished with value: 0.33884297520661155 and parameters: {'n_estimators': 124, 'max_depth': 31, 'min_samples_split': 0.3942091552645568, 'min_samples_leaf': 0.6240386468122638, 'max_features': 'auto'}. Best is trial 440 with value: 0.6088154269972452.\n",
      "[I 2024-03-14 10:14:43,393] Trial 483 finished with value: 0.5867768595041323 and parameters: {'n_estimators': 138, 'max_depth': 29, 'min_samples_split': 0.011131754601708158, 'min_samples_leaf': 0.032300699443822245, 'max_features': 'auto'}. Best is trial 440 with value: 0.6088154269972452.\n",
      "[I 2024-03-14 10:14:43,634] Trial 484 finished with value: 0.33884297520661155 and parameters: {'n_estimators': 143, 'max_depth': 28, 'min_samples_split': 0.04750233862113394, 'min_samples_leaf': 0.5550327899822827, 'max_features': 'auto'}. Best is trial 440 with value: 0.6088154269972452.\n",
      "[I 2024-03-14 10:14:43,826] Trial 485 finished with value: 0.33884297520661155 and parameters: {'n_estimators': 130, 'max_depth': 26, 'min_samples_split': 0.03212219503367065, 'min_samples_leaf': 0.4051893667040731, 'max_features': 'auto'}. Best is trial 440 with value: 0.6088154269972452.\n",
      "[I 2024-03-14 10:14:44,595] Trial 486 finished with value: 0.5867768595041323 and parameters: {'n_estimators': 148, 'max_depth': 31, 'min_samples_split': 0.06412465424696596, 'min_samples_leaf': 0.010398038548519216, 'max_features': 'auto'}. Best is trial 440 with value: 0.6088154269972452.\n",
      "[I 2024-03-14 10:14:44,793] Trial 487 finished with value: 0.33884297520661155 and parameters: {'n_estimators': 133, 'max_depth': 27, 'min_samples_split': 0.010549608513082237, 'min_samples_leaf': 0.5874297025816757, 'max_features': 'auto'}. Best is trial 440 with value: 0.6088154269972452.\n",
      "[I 2024-03-14 10:14:45,076] Trial 488 finished with value: 0.4793388429752066 and parameters: {'n_estimators': 126, 'max_depth': 29, 'min_samples_split': 0.04387950248419555, 'min_samples_leaf': 0.2019205492975889, 'max_features': 'auto'}. Best is trial 440 with value: 0.6088154269972452.\n",
      "[I 2024-03-14 10:14:45,308] Trial 489 finished with value: 0.33884297520661155 and parameters: {'n_estimators': 143, 'max_depth': 30, 'min_samples_split': 0.029499578667516624, 'min_samples_leaf': 0.49752360026148407, 'max_features': 'auto'}. Best is trial 440 with value: 0.6088154269972452.\n",
      "[I 2024-03-14 10:14:45,667] Trial 490 finished with value: 0.46831955922865015 and parameters: {'n_estimators': 151, 'max_depth': 31, 'min_samples_split': 0.06471971681599718, 'min_samples_leaf': 0.22465461293189742, 'max_features': 'auto'}. Best is trial 440 with value: 0.6088154269972452.\n",
      "[I 2024-03-14 10:14:45,970] Trial 491 finished with value: 0.4573002754820937 and parameters: {'n_estimators': 146, 'max_depth': 28, 'min_samples_split': 0.4268489310635837, 'min_samples_leaf': 0.2727121968650076, 'max_features': 'auto'}. Best is trial 440 with value: 0.6088154269972452.\n",
      "[I 2024-03-14 10:14:46,180] Trial 492 finished with value: 0.33884297520661155 and parameters: {'n_estimators': 138, 'max_depth': 29, 'min_samples_split': 0.4516088319763968, 'min_samples_leaf': 0.9147557508869879, 'max_features': 'auto'}. Best is trial 440 with value: 0.6088154269972452.\n",
      "[I 2024-03-14 10:14:46,438] Trial 493 finished with value: 0.33884297520661155 and parameters: {'n_estimators': 152, 'max_depth': 27, 'min_samples_split': 0.7942450068438707, 'min_samples_leaf': 0.5545289765395834, 'max_features': 'auto'}. Best is trial 440 with value: 0.6088154269972452.\n",
      "[I 2024-03-14 10:14:46,648] Trial 494 finished with value: 0.33884297520661155 and parameters: {'n_estimators': 119, 'max_depth': 30, 'min_samples_split': 0.04748164626270716, 'min_samples_leaf': 0.5365950592954196, 'max_features': 'auto'}. Best is trial 440 with value: 0.6088154269972452.\n",
      "[I 2024-03-14 10:14:46,873] Trial 495 finished with value: 0.33884297520661155 and parameters: {'n_estimators': 135, 'max_depth': 31, 'min_samples_split': 0.028883427448560726, 'min_samples_leaf': 0.6775473140624212, 'max_features': 'auto'}. Best is trial 440 with value: 0.6088154269972452.\n",
      "[I 2024-03-14 10:14:47,425] Trial 496 finished with value: 0.5730027548209367 and parameters: {'n_estimators': 110, 'max_depth': 28, 'min_samples_split': 0.011043023507176904, 'min_samples_leaf': 0.031498346560475066, 'max_features': 'auto'}. Best is trial 440 with value: 0.6088154269972452.\n",
      "[I 2024-03-14 10:14:48,242] Trial 497 finished with value: 0.5867768595041323 and parameters: {'n_estimators': 143, 'max_depth': 29, 'min_samples_split': 0.06890724493220197, 'min_samples_leaf': 0.01035113945172542, 'max_features': 'auto'}. Best is trial 440 with value: 0.6088154269972452.\n",
      "[I 2024-03-14 10:14:49,005] Trial 498 finished with value: 0.5785123966942148 and parameters: {'n_estimators': 148, 'max_depth': 30, 'min_samples_split': 0.04944235124802436, 'min_samples_leaf': 0.03332597485748344, 'max_features': 'auto'}. Best is trial 440 with value: 0.6088154269972452.\n",
      "[I 2024-03-14 10:14:49,257] Trial 499 finished with value: 0.33884297520661155 and parameters: {'n_estimators': 130, 'max_depth': 27, 'min_samples_split': 0.03147512888451853, 'min_samples_leaf': 0.33606673642680723, 'max_features': 'auto'}. Best is trial 440 with value: 0.6088154269972452.\n",
      "[I 2024-03-14 10:14:49,861] Trial 500 finished with value: 0.5730027548209367 and parameters: {'n_estimators': 122, 'max_depth': 29, 'min_samples_split': 0.03064131527489749, 'min_samples_leaf': 0.05298431561973374, 'max_features': 'auto'}. Best is trial 440 with value: 0.6088154269972452.\n",
      "[I 2024-03-14 10:14:50,287] Trial 501 finished with value: 0.33884297520661155 and parameters: {'n_estimators': 284, 'max_depth': 28, 'min_samples_split': 0.7355322457596282, 'min_samples_leaf': 0.39589599080549087, 'max_features': 'auto'}. Best is trial 440 with value: 0.6088154269972452.\n",
      "[I 2024-03-14 10:14:51,000] Trial 502 finished with value: 0.5840220385674931 and parameters: {'n_estimators': 154, 'max_depth': 31, 'min_samples_split': 0.050308049191915026, 'min_samples_leaf': 0.030773408642342723, 'max_features': 'auto'}. Best is trial 440 with value: 0.6088154269972452.\n",
      "[I 2024-03-14 10:14:51,742] Trial 503 finished with value: 0.5922865013774105 and parameters: {'n_estimators': 139, 'max_depth': 30, 'min_samples_split': 0.06823753065907148, 'min_samples_leaf': 0.010197818174968539, 'max_features': 'auto'}. Best is trial 440 with value: 0.6088154269972452.\n",
      "[I 2024-03-14 10:14:52,227] Trial 504 finished with value: 0.5647382920110193 and parameters: {'n_estimators': 127, 'max_depth': 26, 'min_samples_split': 0.026436174965972666, 'min_samples_leaf': 0.053962217489995835, 'max_features': 'auto'}. Best is trial 440 with value: 0.6088154269972452.\n",
      "[I 2024-03-14 10:14:52,453] Trial 505 finished with value: 0.33884297520661155 and parameters: {'n_estimators': 152, 'max_depth': 29, 'min_samples_split': 0.011931207364323812, 'min_samples_leaf': 0.6446315540407673, 'max_features': 'auto'}. Best is trial 440 with value: 0.6088154269972452.\n",
      "[I 2024-03-14 10:14:52,672] Trial 506 finished with value: 0.33884297520661155 and parameters: {'n_estimators': 147, 'max_depth': 31, 'min_samples_split': 0.04522204242188324, 'min_samples_leaf': 0.729289247444602, 'max_features': 'auto'}. Best is trial 440 with value: 0.6088154269972452.\n",
      "[I 2024-03-14 10:14:53,302] Trial 507 finished with value: 0.5785123966942148 and parameters: {'n_estimators': 142, 'max_depth': 28, 'min_samples_split': 0.06934795227981756, 'min_samples_leaf': 0.03261981675907695, 'max_features': 'auto'}. Best is trial 440 with value: 0.6088154269972452.\n",
      "[I 2024-03-14 10:14:53,796] Trial 508 finished with value: 0.5730027548209367 and parameters: {'n_estimators': 133, 'max_depth': 27, 'min_samples_split': 0.01036185407200358, 'min_samples_leaf': 0.05745413021687823, 'max_features': 'auto'}. Best is trial 440 with value: 0.6088154269972452.\n",
      "[I 2024-03-14 10:14:54,490] Trial 509 finished with value: 0.5757575757575758 and parameters: {'n_estimators': 153, 'max_depth': 30, 'min_samples_split': 0.04372134573716289, 'min_samples_leaf': 0.03178250234269798, 'max_features': 'auto'}. Best is trial 440 with value: 0.6088154269972452.\n",
      "[I 2024-03-14 10:14:54,689] Trial 510 finished with value: 0.33884297520661155 and parameters: {'n_estimators': 137, 'max_depth': 32, 'min_samples_split': 0.9547386400450577, 'min_samples_leaf': 0.4554656305084139, 'max_features': 'auto'}. Best is trial 440 with value: 0.6088154269972452.\n",
      "[I 2024-03-14 10:14:55,093] Trial 511 finished with value: 0.5179063360881543 and parameters: {'n_estimators': 145, 'max_depth': 29, 'min_samples_split': 0.4642384536588543, 'min_samples_leaf': 0.011406282548573819, 'max_features': 'auto'}. Best is trial 440 with value: 0.6088154269972452.\n",
      "[I 2024-03-14 10:14:55,308] Trial 512 finished with value: 0.33884297520661155 and parameters: {'n_estimators': 148, 'max_depth': 30, 'min_samples_split': 0.03164837206613554, 'min_samples_leaf': 0.3574448733341189, 'max_features': 'auto'}. Best is trial 440 with value: 0.6088154269972452.\n",
      "[I 2024-03-14 10:14:55,597] Trial 513 finished with value: 0.48484848484848486 and parameters: {'n_estimators': 124, 'max_depth': 28, 'min_samples_split': 0.07015378865406578, 'min_samples_leaf': 0.18328748587492982, 'max_features': 'auto'}. Best is trial 440 with value: 0.6088154269972452.\n",
      "[I 2024-03-14 10:14:56,309] Trial 514 finished with value: 0.6060606060606061 and parameters: {'n_estimators': 131, 'max_depth': 29, 'min_samples_split': 0.04869775956781133, 'min_samples_leaf': 0.010438028287187123, 'max_features': 'auto'}. Best is trial 440 with value: 0.6088154269972452.\n",
      "[I 2024-03-14 10:14:56,503] Trial 515 finished with value: 0.33884297520661155 and parameters: {'n_estimators': 130, 'max_depth': 28, 'min_samples_split': 0.04873298181840369, 'min_samples_leaf': 0.4870694316930097, 'max_features': 'auto'}. Best is trial 440 with value: 0.6088154269972452.\n",
      "[I 2024-03-14 10:14:57,078] Trial 516 finished with value: 0.559228650137741 and parameters: {'n_estimators': 137, 'max_depth': 29, 'min_samples_split': 0.05325985613331144, 'min_samples_leaf': 0.036753096242390766, 'max_features': 'auto'}. Best is trial 440 with value: 0.6088154269972452.\n",
      "[I 2024-03-14 10:14:57,449] Trial 517 finished with value: 0.512396694214876 and parameters: {'n_estimators': 133, 'max_depth': 27, 'min_samples_split': 0.4187131203629634, 'min_samples_leaf': 0.053948182754164596, 'max_features': 'auto'}. Best is trial 440 with value: 0.6088154269972452.\n",
      "[I 2024-03-14 10:14:57,641] Trial 518 finished with value: 0.33884297520661155 and parameters: {'n_estimators': 129, 'max_depth': 31, 'min_samples_split': 0.010652404642067986, 'min_samples_leaf': 0.8138355972805115, 'max_features': 'auto'}. Best is trial 440 with value: 0.6088154269972452.\n",
      "[I 2024-03-14 10:14:57,851] Trial 519 finished with value: 0.33884297520661155 and parameters: {'n_estimators': 141, 'max_depth': 26, 'min_samples_split': 0.07177683619645507, 'min_samples_leaf': 0.42933705352911455, 'max_features': 'auto'}. Best is trial 440 with value: 0.6088154269972452.\n",
      "[I 2024-03-14 10:14:58,076] Trial 520 finished with value: 0.33884297520661155 and parameters: {'n_estimators': 126, 'max_depth': 28, 'min_samples_split': 0.03001171004717497, 'min_samples_leaf': 0.35390244121775516, 'max_features': 'auto'}. Best is trial 440 with value: 0.6088154269972452.\n",
      "[I 2024-03-14 10:14:58,254] Trial 521 finished with value: 0.33884297520661155 and parameters: {'n_estimators': 120, 'max_depth': 29, 'min_samples_split': 0.04880778088608159, 'min_samples_leaf': 0.8617727178914012, 'max_features': 'auto'}. Best is trial 440 with value: 0.6088154269972452.\n",
      "[I 2024-03-14 10:14:58,885] Trial 522 finished with value: 0.5950413223140496 and parameters: {'n_estimators': 134, 'max_depth': 31, 'min_samples_split': 0.11527893281980098, 'min_samples_leaf': 0.010142252185419979, 'max_features': 'auto'}. Best is trial 440 with value: 0.6088154269972452.\n",
      "[I 2024-03-14 10:14:59,098] Trial 523 finished with value: 0.33884297520661155 and parameters: {'n_estimators': 135, 'max_depth': 31, 'min_samples_split': 0.38053518459493585, 'min_samples_leaf': 0.583898372597847, 'max_features': 'auto'}. Best is trial 440 with value: 0.6088154269972452.\n",
      "[I 2024-03-14 10:14:59,371] Trial 524 finished with value: 0.46005509641873277 and parameters: {'n_estimators': 134, 'max_depth': 32, 'min_samples_split': 0.35437620169384454, 'min_samples_leaf': 0.25035953341639766, 'max_features': 'auto'}. Best is trial 440 with value: 0.6088154269972452.\n",
      "[I 2024-03-14 10:14:59,584] Trial 525 finished with value: 0.33884297520661155 and parameters: {'n_estimators': 130, 'max_depth': 32, 'min_samples_split': 0.06307912577391932, 'min_samples_leaf': 0.47458882622308884, 'max_features': 'auto'}. Best is trial 440 with value: 0.6088154269972452.\n",
      "[I 2024-03-14 10:14:59,789] Trial 526 finished with value: 0.33884297520661155 and parameters: {'n_estimators': 139, 'max_depth': 29, 'min_samples_split': 0.899643616686691, 'min_samples_leaf': 0.03325011590950483, 'max_features': 'auto'}. Best is trial 440 with value: 0.6088154269972452.\n",
      "[I 2024-03-14 10:14:59,975] Trial 527 finished with value: 0.33884297520661155 and parameters: {'n_estimators': 125, 'max_depth': 30, 'min_samples_split': 0.875747351454309, 'min_samples_leaf': 0.056280458884695635, 'max_features': 'auto'}. Best is trial 440 with value: 0.6088154269972452.\n",
      "[I 2024-03-14 10:15:00,250] Trial 528 finished with value: 0.45454545454545453 and parameters: {'n_estimators': 141, 'max_depth': 27, 'min_samples_split': 0.07228477376324074, 'min_samples_leaf': 0.295940952050919, 'max_features': 'auto'}. Best is trial 440 with value: 0.6088154269972452.\n",
      "[I 2024-03-14 10:15:00,453] Trial 529 finished with value: 0.33884297520661155 and parameters: {'n_estimators': 132, 'max_depth': 28, 'min_samples_split': 0.8080268264829691, 'min_samples_leaf': 0.011792014495902644, 'max_features': 'auto'}. Best is trial 440 with value: 0.6088154269972452.\n",
      "[I 2024-03-14 10:15:01,087] Trial 530 finished with value: 0.5977961432506887 and parameters: {'n_estimators': 137, 'max_depth': 31, 'min_samples_split': 0.1142340803823603, 'min_samples_leaf': 0.010773608588991835, 'max_features': 'auto'}. Best is trial 440 with value: 0.6088154269972452.\n",
      "[I 2024-03-14 10:15:01,415] Trial 531 finished with value: 0.4738292011019284 and parameters: {'n_estimators': 137, 'max_depth': 32, 'min_samples_split': 0.110246699246691, 'min_samples_leaf': 0.21549182512799464, 'max_features': 'auto'}. Best is trial 440 with value: 0.6088154269972452.\n",
      "[I 2024-03-14 10:15:01,668] Trial 532 finished with value: 0.33884297520661155 and parameters: {'n_estimators': 143, 'max_depth': 26, 'min_samples_split': 0.10753295518546976, 'min_samples_leaf': 0.9703873853769567, 'max_features': 'auto'}. Best is trial 440 with value: 0.6088154269972452.\n",
      "[I 2024-03-14 10:15:02,291] Trial 533 finished with value: 0.5840220385674931 and parameters: {'n_estimators': 115, 'max_depth': 31, 'min_samples_split': 0.07279488888393984, 'min_samples_leaf': 0.011170564086597171, 'max_features': 'auto'}. Best is trial 440 with value: 0.6088154269972452.\n",
      "[I 2024-03-14 10:15:02,511] Trial 534 finished with value: 0.33884297520661155 and parameters: {'n_estimators': 134, 'max_depth': 29, 'min_samples_split': 0.10945127732354254, 'min_samples_leaf': 0.3363278060577517, 'max_features': 'auto'}. Best is trial 440 with value: 0.6088154269972452.\n",
      "[I 2024-03-14 10:15:02,731] Trial 535 finished with value: 0.33884297520661155 and parameters: {'n_estimators': 137, 'max_depth': 27, 'min_samples_split': 0.05105036543531726, 'min_samples_leaf': 0.567638894592925, 'max_features': 'auto'}. Best is trial 440 with value: 0.6088154269972452.\n",
      "[I 2024-03-14 10:15:03,357] Trial 536 finished with value: 0.5867768595041323 and parameters: {'n_estimators': 122, 'max_depth': 31, 'min_samples_split': 0.12562456978223968, 'min_samples_leaf': 0.010150965123085042, 'max_features': 'auto'}. Best is trial 440 with value: 0.6088154269972452.\n",
      "[I 2024-03-14 10:15:04,213] Trial 537 finished with value: 0.6005509641873278 and parameters: {'n_estimators': 131, 'max_depth': 28, 'min_samples_split': 0.011582443013696098, 'min_samples_leaf': 0.010190448139632054, 'max_features': 'auto'}. Best is trial 440 with value: 0.6088154269972452.\n",
      "[I 2024-03-14 10:15:04,609] Trial 538 finished with value: 0.5234159779614325 and parameters: {'n_estimators': 128, 'max_depth': 28, 'min_samples_split': 0.41440129308688356, 'min_samples_leaf': 0.037327408399154716, 'max_features': 'auto'}. Best is trial 440 with value: 0.6088154269972452.\n",
      "[I 2024-03-14 10:15:05,437] Trial 539 finished with value: 0.6033057851239669 and parameters: {'n_estimators': 129, 'max_depth': 27, 'min_samples_split': 0.01196673018043504, 'min_samples_leaf': 0.010335682084491891, 'max_features': 'auto'}. Best is trial 440 with value: 0.6088154269972452.\n",
      "[I 2024-03-14 10:15:05,649] Trial 540 finished with value: 0.33884297520661155 and parameters: {'n_estimators': 131, 'max_depth': 25, 'min_samples_split': 0.01241549744354195, 'min_samples_leaf': 0.7674553981338357, 'max_features': 'auto'}. Best is trial 440 with value: 0.6088154269972452.\n",
      "[I 2024-03-14 10:15:06,392] Trial 541 finished with value: 0.581267217630854 and parameters: {'n_estimators': 128, 'max_depth': 26, 'min_samples_split': 0.025214838073563825, 'min_samples_leaf': 0.011848132576717837, 'max_features': 'auto'}. Best is trial 440 with value: 0.6088154269972452.\n",
      "[I 2024-03-14 10:15:06,604] Trial 542 finished with value: 0.33884297520661155 and parameters: {'n_estimators': 132, 'max_depth': 27, 'min_samples_split': 0.012974196133019752, 'min_samples_leaf': 0.3809465272020327, 'max_features': 'auto'}. Best is trial 440 with value: 0.6088154269972452.\n",
      "[I 2024-03-14 10:15:07,411] Trial 543 finished with value: 0.5840220385674931 and parameters: {'n_estimators': 137, 'max_depth': 28, 'min_samples_split': 0.02842625850965154, 'min_samples_leaf': 0.011237940111910063, 'max_features': 'auto'}. Best is trial 440 with value: 0.6088154269972452.\n",
      "[I 2024-03-14 10:15:07,926] Trial 544 finished with value: 0.559228650137741 and parameters: {'n_estimators': 120, 'max_depth': 27, 'min_samples_split': 0.01090975069535903, 'min_samples_leaf': 0.040033135186915404, 'max_features': 'auto'}. Best is trial 440 with value: 0.6088154269972452.\n",
      "[I 2024-03-14 10:15:08,120] Trial 545 finished with value: 0.33884297520661155 and parameters: {'n_estimators': 124, 'max_depth': 28, 'min_samples_split': 0.3361626123672996, 'min_samples_leaf': 0.4450847395677894, 'max_features': 'auto'}. Best is trial 440 with value: 0.6088154269972452.\n",
      "[I 2024-03-14 10:15:08,638] Trial 546 finished with value: 0.5674931129476584 and parameters: {'n_estimators': 127, 'max_depth': 9, 'min_samples_split': 0.010162333377797261, 'min_samples_leaf': 0.05297733980676207, 'max_features': 'auto'}. Best is trial 440 with value: 0.6088154269972452.\n",
      "[I 2024-03-14 10:15:08,853] Trial 547 finished with value: 0.33884297520661155 and parameters: {'n_estimators': 141, 'max_depth': 29, 'min_samples_split': 0.054193621102334784, 'min_samples_leaf': 0.5140206665384345, 'max_features': 'auto'}. Best is trial 440 with value: 0.6088154269972452.\n",
      "[I 2024-03-14 10:15:09,544] Trial 548 finished with value: 0.5867768595041323 and parameters: {'n_estimators': 134, 'max_depth': 26, 'min_samples_split': 0.0709451267182722, 'min_samples_leaf': 0.010054729577686265, 'max_features': 'auto'}. Best is trial 440 with value: 0.6088154269972452.\n",
      "[I 2024-03-14 10:15:10,007] Trial 549 finished with value: 0.5316804407713499 and parameters: {'n_estimators': 144, 'max_depth': 27, 'min_samples_split': 0.3394209249878934, 'min_samples_leaf': 0.034235574223777814, 'max_features': 'auto'}. Best is trial 440 with value: 0.6088154269972452.\n",
      "[I 2024-03-14 10:15:10,356] Trial 550 finished with value: 0.5206611570247934 and parameters: {'n_estimators': 131, 'max_depth': 28, 'min_samples_split': 0.47115133288832756, 'min_samples_leaf': 0.03424577999696718, 'max_features': 'auto'}. Best is trial 440 with value: 0.6088154269972452.\n",
      "[I 2024-03-14 10:15:10,563] Trial 551 finished with value: 0.33884297520661155 and parameters: {'n_estimators': 139, 'max_depth': 29, 'min_samples_split': 0.1352165877180313, 'min_samples_leaf': 0.47261834879338066, 'max_features': 'auto'}. Best is trial 440 with value: 0.6088154269972452.\n",
      "[I 2024-03-14 10:15:10,851] Trial 552 finished with value: 0.48760330578512395 and parameters: {'n_estimators': 126, 'max_depth': 29, 'min_samples_split': 0.44216385017863635, 'min_samples_leaf': 0.1602494949545359, 'max_features': 'auto'}. Best is trial 440 with value: 0.6088154269972452.\n",
      "[I 2024-03-14 10:15:11,218] Trial 553 finished with value: 0.33884297520661155 and parameters: {'n_estimators': 271, 'max_depth': 28, 'min_samples_split': 0.9890108710112813, 'min_samples_leaf': 0.22896140539605897, 'max_features': 'auto'}. Best is trial 440 with value: 0.6088154269972452.\n",
      "[I 2024-03-14 10:15:11,433] Trial 554 finished with value: 0.33884297520661155 and parameters: {'n_estimators': 135, 'max_depth': 25, 'min_samples_split': 0.7535901294467472, 'min_samples_leaf': 0.010000877449014818, 'max_features': 'auto'}. Best is trial 440 with value: 0.6088154269972452.\n",
      "[I 2024-03-14 10:15:11,728] Trial 555 finished with value: 0.33884297520661155 and parameters: {'n_estimators': 212, 'max_depth': 26, 'min_samples_split': 0.031147249207505154, 'min_samples_leaf': 0.5171051435242631, 'max_features': 'auto'}. Best is trial 440 with value: 0.6088154269972452.\n",
      "[I 2024-03-14 10:15:12,269] Trial 556 finished with value: 0.5647382920110193 and parameters: {'n_estimators': 145, 'max_depth': 27, 'min_samples_split': 0.0491420193666808, 'min_samples_leaf': 0.05624476095258801, 'max_features': 'auto'}. Best is trial 440 with value: 0.6088154269972452.\n",
      "[I 2024-03-14 10:15:12,449] Trial 557 finished with value: 0.33884297520661155 and parameters: {'n_estimators': 118, 'max_depth': 30, 'min_samples_split': 0.11163079425747843, 'min_samples_leaf': 0.8249177708594796, 'max_features': 'auto'}. Best is trial 440 with value: 0.6088154269972452.\n",
      "[I 2024-03-14 10:15:12,640] Trial 558 finished with value: 0.33884297520661155 and parameters: {'n_estimators': 129, 'max_depth': 29, 'min_samples_split': 0.6931684970882575, 'min_samples_leaf': 0.2891827525002445, 'max_features': 'auto'}. Best is trial 440 with value: 0.6088154269972452.\n",
      "[I 2024-03-14 10:15:13,270] Trial 559 finished with value: 0.5730027548209367 and parameters: {'n_estimators': 139, 'max_depth': 28, 'min_samples_split': 0.0288274404918255, 'min_samples_leaf': 0.03333229317598454, 'max_features': 'auto'}. Best is trial 440 with value: 0.6088154269972452.\n",
      "[I 2024-03-14 10:15:13,573] Trial 560 finished with value: 0.48484848484848486 and parameters: {'n_estimators': 133, 'max_depth': 30, 'min_samples_split': 0.052837892091070995, 'min_samples_leaf': 0.18821831011239679, 'max_features': 'auto'}. Best is trial 440 with value: 0.6088154269972452.\n",
      "[I 2024-03-14 10:15:14,220] Trial 561 finished with value: 0.5840220385674931 and parameters: {'n_estimators': 123, 'max_depth': 29, 'min_samples_split': 0.06953764249468042, 'min_samples_leaf': 0.010115320897021808, 'max_features': 'auto'}. Best is trial 440 with value: 0.6088154269972452.\n",
      "[I 2024-03-14 10:15:14,460] Trial 562 finished with value: 0.4490358126721763 and parameters: {'n_estimators': 147, 'max_depth': 27, 'min_samples_split': 0.3920873915404309, 'min_samples_leaf': 0.31745558061951007, 'max_features': 'auto'}. Best is trial 440 with value: 0.6088154269972452.\n",
      "[I 2024-03-14 10:15:14,660] Trial 563 finished with value: 0.33884297520661155 and parameters: {'n_estimators': 136, 'max_depth': 28, 'min_samples_split': 0.7112660547218072, 'min_samples_leaf': 0.6802678441332688, 'max_features': 'auto'}. Best is trial 440 with value: 0.6088154269972452.\n",
      "[I 2024-03-14 10:15:14,877] Trial 564 finished with value: 0.33884297520661155 and parameters: {'n_estimators': 141, 'max_depth': 30, 'min_samples_split': 0.38262360082495694, 'min_samples_leaf': 0.7050334752293831, 'max_features': 'auto'}. Best is trial 440 with value: 0.6088154269972452.\n",
      "[I 2024-03-14 10:15:15,076] Trial 565 finished with value: 0.33884297520661155 and parameters: {'n_estimators': 129, 'max_depth': 29, 'min_samples_split': 0.3477745971975602, 'min_samples_leaf': 0.547939619035949, 'max_features': 'auto'}. Best is trial 440 with value: 0.6088154269972452.\n",
      "[I 2024-03-14 10:15:15,390] Trial 566 finished with value: 0.4986225895316804 and parameters: {'n_estimators': 123, 'max_depth': 32, 'min_samples_split': 0.0274682593480741, 'min_samples_leaf': 0.16810749004907813, 'max_features': 'auto'}. Best is trial 440 with value: 0.6088154269972452.\n",
      "[I 2024-03-14 10:15:15,585] Trial 567 finished with value: 0.33884297520661155 and parameters: {'n_estimators': 132, 'max_depth': 27, 'min_samples_split': 0.010314450683181785, 'min_samples_leaf': 0.4329906246376513, 'max_features': 'auto'}. Best is trial 440 with value: 0.6088154269972452.\n",
      "[I 2024-03-14 10:15:15,830] Trial 568 finished with value: 0.33884297520661155 and parameters: {'n_estimators': 144, 'max_depth': 31, 'min_samples_split': 0.046931517883761154, 'min_samples_leaf': 0.5209052137751812, 'max_features': 'auto'}. Best is trial 440 with value: 0.6088154269972452.\n",
      "[I 2024-03-14 10:15:16,040] Trial 569 finished with value: 0.33884297520661155 and parameters: {'n_estimators': 138, 'max_depth': 28, 'min_samples_split': 0.07281582854345553, 'min_samples_leaf': 0.7526281528276453, 'max_features': 'auto'}. Best is trial 440 with value: 0.6088154269972452.\n",
      "[I 2024-03-14 10:15:16,233] Trial 570 finished with value: 0.33884297520661155 and parameters: {'n_estimators': 126, 'max_depth': 30, 'min_samples_split': 0.14722893227121567, 'min_samples_leaf': 0.7112803381879831, 'max_features': 'auto'}. Best is trial 440 with value: 0.6088154269972452.\n",
      "[I 2024-03-14 10:15:16,525] Trial 571 finished with value: 0.45454545454545453 and parameters: {'n_estimators': 150, 'max_depth': 29, 'min_samples_split': 0.03230941873198251, 'min_samples_leaf': 0.26945702585181647, 'max_features': 'auto'}. Best is trial 440 with value: 0.6088154269972452.\n",
      "[I 2024-03-14 10:15:16,705] Trial 572 finished with value: 0.33884297520661155 and parameters: {'n_estimators': 113, 'max_depth': 25, 'min_samples_split': 0.9488559403661073, 'min_samples_leaf': 0.646497981674785, 'max_features': 'auto'}. Best is trial 440 with value: 0.6088154269972452.\n",
      "[I 2024-03-14 10:15:17,215] Trial 573 finished with value: 0.5674931129476584 and parameters: {'n_estimators': 135, 'max_depth': 32, 'min_samples_split': 0.0522958202698874, 'min_samples_leaf': 0.051598237615683065, 'max_features': 'auto'}. Best is trial 440 with value: 0.6088154269972452.\n",
      "[I 2024-03-14 10:15:17,596] Trial 574 finished with value: 0.33884297520661155 and parameters: {'n_estimators': 227, 'max_depth': 26, 'min_samples_split': 0.011331236430734493, 'min_samples_leaf': 0.6242134379421802, 'max_features': 'auto'}. Best is trial 440 with value: 0.6088154269972452.\n",
      "[I 2024-03-14 10:15:18,287] Trial 575 finished with value: 0.5702479338842975 and parameters: {'n_estimators': 148, 'max_depth': 28, 'min_samples_split': 0.010157471849370001, 'min_samples_leaf': 0.03462880009175591, 'max_features': 'auto'}. Best is trial 440 with value: 0.6088154269972452.\n",
      "[I 2024-03-14 10:15:18,509] Trial 576 finished with value: 0.33884297520661155 and parameters: {'n_estimators': 141, 'max_depth': 30, 'min_samples_split': 0.038612757924505386, 'min_samples_leaf': 0.34454618988098945, 'max_features': 'auto'}. Best is trial 440 with value: 0.6088154269972452.\n",
      "[I 2024-03-14 10:15:19,119] Trial 577 finished with value: 0.5757575757575758 and parameters: {'n_estimators': 131, 'max_depth': 29, 'min_samples_split': 0.11349605916233194, 'min_samples_leaf': 0.03044377747493724, 'max_features': 'auto'}. Best is trial 440 with value: 0.6088154269972452.\n",
      "[I 2024-03-14 10:15:19,366] Trial 578 finished with value: 0.33884297520661155 and parameters: {'n_estimators': 144, 'max_depth': 31, 'min_samples_split': 0.47779910445247575, 'min_samples_leaf': 0.7681240883108158, 'max_features': 'auto'}. Best is trial 440 with value: 0.6088154269972452.\n",
      "[I 2024-03-14 10:15:19,597] Trial 579 finished with value: 0.33884297520661155 and parameters: {'n_estimators': 120, 'max_depth': 27, 'min_samples_split': 0.07628358777623864, 'min_samples_leaf': 0.5341931315006384, 'max_features': 'auto'}. Best is trial 440 with value: 0.6088154269972452.\n",
      "[I 2024-03-14 10:15:19,817] Trial 580 finished with value: 0.33884297520661155 and parameters: {'n_estimators': 127, 'max_depth': 28, 'min_samples_split': 0.05155388324946826, 'min_samples_leaf': 0.926345674017871, 'max_features': 'auto'}. Best is trial 440 with value: 0.6088154269972452.\n",
      "[I 2024-03-14 10:15:20,115] Trial 581 finished with value: 0.465564738292011 and parameters: {'n_estimators': 136, 'max_depth': 29, 'min_samples_split': 0.03125001575308927, 'min_samples_leaf': 0.24901459925801536, 'max_features': 'auto'}. Best is trial 440 with value: 0.6088154269972452.\n",
      "[I 2024-03-14 10:15:20,575] Trial 582 finished with value: 0.5151515151515151 and parameters: {'n_estimators': 151, 'max_depth': 30, 'min_samples_split': 0.32989176125009406, 'min_samples_leaf': 0.059732985791329435, 'max_features': 'auto'}. Best is trial 440 with value: 0.6088154269972452.\n",
      "[I 2024-03-14 10:15:21,194] Trial 583 finished with value: 0.5702479338842975 and parameters: {'n_estimators': 139, 'max_depth': 26, 'min_samples_split': 0.16098113617392135, 'min_samples_leaf': 0.010399896324457444, 'max_features': 'auto'}. Best is trial 440 with value: 0.6088154269972452.\n",
      "[I 2024-03-14 10:15:21,813] Trial 584 finished with value: 0.5840220385674931 and parameters: {'n_estimators': 132, 'max_depth': 31, 'min_samples_split': 0.03375292360457595, 'min_samples_leaf': 0.03262174973946026, 'max_features': 'auto'}. Best is trial 440 with value: 0.6088154269972452.\n",
      "[I 2024-03-14 10:15:22,042] Trial 585 finished with value: 0.33884297520661155 and parameters: {'n_estimators': 147, 'max_depth': 27, 'min_samples_split': 0.06198569815041119, 'min_samples_leaf': 0.3953942742205666, 'max_features': 'auto'}. Best is trial 440 with value: 0.6088154269972452.\n",
      "[I 2024-03-14 10:15:22,790] Trial 586 finished with value: 0.5977961432506887 and parameters: {'n_estimators': 125, 'max_depth': 29, 'min_samples_split': 0.033363928044672836, 'min_samples_leaf': 0.010620297564374081, 'max_features': 'auto'}. Best is trial 440 with value: 0.6088154269972452.\n",
      "[I 2024-03-14 10:15:23,140] Trial 587 finished with value: 0.5206611570247934 and parameters: {'n_estimators': 117, 'max_depth': 29, 'min_samples_split': 0.4158180509758907, 'min_samples_leaf': 0.05182910869925105, 'max_features': 'auto'}. Best is trial 440 with value: 0.6088154269972452.\n",
      "[I 2024-03-14 10:15:23,503] Trial 588 finished with value: 0.5261707988980716 and parameters: {'n_estimators': 125, 'max_depth': 28, 'min_samples_split': 0.43284537382170246, 'min_samples_leaf': 0.03238042540537632, 'max_features': 'auto'}. Best is trial 440 with value: 0.6088154269972452.\n",
      "[I 2024-03-14 10:15:23,687] Trial 589 finished with value: 0.33884297520661155 and parameters: {'n_estimators': 120, 'max_depth': 28, 'min_samples_split': 0.01029904932378077, 'min_samples_leaf': 0.876625465503891, 'max_features': 'auto'}. Best is trial 440 with value: 0.6088154269972452.\n",
      "[I 2024-03-14 10:15:23,911] Trial 590 finished with value: 0.33884297520661155 and parameters: {'n_estimators': 128, 'max_depth': 27, 'min_samples_split': 0.029183915486605722, 'min_samples_leaf': 0.9606867342623038, 'max_features': 'auto'}. Best is trial 440 with value: 0.6088154269972452.\n",
      "[I 2024-03-14 10:15:24,113] Trial 591 finished with value: 0.33884297520661155 and parameters: {'n_estimators': 126, 'max_depth': 29, 'min_samples_split': 0.8253213111009521, 'min_samples_leaf': 0.057691509836604496, 'max_features': 'auto'}. Best is trial 440 with value: 0.6088154269972452.\n",
      "[I 2024-03-14 10:15:24,336] Trial 592 finished with value: 0.33884297520661155 and parameters: {'n_estimators': 150, 'max_depth': 30, 'min_samples_split': 0.052849086829570825, 'min_samples_leaf': 0.48392886296651993, 'max_features': 'auto'}. Best is trial 440 with value: 0.6088154269972452.\n",
      "[I 2024-03-14 10:15:24,838] Trial 593 finished with value: 0.5757575757575758 and parameters: {'n_estimators': 107, 'max_depth': 28, 'min_samples_split': 0.026437374744093536, 'min_samples_leaf': 0.030618849064899097, 'max_features': 'auto'}. Best is trial 440 with value: 0.6088154269972452.\n",
      "[I 2024-03-14 10:15:25,030] Trial 594 finished with value: 0.33884297520661155 and parameters: {'n_estimators': 122, 'max_depth': 26, 'min_samples_split': 0.04798697644025518, 'min_samples_leaf': 0.3681207681401831, 'max_features': 'auto'}. Best is trial 440 with value: 0.6088154269972452.\n",
      "[I 2024-03-14 10:15:25,436] Trial 595 finished with value: 0.5206611570247934 and parameters: {'n_estimators': 144, 'max_depth': 30, 'min_samples_split': 0.4509398197987119, 'min_samples_leaf': 0.029543284357917476, 'max_features': 'auto'}. Best is trial 440 with value: 0.6088154269972452.\n",
      "[I 2024-03-14 10:15:25,627] Trial 596 finished with value: 0.33884297520661155 and parameters: {'n_estimators': 129, 'max_depth': 29, 'min_samples_split': 0.35980498915949666, 'min_samples_leaf': 0.5816157542971443, 'max_features': 'auto'}. Best is trial 440 with value: 0.6088154269972452.\n",
      "[I 2024-03-14 10:15:25,811] Trial 597 finished with value: 0.33884297520661155 and parameters: {'n_estimators': 116, 'max_depth': 27, 'min_samples_split': 0.8532668800191656, 'min_samples_leaf': 0.04405629012251325, 'max_features': 'auto'}. Best is trial 440 with value: 0.6088154269972452.\n",
      "[I 2024-03-14 10:15:26,042] Trial 598 finished with value: 0.33884297520661155 and parameters: {'n_estimators': 153, 'max_depth': 29, 'min_samples_split': 0.07131087958524727, 'min_samples_leaf': 0.4291513648266983, 'max_features': 'auto'}. Best is trial 440 with value: 0.6088154269972452.\n",
      "[I 2024-03-14 10:15:26,252] Trial 599 finished with value: 0.33884297520661155 and parameters: {'n_estimators': 140, 'max_depth': 28, 'min_samples_split': 0.7796025516197607, 'min_samples_leaf': 0.011243476588465199, 'max_features': 'auto'}. Best is trial 440 with value: 0.6088154269972452.\n",
      "[I 2024-03-14 10:15:26,813] Trial 600 finished with value: 0.5785123966942148 and parameters: {'n_estimators': 122, 'max_depth': 30, 'min_samples_split': 0.026487993902812874, 'min_samples_leaf': 0.029816548575512344, 'max_features': 'auto'}. Best is trial 440 with value: 0.6088154269972452.\n",
      "[I 2024-03-14 10:15:27,545] Trial 601 finished with value: 0.6005509641873278 and parameters: {'n_estimators': 131, 'max_depth': 28, 'min_samples_split': 0.044618208034628765, 'min_samples_leaf': 0.010047700677040724, 'max_features': 'auto'}. Best is trial 440 with value: 0.6088154269972452.\n",
      "[I 2024-03-14 10:15:28,026] Trial 602 finished with value: 0.5537190082644629 and parameters: {'n_estimators': 129, 'max_depth': 27, 'min_samples_split': 0.03927287099519851, 'min_samples_leaf': 0.05939693768600203, 'max_features': 'auto'}. Best is trial 440 with value: 0.6088154269972452.\n",
      "[I 2024-03-14 10:15:28,210] Trial 603 finished with value: 0.33884297520661155 and parameters: {'n_estimators': 125, 'max_depth': 28, 'min_samples_split': 0.02752764074764872, 'min_samples_leaf': 0.9013189199896581, 'max_features': 'auto'}. Best is trial 440 with value: 0.6088154269972452.\n",
      "[I 2024-03-14 10:15:28,816] Trial 604 finished with value: 0.5647382920110193 and parameters: {'n_estimators': 147, 'max_depth': 26, 'min_samples_split': 0.01026737568997237, 'min_samples_leaf': 0.04511193562880354, 'max_features': 'auto'}. Best is trial 440 with value: 0.6088154269972452.\n",
      "[I 2024-03-14 10:15:29,586] Trial 605 finished with value: 0.5950413223140496 and parameters: {'n_estimators': 131, 'max_depth': 25, 'min_samples_split': 0.04454263560220868, 'min_samples_leaf': 0.010448756437316995, 'max_features': 'auto'}. Best is trial 440 with value: 0.6088154269972452.\n",
      "[I 2024-03-14 10:15:29,796] Trial 606 finished with value: 0.33884297520661155 and parameters: {'n_estimators': 140, 'max_depth': 29, 'min_samples_split': 0.6724317132694384, 'min_samples_leaf': 0.010005891768567823, 'max_features': 'auto'}. Best is trial 440 with value: 0.6088154269972452.\n",
      "[I 2024-03-14 10:15:30,396] Trial 607 finished with value: 0.5674931129476584 and parameters: {'n_estimators': 136, 'max_depth': 27, 'min_samples_split': 0.010986744347101975, 'min_samples_leaf': 0.0335346695266706, 'max_features': 'auto'}. Best is trial 440 with value: 0.6088154269972452.\n",
      "[I 2024-03-14 10:15:30,620] Trial 608 finished with value: 0.33884297520661155 and parameters: {'n_estimators': 151, 'max_depth': 28, 'min_samples_split': 0.07791155822429215, 'min_samples_leaf': 0.7985013796835196, 'max_features': 'auto'}. Best is trial 440 with value: 0.6088154269972452.\n",
      "[I 2024-03-14 10:15:31,148] Trial 609 finished with value: 0.5564738292011019 and parameters: {'n_estimators': 144, 'max_depth': 29, 'min_samples_split': 0.04340393031094542, 'min_samples_leaf': 0.058138659268205606, 'max_features': 'auto'}. Best is trial 440 with value: 0.6088154269972452.\n",
      "[I 2024-03-14 10:15:31,434] Trial 610 finished with value: 0.47107438016528924 and parameters: {'n_estimators': 121, 'max_depth': 28, 'min_samples_split': 0.026581572966636532, 'min_samples_leaf': 0.23266791165007983, 'max_features': 'auto'}. Best is trial 440 with value: 0.6088154269972452.\n",
      "[I 2024-03-14 10:15:31,748] Trial 611 finished with value: 0.512396694214876 and parameters: {'n_estimators': 116, 'max_depth': 26, 'min_samples_split': 0.5083993252413952, 'min_samples_leaf': 0.032814512489110034, 'max_features': 'auto'}. Best is trial 440 with value: 0.6088154269972452.\n",
      "[I 2024-03-14 10:15:31,978] Trial 612 finished with value: 0.33884297520661155 and parameters: {'n_estimators': 153, 'max_depth': 27, 'min_samples_split': 0.49661387371566956, 'min_samples_leaf': 0.4467557024884964, 'max_features': 'auto'}. Best is trial 440 with value: 0.6088154269972452.\n",
      "[I 2024-03-14 10:15:32,180] Trial 613 finished with value: 0.33884297520661155 and parameters: {'n_estimators': 131, 'max_depth': 29, 'min_samples_split': 0.9806089480931709, 'min_samples_leaf': 0.18484493762214366, 'max_features': 'auto'}. Best is trial 440 with value: 0.6088154269972452.\n",
      "[I 2024-03-14 10:15:32,862] Trial 614 finished with value: 0.5922865013774105 and parameters: {'n_estimators': 124, 'max_depth': 28, 'min_samples_split': 0.05964398043941113, 'min_samples_leaf': 0.010283625527435065, 'max_features': 'auto'}. Best is trial 440 with value: 0.6088154269972452.\n",
      "[I 2024-03-14 10:15:33,076] Trial 615 finished with value: 0.33884297520661155 and parameters: {'n_estimators': 142, 'max_depth': 30, 'min_samples_split': 0.031341031261896427, 'min_samples_leaf': 0.4099388172555915, 'max_features': 'auto'}. Best is trial 440 with value: 0.6088154269972452.\n",
      "[I 2024-03-14 10:15:33,442] Trial 616 finished with value: 0.4793388429752066 and parameters: {'n_estimators': 148, 'max_depth': 29, 'min_samples_split': 0.3182965387422118, 'min_samples_leaf': 0.20000377851243764, 'max_features': 'auto'}. Best is trial 440 with value: 0.6088154269972452.\n",
      "[I 2024-03-14 10:15:33,667] Trial 617 finished with value: 0.33884297520661155 and parameters: {'n_estimators': 138, 'max_depth': 27, 'min_samples_split': 0.0497045281489664, 'min_samples_leaf': 0.6606275030126774, 'max_features': 'auto'}. Best is trial 440 with value: 0.6088154269972452.\n",
      "[I 2024-03-14 10:15:33,892] Trial 618 finished with value: 0.33884297520661155 and parameters: {'n_estimators': 128, 'max_depth': 30, 'min_samples_split': 0.07729045988853406, 'min_samples_leaf': 0.36681280845246833, 'max_features': 'auto'}. Best is trial 440 with value: 0.6088154269972452.\n",
      "[I 2024-03-14 10:15:34,112] Trial 619 finished with value: 0.33884297520661155 and parameters: {'n_estimators': 134, 'max_depth': 28, 'min_samples_split': 0.027102900139272773, 'min_samples_leaf': 0.7061899052371565, 'max_features': 'auto'}. Best is trial 440 with value: 0.6088154269972452.\n",
      "[I 2024-03-14 10:15:34,719] Trial 620 finished with value: 0.5730027548209367 and parameters: {'n_estimators': 146, 'max_depth': 29, 'min_samples_split': 0.057768599265887115, 'min_samples_leaf': 0.0459548440348958, 'max_features': 'auto'}. Best is trial 440 with value: 0.6088154269972452.\n",
      "[I 2024-03-14 10:15:35,503] Trial 621 finished with value: 0.5840220385674931 and parameters: {'n_estimators': 154, 'max_depth': 26, 'min_samples_split': 0.010155996342020353, 'min_samples_leaf': 0.03034591734133571, 'max_features': 'auto'}. Best is trial 440 with value: 0.6088154269972452.\n",
      "[I 2024-03-14 10:15:36,052] Trial 622 finished with value: 0.559228650137741 and parameters: {'n_estimators': 137, 'max_depth': 30, 'min_samples_split': 0.01019703764781807, 'min_samples_leaf': 0.06052268538650537, 'max_features': 'auto'}. Best is trial 440 with value: 0.6088154269972452.\n",
      "[I 2024-03-14 10:15:36,260] Trial 623 finished with value: 0.33884297520661155 and parameters: {'n_estimators': 126, 'max_depth': 27, 'min_samples_split': 0.7347906074603181, 'min_samples_leaf': 0.01008301941914449, 'max_features': 'auto'}. Best is trial 440 with value: 0.6088154269972452.\n",
      "[I 2024-03-14 10:15:36,475] Trial 624 finished with value: 0.33884297520661155 and parameters: {'n_estimators': 132, 'max_depth': 32, 'min_samples_split': 0.38456101865257475, 'min_samples_leaf': 0.8335730129117674, 'max_features': 'auto'}. Best is trial 440 with value: 0.6088154269972452.\n",
      "[I 2024-03-14 10:15:37,167] Trial 625 finished with value: 0.581267217630854 and parameters: {'n_estimators': 142, 'max_depth': 28, 'min_samples_split': 0.04005487990789838, 'min_samples_leaf': 0.029812239164462996, 'max_features': 'auto'}. Best is trial 440 with value: 0.6088154269972452.\n",
      "[I 2024-03-14 10:15:37,442] Trial 626 finished with value: 0.45454545454545453 and parameters: {'n_estimators': 123, 'max_depth': 25, 'min_samples_split': 0.4039480130468167, 'min_samples_leaf': 0.3003147630261611, 'max_features': 'auto'}. Best is trial 440 with value: 0.6088154269972452.\n",
      "[I 2024-03-14 10:15:37,925] Trial 627 finished with value: 0.5702479338842975 and parameters: {'n_estimators': 118, 'max_depth': 29, 'min_samples_split': 0.07371609239467561, 'min_samples_leaf': 0.04768725320514569, 'max_features': 'auto'}. Best is trial 440 with value: 0.6088154269972452.\n",
      "[I 2024-03-14 10:15:38,188] Trial 628 finished with value: 0.45454545454545453 and parameters: {'n_estimators': 130, 'max_depth': 30, 'min_samples_split': 0.30775075834249743, 'min_samples_leaf': 0.27272409685472865, 'max_features': 'auto'}. Best is trial 440 with value: 0.6088154269972452.\n",
      "[I 2024-03-14 10:15:38,516] Trial 629 finished with value: 0.4986225895316804 and parameters: {'n_estimators': 111, 'max_depth': 28, 'min_samples_split': 0.3642228860954009, 'min_samples_leaf': 0.16862956260134845, 'max_features': 'auto'}. Best is trial 440 with value: 0.6088154269972452.\n",
      "[I 2024-03-14 10:15:38,772] Trial 630 finished with value: 0.33884297520661155 and parameters: {'n_estimators': 149, 'max_depth': 31, 'min_samples_split': 0.010011420046750428, 'min_samples_leaf': 0.7722393680526219, 'max_features': 'auto'}. Best is trial 440 with value: 0.6088154269972452.\n",
      "[I 2024-03-14 10:15:38,979] Trial 631 finished with value: 0.33884297520661155 and parameters: {'n_estimators': 135, 'max_depth': 27, 'min_samples_split': 0.1011035272683453, 'min_samples_leaf': 0.7257350528060398, 'max_features': 'auto'}. Best is trial 440 with value: 0.6088154269972452.\n",
      "[I 2024-03-14 10:15:39,638] Trial 632 finished with value: 0.581267217630854 and parameters: {'n_estimators': 144, 'max_depth': 29, 'min_samples_split': 0.04596313152341547, 'min_samples_leaf': 0.029400359793197935, 'max_features': 'auto'}. Best is trial 440 with value: 0.6088154269972452.\n",
      "[I 2024-03-14 10:15:39,865] Trial 633 finished with value: 0.33884297520661155 and parameters: {'n_estimators': 154, 'max_depth': 30, 'min_samples_split': 0.6992481582155062, 'min_samples_leaf': 0.45381719515781316, 'max_features': 'auto'}. Best is trial 440 with value: 0.6088154269972452.\n",
      "[I 2024-03-14 10:15:40,075] Trial 634 finished with value: 0.33884297520661155 and parameters: {'n_estimators': 139, 'max_depth': 29, 'min_samples_split': 0.03218346882237941, 'min_samples_leaf': 0.46588245705204656, 'max_features': 'auto'}. Best is trial 440 with value: 0.6088154269972452.\n",
      "[I 2024-03-14 10:15:40,279] Trial 635 finished with value: 0.33884297520661155 and parameters: {'n_estimators': 127, 'max_depth': 28, 'min_samples_split': 0.060283876323784034, 'min_samples_leaf': 0.8377999625852629, 'max_features': 'auto'}. Best is trial 440 with value: 0.6088154269972452.\n",
      "[I 2024-03-14 10:15:40,511] Trial 636 finished with value: 0.33884297520661155 and parameters: {'n_estimators': 149, 'max_depth': 31, 'min_samples_split': 0.03052190129003414, 'min_samples_leaf': 0.8649315428121693, 'max_features': 'auto'}. Best is trial 440 with value: 0.6088154269972452.\n",
      "[I 2024-03-14 10:15:41,248] Trial 637 finished with value: 0.5922865013774105 and parameters: {'n_estimators': 132, 'max_depth': 27, 'min_samples_split': 0.04688840838333566, 'min_samples_leaf': 0.010056497420798241, 'max_features': 'auto'}. Best is trial 440 with value: 0.6088154269972452.\n",
      "[I 2024-03-14 10:15:41,439] Trial 638 finished with value: 0.33884297520661155 and parameters: {'n_estimators': 120, 'max_depth': 28, 'min_samples_split': 0.46171996205785426, 'min_samples_leaf': 0.491314482383839, 'max_features': 'auto'}. Best is trial 440 with value: 0.6088154269972452.\n",
      "[I 2024-03-14 10:15:41,647] Trial 639 finished with value: 0.33884297520661155 and parameters: {'n_estimators': 136, 'max_depth': 30, 'min_samples_split': 0.08020682705269314, 'min_samples_leaf': 0.5439197564122682, 'max_features': 'auto'}. Best is trial 440 with value: 0.6088154269972452.\n",
      "[I 2024-03-14 10:15:42,165] Trial 640 finished with value: 0.5647382920110193 and parameters: {'n_estimators': 142, 'max_depth': 26, 'min_samples_split': 0.028307140941162226, 'min_samples_leaf': 0.0621881445269271, 'max_features': 'auto'}. Best is trial 440 with value: 0.6088154269972452.\n",
      "[I 2024-03-14 10:15:42,731] Trial 641 finished with value: 0.5785123966942148 and parameters: {'n_estimators': 124, 'max_depth': 29, 'min_samples_split': 0.057511976628786224, 'min_samples_leaf': 0.03219176321323983, 'max_features': 'auto'}. Best is trial 440 with value: 0.6088154269972452.\n",
      "[I 2024-03-14 10:15:42,956] Trial 642 finished with value: 0.33884297520661155 and parameters: {'n_estimators': 146, 'max_depth': 28, 'min_samples_split': 0.010459665745493715, 'min_samples_leaf': 0.3241538586899826, 'max_features': 'auto'}. Best is trial 440 with value: 0.6088154269972452.\n",
      "[I 2024-03-14 10:15:43,261] Trial 643 finished with value: 0.46005509641873277 and parameters: {'n_estimators': 154, 'max_depth': 31, 'min_samples_split': 0.029526588003831723, 'min_samples_leaf': 0.24886350156807657, 'max_features': 'auto'}. Best is trial 440 with value: 0.6088154269972452.\n",
      "[I 2024-03-14 10:15:43,791] Trial 644 finished with value: 0.5647382920110193 and parameters: {'n_estimators': 129, 'max_depth': 32, 'min_samples_split': 0.07745110277662567, 'min_samples_leaf': 0.04260211796519542, 'max_features': 'auto'}. Best is trial 440 with value: 0.6088154269972452.\n",
      "[I 2024-03-14 10:15:43,998] Trial 645 finished with value: 0.33884297520661155 and parameters: {'n_estimators': 138, 'max_depth': 29, 'min_samples_split': 0.0453301342224686, 'min_samples_leaf': 0.9294995768882963, 'max_features': 'auto'}. Best is trial 440 with value: 0.6088154269972452.\n",
      "[I 2024-03-14 10:15:44,616] Trial 646 finished with value: 0.581267217630854 and parameters: {'n_estimators': 133, 'max_depth': 27, 'min_samples_split': 0.027686031501637967, 'min_samples_leaf': 0.029094120462564994, 'max_features': 'auto'}. Best is trial 440 with value: 0.6088154269972452.\n",
      "[I 2024-03-14 10:15:44,858] Trial 647 finished with value: 0.33884297520661155 and parameters: {'n_estimators': 150, 'max_depth': 30, 'min_samples_split': 0.7654940476196248, 'min_samples_leaf': 0.5934252200723924, 'max_features': 'auto'}. Best is trial 440 with value: 0.6088154269972452.\n",
      "[I 2024-03-14 10:15:45,081] Trial 648 finished with value: 0.33884297520661155 and parameters: {'n_estimators': 141, 'max_depth': 26, 'min_samples_split': 0.06013728221068841, 'min_samples_leaf': 0.6178548911995334, 'max_features': 'auto'}. Best is trial 440 with value: 0.6088154269972452.\n",
      "[I 2024-03-14 10:15:45,586] Trial 649 finished with value: 0.5564738292011019 and parameters: {'n_estimators': 126, 'max_depth': 28, 'min_samples_split': 0.01073177504091968, 'min_samples_leaf': 0.05810520859476705, 'max_features': 'auto'}. Best is trial 440 with value: 0.6088154269972452.\n",
      "[I 2024-03-14 10:15:45,806] Trial 650 finished with value: 0.33884297520661155 and parameters: {'n_estimators': 145, 'max_depth': 30, 'min_samples_split': 0.10513838722580438, 'min_samples_leaf': 0.9529076869241117, 'max_features': 'auto'}. Best is trial 440 with value: 0.6088154269972452.\n",
      "[I 2024-03-14 10:15:46,361] Trial 651 finished with value: 0.5785123966942148 and parameters: {'n_estimators': 115, 'max_depth': 29, 'min_samples_split': 0.04222916626243117, 'min_samples_leaf': 0.02721793226679063, 'max_features': 'auto'}. Best is trial 440 with value: 0.6088154269972452.\n",
      "[I 2024-03-14 10:15:46,632] Trial 652 finished with value: 0.45179063360881544 and parameters: {'n_estimators': 135, 'max_depth': 27, 'min_samples_split': 0.07029485714570685, 'min_samples_leaf': 0.2735938220062565, 'max_features': 'auto'}. Best is trial 440 with value: 0.6088154269972452.\n",
      "[I 2024-03-14 10:15:46,835] Trial 653 finished with value: 0.33884297520661155 and parameters: {'n_estimators': 130, 'max_depth': 32, 'min_samples_split': 0.8242443394934892, 'min_samples_leaf': 0.04538475112012602, 'max_features': 'auto'}. Best is trial 440 with value: 0.6088154269972452.\n",
      "[I 2024-03-14 10:15:47,169] Trial 654 finished with value: 0.5206611570247934 and parameters: {'n_estimators': 120, 'max_depth': 25, 'min_samples_split': 0.48247616572906754, 'min_samples_leaf': 0.010115148420021449, 'max_features': 'auto'}. Best is trial 440 with value: 0.6088154269972452.\n",
      "[I 2024-03-14 10:15:47,794] Trial 655 finished with value: 0.5674931129476584 and parameters: {'n_estimators': 150, 'max_depth': 29, 'min_samples_split': 0.13053405714595964, 'min_samples_leaf': 0.02870827068428043, 'max_features': 'auto'}. Best is trial 440 with value: 0.6088154269972452.\n",
      "[I 2024-03-14 10:15:48,163] Trial 656 finished with value: 0.5234159779614325 and parameters: {'n_estimators': 139, 'max_depth': 28, 'min_samples_split': 0.5036861195094149, 'min_samples_leaf': 0.010317219583286028, 'max_features': 'auto'}. Best is trial 440 with value: 0.6088154269972452.\n",
      "[I 2024-03-14 10:15:48,772] Trial 657 finished with value: 0.5674931129476584 and parameters: {'n_estimators': 153, 'max_depth': 31, 'min_samples_split': 0.02593266904661804, 'min_samples_leaf': 0.06089944454326212, 'max_features': 'auto'}. Best is trial 440 with value: 0.6088154269972452.\n",
      "[I 2024-03-14 10:15:49,166] Trial 658 finished with value: 0.5234159779614325 and parameters: {'n_estimators': 123, 'max_depth': 30, 'min_samples_split': 0.36086556386047697, 'min_samples_leaf': 0.010155833108015842, 'max_features': 'auto'}. Best is trial 440 with value: 0.6088154269972452.\n",
      "[I 2024-03-14 10:15:49,544] Trial 659 finished with value: 0.33884297520661155 and parameters: {'n_estimators': 222, 'max_depth': 27, 'min_samples_split': 0.04759631403082974, 'min_samples_leaf': 0.8486783058969205, 'max_features': 'auto'}. Best is trial 440 with value: 0.6088154269972452.\n",
      "[I 2024-03-14 10:15:49,758] Trial 660 finished with value: 0.33884297520661155 and parameters: {'n_estimators': 133, 'max_depth': 29, 'min_samples_split': 0.15544833545518771, 'min_samples_leaf': 0.5701697946543407, 'max_features': 'auto'}. Best is trial 440 with value: 0.6088154269972452.\n",
      "[I 2024-03-14 10:15:49,986] Trial 661 finished with value: 0.33884297520661155 and parameters: {'n_estimators': 145, 'max_depth': 50, 'min_samples_split': 0.0943531544511925, 'min_samples_leaf': 0.8732279802037834, 'max_features': 'auto'}. Best is trial 440 with value: 0.6088154269972452.\n",
      "[I 2024-03-14 10:15:50,538] Trial 662 finished with value: 0.5674931129476584 and parameters: {'n_estimators': 127, 'max_depth': 28, 'min_samples_split': 0.026325030032437708, 'min_samples_leaf': 0.04413405222423247, 'max_features': 'auto'}. Best is trial 440 with value: 0.6088154269972452.\n",
      "[I 2024-03-14 10:15:51,234] Trial 663 finished with value: 0.5785123966942148 and parameters: {'n_estimators': 137, 'max_depth': 30, 'min_samples_split': 0.010421385224306539, 'min_samples_leaf': 0.030230385087200627, 'max_features': 'auto'}. Best is trial 440 with value: 0.6088154269972452.\n",
      "[I 2024-03-14 10:15:51,874] Trial 664 finished with value: 0.5619834710743802 and parameters: {'n_estimators': 154, 'max_depth': 26, 'min_samples_split': 0.05736222524167908, 'min_samples_leaf': 0.06437332105197245, 'max_features': 'auto'}. Best is trial 440 with value: 0.6088154269972452.\n",
      "[I 2024-03-14 10:15:52,131] Trial 665 finished with value: 0.33884297520661155 and parameters: {'n_estimators': 142, 'max_depth': 29, 'min_samples_split': 0.45002716680965105, 'min_samples_leaf': 0.3723505645556541, 'max_features': 'auto'}. Best is trial 440 with value: 0.6088154269972452.\n",
      "[I 2024-03-14 10:15:52,876] Trial 666 finished with value: 0.5840220385674931 and parameters: {'n_estimators': 129, 'max_depth': 31, 'min_samples_split': 0.039575514221597816, 'min_samples_leaf': 0.028809091729471176, 'max_features': 'auto'}. Best is trial 440 with value: 0.6088154269972452.\n",
      "[I 2024-03-14 10:15:53,328] Trial 667 finished with value: 0.5151515151515151 and parameters: {'n_estimators': 133, 'max_depth': 28, 'min_samples_split': 0.41200991353369976, 'min_samples_leaf': 0.04401280212705337, 'max_features': 'auto'}. Best is trial 440 with value: 0.6088154269972452.\n",
      "[I 2024-03-14 10:15:53,671] Trial 668 finished with value: 0.33884297520661155 and parameters: {'n_estimators': 149, 'max_depth': 32, 'min_samples_split': 0.8878571056501638, 'min_samples_leaf': 0.02606840658771495, 'max_features': 'auto'}. Best is trial 440 with value: 0.6088154269972452.\n",
      "[I 2024-03-14 10:15:53,965] Trial 669 finished with value: 0.33884297520661155 and parameters: {'n_estimators': 139, 'max_depth': 27, 'min_samples_split': 0.3300362158391307, 'min_samples_leaf': 0.5139175037355305, 'max_features': 'auto'}. Best is trial 440 with value: 0.6088154269972452.\n",
      "[I 2024-03-14 10:15:54,348] Trial 670 finished with value: 0.5013774104683195 and parameters: {'n_estimators': 123, 'max_depth': 29, 'min_samples_split': 0.07734009256955962, 'min_samples_leaf': 0.13703477831207372, 'max_features': 'auto'}. Best is trial 440 with value: 0.6088154269972452.\n",
      "[I 2024-03-14 10:15:54,675] Trial 671 finished with value: 0.48760330578512395 and parameters: {'n_estimators': 145, 'max_depth': 30, 'min_samples_split': 0.04358370934151841, 'min_samples_leaf': 0.21062374076740228, 'max_features': 'auto'}. Best is trial 440 with value: 0.6088154269972452.\n",
      "[I 2024-03-14 10:15:54,912] Trial 672 finished with value: 0.33884297520661155 and parameters: {'n_estimators': 131, 'max_depth': 28, 'min_samples_split': 0.027855872981678485, 'min_samples_leaf': 0.9008095251658383, 'max_features': 'auto'}. Best is trial 440 with value: 0.6088154269972452.\n",
      "[I 2024-03-14 10:15:55,329] Trial 673 finished with value: 0.4628099173553719 and parameters: {'n_estimators': 241, 'max_depth': 31, 'min_samples_split': 0.06267564073463491, 'min_samples_leaf': 0.3178272933708659, 'max_features': 'auto'}. Best is trial 440 with value: 0.6088154269972452.\n",
      "[I 2024-03-14 10:15:55,583] Trial 674 finished with value: 0.33884297520661155 and parameters: {'n_estimators': 155, 'max_depth': 27, 'min_samples_split': 0.8516307791867569, 'min_samples_leaf': 0.5609089492380491, 'max_features': 'auto'}. Best is trial 440 with value: 0.6088154269972452.\n",
      "[I 2024-03-14 10:15:56,200] Trial 675 finished with value: 0.5730027548209367 and parameters: {'n_estimators': 137, 'max_depth': 29, 'min_samples_split': 0.0262876502206439, 'min_samples_leaf': 0.04678540297701463, 'max_features': 'auto'}. Best is trial 440 with value: 0.6088154269972452.\n",
      "[I 2024-03-14 10:15:56,966] Trial 676 finished with value: 0.6033057851239669 and parameters: {'n_estimators': 126, 'max_depth': 30, 'min_samples_split': 0.04854507757892583, 'min_samples_leaf': 0.01065022626313074, 'max_features': 'auto'}. Best is trial 440 with value: 0.6088154269972452.\n",
      "[I 2024-03-14 10:15:57,183] Trial 677 finished with value: 0.33884297520661155 and parameters: {'n_estimators': 127, 'max_depth': 28, 'min_samples_split': 0.9064537504740684, 'min_samples_leaf': 0.3547088428735753, 'max_features': 'auto'}. Best is trial 440 with value: 0.6088154269972452.\n",
      "[I 2024-03-14 10:15:57,929] Trial 678 finished with value: 0.5950413223140496 and parameters: {'n_estimators': 133, 'max_depth': 26, 'min_samples_split': 0.10260069922638029, 'min_samples_leaf': 0.010407300366805237, 'max_features': 'auto'}. Best is trial 440 with value: 0.6088154269972452.\n",
      "[I 2024-03-14 10:15:58,170] Trial 679 finished with value: 0.33884297520661155 and parameters: {'n_estimators': 142, 'max_depth': 30, 'min_samples_split': 0.07910611750563044, 'min_samples_leaf': 0.5051424008868103, 'max_features': 'auto'}. Best is trial 440 with value: 0.6088154269972452.\n",
      "[I 2024-03-14 10:15:58,720] Trial 680 finished with value: 0.559228650137741 and parameters: {'n_estimators': 148, 'max_depth': 25, 'min_samples_split': 0.010426925965021863, 'min_samples_leaf': 0.061074272543440694, 'max_features': 'auto'}. Best is trial 440 with value: 0.6088154269972452.\n",
      "[I 2024-03-14 10:15:59,315] Trial 681 finished with value: 0.581267217630854 and parameters: {'n_estimators': 129, 'max_depth': 29, 'min_samples_split': 0.053596660882418906, 'min_samples_leaf': 0.02976624793079328, 'max_features': 'auto'}. Best is trial 440 with value: 0.6088154269972452.\n",
      "[I 2024-03-14 10:15:59,525] Trial 682 finished with value: 0.33884297520661155 and parameters: {'n_estimators': 136, 'max_depth': 28, 'min_samples_split': 0.1281989456026468, 'min_samples_leaf': 0.42335502780737383, 'max_features': 'auto'}. Best is trial 440 with value: 0.6088154269972452.\n",
      "[I 2024-03-14 10:16:00,078] Trial 683 finished with value: 0.559228650137741 and parameters: {'n_estimators': 126, 'max_depth': 27, 'min_samples_split': 0.010001746615540777, 'min_samples_leaf': 0.043790754734359505, 'max_features': 'auto'}. Best is trial 440 with value: 0.6088154269972452.\n",
      "[I 2024-03-14 10:16:00,304] Trial 684 finished with value: 0.33884297520661155 and parameters: {'n_estimators': 151, 'max_depth': 29, 'min_samples_split': 0.6611629179028212, 'min_samples_leaf': 0.027574246987320396, 'max_features': 'auto'}. Best is trial 440 with value: 0.6088154269972452.\n",
      "[I 2024-03-14 10:16:00,830] Trial 685 finished with value: 0.559228650137741 and parameters: {'n_estimators': 141, 'max_depth': 30, 'min_samples_split': 0.06239688676450795, 'min_samples_leaf': 0.0635097203712284, 'max_features': 'auto'}. Best is trial 440 with value: 0.6088154269972452.\n",
      "[I 2024-03-14 10:16:01,075] Trial 686 finished with value: 0.33884297520661155 and parameters: {'n_estimators': 132, 'max_depth': 28, 'min_samples_split': 0.0341415369461598, 'min_samples_leaf': 0.3327387371127732, 'max_features': 'auto'}. Best is trial 440 with value: 0.6088154269972452.\n",
      "[I 2024-03-14 10:16:01,288] Trial 687 finished with value: 0.33884297520661155 and parameters: {'n_estimators': 101, 'max_depth': 30, 'min_samples_split': 0.9191876843945348, 'min_samples_leaf': 0.5299912369119735, 'max_features': 'auto'}. Best is trial 440 with value: 0.6088154269972452.\n",
      "[I 2024-03-14 10:16:01,564] Trial 688 finished with value: 0.33884297520661155 and parameters: {'n_estimators': 146, 'max_depth': 29, 'min_samples_split': 0.3975939482638142, 'min_samples_leaf': 0.8182114607097608, 'max_features': 'auto'}. Best is trial 440 with value: 0.6088154269972452.\n",
      "[I 2024-03-14 10:16:02,453] Trial 689 finished with value: 0.5977961432506887 and parameters: {'n_estimators': 136, 'max_depth': 27, 'min_samples_split': 0.04610363429228782, 'min_samples_leaf': 0.010049185587332882, 'max_features': 'auto'}. Best is trial 440 with value: 0.6088154269972452.\n",
      "[I 2024-03-14 10:16:02,693] Trial 690 finished with value: 0.33884297520661155 and parameters: {'n_estimators': 142, 'max_depth': 26, 'min_samples_split': 0.37586410594722797, 'min_samples_leaf': 0.9782528720142554, 'max_features': 'auto'}. Best is trial 440 with value: 0.6088154269972452.\n",
      "[I 2024-03-14 10:16:02,910] Trial 691 finished with value: 0.33884297520661155 and parameters: {'n_estimators': 136, 'max_depth': 26, 'min_samples_split': 0.6817422340312042, 'min_samples_leaf': 0.02762107752763167, 'max_features': 'auto'}. Best is trial 440 with value: 0.6088154269972452.\n",
      "[I 2024-03-14 10:16:03,204] Trial 692 finished with value: 0.33884297520661155 and parameters: {'n_estimators': 139, 'max_depth': 27, 'min_samples_split': 0.09432989125109277, 'min_samples_leaf': 0.40724159767084434, 'max_features': 'auto'}. Best is trial 440 with value: 0.6088154269972452.\n",
      "[I 2024-03-14 10:16:03,490] Trial 693 finished with value: 0.33884297520661155 and parameters: {'n_estimators': 155, 'max_depth': 25, 'min_samples_split': 0.06564658531500628, 'min_samples_leaf': 0.7958084952404385, 'max_features': 'auto'}. Best is trial 440 with value: 0.6088154269972452.\n",
      "[I 2024-03-14 10:16:03,783] Trial 694 finished with value: 0.33884297520661155 and parameters: {'n_estimators': 147, 'max_depth': 27, 'min_samples_split': 0.5210181635026274, 'min_samples_leaf': 0.7710034322142996, 'max_features': 'auto'}. Best is trial 440 with value: 0.6088154269972452.\n",
      "[I 2024-03-14 10:16:04,305] Trial 695 finished with value: 0.5206611570247934 and parameters: {'n_estimators': 152, 'max_depth': 28, 'min_samples_split': 0.4259622035496685, 'min_samples_leaf': 0.010790811726180655, 'max_features': 'auto'}. Best is trial 440 with value: 0.6088154269972452.\n",
      "[I 2024-03-14 10:16:04,537] Trial 696 finished with value: 0.33884297520661155 and parameters: {'n_estimators': 129, 'max_depth': 31, 'min_samples_split': 0.749237991854322, 'min_samples_leaf': 0.010152519922205339, 'max_features': 'auto'}. Best is trial 440 with value: 0.6088154269972452.\n",
      "[I 2024-03-14 10:16:05,210] Trial 697 finished with value: 0.5730027548209367 and parameters: {'n_estimators': 135, 'max_depth': 30, 'min_samples_split': 0.0296334467588671, 'min_samples_leaf': 0.04377267707232027, 'max_features': 'auto'}. Best is trial 440 with value: 0.6088154269972452.\n",
      "[I 2024-03-14 10:16:05,509] Trial 698 finished with value: 0.33884297520661155 and parameters: {'n_estimators': 144, 'max_depth': 29, 'min_samples_split': 0.7763054998367193, 'min_samples_leaf': 0.06447159652227852, 'max_features': 'auto'}. Best is trial 440 with value: 0.6088154269972452.\n",
      "[I 2024-03-14 10:16:05,843] Trial 699 finished with value: 0.45179063360881544 and parameters: {'n_estimators': 139, 'max_depth': 27, 'min_samples_split': 0.1587057980467088, 'min_samples_leaf': 0.2970865400389552, 'max_features': 'auto'}. Best is trial 440 with value: 0.6088154269972452.\n",
      "[I 2024-03-14 10:16:06,069] Trial 700 finished with value: 0.33884297520661155 and parameters: {'n_estimators': 125, 'max_depth': 28, 'min_samples_split': 0.049043654060034414, 'min_samples_leaf': 0.9892937384435492, 'max_features': 'auto'}. Best is trial 440 with value: 0.6088154269972452.\n",
      "[I 2024-03-14 10:16:07,167] Trial 701 finished with value: 0.6033057851239669 and parameters: {'n_estimators': 149, 'max_depth': 29, 'min_samples_split': 0.010999479228151553, 'min_samples_leaf': 0.010038720706878427, 'max_features': 'auto'}. Best is trial 440 with value: 0.6088154269972452.\n",
      "[I 2024-03-14 10:16:07,588] Trial 702 finished with value: 0.512396694214876 and parameters: {'n_estimators': 119, 'max_depth': 32, 'min_samples_split': 0.47145954069213036, 'min_samples_leaf': 0.046206262573005814, 'max_features': 'auto'}. Best is trial 440 with value: 0.6088154269972452.\n",
      "[I 2024-03-14 10:16:09,018] Trial 703 finished with value: 0.5867768595041323 and parameters: {'n_estimators': 257, 'max_depth': 30, 'min_samples_split': 0.07833926739371694, 'min_samples_leaf': 0.029745361101633137, 'max_features': 'auto'}. Best is trial 440 with value: 0.6088154269972452.\n",
      "[I 2024-03-14 10:16:09,840] Trial 704 finished with value: 0.5757575757575758 and parameters: {'n_estimators': 143, 'max_depth': 29, 'min_samples_split': 0.026190840630143535, 'min_samples_leaf': 0.030938966712920568, 'max_features': 'auto'}. Best is trial 440 with value: 0.6088154269972452.\n",
      "[I 2024-03-14 10:16:10,070] Trial 705 finished with value: 0.33884297520661155 and parameters: {'n_estimators': 131, 'max_depth': 27, 'min_samples_split': 0.7293463077291562, 'min_samples_leaf': 0.18486589875353826, 'max_features': 'auto'}. Best is trial 440 with value: 0.6088154269972452.\n",
      "[I 2024-03-14 10:16:10,335] Trial 706 finished with value: 0.33884297520661155 and parameters: {'n_estimators': 155, 'max_depth': 26, 'min_samples_split': 0.046582163159486815, 'min_samples_leaf': 0.4361617335109427, 'max_features': 'auto'}. Best is trial 440 with value: 0.6088154269972452.\n",
      "[I 2024-03-14 10:16:10,624] Trial 707 finished with value: 0.33884297520661155 and parameters: {'n_estimators': 135, 'max_depth': 31, 'min_samples_split': 0.3096743594697633, 'min_samples_leaf': 0.5894481697755274, 'max_features': 'auto'}. Best is trial 440 with value: 0.6088154269972452.\n",
      "[I 2024-03-14 10:16:11,095] Trial 708 finished with value: 0.5041322314049587 and parameters: {'n_estimators': 148, 'max_depth': 28, 'min_samples_split': 0.029154349030416384, 'min_samples_leaf': 0.1493201148816418, 'max_features': 'auto'}. Best is trial 440 with value: 0.6088154269972452.\n",
      "[I 2024-03-14 10:16:12,311] Trial 709 finished with value: 0.5785123966942148 and parameters: {'n_estimators': 199, 'max_depth': 30, 'min_samples_split': 0.06893622757899091, 'min_samples_leaf': 0.010045067234986747, 'max_features': 'auto'}. Best is trial 440 with value: 0.6088154269972452.\n",
      "[I 2024-03-14 10:16:12,576] Trial 710 finished with value: 0.33884297520661155 and parameters: {'n_estimators': 140, 'max_depth': 29, 'min_samples_split': 0.7031645385835399, 'min_samples_leaf': 0.6882739907163082, 'max_features': 'auto'}. Best is trial 440 with value: 0.6088154269972452.\n",
      "[I 2024-03-14 10:16:12,979] Trial 711 finished with value: 0.509641873278237 and parameters: {'n_estimators': 124, 'max_depth': 28, 'min_samples_split': 0.4943157539261632, 'min_samples_leaf': 0.046381943748923814, 'max_features': 'auto'}. Best is trial 440 with value: 0.6088154269972452.\n",
      "[I 2024-03-14 10:16:13,284] Trial 712 finished with value: 0.4628099173553719 and parameters: {'n_estimators': 128, 'max_depth': 27, 'min_samples_split': 0.010149900381853389, 'min_samples_leaf': 0.255317571536343, 'max_features': 'auto'}. Best is trial 440 with value: 0.6088154269972452.\n",
      "[I 2024-03-14 10:16:13,612] Trial 713 finished with value: 0.4738292011019284 and parameters: {'n_estimators': 137, 'max_depth': 12, 'min_samples_split': 0.17769043586717082, 'min_samples_leaf': 0.21539112963172943, 'max_features': 'auto'}. Best is trial 440 with value: 0.6088154269972452.\n",
      "[I 2024-03-14 10:16:13,898] Trial 714 finished with value: 0.33884297520661155 and parameters: {'n_estimators': 145, 'max_depth': 25, 'min_samples_split': 0.9381978828944466, 'min_samples_leaf': 0.028822636527534546, 'max_features': 'auto'}. Best is trial 440 with value: 0.6088154269972452.\n",
      "[I 2024-03-14 10:16:14,443] Trial 715 finished with value: 0.559228650137741 and parameters: {'n_estimators': 132, 'max_depth': 29, 'min_samples_split': 0.1045010224496169, 'min_samples_leaf': 0.06609740376719507, 'max_features': 'auto'}. Best is trial 440 with value: 0.6088154269972452.\n",
      "[I 2024-03-14 10:16:14,883] Trial 716 finished with value: 0.33884297520661155 and parameters: {'n_estimators': 300, 'max_depth': 31, 'min_samples_split': 0.6499263694892999, 'min_samples_leaf': 0.6136433055673104, 'max_features': 'auto'}. Best is trial 440 with value: 0.6088154269972452.\n",
      "[I 2024-03-14 10:16:15,138] Trial 717 finished with value: 0.33884297520661155 and parameters: {'n_estimators': 151, 'max_depth': 28, 'min_samples_split': 0.0446182116744075, 'min_samples_leaf': 0.6646748201248803, 'max_features': 'auto'}. Best is trial 440 with value: 0.6088154269972452.\n",
      "[I 2024-03-14 10:16:15,859] Trial 718 finished with value: 0.581267217630854 and parameters: {'n_estimators': 157, 'max_depth': 30, 'min_samples_split': 0.010180612712251992, 'min_samples_leaf': 0.028870645739647434, 'max_features': 'auto'}. Best is trial 440 with value: 0.6088154269972452.\n",
      "[I 2024-03-14 10:16:16,310] Trial 719 finished with value: 0.5316804407713499 and parameters: {'n_estimators': 141, 'max_depth': 32, 'min_samples_split': 0.36460001544594034, 'min_samples_leaf': 0.047246650503190275, 'max_features': 'auto'}. Best is trial 440 with value: 0.6088154269972452.\n",
      "[I 2024-03-14 10:16:16,890] Trial 720 finished with value: 0.5840220385674931 and parameters: {'n_estimators': 122, 'max_depth': 29, 'min_samples_split': 0.04846114993678781, 'min_samples_leaf': 0.02718351636165521, 'max_features': 'auto'}. Best is trial 440 with value: 0.6088154269972452.\n",
      "[I 2024-03-14 10:16:18,552] Trial 721 finished with value: 0.5950413223140496 and parameters: {'n_estimators': 291, 'max_depth': 27, 'min_samples_split': 0.028252133081367713, 'min_samples_leaf': 0.01037276370787505, 'max_features': 'auto'}. Best is trial 440 with value: 0.6088154269972452.\n",
      "[I 2024-03-14 10:16:19,125] Trial 722 finished with value: 0.5647382920110193 and parameters: {'n_estimators': 136, 'max_depth': 30, 'min_samples_split': 0.08235546160801284, 'min_samples_leaf': 0.06249022169537599, 'max_features': 'auto'}. Best is trial 440 with value: 0.6088154269972452.\n",
      "[I 2024-03-14 10:16:19,348] Trial 723 finished with value: 0.33884297520661155 and parameters: {'n_estimators': 128, 'max_depth': 26, 'min_samples_split': 0.06406437873728729, 'min_samples_leaf': 0.8840763584437614, 'max_features': 'auto'}. Best is trial 440 with value: 0.6088154269972452.\n",
      "[I 2024-03-14 10:16:20,001] Trial 724 finished with value: 0.5730027548209367 and parameters: {'n_estimators': 146, 'max_depth': 28, 'min_samples_split': 0.029530280598417627, 'min_samples_leaf': 0.045968782885266624, 'max_features': 'auto'}. Best is trial 440 with value: 0.6088154269972452.\n",
      "[I 2024-03-14 10:16:20,260] Trial 725 finished with value: 0.46831955922865015 and parameters: {'n_estimators': 116, 'max_depth': 29, 'min_samples_split': 0.055360143589730196, 'min_samples_leaf': 0.23810231275878038, 'max_features': 'auto'}. Best is trial 440 with value: 0.6088154269972452.\n",
      "[I 2024-03-14 10:16:20,470] Trial 726 finished with value: 0.33884297520661155 and parameters: {'n_estimators': 132, 'max_depth': 31, 'min_samples_split': 0.03145960508779952, 'min_samples_leaf': 0.4728702090601087, 'max_features': 'auto'}. Best is trial 440 with value: 0.6088154269972452.\n",
      "[I 2024-03-14 10:16:21,473] Trial 727 finished with value: 0.5950413223140496 and parameters: {'n_estimators': 149, 'max_depth': 28, 'min_samples_split': 0.0103085634704859, 'min_samples_leaf': 0.010352363366231132, 'max_features': 'auto'}. Best is trial 440 with value: 0.6088154269972452.\n",
      "[I 2024-03-14 10:16:21,792] Trial 728 finished with value: 0.45179063360881544 and parameters: {'n_estimators': 125, 'max_depth': 30, 'min_samples_split': 0.35211608223445556, 'min_samples_leaf': 0.2964010822779578, 'max_features': 'auto'}. Best is trial 440 with value: 0.6088154269972452.\n",
      "[I 2024-03-14 10:16:22,077] Trial 729 finished with value: 0.33884297520661155 and parameters: {'n_estimators': 154, 'max_depth': 26, 'min_samples_split': 0.12409456993012641, 'min_samples_leaf': 0.606119003518323, 'max_features': 'auto'}. Best is trial 440 with value: 0.6088154269972452.\n",
      "[I 2024-03-14 10:16:22,324] Trial 730 finished with value: 0.33884297520661155 and parameters: {'n_estimators': 139, 'max_depth': 27, 'min_samples_split': 0.0838251337902324, 'min_samples_leaf': 0.9723352893385414, 'max_features': 'auto'}. Best is trial 440 with value: 0.6088154269972452.\n",
      "[I 2024-03-14 10:16:22,567] Trial 731 finished with value: 0.33884297520661155 and parameters: {'n_estimators': 134, 'max_depth': 8, 'min_samples_split': 0.8767644777104666, 'min_samples_leaf': 0.751446272614687, 'max_features': 'auto'}. Best is trial 440 with value: 0.6088154269972452.\n",
      "[I 2024-03-14 10:16:22,816] Trial 732 finished with value: 0.33884297520661155 and parameters: {'n_estimators': 143, 'max_depth': 29, 'min_samples_split': 0.7474075915136316, 'min_samples_leaf': 0.029514644699137598, 'max_features': 'auto'}. Best is trial 440 with value: 0.6088154269972452.\n",
      "[I 2024-03-14 10:16:23,185] Trial 733 finished with value: 0.5013774104683195 and parameters: {'n_estimators': 129, 'max_depth': 28, 'min_samples_split': 0.04514637935531611, 'min_samples_leaf': 0.15631622844306545, 'max_features': 'auto'}. Best is trial 440 with value: 0.6088154269972452.\n",
      "[I 2024-03-14 10:16:23,429] Trial 734 finished with value: 0.33884297520661155 and parameters: {'n_estimators': 120, 'max_depth': 31, 'min_samples_split': 0.3322833698258665, 'min_samples_leaf': 0.6379090456382999, 'max_features': 'auto'}. Best is trial 440 with value: 0.6088154269972452.\n",
      "[I 2024-03-14 10:16:23,753] Trial 735 finished with value: 0.33884297520661155 and parameters: {'n_estimators': 156, 'max_depth': 29, 'min_samples_split': 0.06282416192270204, 'min_samples_leaf': 0.3369941243478526, 'max_features': 'auto'}. Best is trial 440 with value: 0.6088154269972452.\n",
      "[I 2024-03-14 10:16:24,427] Trial 736 finished with value: 0.5647382920110193 and parameters: {'n_estimators': 137, 'max_depth': 30, 'min_samples_split': 0.027353631723525403, 'min_samples_leaf': 0.044992433238162245, 'max_features': 'auto'}. Best is trial 440 with value: 0.6088154269972452.\n",
      "[I 2024-03-14 10:16:24,716] Trial 737 finished with value: 0.33884297520661155 and parameters: {'n_estimators': 151, 'max_depth': 27, 'min_samples_split': 0.010485717646670114, 'min_samples_leaf': 0.4070446389515543, 'max_features': 'auto'}. Best is trial 440 with value: 0.6088154269972452.\n",
      "[I 2024-03-14 10:16:25,490] Trial 738 finished with value: 0.5867768595041323 and parameters: {'n_estimators': 130, 'max_depth': 28, 'min_samples_split': 0.04252009771228327, 'min_samples_leaf': 0.02837165598397385, 'max_features': 'auto'}. Best is trial 440 with value: 0.6088154269972452.\n",
      "[I 2024-03-14 10:16:26,221] Trial 739 finished with value: 0.5674931129476584 and parameters: {'n_estimators': 146, 'max_depth': 32, 'min_samples_split': 0.1040586971451084, 'min_samples_leaf': 0.06582595429347748, 'max_features': 'auto'}. Best is trial 440 with value: 0.6088154269972452.\n",
      "[I 2024-03-14 10:16:26,445] Trial 740 finished with value: 0.33884297520661155 and parameters: {'n_estimators': 126, 'max_depth': 30, 'min_samples_split': 0.060383416970707586, 'min_samples_leaf': 0.5411545100170043, 'max_features': 'auto'}. Best is trial 440 with value: 0.6088154269972452.\n",
      "[I 2024-03-14 10:16:27,173] Trial 741 finished with value: 0.5785123966942148 and parameters: {'n_estimators': 140, 'max_depth': 29, 'min_samples_split': 0.03198601555409819, 'min_samples_leaf': 0.029794023862230696, 'max_features': 'auto'}. Best is trial 440 with value: 0.6088154269972452.\n",
      "[I 2024-03-14 10:16:27,407] Trial 742 finished with value: 0.33884297520661155 and parameters: {'n_estimators': 112, 'max_depth': 24, 'min_samples_split': 0.3860522453124261, 'min_samples_leaf': 0.5633675051989168, 'max_features': 'auto'}. Best is trial 440 with value: 0.6088154269972452.\n",
      "[I 2024-03-14 10:16:28,164] Trial 743 finished with value: 0.5867768595041323 and parameters: {'n_estimators': 134, 'max_depth': 26, 'min_samples_split': 0.07843572079249746, 'min_samples_leaf': 0.010234632737768862, 'max_features': 'auto'}. Best is trial 440 with value: 0.6088154269972452.\n",
      "[I 2024-03-14 10:16:28,998] Trial 744 finished with value: 0.5840220385674931 and parameters: {'n_estimators': 149, 'max_depth': 28, 'min_samples_split': 0.04574490515958309, 'min_samples_leaf': 0.010496500378588378, 'max_features': 'auto'}. Best is trial 440 with value: 0.6088154269972452.\n",
      "[I 2024-03-14 10:16:29,224] Trial 745 finished with value: 0.33884297520661155 and parameters: {'n_estimators': 143, 'max_depth': 25, 'min_samples_split': 0.42196753036107343, 'min_samples_leaf': 0.45069326212866095, 'max_features': 'auto'}. Best is trial 440 with value: 0.6088154269972452.\n",
      "[I 2024-03-14 10:16:29,415] Trial 746 finished with value: 0.33884297520661155 and parameters: {'n_estimators': 122, 'max_depth': 31, 'min_samples_split': 0.6730738827576505, 'min_samples_leaf': 0.04701539362932086, 'max_features': 'auto'}. Best is trial 440 with value: 0.6088154269972452.\n",
      "[I 2024-03-14 10:16:29,892] Trial 747 finished with value: 0.5619834710743802 and parameters: {'n_estimators': 131, 'max_depth': 29, 'min_samples_split': 0.010447260523415543, 'min_samples_leaf': 0.06432541401544542, 'max_features': 'auto'}. Best is trial 440 with value: 0.6088154269972452.\n",
      "[I 2024-03-14 10:16:30,122] Trial 748 finished with value: 0.33884297520661155 and parameters: {'n_estimators': 153, 'max_depth': 27, 'min_samples_split': 0.18826918895467884, 'min_samples_leaf': 0.7437758620042259, 'max_features': 'auto'}. Best is trial 440 with value: 0.6088154269972452.\n",
      "[I 2024-03-14 10:16:30,753] Trial 749 finished with value: 0.5785123966942148 and parameters: {'n_estimators': 137, 'max_depth': 47, 'min_samples_split': 0.03028640235080743, 'min_samples_leaf': 0.02982759119477, 'max_features': 'auto'}. Best is trial 440 with value: 0.6088154269972452.\n",
      "[I 2024-03-14 10:16:30,981] Trial 750 finished with value: 0.33884297520661155 and parameters: {'n_estimators': 127, 'max_depth': 30, 'min_samples_split': 0.5196924099165403, 'min_samples_leaf': 0.3727957808398932, 'max_features': 'auto'}. Best is trial 440 with value: 0.6088154269972452.\n",
      "[I 2024-03-14 10:16:31,572] Trial 751 finished with value: 0.5674931129476584 and parameters: {'n_estimators': 142, 'max_depth': 28, 'min_samples_split': 0.09046980656859765, 'min_samples_leaf': 0.044754586115141125, 'max_features': 'auto'}. Best is trial 440 with value: 0.6088154269972452.\n",
      "[I 2024-03-14 10:16:31,933] Trial 752 finished with value: 0.48760330578512395 and parameters: {'n_estimators': 157, 'max_depth': 29, 'min_samples_split': 0.15109352718283112, 'min_samples_leaf': 0.18349376747282986, 'max_features': 'auto'}. Best is trial 440 with value: 0.6088154269972452.\n",
      "[I 2024-03-14 10:16:32,161] Trial 753 finished with value: 0.33884297520661155 and parameters: {'n_estimators': 148, 'max_depth': 32, 'min_samples_split': 0.8173245957299317, 'min_samples_leaf': 0.02853133782976012, 'max_features': 'auto'}. Best is trial 440 with value: 0.6088154269972452.\n",
      "[I 2024-03-14 10:16:32,781] Trial 754 finished with value: 0.5867768595041323 and parameters: {'n_estimators': 134, 'max_depth': 27, 'min_samples_split': 0.058116439491258914, 'min_samples_leaf': 0.028737238469636897, 'max_features': 'auto'}. Best is trial 440 with value: 0.6088154269972452.\n",
      "[I 2024-03-14 10:16:32,973] Trial 755 finished with value: 0.33884297520661155 and parameters: {'n_estimators': 118, 'max_depth': 30, 'min_samples_split': 0.026459348769649196, 'min_samples_leaf': 0.3506283902394454, 'max_features': 'auto'}. Best is trial 440 with value: 0.6088154269972452.\n",
      "[I 2024-03-14 10:16:33,205] Trial 756 finished with value: 0.33884297520661155 and parameters: {'n_estimators': 139, 'max_depth': 28, 'min_samples_split': 0.9918748256800143, 'min_samples_leaf': 0.2318515088264989, 'max_features': 'auto'}. Best is trial 440 with value: 0.6088154269972452.\n",
      "[I 2024-03-14 10:16:33,678] Trial 757 finished with value: 0.559228650137741 and parameters: {'n_estimators': 130, 'max_depth': 31, 'min_samples_split': 0.010213159750872537, 'min_samples_leaf': 0.06593943052340327, 'max_features': 'auto'}. Best is trial 440 with value: 0.6088154269972452.\n",
      "[I 2024-03-14 10:16:33,872] Trial 758 finished with value: 0.33884297520661155 and parameters: {'n_estimators': 125, 'max_depth': 29, 'min_samples_split': 0.044607773163376815, 'min_samples_leaf': 0.4846503757532752, 'max_features': 'auto'}. Best is trial 440 with value: 0.6088154269972452.\n",
      "[I 2024-03-14 10:16:34,381] Trial 759 finished with value: 0.4490358126721763 and parameters: {'n_estimators': 271, 'max_depth': 26, 'min_samples_split': 0.4404922730964276, 'min_samples_leaf': 0.2682463118006218, 'max_features': 'auto'}. Best is trial 440 with value: 0.6088154269972452.\n",
      "[I 2024-03-14 10:16:34,600] Trial 760 finished with value: 0.33884297520661155 and parameters: {'n_estimators': 145, 'max_depth': 27, 'min_samples_split': 0.7560750558402464, 'min_samples_leaf': 0.01014826769496189, 'max_features': 'auto'}. Best is trial 440 with value: 0.6088154269972452.\n",
      "[I 2024-03-14 10:16:35,005] Trial 761 finished with value: 0.512396694214876 and parameters: {'n_estimators': 151, 'max_depth': 30, 'min_samples_split': 0.48066172459711787, 'min_samples_leaf': 0.04540009305683906, 'max_features': 'auto'}. Best is trial 440 with value: 0.6088154269972452.\n",
      "[I 2024-03-14 10:16:35,220] Trial 762 finished with value: 0.33884297520661155 and parameters: {'n_estimators': 136, 'max_depth': 28, 'min_samples_split': 0.8259003474843977, 'min_samples_leaf': 0.38702153206017786, 'max_features': 'auto'}. Best is trial 440 with value: 0.6088154269972452.\n",
      "[I 2024-03-14 10:16:35,575] Trial 763 finished with value: 0.48760330578512395 and parameters: {'n_estimators': 156, 'max_depth': 29, 'min_samples_split': 0.06720256776159918, 'min_samples_leaf': 0.1949248523123719, 'max_features': 'auto'}. Best is trial 440 with value: 0.6088154269972452.\n",
      "[I 2024-03-14 10:16:35,877] Trial 764 finished with value: 0.4986225895316804 and parameters: {'n_estimators': 122, 'max_depth': 31, 'min_samples_split': 0.13885891470632786, 'min_samples_leaf': 0.16046643134980595, 'max_features': 'auto'}. Best is trial 440 with value: 0.6088154269972452.\n",
      "[I 2024-03-14 10:16:36,126] Trial 765 finished with value: 0.33884297520661155 and parameters: {'n_estimators': 131, 'max_depth': 28, 'min_samples_split': 0.775069621939785, 'min_samples_leaf': 0.0283341142140675, 'max_features': 'auto'}. Best is trial 440 with value: 0.6088154269972452.\n",
      "[I 2024-03-14 10:16:36,383] Trial 766 finished with value: 0.44077134986225897 and parameters: {'n_estimators': 144, 'max_depth': 26, 'min_samples_split': 0.300439882909963, 'min_samples_leaf': 0.3147812854459822, 'max_features': 'auto'}. Best is trial 440 with value: 0.6088154269972452.\n",
      "[I 2024-03-14 10:16:36,599] Trial 767 finished with value: 0.33884297520661155 and parameters: {'n_estimators': 140, 'max_depth': 29, 'min_samples_split': 0.04032614914324279, 'min_samples_leaf': 0.7121479560598679, 'max_features': 'auto'}. Best is trial 440 with value: 0.6088154269972452.\n",
      "[I 2024-03-14 10:16:37,124] Trial 768 finished with value: 0.5702479338842975 and parameters: {'n_estimators': 134, 'max_depth': 30, 'min_samples_split': 0.10706431695025774, 'min_samples_leaf': 0.04888801227580134, 'max_features': 'auto'}. Best is trial 440 with value: 0.6088154269972452.\n",
      "[I 2024-03-14 10:16:37,348] Trial 769 finished with value: 0.33884297520661155 and parameters: {'n_estimators': 125, 'max_depth': 27, 'min_samples_split': 0.8583478141313322, 'min_samples_leaf': 0.0108882611284399, 'max_features': 'auto'}. Best is trial 440 with value: 0.6088154269972452.\n",
      "[I 2024-03-14 10:16:37,909] Trial 770 finished with value: 0.5399449035812672 and parameters: {'n_estimators': 153, 'max_depth': 25, 'min_samples_split': 0.2941805096632624, 'min_samples_leaf': 0.028529743508698503, 'max_features': 'auto'}. Best is trial 440 with value: 0.6088154269972452.\n",
      "[I 2024-03-14 10:16:38,835] Trial 771 finished with value: 0.6115702479338843 and parameters: {'n_estimators': 149, 'max_depth': 32, 'min_samples_split': 0.030319681242041912, 'min_samples_leaf': 0.010748981478321845, 'max_features': 'auto'}. Best is trial 771 with value: 0.6115702479338843.\n",
      "[I 2024-03-14 10:16:39,087] Trial 772 finished with value: 0.33884297520661155 and parameters: {'n_estimators': 147, 'max_depth': 33, 'min_samples_split': 0.07924099788467334, 'min_samples_leaf': 0.6551257396310334, 'max_features': 'auto'}. Best is trial 771 with value: 0.6115702479338843.\n",
      "[I 2024-03-14 10:16:39,675] Trial 773 finished with value: 0.5619834710743802 and parameters: {'n_estimators': 139, 'max_depth': 32, 'min_samples_split': 0.05850038099397527, 'min_samples_leaf': 0.06377153561804867, 'max_features': 'auto'}. Best is trial 771 with value: 0.6115702479338843.\n",
      "[I 2024-03-14 10:16:39,896] Trial 774 finished with value: 0.33884297520661155 and parameters: {'n_estimators': 130, 'max_depth': 32, 'min_samples_split': 0.031243883681892452, 'min_samples_leaf': 0.660581096157036, 'max_features': 'auto'}. Best is trial 771 with value: 0.6115702479338843.\n",
      "[I 2024-03-14 10:16:40,130] Trial 775 finished with value: 0.33884297520661155 and parameters: {'n_estimators': 143, 'max_depth': 33, 'min_samples_split': 0.44884827109160097, 'min_samples_leaf': 0.5927222516340919, 'max_features': 'auto'}. Best is trial 771 with value: 0.6115702479338843.\n",
      "[I 2024-03-14 10:16:40,352] Trial 776 finished with value: 0.33884297520661155 and parameters: {'n_estimators': 135, 'max_depth': 32, 'min_samples_split': 0.049378365684835425, 'min_samples_leaf': 0.4643040369483996, 'max_features': 'auto'}. Best is trial 771 with value: 0.6115702479338843.\n",
      "[I 2024-03-14 10:16:41,014] Trial 777 finished with value: 0.5674931129476584 and parameters: {'n_estimators': 159, 'max_depth': 31, 'min_samples_split': 0.11992437523499805, 'min_samples_leaf': 0.04223932202939057, 'max_features': 'auto'}. Best is trial 771 with value: 0.6115702479338843.\n",
      "[I 2024-03-14 10:16:41,634] Trial 778 finished with value: 0.5757575757575758 and parameters: {'n_estimators': 126, 'max_depth': 33, 'min_samples_split': 0.09179812641324263, 'min_samples_leaf': 0.027403586569463866, 'max_features': 'auto'}. Best is trial 771 with value: 0.6115702479338843.\n",
      "[I 2024-03-14 10:16:42,017] Trial 779 finished with value: 0.5179063360881543 and parameters: {'n_estimators': 118, 'max_depth': 31, 'min_samples_split': 0.40038497148652, 'min_samples_leaf': 0.01115853791174301, 'max_features': 'auto'}. Best is trial 771 with value: 0.6115702479338843.\n",
      "[I 2024-03-14 10:16:42,521] Trial 780 finished with value: 0.5234159779614325 and parameters: {'n_estimators': 148, 'max_depth': 30, 'min_samples_split': 0.3440193730119335, 'min_samples_leaf': 0.047687297008557956, 'max_features': 'auto'}. Best is trial 771 with value: 0.6115702479338843.\n",
      "[I 2024-03-14 10:16:42,827] Trial 781 finished with value: 0.47107438016528924 and parameters: {'n_estimators': 137, 'max_depth': 32, 'min_samples_split': 0.029116505539293295, 'min_samples_leaf': 0.2228674254108468, 'max_features': 'auto'}. Best is trial 771 with value: 0.6115702479338843.\n",
      "[I 2024-03-14 10:16:43,058] Trial 782 finished with value: 0.33884297520661155 and parameters: {'n_estimators': 132, 'max_depth': 27, 'min_samples_split': 0.8644227503119845, 'min_samples_leaf': 0.06924826697794943, 'max_features': 'auto'}. Best is trial 771 with value: 0.6115702479338843.\n",
      "[I 2024-03-14 10:16:43,249] Trial 783 finished with value: 0.33884297520661155 and parameters: {'n_estimators': 122, 'max_depth': 30, 'min_samples_split': 0.06964802022030456, 'min_samples_leaf': 0.8813495704797617, 'max_features': 'auto'}. Best is trial 771 with value: 0.6115702479338843.\n",
      "[I 2024-03-14 10:16:43,932] Trial 784 finished with value: 0.5840220385674931 and parameters: {'n_estimators': 142, 'max_depth': 31, 'min_samples_split': 0.04326553613025022, 'min_samples_leaf': 0.025855280253486924, 'max_features': 'auto'}. Best is trial 771 with value: 0.6115702479338843.\n",
      "[I 2024-03-14 10:16:44,142] Trial 785 finished with value: 0.33884297520661155 and parameters: {'n_estimators': 129, 'max_depth': 28, 'min_samples_split': 0.05904730187849657, 'min_samples_leaf': 0.7581046913896454, 'max_features': 'auto'}. Best is trial 771 with value: 0.6115702479338843.\n",
      "[I 2024-03-14 10:16:44,449] Trial 786 finished with value: 0.44352617079889806 and parameters: {'n_estimators': 154, 'max_depth': 29, 'min_samples_split': 0.026646465363536626, 'min_samples_leaf': 0.2838883957201175, 'max_features': 'auto'}. Best is trial 771 with value: 0.6115702479338843.\n",
      "[I 2024-03-14 10:16:44,674] Trial 787 finished with value: 0.33884297520661155 and parameters: {'n_estimators': 146, 'max_depth': 28, 'min_samples_split': 0.7127693111217934, 'min_samples_leaf': 0.010339699056237658, 'max_features': 'auto'}. Best is trial 771 with value: 0.6115702479338843.\n",
      "[I 2024-03-14 10:16:44,888] Trial 788 finished with value: 0.33884297520661155 and parameters: {'n_estimators': 139, 'max_depth': 26, 'min_samples_split': 0.31560296356363526, 'min_samples_leaf': 0.6888677781978138, 'max_features': 'auto'}. Best is trial 771 with value: 0.6115702479338843.\n",
      "[I 2024-03-14 10:16:45,363] Trial 789 finished with value: 0.5619834710743802 and parameters: {'n_estimators': 114, 'max_depth': 31, 'min_samples_split': 0.010570412045044265, 'min_samples_leaf': 0.04595090228975948, 'max_features': 'auto'}. Best is trial 771 with value: 0.6115702479338843.\n",
      "[I 2024-03-14 10:16:45,576] Trial 790 finished with value: 0.33884297520661155 and parameters: {'n_estimators': 134, 'max_depth': 29, 'min_samples_split': 0.6470584995790591, 'min_samples_leaf': 0.7856102422008407, 'max_features': 'auto'}. Best is trial 771 with value: 0.6115702479338843.\n",
      "[I 2024-03-14 10:16:45,777] Trial 791 finished with value: 0.33884297520661155 and parameters: {'n_estimators': 127, 'max_depth': 30, 'min_samples_split': 0.08111110488748496, 'min_samples_leaf': 0.9379384664439945, 'max_features': 'auto'}. Best is trial 771 with value: 0.6115702479338843.\n",
      "[I 2024-03-14 10:16:46,454] Trial 792 finished with value: 0.581267217630854 and parameters: {'n_estimators': 150, 'max_depth': 27, 'min_samples_split': 0.04667078952442222, 'min_samples_leaf': 0.030355109842221836, 'max_features': 'auto'}. Best is trial 771 with value: 0.6115702479338843.\n",
      "[I 2024-03-14 10:16:46,915] Trial 793 finished with value: 0.5206611570247934 and parameters: {'n_estimators': 157, 'max_depth': 33, 'min_samples_split': 0.43936419948356265, 'min_samples_leaf': 0.01012832302818087, 'max_features': 'auto'}. Best is trial 771 with value: 0.6115702479338843.\n",
      "[I 2024-03-14 10:16:47,132] Trial 794 finished with value: 0.33884297520661155 and parameters: {'n_estimators': 141, 'max_depth': 28, 'min_samples_split': 0.02845360645567796, 'min_samples_leaf': 0.4332814248219155, 'max_features': 'auto'}. Best is trial 771 with value: 0.6115702479338843.\n",
      "[I 2024-03-14 10:16:47,433] Trial 795 finished with value: 0.4628099173553719 and parameters: {'n_estimators': 132, 'max_depth': 25, 'min_samples_split': 0.13596486972041377, 'min_samples_leaf': 0.2622754669634101, 'max_features': 'auto'}. Best is trial 771 with value: 0.6115702479338843.\n",
      "[I 2024-03-14 10:16:47,915] Trial 796 finished with value: 0.5344352617079889 and parameters: {'n_estimators': 137, 'max_depth': 30, 'min_samples_split': 0.17155192155054924, 'min_samples_leaf': 0.06326931189410383, 'max_features': 'auto'}. Best is trial 771 with value: 0.6115702479338843.\n",
      "[I 2024-03-14 10:16:48,114] Trial 797 finished with value: 0.33884297520661155 and parameters: {'n_estimators': 123, 'max_depth': 29, 'min_samples_split': 0.9075891200618498, 'min_samples_leaf': 0.6885339214877597, 'max_features': 'auto'}. Best is trial 771 with value: 0.6115702479338843.\n",
      "[I 2024-03-14 10:16:48,336] Trial 798 finished with value: 0.33884297520661155 and parameters: {'n_estimators': 144, 'max_depth': 28, 'min_samples_split': 0.06508737690347065, 'min_samples_leaf': 0.5084539123334005, 'max_features': 'auto'}. Best is trial 771 with value: 0.6115702479338843.\n",
      "[I 2024-03-14 10:16:48,616] Trial 799 finished with value: 0.33884297520661155 and parameters: {'n_estimators': 151, 'max_depth': 32, 'min_samples_split': 0.9733864690450421, 'min_samples_leaf': 0.3552450226024653, 'max_features': 'auto'}. Best is trial 771 with value: 0.6115702479338843.\n",
      "[I 2024-03-14 10:16:48,891] Trial 800 finished with value: 0.45179063360881544 and parameters: {'n_estimators': 128, 'max_depth': 27, 'min_samples_split': 0.02776556969819852, 'min_samples_leaf': 0.28790703418776564, 'max_features': 'auto'}. Best is trial 771 with value: 0.6115702479338843.\n",
      "[I 2024-03-14 10:16:49,435] Trial 801 finished with value: 0.5674931129476584 and parameters: {'n_estimators': 134, 'max_depth': 30, 'min_samples_split': 0.04561831993302786, 'min_samples_leaf': 0.04508957709356042, 'max_features': 'auto'}. Best is trial 771 with value: 0.6115702479338843.\n",
      "[I 2024-03-14 10:16:49,850] Trial 802 finished with value: 0.4738292011019284 and parameters: {'n_estimators': 204, 'max_depth': 29, 'min_samples_split': 0.0892035120106397, 'min_samples_leaf': 0.20891509688261906, 'max_features': 'auto'}. Best is trial 771 with value: 0.6115702479338843.\n",
      "[I 2024-03-14 10:16:50,038] Trial 803 finished with value: 0.33884297520661155 and parameters: {'n_estimators': 119, 'max_depth': 31, 'min_samples_split': 0.02728638452039014, 'min_samples_leaf': 0.5325933960202539, 'max_features': 'auto'}. Best is trial 771 with value: 0.6115702479338843.\n",
      "[I 2024-03-14 10:16:50,283] Trial 804 finished with value: 0.33884297520661155 and parameters: {'n_estimators': 159, 'max_depth': 27, 'min_samples_split': 0.5352597371495804, 'min_samples_leaf': 0.9132760464697911, 'max_features': 'auto'}. Best is trial 771 with value: 0.6115702479338843.\n",
      "[I 2024-03-14 10:16:51,065] Trial 805 finished with value: 0.5922865013774105 and parameters: {'n_estimators': 146, 'max_depth': 26, 'min_samples_split': 0.058906158161645406, 'min_samples_leaf': 0.010168929903902443, 'max_features': 'auto'}. Best is trial 771 with value: 0.6115702479338843.\n",
      "[I 2024-03-14 10:16:51,604] Trial 806 finished with value: 0.5537190082644629 and parameters: {'n_estimators': 138, 'max_depth': 28, 'min_samples_split': 0.1764663548756895, 'min_samples_leaf': 0.029639738057193075, 'max_features': 'auto'}. Best is trial 771 with value: 0.6115702479338843.\n",
      "[I 2024-03-14 10:16:51,977] Trial 807 finished with value: 0.49586776859504134 and parameters: {'n_estimators': 153, 'max_depth': 29, 'min_samples_split': 0.01153869165408574, 'min_samples_leaf': 0.16673934737788393, 'max_features': 'auto'}. Best is trial 771 with value: 0.6115702479338843.\n",
      "[I 2024-03-14 10:16:52,207] Trial 808 finished with value: 0.33884297520661155 and parameters: {'n_estimators': 125, 'max_depth': 30, 'min_samples_split': 0.9720224599893874, 'min_samples_leaf': 0.02952364532768275, 'max_features': 'auto'}. Best is trial 771 with value: 0.6115702479338843.\n",
      "[I 2024-03-14 10:16:52,410] Trial 809 finished with value: 0.33884297520661155 and parameters: {'n_estimators': 130, 'max_depth': 31, 'min_samples_split': 0.8285793459111519, 'min_samples_leaf': 0.05109828547112304, 'max_features': 'auto'}. Best is trial 771 with value: 0.6115702479338843.\n",
      "[I 2024-03-14 10:16:52,911] Trial 810 finished with value: 0.5509641873278237 and parameters: {'n_estimators': 140, 'max_depth': 32, 'min_samples_split': 0.04402887868154466, 'min_samples_leaf': 0.06847784198139256, 'max_features': 'auto'}. Best is trial 771 with value: 0.6115702479338843.\n",
      "[I 2024-03-14 10:16:53,134] Trial 811 finished with value: 0.33884297520661155 and parameters: {'n_estimators': 145, 'max_depth': 28, 'min_samples_split': 0.1092977565412078, 'min_samples_leaf': 0.6484425048575512, 'max_features': 'auto'}. Best is trial 771 with value: 0.6115702479338843.\n",
      "[I 2024-03-14 10:16:53,586] Trial 812 finished with value: 0.5068870523415978 and parameters: {'n_estimators': 134, 'max_depth': 26, 'min_samples_split': 0.07485887318815057, 'min_samples_leaf': 0.1501364235607311, 'max_features': 'auto'}. Best is trial 771 with value: 0.6115702479338843.\n",
      "[I 2024-03-14 10:16:54,633] Trial 813 finished with value: 0.6033057851239669 and parameters: {'n_estimators': 150, 'max_depth': 29, 'min_samples_split': 0.01058461250645518, 'min_samples_leaf': 0.01003045966968499, 'max_features': 'auto'}. Best is trial 771 with value: 0.6115702479338843.\n",
      "[I 2024-03-14 10:16:54,917] Trial 814 finished with value: 0.33884297520661155 and parameters: {'n_estimators': 148, 'max_depth': 27, 'min_samples_split': 0.8848916380447802, 'min_samples_leaf': 0.12308554638411798, 'max_features': 'auto'}. Best is trial 771 with value: 0.6115702479338843.\n",
      "[I 2024-03-14 10:16:55,184] Trial 815 finished with value: 0.33884297520661155 and parameters: {'n_estimators': 143, 'max_depth': 28, 'min_samples_split': 0.7807982911567227, 'min_samples_leaf': 0.48824874130643653, 'max_features': 'auto'}. Best is trial 771 with value: 0.6115702479338843.\n",
      "[I 2024-03-14 10:16:55,459] Trial 816 finished with value: 0.33884297520661155 and parameters: {'n_estimators': 147, 'max_depth': 29, 'min_samples_split': 0.010101906776149638, 'min_samples_leaf': 0.7046660534048299, 'max_features': 'auto'}. Best is trial 771 with value: 0.6115702479338843.\n",
      "[I 2024-03-14 10:16:55,773] Trial 817 finished with value: 0.33884297520661155 and parameters: {'n_estimators': 150, 'max_depth': 29, 'min_samples_split': 0.7058594372904292, 'min_samples_leaf': 0.9707608136323921, 'max_features': 'auto'}. Best is trial 771 with value: 0.6115702479338843.\n",
      "[I 2024-03-14 10:16:56,044] Trial 818 finished with value: 0.33884297520661155 and parameters: {'n_estimators': 141, 'max_depth': 24, 'min_samples_split': 0.9591762138064985, 'min_samples_leaf': 0.02918243075943519, 'max_features': 'auto'}. Best is trial 771 with value: 0.6115702479338843.\n",
      "[I 2024-03-14 10:16:56,555] Trial 819 finished with value: 0.5316804407713499 and parameters: {'n_estimators': 137, 'max_depth': 27, 'min_samples_split': 0.3504033856143728, 'min_samples_leaf': 0.04092717327164805, 'max_features': 'auto'}. Best is trial 771 with value: 0.6115702479338843.\n",
      "[I 2024-03-14 10:16:56,805] Trial 820 finished with value: 0.33884297520661155 and parameters: {'n_estimators': 128, 'max_depth': 28, 'min_samples_split': 0.4002401602386478, 'min_samples_leaf': 0.9522636076499083, 'max_features': 'auto'}. Best is trial 771 with value: 0.6115702479338843.\n",
      "[I 2024-03-14 10:16:57,058] Trial 821 finished with value: 0.33884297520661155 and parameters: {'n_estimators': 122, 'max_depth': 5, 'min_samples_split': 0.039579428501758745, 'min_samples_leaf': 0.6082401090704266, 'max_features': 'auto'}. Best is trial 771 with value: 0.6115702479338843.\n",
      "[I 2024-03-14 10:16:57,597] Trial 822 finished with value: 0.5261707988980716 and parameters: {'n_estimators': 151, 'max_depth': 29, 'min_samples_split': 0.5044165333706871, 'min_samples_leaf': 0.028822581325173943, 'max_features': 'auto'}. Best is trial 771 with value: 0.6115702479338843.\n",
      "[I 2024-03-14 10:16:58,077] Trial 823 finished with value: 0.512396694214876 and parameters: {'n_estimators': 145, 'max_depth': 27, 'min_samples_split': 0.4792283877672423, 'min_samples_leaf': 0.05288685388757414, 'max_features': 'auto'}. Best is trial 771 with value: 0.6115702479338843.\n",
      "[I 2024-03-14 10:16:58,323] Trial 824 finished with value: 0.33884297520661155 and parameters: {'n_estimators': 132, 'max_depth': 26, 'min_samples_split': 0.02619125470616264, 'min_samples_leaf': 0.8453717915691048, 'max_features': 'auto'}. Best is trial 771 with value: 0.6115702479338843.\n",
      "[I 2024-03-14 10:16:58,590] Trial 825 finished with value: 0.33884297520661155 and parameters: {'n_estimators': 140, 'max_depth': 28, 'min_samples_split': 0.9191956443770449, 'min_samples_leaf': 0.1434152781043957, 'max_features': 'auto'}. Best is trial 771 with value: 0.6115702479338843.\n",
      "[I 2024-03-14 10:16:58,832] Trial 826 finished with value: 0.33884297520661155 and parameters: {'n_estimators': 126, 'max_depth': 34, 'min_samples_split': 0.057879739848703884, 'min_samples_leaf': 0.7833318804682623, 'max_features': 'auto'}. Best is trial 771 with value: 0.6115702479338843.\n",
      "[I 2024-03-14 10:16:59,082] Trial 827 finished with value: 0.33884297520661155 and parameters: {'n_estimators': 136, 'max_depth': 30, 'min_samples_split': 0.02722951215719696, 'min_samples_leaf': 0.8152678413630485, 'max_features': 'auto'}. Best is trial 771 with value: 0.6115702479338843.\n",
      "[I 2024-03-14 10:16:59,706] Trial 828 finished with value: 0.5482093663911846 and parameters: {'n_estimators': 153, 'max_depth': 29, 'min_samples_split': 0.044831821799199506, 'min_samples_leaf': 0.07598821594367318, 'max_features': 'auto'}. Best is trial 771 with value: 0.6115702479338843.\n",
      "[I 2024-03-14 10:17:00,007] Trial 829 finished with value: 0.33884297520661155 and parameters: {'n_estimators': 143, 'max_depth': 28, 'min_samples_split': 0.2870305179353792, 'min_samples_leaf': 0.3316769251177284, 'max_features': 'auto'}. Best is trial 771 with value: 0.6115702479338843.\n",
      "[I 2024-03-14 10:17:00,301] Trial 830 finished with value: 0.47107438016528924 and parameters: {'n_estimators': 109, 'max_depth': 31, 'min_samples_split': 0.07433837813242866, 'min_samples_leaf': 0.2356300336662211, 'max_features': 'auto'}. Best is trial 771 with value: 0.6115702479338843.\n",
      "[I 2024-03-14 10:17:01,195] Trial 831 finished with value: 0.5757575757575758 and parameters: {'n_estimators': 131, 'max_depth': 30, 'min_samples_split': 0.010764032406891588, 'min_samples_leaf': 0.011241463710937006, 'max_features': 'auto'}. Best is trial 771 with value: 0.6115702479338843.\n",
      "[I 2024-03-14 10:17:01,451] Trial 832 finished with value: 0.33884297520661155 and parameters: {'n_estimators': 148, 'max_depth': 27, 'min_samples_split': 0.8440472170172154, 'min_samples_leaf': 0.0282794184630853, 'max_features': 'auto'}. Best is trial 771 with value: 0.6115702479338843.\n",
      "[I 2024-03-14 10:17:01,725] Trial 833 finished with value: 0.45179063360881544 and parameters: {'n_estimators': 119, 'max_depth': 29, 'min_samples_split': 0.09583178448158905, 'min_samples_leaf': 0.31277820264567535, 'max_features': 'auto'}. Best is trial 771 with value: 0.6115702479338843.\n",
      "[I 2024-03-14 10:17:02,422] Trial 834 finished with value: 0.5702479338842975 and parameters: {'n_estimators': 136, 'max_depth': 25, 'min_samples_split': 0.010562527711117861, 'min_samples_leaf': 0.046657023480585376, 'max_features': 'auto'}. Best is trial 771 with value: 0.6115702479338843.\n",
      "[I 2024-03-14 10:17:02,671] Trial 835 finished with value: 0.33884297520661155 and parameters: {'n_estimators': 128, 'max_depth': 28, 'min_samples_split': 0.6795638310235823, 'min_samples_leaf': 0.01041224224084634, 'max_features': 'auto'}. Best is trial 771 with value: 0.6115702479338843.\n",
      "[I 2024-03-14 10:17:02,976] Trial 836 finished with value: 0.33884297520661155 and parameters: {'n_estimators': 155, 'max_depth': 30, 'min_samples_split': 0.04408796428632189, 'min_samples_leaf': 0.40141139624636046, 'max_features': 'auto'}. Best is trial 771 with value: 0.6115702479338843.\n",
      "[I 2024-03-14 10:17:03,263] Trial 837 finished with value: 0.33884297520661155 and parameters: {'n_estimators': 141, 'max_depth': 29, 'min_samples_split': 0.059656091691427326, 'min_samples_leaf': 0.49856110948907817, 'max_features': 'auto'}. Best is trial 771 with value: 0.6115702479338843.\n",
      "[I 2024-03-14 10:17:03,513] Trial 838 finished with value: 0.33884297520661155 and parameters: {'n_estimators': 123, 'max_depth': 26, 'min_samples_split': 0.31687947551930434, 'min_samples_leaf': 0.4620471365503441, 'max_features': 'auto'}. Best is trial 771 with value: 0.6115702479338843.\n",
      "[I 2024-03-14 10:17:04,336] Trial 839 finished with value: 0.5867768595041323 and parameters: {'n_estimators': 147, 'max_depth': 27, 'min_samples_split': 0.010303683267882693, 'min_samples_leaf': 0.028487903945558984, 'max_features': 'auto'}. Best is trial 771 with value: 0.6115702479338843.\n",
      "[I 2024-03-14 10:17:04,611] Trial 840 finished with value: 0.33884297520661155 and parameters: {'n_estimators': 133, 'max_depth': 28, 'min_samples_split': 0.02853396738267567, 'min_samples_leaf': 0.9944513541462595, 'max_features': 'auto'}. Best is trial 771 with value: 0.6115702479338843.\n",
      "[I 2024-03-14 10:17:05,034] Trial 841 finished with value: 0.5316804407713499 and parameters: {'n_estimators': 151, 'max_depth': 31, 'min_samples_split': 0.6178785074538712, 'min_samples_leaf': 0.06700020537871781, 'max_features': 'auto'}. Best is trial 771 with value: 0.6115702479338843.\n",
      "[I 2024-03-14 10:17:06,039] Trial 842 finished with value: 0.5757575757575758 and parameters: {'n_estimators': 211, 'max_depth': 30, 'min_samples_split': 0.04152411370183941, 'min_samples_leaf': 0.043536923032030724, 'max_features': 'auto'}. Best is trial 771 with value: 0.6115702479338843.\n",
      "[I 2024-03-14 10:17:06,481] Trial 843 finished with value: 0.33884297520661155 and parameters: {'n_estimators': 233, 'max_depth': 29, 'min_samples_split': 0.15274117729221184, 'min_samples_leaf': 0.5722186002963162, 'max_features': 'auto'}. Best is trial 771 with value: 0.6115702479338843.\n",
      "[I 2024-03-14 10:17:07,011] Trial 844 finished with value: 0.5261707988980716 and parameters: {'n_estimators': 138, 'max_depth': 27, 'min_samples_split': 0.4118015133348556, 'min_samples_leaf': 0.027025745022238142, 'max_features': 'auto'}. Best is trial 771 with value: 0.6115702479338843.\n",
      "[I 2024-03-14 10:17:07,300] Trial 845 finished with value: 0.33884297520661155 and parameters: {'n_estimators': 143, 'max_depth': 32, 'min_samples_split': 0.07452750094544273, 'min_samples_leaf': 0.740160991680332, 'max_features': 'auto'}. Best is trial 771 with value: 0.6115702479338843.\n",
      "[I 2024-03-14 10:17:07,535] Trial 846 finished with value: 0.33884297520661155 and parameters: {'n_estimators': 128, 'max_depth': 28, 'min_samples_split': 0.02843062340663679, 'min_samples_leaf': 0.5501688442347601, 'max_features': 'auto'}. Best is trial 771 with value: 0.6115702479338843.\n",
      "[I 2024-03-14 10:17:08,254] Trial 847 finished with value: 0.5234159779614325 and parameters: {'n_estimators': 246, 'max_depth': 29, 'min_samples_split': 0.05867280302841958, 'min_samples_leaf': 0.1128731382479409, 'max_features': 'auto'}. Best is trial 771 with value: 0.6115702479338843.\n",
      "[I 2024-03-14 10:17:08,756] Trial 848 finished with value: 0.5674931129476584 and parameters: {'n_estimators': 116, 'max_depth': 31, 'min_samples_split': 0.11696964250927674, 'min_samples_leaf': 0.05338033859775612, 'max_features': 'auto'}. Best is trial 771 with value: 0.6115702479338843.\n",
      "[I 2024-03-14 10:17:09,190] Trial 849 finished with value: 0.5234159779614325 and parameters: {'n_estimators': 135, 'max_depth': 26, 'min_samples_split': 0.3860532941250715, 'min_samples_leaf': 0.010871917722485393, 'max_features': 'auto'}. Best is trial 771 with value: 0.6115702479338843.\n",
      "[I 2024-03-14 10:17:09,602] Trial 850 finished with value: 0.5234159779614325 and parameters: {'n_estimators': 131, 'max_depth': 28, 'min_samples_split': 0.5371919978573226, 'min_samples_leaf': 0.028737003006938985, 'max_features': 'auto'}. Best is trial 771 with value: 0.6115702479338843.\n",
      "[I 2024-03-14 10:17:09,994] Trial 851 finished with value: 0.5179063360881543 and parameters: {'n_estimators': 125, 'max_depth': 30, 'min_samples_split': 0.48875329460581374, 'min_samples_leaf': 0.010842580763198998, 'max_features': 'auto'}. Best is trial 771 with value: 0.6115702479338843.\n",
      "[I 2024-03-14 10:17:10,524] Trial 852 finished with value: 0.5537190082644629 and parameters: {'n_estimators': 148, 'max_depth': 33, 'min_samples_split': 0.04496762250946905, 'min_samples_leaf': 0.07570958655734136, 'max_features': 'auto'}. Best is trial 771 with value: 0.6115702479338843.\n",
      "[I 2024-03-14 10:17:11,238] Trial 853 finished with value: 0.5674931129476584 and parameters: {'n_estimators': 154, 'max_depth': 29, 'min_samples_split': 0.09106157477628177, 'min_samples_leaf': 0.03899941770824425, 'max_features': 'auto'}. Best is trial 771 with value: 0.6115702479338843.\n",
      "[I 2024-03-14 10:17:11,517] Trial 854 finished with value: 0.33884297520661155 and parameters: {'n_estimators': 140, 'max_depth': 27, 'min_samples_split': 0.029174390409528225, 'min_samples_leaf': 0.8939860397927881, 'max_features': 'auto'}. Best is trial 771 with value: 0.6115702479338843.\n",
      "[I 2024-03-14 10:17:11,866] Trial 855 finished with value: 0.4490358126721763 and parameters: {'n_estimators': 144, 'max_depth': 25, 'min_samples_split': 0.011139901690290808, 'min_samples_leaf': 0.28387598123251756, 'max_features': 'auto'}. Best is trial 771 with value: 0.6115702479338843.\n",
      "[I 2024-03-14 10:17:12,096] Trial 856 finished with value: 0.33884297520661155 and parameters: {'n_estimators': 130, 'max_depth': 28, 'min_samples_split': 0.0618693213458189, 'min_samples_leaf': 0.3810030831864619, 'max_features': 'auto'}. Best is trial 771 with value: 0.6115702479338843.\n",
      "[I 2024-03-14 10:17:12,539] Trial 857 finished with value: 0.5289256198347108 and parameters: {'n_estimators': 122, 'max_depth': 30, 'min_samples_split': 0.3306921036100595, 'min_samples_leaf': 0.010454462565889859, 'max_features': 'auto'}. Best is trial 771 with value: 0.6115702479338843.\n",
      "[I 2024-03-14 10:17:13,157] Trial 858 finished with value: 0.5674931129476584 and parameters: {'n_estimators': 136, 'max_depth': 29, 'min_samples_split': 0.039779493877840834, 'min_samples_leaf': 0.0521390634121381, 'max_features': 'auto'}. Best is trial 771 with value: 0.6115702479338843.\n",
      "[I 2024-03-14 10:17:13,421] Trial 859 finished with value: 0.33884297520661155 and parameters: {'n_estimators': 150, 'max_depth': 31, 'min_samples_split': 0.010269460947498088, 'min_samples_leaf': 0.8505136751183888, 'max_features': 'auto'}. Best is trial 771 with value: 0.6115702479338843.\n",
      "[I 2024-03-14 10:17:13,815] Trial 860 finished with value: 0.33884297520661155 and parameters: {'n_estimators': 251, 'max_depth': 27, 'min_samples_split': 0.5118185683690922, 'min_samples_leaf': 0.3894178092025001, 'max_features': 'auto'}. Best is trial 771 with value: 0.6115702479338843.\n",
      "[I 2024-03-14 10:17:14,042] Trial 861 finished with value: 0.33884297520661155 and parameters: {'n_estimators': 145, 'max_depth': 32, 'min_samples_split': 0.14071699526266335, 'min_samples_leaf': 0.42294247221567033, 'max_features': 'auto'}. Best is trial 771 with value: 0.6115702479338843.\n",
      "[I 2024-03-14 10:17:14,258] Trial 862 finished with value: 0.33884297520661155 and parameters: {'n_estimators': 133, 'max_depth': 30, 'min_samples_split': 0.07501495466949387, 'min_samples_leaf': 0.8353640424643143, 'max_features': 'auto'}. Best is trial 771 with value: 0.6115702479338843.\n",
      "[I 2024-03-14 10:17:14,711] Trial 863 finished with value: 0.4986225895316804 and parameters: {'n_estimators': 157, 'max_depth': 29, 'min_samples_split': 0.029583956671583936, 'min_samples_leaf': 0.13556962553299629, 'max_features': 'auto'}. Best is trial 771 with value: 0.6115702479338843.\n",
      "[I 2024-03-14 10:17:14,950] Trial 864 finished with value: 0.33884297520661155 and parameters: {'n_estimators': 139, 'max_depth': 28, 'min_samples_split': 0.9505782922988718, 'min_samples_leaf': 0.2062275098619206, 'max_features': 'auto'}. Best is trial 771 with value: 0.6115702479338843.\n",
      "[I 2024-03-14 10:17:15,168] Trial 865 finished with value: 0.33884297520661155 and parameters: {'n_estimators': 127, 'max_depth': 34, 'min_samples_split': 0.8695079470594117, 'min_samples_leaf': 0.4193172434908052, 'max_features': 'auto'}. Best is trial 771 with value: 0.6115702479338843.\n",
      "[I 2024-03-14 10:17:15,967] Trial 866 finished with value: 0.5922865013774105 and parameters: {'n_estimators': 142, 'max_depth': 26, 'min_samples_split': 0.05454035722537942, 'min_samples_leaf': 0.010020938753211224, 'max_features': 'auto'}. Best is trial 771 with value: 0.6115702479338843.\n",
      "[I 2024-03-14 10:17:16,168] Trial 867 finished with value: 0.33884297520661155 and parameters: {'n_estimators': 120, 'max_depth': 27, 'min_samples_split': 0.030874789886640944, 'min_samples_leaf': 0.8113497749029465, 'max_features': 'auto'}. Best is trial 771 with value: 0.6115702479338843.\n",
      "[I 2024-03-14 10:17:16,399] Trial 868 finished with value: 0.33884297520661155 and parameters: {'n_estimators': 151, 'max_depth': 30, 'min_samples_split': 0.010169478794687596, 'min_samples_leaf': 0.7891550919376599, 'max_features': 'auto'}. Best is trial 771 with value: 0.6115702479338843.\n",
      "[I 2024-03-14 10:17:16,902] Trial 869 finished with value: 0.559228650137741 and parameters: {'n_estimators': 133, 'max_depth': 28, 'min_samples_split': 0.2036500841202566, 'min_samples_leaf': 0.030788394914347022, 'max_features': 'auto'}. Best is trial 771 with value: 0.6115702479338843.\n",
      "[I 2024-03-14 10:17:17,130] Trial 870 finished with value: 0.33884297520661155 and parameters: {'n_estimators': 125, 'max_depth': 29, 'min_samples_split': 0.729117259173691, 'min_samples_leaf': 0.26156301177886176, 'max_features': 'auto'}. Best is trial 771 with value: 0.6115702479338843.\n",
      "[I 2024-03-14 10:17:17,741] Trial 871 finished with value: 0.5647382920110193 and parameters: {'n_estimators': 147, 'max_depth': 31, 'min_samples_split': 0.09483822279618001, 'min_samples_leaf': 0.04263385421871457, 'max_features': 'auto'}. Best is trial 771 with value: 0.6115702479338843.\n",
      "[I 2024-03-14 10:17:17,969] Trial 872 finished with value: 0.33884297520661155 and parameters: {'n_estimators': 137, 'max_depth': 28, 'min_samples_split': 0.04846113496105775, 'min_samples_leaf': 0.9488214982511647, 'max_features': 'auto'}. Best is trial 771 with value: 0.6115702479338843.\n",
      "[I 2024-03-14 10:17:18,467] Trial 873 finished with value: 0.5399449035812672 and parameters: {'n_estimators': 155, 'max_depth': 26, 'min_samples_split': 0.07074336209564977, 'min_samples_leaf': 0.09168830664890902, 'max_features': 'auto'}. Best is trial 771 with value: 0.6115702479338843.\n",
      "[I 2024-03-14 10:17:19,018] Trial 874 finished with value: 0.5564738292011019 and parameters: {'n_estimators': 130, 'max_depth': 30, 'min_samples_split': 0.1970559143053403, 'min_samples_leaf': 0.010214073882250692, 'max_features': 'auto'}. Best is trial 771 with value: 0.6115702479338843.\n",
      "[I 2024-03-14 10:17:19,336] Trial 875 finished with value: 0.48484848484848486 and parameters: {'n_estimators': 141, 'max_depth': 29, 'min_samples_split': 0.4600507988658278, 'min_samples_leaf': 0.1743632111914216, 'max_features': 'auto'}. Best is trial 771 with value: 0.6115702479338843.\n",
      "[I 2024-03-14 10:17:19,526] Trial 876 finished with value: 0.33884297520661155 and parameters: {'n_estimators': 115, 'max_depth': 27, 'min_samples_split': 0.37322765282976156, 'min_samples_leaf': 0.631222939800162, 'max_features': 'auto'}. Best is trial 771 with value: 0.6115702479338843.\n",
      "[I 2024-03-14 10:17:20,056] Trial 877 finished with value: 0.5454545454545454 and parameters: {'n_estimators': 145, 'max_depth': 32, 'min_samples_split': 0.12083828189921726, 'min_samples_leaf': 0.06800931948776824, 'max_features': 'auto'}. Best is trial 771 with value: 0.6115702479338843.\n",
      "[I 2024-03-14 10:17:20,275] Trial 878 finished with value: 0.33884297520661155 and parameters: {'n_estimators': 136, 'max_depth': 24, 'min_samples_split': 0.9372789234760607, 'min_samples_leaf': 0.029430096258864884, 'max_features': 'auto'}. Best is trial 771 with value: 0.6115702479338843.\n",
      "[I 2024-03-14 10:17:20,700] Trial 879 finished with value: 0.5289256198347108 and parameters: {'n_estimators': 129, 'max_depth': 28, 'min_samples_split': 0.2882731502548429, 'min_samples_leaf': 0.05419775852327985, 'max_features': 'auto'}. Best is trial 771 with value: 0.6115702479338843.\n",
      "[I 2024-03-14 10:17:20,935] Trial 880 finished with value: 0.33884297520661155 and parameters: {'n_estimators': 152, 'max_depth': 31, 'min_samples_split': 0.17190646343971241, 'min_samples_leaf': 0.6000382110550231, 'max_features': 'auto'}. Best is trial 771 with value: 0.6115702479338843.\n",
      "[I 2024-03-14 10:17:21,140] Trial 881 finished with value: 0.33884297520661155 and parameters: {'n_estimators': 124, 'max_depth': 29, 'min_samples_split': 0.9323213185821109, 'min_samples_leaf': 0.029853352618938102, 'max_features': 'auto'}. Best is trial 771 with value: 0.6115702479338843.\n",
      "[I 2024-03-14 10:17:21,640] Trial 882 finished with value: 0.5234159779614325 and parameters: {'n_estimators': 158, 'max_depth': 30, 'min_samples_split': 0.4291324668484868, 'min_samples_leaf': 0.029345453352187252, 'max_features': 'auto'}. Best is trial 771 with value: 0.6115702479338843.\n",
      "[I 2024-03-14 10:17:22,186] Trial 883 finished with value: 0.5730027548209367 and parameters: {'n_estimators': 133, 'max_depth': 27, 'min_samples_split': 0.02886042496184412, 'min_samples_leaf': 0.04632517727078002, 'max_features': 'auto'}. Best is trial 771 with value: 0.6115702479338843.\n",
      "[I 2024-03-14 10:17:22,417] Trial 884 finished with value: 0.33884297520661155 and parameters: {'n_estimators': 139, 'max_depth': 28, 'min_samples_split': 0.3619534865159194, 'min_samples_leaf': 0.9964573189864102, 'max_features': 'auto'}. Best is trial 771 with value: 0.6115702479338843.\n",
      "[I 2024-03-14 10:17:22,733] Trial 885 finished with value: 0.46831955922865015 and parameters: {'n_estimators': 144, 'max_depth': 29, 'min_samples_split': 0.04743013751122633, 'min_samples_leaf': 0.24208607104585828, 'max_features': 'auto'}. Best is trial 771 with value: 0.6115702479338843.\n",
      "[I 2024-03-14 10:17:22,977] Trial 886 finished with value: 0.33884297520661155 and parameters: {'n_estimators': 149, 'max_depth': 30, 'min_samples_split': 0.7167158631895849, 'min_samples_leaf': 0.06799547779502484, 'max_features': 'auto'}. Best is trial 771 with value: 0.6115702479338843.\n",
      "[I 2024-03-14 10:17:23,243] Trial 887 finished with value: 0.4462809917355372 and parameters: {'n_estimators': 128, 'max_depth': 33, 'min_samples_split': 0.030250762861281033, 'min_samples_leaf': 0.30641835329069794, 'max_features': 'auto'}. Best is trial 771 with value: 0.6115702479338843.\n",
      "[I 2024-03-14 10:17:23,463] Trial 888 finished with value: 0.33884297520661155 and parameters: {'n_estimators': 135, 'max_depth': 26, 'min_samples_split': 0.06317349953095137, 'min_samples_leaf': 0.7733001703913218, 'max_features': 'auto'}. Best is trial 771 with value: 0.6115702479338843.\n",
      "[I 2024-03-14 10:17:23,701] Trial 889 finished with value: 0.33884297520661155 and parameters: {'n_estimators': 155, 'max_depth': 28, 'min_samples_split': 0.7778239391900242, 'min_samples_leaf': 0.617724340512064, 'max_features': 'auto'}. Best is trial 771 with value: 0.6115702479338843.\n",
      "[I 2024-03-14 10:17:23,898] Trial 890 finished with value: 0.33884297520661155 and parameters: {'n_estimators': 120, 'max_depth': 31, 'min_samples_split': 0.010816391520876323, 'min_samples_leaf': 0.7220131080876064, 'max_features': 'auto'}. Best is trial 771 with value: 0.6115702479338843.\n",
      "[I 2024-03-14 10:17:24,121] Trial 891 finished with value: 0.33884297520661155 and parameters: {'n_estimators': 142, 'max_depth': 27, 'min_samples_split': 0.9975146876731426, 'min_samples_leaf': 0.3323123786490482, 'max_features': 'auto'}. Best is trial 771 with value: 0.6115702479338843.\n",
      "[I 2024-03-14 10:17:24,823] Trial 892 finished with value: 0.5922865013774105 and parameters: {'n_estimators': 148, 'max_depth': 25, 'min_samples_split': 0.04383551655355158, 'min_samples_leaf': 0.027072872763150402, 'max_features': 'auto'}. Best is trial 771 with value: 0.6115702479338843.\n",
      "[I 2024-03-14 10:17:25,068] Trial 893 finished with value: 0.33884297520661155 and parameters: {'n_estimators': 131, 'max_depth': 29, 'min_samples_split': 0.8920922158878489, 'min_samples_leaf': 0.04625721224488583, 'max_features': 'auto'}. Best is trial 771 with value: 0.6115702479338843.\n",
      "[I 2024-03-14 10:17:25,533] Trial 894 finished with value: 0.5344352617079889 and parameters: {'n_estimators': 125, 'max_depth': 32, 'min_samples_split': 0.08171784994910097, 'min_samples_leaf': 0.09888769274080599, 'max_features': 'auto'}. Best is trial 771 with value: 0.6115702479338843.\n",
      "[I 2024-03-14 10:17:25,791] Trial 895 finished with value: 0.33884297520661155 and parameters: {'n_estimators': 138, 'max_depth': 29, 'min_samples_split': 0.8146296285704466, 'min_samples_leaf': 0.8981728664966577, 'max_features': 'auto'}. Best is trial 771 with value: 0.6115702479338843.\n",
      "[I 2024-03-14 10:17:26,618] Trial 896 finished with value: 0.5785123966942148 and parameters: {'n_estimators': 160, 'max_depth': 30, 'min_samples_split': 0.027423947793951395, 'min_samples_leaf': 0.02640197579198226, 'max_features': 'auto'}. Best is trial 771 with value: 0.6115702479338843.\n",
      "[I 2024-03-14 10:17:27,260] Trial 897 finished with value: 0.5730027548209367 and parameters: {'n_estimators': 151, 'max_depth': 28, 'min_samples_split': 0.09807363524401731, 'min_samples_leaf': 0.05519486770083795, 'max_features': 'auto'}. Best is trial 771 with value: 0.6115702479338843.\n",
      "[I 2024-03-14 10:17:27,519] Trial 898 finished with value: 0.33884297520661155 and parameters: {'n_estimators': 132, 'max_depth': 27, 'min_samples_split': 0.46557030923729636, 'min_samples_leaf': 0.3468567358145571, 'max_features': 'auto'}. Best is trial 771 with value: 0.6115702479338843.\n",
      "[I 2024-03-14 10:17:27,800] Trial 899 finished with value: 0.33884297520661155 and parameters: {'n_estimators': 144, 'max_depth': 26, 'min_samples_split': 0.058768862095646274, 'min_samples_leaf': 0.5670307163245187, 'max_features': 'auto'}. Best is trial 771 with value: 0.6115702479338843.\n",
      "[I 2024-03-14 10:17:28,671] Trial 900 finished with value: 0.5950413223140496 and parameters: {'n_estimators': 136, 'max_depth': 30, 'min_samples_split': 0.0420670992705621, 'min_samples_leaf': 0.010501270267958187, 'max_features': 'auto'}. Best is trial 771 with value: 0.6115702479338843.\n",
      "[I 2024-03-14 10:17:28,901] Trial 901 finished with value: 0.33884297520661155 and parameters: {'n_estimators': 123, 'max_depth': 28, 'min_samples_split': 0.8499620060043406, 'min_samples_leaf': 0.4522590379125938, 'max_features': 'auto'}. Best is trial 771 with value: 0.6115702479338843.\n",
      "[I 2024-03-14 10:17:29,558] Trial 902 finished with value: 0.581267217630854 and parameters: {'n_estimators': 117, 'max_depth': 31, 'min_samples_split': 0.02672288092588989, 'min_samples_leaf': 0.029176692490355375, 'max_features': 'auto'}. Best is trial 771 with value: 0.6115702479338843.\n",
      "[I 2024-03-14 10:17:29,983] Trial 903 finished with value: 0.5206611570247934 and parameters: {'n_estimators': 128, 'max_depth': 29, 'min_samples_split': 0.37534679715486224, 'min_samples_leaf': 0.07623110372718964, 'max_features': 'auto'}. Best is trial 771 with value: 0.6115702479338843.\n",
      "[I 2024-03-14 10:17:31,234] Trial 904 finished with value: 0.5840220385674931 and parameters: {'n_estimators': 215, 'max_depth': 28, 'min_samples_split': 0.07545739842278829, 'min_samples_leaf': 0.010287671992510444, 'max_features': 'auto'}. Best is trial 771 with value: 0.6115702479338843.\n",
      "[I 2024-03-14 10:17:31,481] Trial 905 finished with value: 0.33884297520661155 and parameters: {'n_estimators': 139, 'max_depth': 32, 'min_samples_split': 0.010060246377067884, 'min_samples_leaf': 0.743419615541097, 'max_features': 'auto'}. Best is trial 771 with value: 0.6115702479338843.\n",
      "[I 2024-03-14 10:17:31,723] Trial 906 finished with value: 0.33884297520661155 and parameters: {'n_estimators': 148, 'max_depth': 27, 'min_samples_split': 0.526267826373542, 'min_samples_leaf': 0.3630055276073551, 'max_features': 'auto'}. Best is trial 771 with value: 0.6115702479338843.\n",
      "[I 2024-03-14 10:17:32,067] Trial 907 finished with value: 0.46831955922865015 and parameters: {'n_estimators': 155, 'max_depth': 29, 'min_samples_split': 0.05002652978360662, 'min_samples_leaf': 0.22444324351548134, 'max_features': 'auto'}. Best is trial 771 with value: 0.6115702479338843.\n",
      "[I 2024-03-14 10:17:32,473] Trial 908 finished with value: 0.5068870523415978 and parameters: {'n_estimators': 133, 'max_depth': 30, 'min_samples_split': 0.431638396262368, 'min_samples_leaf': 0.046301493355918245, 'max_features': 'auto'}. Best is trial 771 with value: 0.6115702479338843.\n",
      "[I 2024-03-14 10:17:33,177] Trial 909 finished with value: 0.5840220385674931 and parameters: {'n_estimators': 140, 'max_depth': 31, 'min_samples_split': 0.010280451938593515, 'min_samples_leaf': 0.02905042587446851, 'max_features': 'auto'}. Best is trial 771 with value: 0.6115702479338843.\n",
      "[I 2024-03-14 10:17:34,049] Trial 910 finished with value: 0.5840220385674931 and parameters: {'n_estimators': 144, 'max_depth': 10, 'min_samples_split': 0.029778058830237937, 'min_samples_leaf': 0.01099682875493286, 'max_features': 'auto'}. Best is trial 771 with value: 0.6115702479338843.\n",
      "[I 2024-03-14 10:17:34,262] Trial 911 finished with value: 0.33884297520661155 and parameters: {'n_estimators': 128, 'max_depth': 28, 'min_samples_split': 0.0605297501055355, 'min_samples_leaf': 0.6478380664040542, 'max_features': 'auto'}. Best is trial 771 with value: 0.6115702479338843.\n",
      "[I 2024-03-14 10:17:34,823] Trial 912 finished with value: 0.5702479338842975 and parameters: {'n_estimators': 122, 'max_depth': 29, 'min_samples_split': 0.1612033101716406, 'min_samples_leaf': 0.010289681940491168, 'max_features': 'auto'}. Best is trial 771 with value: 0.6115702479338843.\n",
      "[I 2024-03-14 10:17:35,068] Trial 913 finished with value: 0.33884297520661155 and parameters: {'n_estimators': 147, 'max_depth': 27, 'min_samples_split': 0.041368105515486406, 'min_samples_leaf': 0.6895890906276714, 'max_features': 'auto'}. Best is trial 771 with value: 0.6115702479338843.\n",
      "[I 2024-03-14 10:17:35,713] Trial 914 finished with value: 0.5702479338842975 and parameters: {'n_estimators': 152, 'max_depth': 33, 'min_samples_split': 0.10267655237201434, 'min_samples_leaf': 0.04328423666065243, 'max_features': 'auto'}. Best is trial 771 with value: 0.6115702479338843.\n",
      "[I 2024-03-14 10:17:36,319] Trial 915 finished with value: 0.5674931129476584 and parameters: {'n_estimators': 159, 'max_depth': 30, 'min_samples_split': 0.07831100369595118, 'min_samples_leaf': 0.06480102064589713, 'max_features': 'auto'}. Best is trial 771 with value: 0.6115702479338843.\n",
      "[I 2024-03-14 10:17:36,782] Trial 916 finished with value: 0.4986225895316804 and parameters: {'n_estimators': 136, 'max_depth': 26, 'min_samples_split': 0.3064738597497445, 'min_samples_leaf': 0.1235984362948705, 'max_features': 'auto'}. Best is trial 771 with value: 0.6115702479338843.\n",
      "[I 2024-03-14 10:17:36,980] Trial 917 finished with value: 0.33884297520661155 and parameters: {'n_estimators': 112, 'max_depth': 29, 'min_samples_split': 0.6963781330935684, 'min_samples_leaf': 0.6640380870433144, 'max_features': 'auto'}. Best is trial 771 with value: 0.6115702479338843.\n",
      "[I 2024-03-14 10:17:37,504] Trial 918 finished with value: 0.4903581267217631 and parameters: {'n_estimators': 219, 'max_depth': 30, 'min_samples_split': 0.13077644262571075, 'min_samples_leaf': 0.18644574660088994, 'max_features': 'auto'}. Best is trial 771 with value: 0.6115702479338843.\n",
      "[I 2024-03-14 10:17:38,161] Trial 919 finished with value: 0.581267217630854 and parameters: {'n_estimators': 131, 'max_depth': 28, 'min_samples_split': 0.029494762144773926, 'min_samples_leaf': 0.029821865372291975, 'max_features': 'auto'}. Best is trial 771 with value: 0.6115702479338843.\n",
      "[I 2024-03-14 10:17:38,631] Trial 920 finished with value: 0.5426997245179064 and parameters: {'n_estimators': 141, 'max_depth': 31, 'min_samples_split': 0.056075632297252105, 'min_samples_leaf': 0.09821268293894303, 'max_features': 'auto'}. Best is trial 771 with value: 0.6115702479338843.\n",
      "[I 2024-03-14 10:17:38,925] Trial 921 finished with value: 0.4573002754820937 and parameters: {'n_estimators': 134, 'max_depth': 27, 'min_samples_split': 0.027466832664290418, 'min_samples_leaf': 0.2707878286201255, 'max_features': 'auto'}. Best is trial 771 with value: 0.6115702479338843.\n",
      "[I 2024-03-14 10:17:39,139] Trial 922 finished with value: 0.33884297520661155 and parameters: {'n_estimators': 127, 'max_depth': 25, 'min_samples_split': 0.6488486737233288, 'min_samples_leaf': 0.9399594368206461, 'max_features': 'auto'}. Best is trial 771 with value: 0.6115702479338843.\n",
      "[I 2024-03-14 10:17:39,645] Trial 923 finished with value: 0.5426997245179064 and parameters: {'n_estimators': 153, 'max_depth': 28, 'min_samples_split': 0.2865482313984316, 'min_samples_leaf': 0.04063269833571016, 'max_features': 'auto'}. Best is trial 771 with value: 0.6115702479338843.\n",
      "[I 2024-03-14 10:17:40,219] Trial 924 finished with value: 0.5619834710743802 and parameters: {'n_estimators': 148, 'max_depth': 29, 'min_samples_split': 0.043110965838761506, 'min_samples_leaf': 0.05938358036556524, 'max_features': 'auto'}. Best is trial 771 with value: 0.6115702479338843.\n",
      "[I 2024-03-14 10:17:40,459] Trial 925 finished with value: 0.33884297520661155 and parameters: {'n_estimators': 142, 'max_depth': 26, 'min_samples_split': 0.07235647118168688, 'min_samples_leaf': 0.37447556931573667, 'max_features': 'auto'}. Best is trial 771 with value: 0.6115702479338843.\n",
      "[I 2024-03-14 10:17:40,678] Trial 926 finished with value: 0.33884297520661155 and parameters: {'n_estimators': 125, 'max_depth': 30, 'min_samples_split': 0.911152624535247, 'min_samples_leaf': 0.46426852557229, 'max_features': 'auto'}. Best is trial 771 with value: 0.6115702479338843.\n",
      "[I 2024-03-14 10:17:42,012] Trial 927 finished with value: 0.5922865013774105 and parameters: {'n_estimators': 120, 'max_depth': 31, 'min_samples_split': 0.027897392693710082, 'min_samples_leaf': 0.027170081470985933, 'max_features': 'auto'}. Best is trial 771 with value: 0.6115702479338843.\n",
      "[I 2024-03-14 10:17:42,970] Trial 928 finished with value: 0.6005509641873278 and parameters: {'n_estimators': 139, 'max_depth': 29, 'min_samples_split': 0.010060976624994262, 'min_samples_leaf': 0.010648830826137651, 'max_features': 'auto'}. Best is trial 771 with value: 0.6115702479338843.\n",
      "[I 2024-03-14 10:17:43,227] Trial 929 finished with value: 0.33884297520661155 and parameters: {'n_estimators': 140, 'max_depth': 28, 'min_samples_split': 0.6252500454447009, 'min_samples_leaf': 0.48012190818480877, 'max_features': 'auto'}. Best is trial 771 with value: 0.6115702479338843.\n",
      "[I 2024-03-14 10:17:43,991] Trial 930 finished with value: 0.5867768595041323 and parameters: {'n_estimators': 138, 'max_depth': 29, 'min_samples_split': 0.010578472496432555, 'min_samples_leaf': 0.02801660368253689, 'max_features': 'auto'}. Best is trial 771 with value: 0.6115702479338843.\n",
      "[I 2024-03-14 10:17:44,234] Trial 931 finished with value: 0.33884297520661155 and parameters: {'n_estimators': 135, 'max_depth': 27, 'min_samples_split': 0.024556754607289715, 'min_samples_leaf': 0.53751645570632, 'max_features': 'auto'}. Best is trial 771 with value: 0.6115702479338843.\n",
      "[I 2024-03-14 10:17:44,469] Trial 932 finished with value: 0.33884297520661155 and parameters: {'n_estimators': 131, 'max_depth': 29, 'min_samples_split': 0.8122509202847459, 'min_samples_leaf': 0.01034247577944892, 'max_features': 'auto'}. Best is trial 771 with value: 0.6115702479338843.\n",
      "[I 2024-03-14 10:17:45,069] Trial 933 finished with value: 0.5647382920110193 and parameters: {'n_estimators': 137, 'max_depth': 28, 'min_samples_split': 0.010551760168265464, 'min_samples_leaf': 0.04463166342739314, 'max_features': 'auto'}. Best is trial 771 with value: 0.6115702479338843.\n",
      "[I 2024-03-14 10:17:45,320] Trial 934 finished with value: 0.33884297520661155 and parameters: {'n_estimators': 139, 'max_depth': 29, 'min_samples_split': 0.9610346033648496, 'min_samples_leaf': 0.08228453181924575, 'max_features': 'auto'}. Best is trial 771 with value: 0.6115702479338843.\n",
      "[I 2024-03-14 10:17:45,583] Trial 935 finished with value: 0.33884297520661155 and parameters: {'n_estimators': 143, 'max_depth': 27, 'min_samples_split': 0.780624951629115, 'min_samples_leaf': 0.665897192305704, 'max_features': 'auto'}. Best is trial 771 with value: 0.6115702479338843.\n",
      "[I 2024-03-14 10:17:46,228] Trial 936 finished with value: 0.5895316804407713 and parameters: {'n_estimators': 132, 'max_depth': 28, 'min_samples_split': 0.011091682966414926, 'min_samples_leaf': 0.028285778463390473, 'max_features': 'auto'}. Best is trial 771 with value: 0.6115702479338843.\n",
      "[I 2024-03-14 10:17:46,647] Trial 937 finished with value: 0.5013774104683195 and parameters: {'n_estimators': 145, 'max_depth': 30, 'min_samples_split': 0.1745590394433132, 'min_samples_leaf': 0.1357866045774545, 'max_features': 'auto'}. Best is trial 771 with value: 0.6115702479338843.\n",
      "[I 2024-03-14 10:17:46,871] Trial 938 finished with value: 0.33884297520661155 and parameters: {'n_estimators': 137, 'max_depth': 28, 'min_samples_split': 0.7253130402334041, 'min_samples_leaf': 0.8647451788878227, 'max_features': 'auto'}. Best is trial 771 with value: 0.6115702479338843.\n",
      "[I 2024-03-14 10:17:47,714] Trial 939 finished with value: 0.6033057851239669 and parameters: {'n_estimators': 129, 'max_depth': 29, 'min_samples_split': 0.040438460490236486, 'min_samples_leaf': 0.010316265221655603, 'max_features': 'auto'}. Best is trial 771 with value: 0.6115702479338843.\n",
      "[I 2024-03-14 10:17:47,918] Trial 940 finished with value: 0.33884297520661155 and parameters: {'n_estimators': 123, 'max_depth': 30, 'min_samples_split': 0.14513169807872445, 'min_samples_leaf': 0.7086466257862771, 'max_features': 'auto'}. Best is trial 771 with value: 0.6115702479338843.\n",
      "[I 2024-03-14 10:17:48,098] Trial 941 finished with value: 0.33884297520661155 and parameters: {'n_estimators': 105, 'max_depth': 30, 'min_samples_split': 0.029658639465173893, 'min_samples_leaf': 0.4012845859918717, 'max_features': 'auto'}. Best is trial 771 with value: 0.6115702479338843.\n",
      "[I 2024-03-14 10:17:48,313] Trial 942 finished with value: 0.33884297520661155 and parameters: {'n_estimators': 127, 'max_depth': 29, 'min_samples_split': 0.037611495706807885, 'min_samples_leaf': 0.528825651239796, 'max_features': 'auto'}. Best is trial 771 with value: 0.6115702479338843.\n",
      "[I 2024-03-14 10:17:48,577] Trial 943 finished with value: 0.33884297520661155 and parameters: {'n_estimators': 128, 'max_depth': 29, 'min_samples_split': 0.6359612878867077, 'min_samples_leaf': 0.8207890846772121, 'max_features': 'auto'}. Best is trial 771 with value: 0.6115702479338843.\n",
      "[I 2024-03-14 10:17:48,786] Trial 944 finished with value: 0.33884297520661155 and parameters: {'n_estimators': 116, 'max_depth': 29, 'min_samples_split': 0.3398517461812909, 'min_samples_leaf': 0.4939693314033004, 'max_features': 'auto'}. Best is trial 771 with value: 0.6115702479338843.\n",
      "[I 2024-03-14 10:17:49,264] Trial 945 finished with value: 0.5509641873278237 and parameters: {'n_estimators': 125, 'max_depth': 30, 'min_samples_split': 0.01046519068756413, 'min_samples_leaf': 0.059764329152045575, 'max_features': 'auto'}. Best is trial 771 with value: 0.6115702479338843.\n",
      "[I 2024-03-14 10:17:49,468] Trial 946 finished with value: 0.33884297520661155 and parameters: {'n_estimators': 121, 'max_depth': 29, 'min_samples_split': 0.048468682275764105, 'min_samples_leaf': 0.6302586353470176, 'max_features': 'auto'}. Best is trial 771 with value: 0.6115702479338843.\n",
      "[I 2024-03-14 10:17:49,674] Trial 947 finished with value: 0.33884297520661155 and parameters: {'n_estimators': 130, 'max_depth': 28, 'min_samples_split': 0.6726986600757794, 'min_samples_leaf': 0.04143986214496771, 'max_features': 'auto'}. Best is trial 771 with value: 0.6115702479338843.\n",
      "[I 2024-03-14 10:17:49,906] Trial 948 finished with value: 0.33884297520661155 and parameters: {'n_estimators': 132, 'max_depth': 30, 'min_samples_split': 0.028783862155821415, 'min_samples_leaf': 0.5570661886910315, 'max_features': 'auto'}. Best is trial 771 with value: 0.6115702479338843.\n",
      "[I 2024-03-14 10:17:50,109] Trial 949 finished with value: 0.33884297520661155 and parameters: {'n_estimators': 125, 'max_depth': 30, 'min_samples_split': 0.3261777469233741, 'min_samples_leaf': 0.5038659719081416, 'max_features': 'auto'}. Best is trial 771 with value: 0.6115702479338843.\n",
      "[I 2024-03-14 10:17:50,390] Trial 950 finished with value: 0.44077134986225897 and parameters: {'n_estimators': 129, 'max_depth': 31, 'min_samples_split': 0.010489919555065603, 'min_samples_leaf': 0.31447080102325686, 'max_features': 'auto'}. Best is trial 771 with value: 0.6115702479338843.\n",
      "[I 2024-03-14 10:17:50,588] Trial 951 finished with value: 0.33884297520661155 and parameters: {'n_estimators': 119, 'max_depth': 29, 'min_samples_split': 0.9784401985396408, 'min_samples_leaf': 0.1543491215971174, 'max_features': 'auto'}. Best is trial 771 with value: 0.6115702479338843.\n",
      "[I 2024-03-14 10:17:50,883] Trial 952 finished with value: 0.4793388429752066 and parameters: {'n_estimators': 133, 'max_depth': 28, 'min_samples_split': 0.05822538503929274, 'min_samples_leaf': 0.2161373105525679, 'max_features': 'auto'}. Best is trial 771 with value: 0.6115702479338843.\n",
      "[I 2024-03-14 10:17:51,111] Trial 953 finished with value: 0.33884297520661155 and parameters: {'n_estimators': 145, 'max_depth': 29, 'min_samples_split': 0.04148439152870223, 'min_samples_leaf': 0.5924713961359961, 'max_features': 'auto'}. Best is trial 771 with value: 0.6115702479338843.\n",
      "[I 2024-03-14 10:17:51,332] Trial 954 finished with value: 0.33884297520661155 and parameters: {'n_estimators': 125, 'max_depth': 28, 'min_samples_split': 0.8356547844479942, 'min_samples_leaf': 0.02613762161500375, 'max_features': 'auto'}. Best is trial 771 with value: 0.6115702479338843.\n",
      "[I 2024-03-14 10:17:51,566] Trial 955 finished with value: 0.33884297520661155 and parameters: {'n_estimators': 141, 'max_depth': 30, 'min_samples_split': 0.793534484054488, 'min_samples_leaf': 0.05395491384390897, 'max_features': 'auto'}. Best is trial 771 with value: 0.6115702479338843.\n",
      "[I 2024-03-14 10:17:51,776] Trial 956 finished with value: 0.33884297520661155 and parameters: {'n_estimators': 130, 'max_depth': 31, 'min_samples_split': 0.9285336898583452, 'min_samples_leaf': 0.010453169444983437, 'max_features': 'auto'}. Best is trial 771 with value: 0.6115702479338843.\n",
      "[I 2024-03-14 10:17:52,348] Trial 957 finished with value: 0.5647382920110193 and parameters: {'n_estimators': 134, 'max_depth': 28, 'min_samples_split': 0.0941433014647126, 'min_samples_leaf': 0.04242278124662264, 'max_features': 'auto'}. Best is trial 771 with value: 0.6115702479338843.\n",
      "[I 2024-03-14 10:17:52,654] Trial 958 finished with value: 0.4490358126721763 and parameters: {'n_estimators': 147, 'max_depth': 30, 'min_samples_split': 0.1126851216794653, 'min_samples_leaf': 0.2874254278885322, 'max_features': 'auto'}. Best is trial 771 with value: 0.6115702479338843.\n",
      "[I 2024-03-14 10:17:52,874] Trial 959 finished with value: 0.33884297520661155 and parameters: {'n_estimators': 135, 'max_depth': 29, 'min_samples_split': 0.7379003946421724, 'min_samples_leaf': 0.7497538217052199, 'max_features': 'auto'}. Best is trial 771 with value: 0.6115702479338843.\n",
      "[I 2024-03-14 10:17:53,725] Trial 960 finished with value: 0.5482093663911846 and parameters: {'n_estimators': 262, 'max_depth': 27, 'min_samples_split': 0.026654567268063634, 'min_samples_leaf': 0.07647135132242126, 'max_features': 'auto'}. Best is trial 771 with value: 0.6115702479338843.\n",
      "[I 2024-03-14 10:17:53,956] Trial 961 finished with value: 0.33884297520661155 and parameters: {'n_estimators': 122, 'max_depth': 29, 'min_samples_split': 0.05915916030783154, 'min_samples_leaf': 0.8044822114850186, 'max_features': 'auto'}. Best is trial 771 with value: 0.6115702479338843.\n",
      "[I 2024-03-14 10:17:54,849] Trial 962 finished with value: 0.5977961432506887 and parameters: {'n_estimators': 142, 'max_depth': 28, 'min_samples_split': 0.01055989674790435, 'min_samples_leaf': 0.010275335071549986, 'max_features': 'auto'}. Best is trial 771 with value: 0.6115702479338843.\n",
      "[I 2024-03-14 10:17:55,356] Trial 963 finished with value: 0.5316804407713499 and parameters: {'n_estimators': 128, 'max_depth': 31, 'min_samples_split': 0.27765190135431417, 'min_samples_leaf': 0.010573490384043448, 'max_features': 'auto'}. Best is trial 771 with value: 0.6115702479338843.\n",
      "[I 2024-03-14 10:17:55,990] Trial 964 finished with value: 0.5730027548209367 and parameters: {'n_estimators': 138, 'max_depth': 27, 'min_samples_split': 0.04341388866132005, 'min_samples_leaf': 0.031717252346657135, 'max_features': 'auto'}. Best is trial 771 with value: 0.6115702479338843.\n",
      "[I 2024-03-14 10:17:56,574] Trial 965 finished with value: 0.5730027548209367 and parameters: {'n_estimators': 150, 'max_depth': 30, 'min_samples_split': 0.029411138471998617, 'min_samples_leaf': 0.05710657430268889, 'max_features': 'auto'}. Best is trial 771 with value: 0.6115702479338843.\n",
      "[I 2024-03-14 10:17:56,772] Trial 966 finished with value: 0.33884297520661155 and parameters: {'n_estimators': 117, 'max_depth': 29, 'min_samples_split': 0.754044389149038, 'min_samples_leaf': 0.3407564212097909, 'max_features': 'auto'}. Best is trial 771 with value: 0.6115702479338843.\n",
      "[I 2024-03-14 10:17:56,985] Trial 967 finished with value: 0.33884297520661155 and parameters: {'n_estimators': 132, 'max_depth': 27, 'min_samples_split': 0.079858337694706, 'min_samples_leaf': 0.7409131662632712, 'max_features': 'auto'}. Best is trial 771 with value: 0.6115702479338843.\n",
      "[I 2024-03-14 10:17:57,329] Trial 968 finished with value: 0.4462809917355372 and parameters: {'n_estimators': 143, 'max_depth': 31, 'min_samples_split': 0.5840213724062185, 'min_samples_leaf': 0.2650447526812626, 'max_features': 'auto'}. Best is trial 771 with value: 0.6115702479338843.\n",
      "[I 2024-03-14 10:17:57,652] Trial 969 finished with value: 0.465564738292011 and parameters: {'n_estimators': 124, 'max_depth': 28, 'min_samples_split': 0.43339065292043144, 'min_samples_leaf': 0.24794978012699948, 'max_features': 'auto'}. Best is trial 771 with value: 0.6115702479338843.\n",
      "[I 2024-03-14 10:17:58,117] Trial 970 finished with value: 0.5206611570247934 and parameters: {'n_estimators': 147, 'max_depth': 29, 'min_samples_split': 0.4561082513139748, 'min_samples_leaf': 0.010148249081168894, 'max_features': 'auto'}. Best is trial 771 with value: 0.6115702479338843.\n",
      "[I 2024-03-14 10:17:58,357] Trial 971 finished with value: 0.33884297520661155 and parameters: {'n_estimators': 129, 'max_depth': 30, 'min_samples_split': 0.05726563670022596, 'min_samples_leaf': 0.4039596343918587, 'max_features': 'auto'}. Best is trial 771 with value: 0.6115702479338843.\n",
      "[I 2024-03-14 10:17:58,756] Trial 972 finished with value: 0.5206611570247934 and parameters: {'n_estimators': 138, 'max_depth': 29, 'min_samples_split': 0.6019520203167124, 'min_samples_leaf': 0.040085011783646304, 'max_features': 'auto'}. Best is trial 771 with value: 0.6115702479338843.\n",
      "[I 2024-03-14 10:17:59,091] Trial 973 finished with value: 0.33884297520661155 and parameters: {'n_estimators': 133, 'max_depth': 26, 'min_samples_split': 0.028761113885041135, 'min_samples_leaf': 0.5724456139728556, 'max_features': 'auto'}. Best is trial 771 with value: 0.6115702479338843.\n",
      "[I 2024-03-14 10:17:59,880] Trial 974 finished with value: 0.581267217630854 and parameters: {'n_estimators': 145, 'max_depth': 28, 'min_samples_split': 0.010243697391191388, 'min_samples_leaf': 0.027987914030858412, 'max_features': 'auto'}. Best is trial 771 with value: 0.6115702479338843.\n",
      "[I 2024-03-14 10:18:00,106] Trial 975 finished with value: 0.33884297520661155 and parameters: {'n_estimators': 120, 'max_depth': 31, 'min_samples_split': 0.7651235451852818, 'min_samples_leaf': 0.09717764683955747, 'max_features': 'auto'}. Best is trial 771 with value: 0.6115702479338843.\n",
      "[I 2024-03-14 10:18:00,570] Trial 976 finished with value: 0.512396694214876 and parameters: {'n_estimators': 126, 'max_depth': 28, 'min_samples_split': 0.40146930009814913, 'min_samples_leaf': 0.05852430412744079, 'max_features': 'auto'}. Best is trial 771 with value: 0.6115702479338843.\n",
      "[I 2024-03-14 10:18:00,807] Trial 977 finished with value: 0.33884297520661155 and parameters: {'n_estimators': 140, 'max_depth': 30, 'min_samples_split': 0.6085472903395346, 'min_samples_leaf': 0.6353760656343015, 'max_features': 'auto'}. Best is trial 771 with value: 0.6115702479338843.\n",
      "[I 2024-03-14 10:18:01,064] Trial 978 finished with value: 0.33884297520661155 and parameters: {'n_estimators': 136, 'max_depth': 29, 'min_samples_split': 0.2049971947178857, 'min_samples_leaf': 0.7743996281750227, 'max_features': 'auto'}. Best is trial 771 with value: 0.6115702479338843.\n",
      "[I 2024-03-14 10:18:01,610] Trial 979 finished with value: 0.5840220385674931 and parameters: {'n_estimators': 114, 'max_depth': 27, 'min_samples_split': 0.1289062787454295, 'min_samples_leaf': 0.028435619875682782, 'max_features': 'auto'}. Best is trial 771 with value: 0.6115702479338843.\n",
      "[I 2024-03-14 10:18:02,182] Trial 980 finished with value: 0.5730027548209367 and parameters: {'n_estimators': 130, 'max_depth': 30, 'min_samples_split': 0.045628179562883994, 'min_samples_leaf': 0.0410358189625928, 'max_features': 'auto'}. Best is trial 771 with value: 0.6115702479338843.\n",
      "[I 2024-03-14 10:18:02,664] Trial 981 finished with value: 0.5426997245179064 and parameters: {'n_estimators': 150, 'max_depth': 29, 'min_samples_split': 0.3012112657205921, 'min_samples_leaf': 0.06846096025292454, 'max_features': 'auto'}. Best is trial 771 with value: 0.6115702479338843.\n",
      "[I 2024-03-14 10:18:02,896] Trial 982 finished with value: 0.33884297520661155 and parameters: {'n_estimators': 141, 'max_depth': 28, 'min_samples_split': 0.07507039774582897, 'min_samples_leaf': 0.7144843812635724, 'max_features': 'auto'}. Best is trial 771 with value: 0.6115702479338843.\n",
      "[I 2024-03-14 10:18:03,718] Trial 983 finished with value: 0.6033057851239669 and parameters: {'n_estimators': 134, 'max_depth': 32, 'min_samples_split': 0.028644289826233127, 'min_samples_leaf': 0.01035586755165305, 'max_features': 'auto'}. Best is trial 771 with value: 0.6115702479338843.\n",
      "[I 2024-03-14 10:18:03,938] Trial 984 finished with value: 0.33884297520661155 and parameters: {'n_estimators': 134, 'max_depth': 32, 'min_samples_split': 0.6866078084374253, 'min_samples_leaf': 0.6076502158569128, 'max_features': 'auto'}. Best is trial 771 with value: 0.6115702479338843.\n",
      "[I 2024-03-14 10:18:04,243] Trial 985 finished with value: 0.48484848484848486 and parameters: {'n_estimators': 138, 'max_depth': 33, 'min_samples_split': 0.5534693917425982, 'min_samples_leaf': 0.20654191643629877, 'max_features': 'auto'}. Best is trial 771 with value: 0.6115702479338843.\n",
      "[I 2024-03-14 10:18:04,538] Trial 986 finished with value: 0.33884297520661155 and parameters: {'n_estimators': 144, 'max_depth': 32, 'min_samples_split': 0.4994581647907354, 'min_samples_leaf': 0.7895245915403764, 'max_features': 'auto'}. Best is trial 771 with value: 0.6115702479338843.\n",
      "[I 2024-03-14 10:18:05,200] Trial 987 finished with value: 0.5867768595041323 and parameters: {'n_estimators': 135, 'max_depth': 33, 'min_samples_split': 0.01038778837479935, 'min_samples_leaf': 0.026335900119519307, 'max_features': 'auto'}. Best is trial 771 with value: 0.6115702479338843.\n",
      "[I 2024-03-14 10:18:05,431] Trial 988 finished with value: 0.33884297520661155 and parameters: {'n_estimators': 141, 'max_depth': 32, 'min_samples_split': 0.044288509853489894, 'min_samples_leaf': 0.9328647149712689, 'max_features': 'auto'}. Best is trial 771 with value: 0.6115702479338843.\n",
      "[I 2024-03-14 10:18:05,675] Trial 989 finished with value: 0.33884297520661155 and parameters: {'n_estimators': 147, 'max_depth': 31, 'min_samples_split': 0.028660880182732097, 'min_samples_leaf': 0.8362752219954521, 'max_features': 'auto'}. Best is trial 771 with value: 0.6115702479338843.\n",
      "[I 2024-03-14 10:18:05,900] Trial 990 finished with value: 0.33884297520661155 and parameters: {'n_estimators': 136, 'max_depth': 31, 'min_samples_split': 0.06462065628967521, 'min_samples_leaf': 0.5231479333387301, 'max_features': 'auto'}. Best is trial 771 with value: 0.6115702479338843.\n",
      "[I 2024-03-14 10:18:06,500] Trial 991 finished with value: 0.559228650137741 and parameters: {'n_estimators': 139, 'max_depth': 34, 'min_samples_split': 0.16581950586517705, 'min_samples_leaf': 0.010671071450148608, 'max_features': 'auto'}. Best is trial 771 with value: 0.6115702479338843.\n",
      "[I 2024-03-14 10:18:06,757] Trial 992 finished with value: 0.33884297520661155 and parameters: {'n_estimators': 152, 'max_depth': 32, 'min_samples_split': 0.5445536282778786, 'min_samples_leaf': 0.4366741463500563, 'max_features': 'auto'}. Best is trial 771 with value: 0.6115702479338843.\n",
      "[I 2024-03-14 10:18:07,044] Trial 993 finished with value: 0.33884297520661155 and parameters: {'n_estimators': 133, 'max_depth': 26, 'min_samples_split': 0.02930272576836508, 'min_samples_leaf': 0.4176567678969218, 'max_features': 'auto'}. Best is trial 771 with value: 0.6115702479338843.\n",
      "[I 2024-03-14 10:18:07,274] Trial 994 finished with value: 0.33884297520661155 and parameters: {'n_estimators': 143, 'max_depth': 31, 'min_samples_split': 0.8415674939908275, 'min_samples_leaf': 0.044593704488027804, 'max_features': 'auto'}. Best is trial 771 with value: 0.6115702479338843.\n",
      "[I 2024-03-14 10:18:07,822] Trial 995 finished with value: 0.5564738292011019 and parameters: {'n_estimators': 149, 'max_depth': 32, 'min_samples_split': 0.10866219067303998, 'min_samples_leaf': 0.07191389970641139, 'max_features': 'auto'}. Best is trial 771 with value: 0.6115702479338843.\n",
      "[I 2024-03-14 10:18:08,549] Trial 996 finished with value: 0.6005509641873278 and parameters: {'n_estimators': 130, 'max_depth': 30, 'min_samples_split': 0.05595985481031417, 'min_samples_leaf': 0.010114808086897463, 'max_features': 'auto'}. Best is trial 771 with value: 0.6115702479338843.\n",
      "[I 2024-03-14 10:18:09,186] Trial 997 finished with value: 0.5757575757575758 and parameters: {'n_estimators': 129, 'max_depth': 27, 'min_samples_split': 0.05459987741387612, 'min_samples_leaf': 0.030801186593165338, 'max_features': 'auto'}. Best is trial 771 with value: 0.6115702479338843.\n",
      "[I 2024-03-14 10:18:09,734] Trial 998 finished with value: 0.5647382920110193 and parameters: {'n_estimators': 130, 'max_depth': 28, 'min_samples_split': 0.040635139797061307, 'min_samples_leaf': 0.044683425996116855, 'max_features': 'auto'}. Best is trial 771 with value: 0.6115702479338843.\n",
      "[I 2024-03-14 10:18:09,945] Trial 999 finished with value: 0.38016528925619836 and parameters: {'n_estimators': 129, 'max_depth': 49, 'min_samples_split': 0.6513529710493453, 'min_samples_leaf': 0.02875305800363024, 'max_features': 'auto'}. Best is trial 771 with value: 0.6115702479338843.\n"
     ]
    }
   ],
   "source": [
    "def objective(trial):\n",
    "    n_estimators = trial.suggest_int('n_estimators', 100, 300)\n",
    "    max_depth = trial.suggest_int('max_depth', 5, 50)\n",
    "    min_samples_split = trial.suggest_float('min_samples_split', 0.01, 1.0)\n",
    "    min_samples_leaf = trial.suggest_float('min_samples_leaf', 0.01, 1.0)\n",
    "    max_features = trial.suggest_categorical('max_features', ['auto'])\n",
    "\n",
    "    rf_clf = RandomForestClassifier(\n",
    "        n_estimators=n_estimators,\n",
    "        max_depth=max_depth,\n",
    "        min_samples_split=min_samples_split,\n",
    "        min_samples_leaf=min_samples_leaf,\n",
    "        max_features=max_features,\n",
    "        random_state=42\n",
    "    )\n",
    "\n",
    "    rf_clf.fit(X_train_sg, y_train)\n",
    "    y_val_pred = rf_clf.predict(X_val_sg)\n",
    "    accuracy = accuracy_score(y_val, y_val_pred)\n",
    "\n",
    "    return accuracy\n",
    "\n",
    "study = optuna.create_study(direction='maximize')\n",
    "study.optimize(objective, n_trials=1000)\n",
    "\n",
    "best_params_sg = study.best_params\n",
    "best_accuracy_sg = study.best_value"
   ]
  },
  {
   "cell_type": "code",
   "execution_count": 343,
   "metadata": {
    "colab": {
     "base_uri": "https://localhost:8080/",
     "height": 126
    },
    "executionInfo": {
     "elapsed": 727,
     "status": "ok",
     "timestamp": 1710299004145,
     "user": {
      "displayName": "Alfandy Surya",
      "userId": "04251874478570968890"
     },
     "user_tz": -420
    },
    "id": "GDr6Gj-m6jCc",
    "outputId": "c2028714-8883-425a-ed65-3c17b553cb5a"
   },
   "outputs": [
    {
     "data": {
      "text/html": [
       "<style>#sk-container-id-20 {color: black;background-color: white;}#sk-container-id-20 pre{padding: 0;}#sk-container-id-20 div.sk-toggleable {background-color: white;}#sk-container-id-20 label.sk-toggleable__label {cursor: pointer;display: block;width: 100%;margin-bottom: 0;padding: 0.3em;box-sizing: border-box;text-align: center;}#sk-container-id-20 label.sk-toggleable__label-arrow:before {content: \"▸\";float: left;margin-right: 0.25em;color: #696969;}#sk-container-id-20 label.sk-toggleable__label-arrow:hover:before {color: black;}#sk-container-id-20 div.sk-estimator:hover label.sk-toggleable__label-arrow:before {color: black;}#sk-container-id-20 div.sk-toggleable__content {max-height: 0;max-width: 0;overflow: hidden;text-align: left;background-color: #f0f8ff;}#sk-container-id-20 div.sk-toggleable__content pre {margin: 0.2em;color: black;border-radius: 0.25em;background-color: #f0f8ff;}#sk-container-id-20 input.sk-toggleable__control:checked~div.sk-toggleable__content {max-height: 200px;max-width: 100%;overflow: auto;}#sk-container-id-20 input.sk-toggleable__control:checked~label.sk-toggleable__label-arrow:before {content: \"▾\";}#sk-container-id-20 div.sk-estimator input.sk-toggleable__control:checked~label.sk-toggleable__label {background-color: #d4ebff;}#sk-container-id-20 div.sk-label input.sk-toggleable__control:checked~label.sk-toggleable__label {background-color: #d4ebff;}#sk-container-id-20 input.sk-hidden--visually {border: 0;clip: rect(1px 1px 1px 1px);clip: rect(1px, 1px, 1px, 1px);height: 1px;margin: -1px;overflow: hidden;padding: 0;position: absolute;width: 1px;}#sk-container-id-20 div.sk-estimator {font-family: monospace;background-color: #f0f8ff;border: 1px dotted black;border-radius: 0.25em;box-sizing: border-box;margin-bottom: 0.5em;}#sk-container-id-20 div.sk-estimator:hover {background-color: #d4ebff;}#sk-container-id-20 div.sk-parallel-item::after {content: \"\";width: 100%;border-bottom: 1px solid gray;flex-grow: 1;}#sk-container-id-20 div.sk-label:hover label.sk-toggleable__label {background-color: #d4ebff;}#sk-container-id-20 div.sk-serial::before {content: \"\";position: absolute;border-left: 1px solid gray;box-sizing: border-box;top: 0;bottom: 0;left: 50%;z-index: 0;}#sk-container-id-20 div.sk-serial {display: flex;flex-direction: column;align-items: center;background-color: white;padding-right: 0.2em;padding-left: 0.2em;position: relative;}#sk-container-id-20 div.sk-item {position: relative;z-index: 1;}#sk-container-id-20 div.sk-parallel {display: flex;align-items: stretch;justify-content: center;background-color: white;position: relative;}#sk-container-id-20 div.sk-item::before, #sk-container-id-20 div.sk-parallel-item::before {content: \"\";position: absolute;border-left: 1px solid gray;box-sizing: border-box;top: 0;bottom: 0;left: 50%;z-index: -1;}#sk-container-id-20 div.sk-parallel-item {display: flex;flex-direction: column;z-index: 1;position: relative;background-color: white;}#sk-container-id-20 div.sk-parallel-item:first-child::after {align-self: flex-end;width: 50%;}#sk-container-id-20 div.sk-parallel-item:last-child::after {align-self: flex-start;width: 50%;}#sk-container-id-20 div.sk-parallel-item:only-child::after {width: 0;}#sk-container-id-20 div.sk-dashed-wrapped {border: 1px dashed gray;margin: 0 0.4em 0.5em 0.4em;box-sizing: border-box;padding-bottom: 0.4em;background-color: white;}#sk-container-id-20 div.sk-label label {font-family: monospace;font-weight: bold;display: inline-block;line-height: 1.2em;}#sk-container-id-20 div.sk-label-container {text-align: center;}#sk-container-id-20 div.sk-container {/* jupyter's `normalize.less` sets `[hidden] { display: none; }` but bootstrap.min.css set `[hidden] { display: none !important; }` so we also need the `!important` here to be able to override the default hidden behavior on the sphinx rendered scikit-learn.org. See: https://github.com/scikit-learn/scikit-learn/issues/21755 */display: inline-block !important;position: relative;}#sk-container-id-20 div.sk-text-repr-fallback {display: none;}</style><div id=\"sk-container-id-20\" class=\"sk-top-container\"><div class=\"sk-text-repr-fallback\"><pre>RandomForestClassifier(max_depth=32, max_features=&#x27;auto&#x27;,\n",
       "                       min_samples_leaf=0.010748981478321845,\n",
       "                       min_samples_split=0.030319681242041912, n_estimators=149,\n",
       "                       random_state=42)</pre><b>In a Jupyter environment, please rerun this cell to show the HTML representation or trust the notebook. <br />On GitHub, the HTML representation is unable to render, please try loading this page with nbviewer.org.</b></div><div class=\"sk-container\" hidden><div class=\"sk-item\"><div class=\"sk-estimator sk-toggleable\"><input class=\"sk-toggleable__control sk-hidden--visually\" id=\"sk-estimator-id-20\" type=\"checkbox\" checked><label for=\"sk-estimator-id-20\" class=\"sk-toggleable__label sk-toggleable__label-arrow\">RandomForestClassifier</label><div class=\"sk-toggleable__content\"><pre>RandomForestClassifier(max_depth=32, max_features=&#x27;auto&#x27;,\n",
       "                       min_samples_leaf=0.010748981478321845,\n",
       "                       min_samples_split=0.030319681242041912, n_estimators=149,\n",
       "                       random_state=42)</pre></div></div></div></div></div>"
      ],
      "text/plain": [
       "RandomForestClassifier(max_depth=32, max_features='auto',\n",
       "                       min_samples_leaf=0.010748981478321845,\n",
       "                       min_samples_split=0.030319681242041912, n_estimators=149,\n",
       "                       random_state=42)"
      ]
     },
     "execution_count": 343,
     "metadata": {},
     "output_type": "execute_result"
    }
   ],
   "source": [
    "rf_model_sg_tuned = RandomForestClassifier(random_state=42, **best_params_sg)\n",
    "rf_model_sg_tuned.fit(X_train_sg, y_train)"
   ]
  },
  {
   "cell_type": "code",
   "execution_count": 344,
   "metadata": {
    "colab": {
     "base_uri": "https://localhost:8080/",
     "height": 112
    },
    "executionInfo": {
     "elapsed": 528,
     "status": "ok",
     "timestamp": 1710299008905,
     "user": {
      "displayName": "Alfandy Surya",
      "userId": "04251874478570968890"
     },
     "user_tz": -420
    },
    "id": "Rdeaz1gT7Q69",
    "outputId": "cd6b7655-c9be-4ef7-de81-feb7a7160056"
   },
   "outputs": [
    {
     "data": {
      "text/html": [
       "<div>\n",
       "<style scoped>\n",
       "    .dataframe tbody tr th:only-of-type {\n",
       "        vertical-align: middle;\n",
       "    }\n",
       "\n",
       "    .dataframe tbody tr th {\n",
       "        vertical-align: top;\n",
       "    }\n",
       "\n",
       "    .dataframe thead th {\n",
       "        text-align: right;\n",
       "    }\n",
       "</style>\n",
       "<table border=\"1\" class=\"dataframe\">\n",
       "  <thead>\n",
       "    <tr style=\"text-align: right;\">\n",
       "      <th></th>\n",
       "      <th>Train Accuracy</th>\n",
       "      <th>Validation Accuracy</th>\n",
       "      <th>Test Accuracy</th>\n",
       "    </tr>\n",
       "    <tr>\n",
       "      <th>Model Name</th>\n",
       "      <th></th>\n",
       "      <th></th>\n",
       "      <th></th>\n",
       "    </tr>\n",
       "  </thead>\n",
       "  <tbody>\n",
       "    <tr>\n",
       "      <th>RandomForestClassifier - SkipGram (Tuned)</th>\n",
       "      <td>0.76</td>\n",
       "      <td>0.61</td>\n",
       "      <td>0.52</td>\n",
       "    </tr>\n",
       "  </tbody>\n",
       "</table>\n",
       "</div>"
      ],
      "text/plain": [
       "                                           Train Accuracy  \\\n",
       "Model Name                                                  \n",
       "RandomForestClassifier - SkipGram (Tuned)            0.76   \n",
       "\n",
       "                                           Validation Accuracy  Test Accuracy  \n",
       "Model Name                                                                     \n",
       "RandomForestClassifier - SkipGram (Tuned)                 0.61           0.52  "
      ]
     },
     "execution_count": 344,
     "metadata": {},
     "output_type": "execute_result"
    }
   ],
   "source": [
    "metrics_rf_sg_tuned = evaluate_classification_model(y_train,\n",
    "                                                  rf_model_sg_tuned.predict(X_train_sg),\n",
    "                                                  y_val,\n",
    "                                                  rf_model_sg_tuned.predict(X_val_sg),\n",
    "                                                  y_test,\n",
    "                                                  rf_model_sg_tuned.predict(X_test_sg),\n",
    "                                                  'RandomForestClassifier - SkipGram (Tuned)')\n",
    "metrics_rf_sg_tuned"
   ]
  },
  {
   "cell_type": "markdown",
   "metadata": {
    "id": "se4TGC0H92Vt"
   },
   "source": [
    "### Random Forest (Tuned) - CBOW"
   ]
  },
  {
   "cell_type": "code",
   "execution_count": 345,
   "metadata": {
    "colab": {
     "base_uri": "https://localhost:8080/"
    },
    "collapsed": true,
    "executionInfo": {
     "elapsed": 1477170,
     "status": "ok",
     "timestamp": 1710236857485,
     "user": {
      "displayName": "Alfandy Surya",
      "userId": "04251874478570968890"
     },
     "user_tz": -420
    },
    "id": "hLw_HKYW90xt",
    "jupyter": {
     "outputs_hidden": true
    },
    "outputId": "2e5016cf-f9cf-49e2-938e-7ce684427e8d",
    "tags": []
   },
   "outputs": [
    {
     "name": "stderr",
     "output_type": "stream",
     "text": [
      "[I 2024-03-14 10:19:07,544] A new study created in memory with name: no-name-26f4adb8-9f75-43fd-815f-2965b65120d6\n",
      "[I 2024-03-14 10:19:07,877] Trial 0 finished with value: 0.33884297520661155 and parameters: {'n_estimators': 250, 'max_depth': 38, 'min_samples_split': 0.5958223149747375, 'min_samples_leaf': 0.8798245734784598, 'max_features': 'auto'}. Best is trial 0 with value: 0.33884297520661155.\n",
      "[I 2024-03-14 10:19:08,209] Trial 1 finished with value: 0.33884297520661155 and parameters: {'n_estimators': 267, 'max_depth': 33, 'min_samples_split': 0.7429881333918612, 'min_samples_leaf': 0.5307119679391198, 'max_features': 'auto'}. Best is trial 0 with value: 0.33884297520661155.\n",
      "[I 2024-03-14 10:19:08,557] Trial 2 finished with value: 0.41046831955922863 and parameters: {'n_estimators': 135, 'max_depth': 23, 'min_samples_split': 0.1731205522625438, 'min_samples_leaf': 0.10405195401221463, 'max_features': 'auto'}. Best is trial 2 with value: 0.41046831955922863.\n",
      "[I 2024-03-14 10:19:08,867] Trial 3 finished with value: 0.33884297520661155 and parameters: {'n_estimators': 243, 'max_depth': 15, 'min_samples_split': 0.7810993549599419, 'min_samples_leaf': 0.3522304118298245, 'max_features': 'auto'}. Best is trial 2 with value: 0.41046831955922863.\n",
      "[I 2024-03-14 10:19:09,126] Trial 4 finished with value: 0.33884297520661155 and parameters: {'n_estimators': 200, 'max_depth': 48, 'min_samples_split': 0.15590642122073073, 'min_samples_leaf': 0.4030079439425432, 'max_features': 'auto'}. Best is trial 2 with value: 0.41046831955922863.\n",
      "[I 2024-03-14 10:19:09,261] Trial 5 finished with value: 0.33884297520661155 and parameters: {'n_estimators': 107, 'max_depth': 17, 'min_samples_split': 0.7229323453112606, 'min_samples_leaf': 0.17380082617819054, 'max_features': 'auto'}. Best is trial 2 with value: 0.41046831955922863.\n",
      "[I 2024-03-14 10:19:09,470] Trial 6 finished with value: 0.3856749311294766 and parameters: {'n_estimators': 103, 'max_depth': 50, 'min_samples_split': 0.5221422470834766, 'min_samples_leaf': 0.06938339935127902, 'max_features': 'auto'}. Best is trial 2 with value: 0.41046831955922863.\n",
      "[I 2024-03-14 10:19:09,805] Trial 7 finished with value: 0.33884297520661155 and parameters: {'n_estimators': 265, 'max_depth': 44, 'min_samples_split': 0.9727038629588999, 'min_samples_leaf': 0.665555148518563, 'max_features': 'auto'}. Best is trial 2 with value: 0.41046831955922863.\n",
      "[I 2024-03-14 10:19:10,162] Trial 8 finished with value: 0.33884297520661155 and parameters: {'n_estimators': 294, 'max_depth': 18, 'min_samples_split': 0.5602306667579211, 'min_samples_leaf': 0.7066410750900765, 'max_features': 'auto'}. Best is trial 2 with value: 0.41046831955922863.\n",
      "[I 2024-03-14 10:19:10,537] Trial 9 finished with value: 0.33884297520661155 and parameters: {'n_estimators': 296, 'max_depth': 42, 'min_samples_split': 0.7345827027220607, 'min_samples_leaf': 0.8861494903588031, 'max_features': 'auto'}. Best is trial 2 with value: 0.41046831955922863.\n",
      "[I 2024-03-14 10:19:11,308] Trial 10 finished with value: 0.4793388429752066 and parameters: {'n_estimators': 151, 'max_depth': 27, 'min_samples_split': 0.054770350006324076, 'min_samples_leaf': 0.013257076043419289, 'max_features': 'auto'}. Best is trial 10 with value: 0.4793388429752066.\n",
      "[I 2024-03-14 10:19:11,987] Trial 11 finished with value: 0.4628099173553719 and parameters: {'n_estimators': 155, 'max_depth': 28, 'min_samples_split': 0.043452197536461484, 'min_samples_leaf': 0.027797280610090694, 'max_features': 'auto'}. Best is trial 10 with value: 0.4793388429752066.\n",
      "[I 2024-03-14 10:19:12,756] Trial 12 finished with value: 0.4738292011019284 and parameters: {'n_estimators': 177, 'max_depth': 6, 'min_samples_split': 0.011603776468326096, 'min_samples_leaf': 0.023077003396386575, 'max_features': 'auto'}. Best is trial 10 with value: 0.4793388429752066.\n",
      "[I 2024-03-14 10:19:13,128] Trial 13 finished with value: 0.4022038567493113 and parameters: {'n_estimators': 186, 'max_depth': 5, 'min_samples_split': 0.30724122868421944, 'min_samples_leaf': 0.20507669179798246, 'max_features': 'auto'}. Best is trial 10 with value: 0.4793388429752066.\n",
      "[I 2024-03-14 10:19:13,974] Trial 14 finished with value: 0.46005509641873277 and parameters: {'n_estimators': 167, 'max_depth': 7, 'min_samples_split': 0.023411765370556552, 'min_samples_leaf': 0.014475961485691594, 'max_features': 'auto'}. Best is trial 10 with value: 0.4793388429752066.\n",
      "[I 2024-03-14 10:19:14,377] Trial 15 finished with value: 0.39118457300275483 and parameters: {'n_estimators': 217, 'max_depth': 12, 'min_samples_split': 0.3355839838381902, 'min_samples_leaf': 0.23126507295823273, 'max_features': 'auto'}. Best is trial 10 with value: 0.4793388429752066.\n",
      "[I 2024-03-14 10:19:14,627] Trial 16 finished with value: 0.41597796143250687 and parameters: {'n_estimators': 134, 'max_depth': 25, 'min_samples_split': 0.3497645721585087, 'min_samples_leaf': 0.2827391160476602, 'max_features': 'auto'}. Best is trial 10 with value: 0.4793388429752066.\n",
      "[I 2024-03-14 10:19:15,028] Trial 17 finished with value: 0.39118457300275483 and parameters: {'n_estimators': 168, 'max_depth': 33, 'min_samples_split': 0.1409995298184138, 'min_samples_leaf': 0.14009108419556895, 'max_features': 'auto'}. Best is trial 10 with value: 0.4793388429752066.\n",
      "[I 2024-03-14 10:19:16,130] Trial 18 finished with value: 0.4820936639118457 and parameters: {'n_estimators': 216, 'max_depth': 11, 'min_samples_split': 0.01388846776655056, 'min_samples_leaf': 0.016271743643200713, 'max_features': 'auto'}. Best is trial 18 with value: 0.4820936639118457.\n",
      "[I 2024-03-14 10:19:16,629] Trial 19 finished with value: 0.39944903581267216 and parameters: {'n_estimators': 221, 'max_depth': 22, 'min_samples_split': 0.25100119556710393, 'min_samples_leaf': 0.15031377824825803, 'max_features': 'auto'}. Best is trial 18 with value: 0.4820936639118457.\n",
      "[I 2024-03-14 10:19:16,992] Trial 20 finished with value: 0.4214876033057851 and parameters: {'n_estimators': 204, 'max_depth': 11, 'min_samples_split': 0.4262133050228928, 'min_samples_leaf': 0.27794980172740175, 'max_features': 'auto'}. Best is trial 18 with value: 0.4820936639118457.\n",
      "[I 2024-03-14 10:19:17,977] Trial 21 finished with value: 0.48760330578512395 and parameters: {'n_estimators': 181, 'max_depth': 10, 'min_samples_split': 0.012716542810755514, 'min_samples_leaf': 0.015000563235475006, 'max_features': 'auto'}. Best is trial 21 with value: 0.48760330578512395.\n",
      "[I 2024-03-14 10:19:18,345] Trial 22 finished with value: 0.4214876033057851 and parameters: {'n_estimators': 141, 'max_depth': 11, 'min_samples_split': 0.10648609494701235, 'min_samples_leaf': 0.11235422113541593, 'max_features': 'auto'}. Best is trial 21 with value: 0.48760330578512395.\n",
      "[I 2024-03-14 10:19:19,460] Trial 23 finished with value: 0.45179063360881544 and parameters: {'n_estimators': 223, 'max_depth': 19, 'min_samples_split': 0.08891017200548573, 'min_samples_leaf': 0.01569915236258039, 'max_features': 'auto'}. Best is trial 21 with value: 0.48760330578512395.\n",
      "[I 2024-03-14 10:19:19,995] Trial 24 finished with value: 0.41597796143250687 and parameters: {'n_estimators': 186, 'max_depth': 30, 'min_samples_split': 0.22231596294280032, 'min_samples_leaf': 0.10785674998001507, 'max_features': 'auto'}. Best is trial 21 with value: 0.48760330578512395.\n",
      "[I 2024-03-14 10:19:20,309] Trial 25 finished with value: 0.39944903581267216 and parameters: {'n_estimators': 149, 'max_depth': 14, 'min_samples_split': 0.09508567980029284, 'min_samples_leaf': 0.2058244940898069, 'max_features': 'auto'}. Best is trial 21 with value: 0.48760330578512395.\n",
      "[I 2024-03-14 10:19:20,668] Trial 26 finished with value: 0.418732782369146 and parameters: {'n_estimators': 121, 'max_depth': 37, 'min_samples_split': 0.21033427122576523, 'min_samples_leaf': 0.08445416170275165, 'max_features': 'auto'}. Best is trial 21 with value: 0.48760330578512395.\n",
      "[I 2024-03-14 10:19:21,237] Trial 27 finished with value: 0.3939393939393939 and parameters: {'n_estimators': 238, 'max_depth': 8, 'min_samples_split': 0.08162255009119873, 'min_samples_leaf': 0.15613231923596765, 'max_features': 'auto'}. Best is trial 21 with value: 0.48760330578512395.\n",
      "[I 2024-03-14 10:19:21,642] Trial 28 finished with value: 0.41597796143250687 and parameters: {'n_estimators': 193, 'max_depth': 20, 'min_samples_split': 0.017708767501197084, 'min_samples_leaf': 0.2627908212597867, 'max_features': 'auto'}. Best is trial 21 with value: 0.48760330578512395.\n",
      "[I 2024-03-14 10:19:21,945] Trial 29 finished with value: 0.33884297520661155 and parameters: {'n_estimators': 163, 'max_depth': 9, 'min_samples_split': 0.15376088030238913, 'min_samples_leaf': 0.9960627187454982, 'max_features': 'auto'}. Best is trial 21 with value: 0.48760330578512395.\n",
      "[I 2024-03-14 10:19:22,647] Trial 30 finished with value: 0.4325068870523416 and parameters: {'n_estimators': 206, 'max_depth': 25, 'min_samples_split': 0.09526930643524074, 'min_samples_leaf': 0.08181585292542637, 'max_features': 'auto'}. Best is trial 21 with value: 0.48760330578512395.\n",
      "[I 2024-03-14 10:19:23,498] Trial 31 finished with value: 0.4573002754820937 and parameters: {'n_estimators': 182, 'max_depth': 5, 'min_samples_split': 0.012345364139579703, 'min_samples_leaf': 0.014499493948465158, 'max_features': 'auto'}. Best is trial 21 with value: 0.48760330578512395.\n",
      "[I 2024-03-14 10:19:24,107] Trial 32 finished with value: 0.44352617079889806 and parameters: {'n_estimators': 167, 'max_depth': 14, 'min_samples_split': 0.0577383982607857, 'min_samples_leaf': 0.05153430505002067, 'max_features': 'auto'}. Best is trial 21 with value: 0.48760330578512395.\n",
      "[I 2024-03-14 10:19:24,655] Trial 33 finished with value: 0.418732782369146 and parameters: {'n_estimators': 172, 'max_depth': 9, 'min_samples_split': 0.014933911941197345, 'min_samples_leaf': 0.0881670639599482, 'max_features': 'auto'}. Best is trial 21 with value: 0.48760330578512395.\n",
      "[I 2024-03-14 10:19:24,950] Trial 34 finished with value: 0.39669421487603307 and parameters: {'n_estimators': 124, 'max_depth': 5, 'min_samples_split': 0.17713545644353018, 'min_samples_leaf': 0.15074192007022272, 'max_features': 'auto'}. Best is trial 21 with value: 0.48760330578512395.\n",
      "[I 2024-03-14 10:19:25,748] Trial 35 finished with value: 0.4049586776859504 and parameters: {'n_estimators': 234, 'max_depth': 15, 'min_samples_split': 0.12265391984880347, 'min_samples_leaf': 0.06248315445282962, 'max_features': 'auto'}. Best is trial 21 with value: 0.48760330578512395.\n",
      "[I 2024-03-14 10:19:26,031] Trial 36 finished with value: 0.4214876033057851 and parameters: {'n_estimators': 180, 'max_depth': 38, 'min_samples_split': 0.18387941456662604, 'min_samples_leaf': 0.31531146406566324, 'max_features': 'auto'}. Best is trial 21 with value: 0.48760330578512395.\n",
      "[I 2024-03-14 10:19:26,566] Trial 37 finished with value: 0.41046831955922863 and parameters: {'n_estimators': 252, 'max_depth': 12, 'min_samples_split': 0.26877216098428514, 'min_samples_leaf': 0.1924261277749138, 'max_features': 'auto'}. Best is trial 21 with value: 0.48760330578512395.\n",
      "[I 2024-03-14 10:19:26,793] Trial 38 finished with value: 0.33884297520661155 and parameters: {'n_estimators': 154, 'max_depth': 21, 'min_samples_split': 0.06364965943335084, 'min_samples_leaf': 0.39968821464270204, 'max_features': 'auto'}. Best is trial 21 with value: 0.48760330578512395.\n",
      "[I 2024-03-14 10:19:27,314] Trial 39 finished with value: 0.4214876033057851 and parameters: {'n_estimators': 196, 'max_depth': 35, 'min_samples_split': 0.13411074981526164, 'min_samples_leaf': 0.11203998963686163, 'max_features': 'auto'}. Best is trial 21 with value: 0.48760330578512395.\n",
      "[I 2024-03-14 10:19:27,768] Trial 40 finished with value: 0.418732782369146 and parameters: {'n_estimators': 139, 'max_depth': 42, 'min_samples_split': 0.2091582224899674, 'min_samples_leaf': 0.05353006956688017, 'max_features': 'auto'}. Best is trial 21 with value: 0.48760330578512395.\n",
      "[I 2024-03-14 10:19:28,538] Trial 41 finished with value: 0.4738292011019284 and parameters: {'n_estimators': 154, 'max_depth': 30, 'min_samples_split': 0.05801431152190664, 'min_samples_leaf': 0.025507180392550215, 'max_features': 'auto'}. Best is trial 21 with value: 0.48760330578512395.\n",
      "[I 2024-03-14 10:19:29,469] Trial 42 finished with value: 0.4738292011019284 and parameters: {'n_estimators': 176, 'max_depth': 30, 'min_samples_split': 0.06552734238960181, 'min_samples_leaf': 0.011870874884134353, 'max_features': 'auto'}. Best is trial 21 with value: 0.48760330578512395.\n",
      "[I 2024-03-14 10:19:30,193] Trial 43 finished with value: 0.42699724517906334 and parameters: {'n_estimators': 211, 'max_depth': 17, 'min_samples_split': 0.14417690675512287, 'min_samples_leaf': 0.05600921978972633, 'max_features': 'auto'}. Best is trial 21 with value: 0.48760330578512395.\n",
      "[I 2024-03-14 10:19:30,598] Trial 44 finished with value: 0.39944903581267216 and parameters: {'n_estimators': 155, 'max_depth': 24, 'min_samples_split': 0.01096644870763154, 'min_samples_leaf': 0.12636525225772313, 'max_features': 'auto'}. Best is trial 21 with value: 0.48760330578512395.\n",
      "[I 2024-03-14 10:19:30,866] Trial 45 finished with value: 0.40771349862258954 and parameters: {'n_estimators': 117, 'max_depth': 27, 'min_samples_split': 0.057587724994194234, 'min_samples_leaf': 0.19227067663551983, 'max_features': 'auto'}. Best is trial 21 with value: 0.48760330578512395.\n",
      "[I 2024-03-14 10:19:31,553] Trial 46 finished with value: 0.4462809917355372 and parameters: {'n_estimators': 192, 'max_depth': 32, 'min_samples_split': 0.11006838388934317, 'min_samples_leaf': 0.05003697181003521, 'max_features': 'auto'}. Best is trial 21 with value: 0.48760330578512395.\n",
      "[I 2024-03-14 10:19:32,042] Trial 47 finished with value: 0.39944903581267216 and parameters: {'n_estimators': 150, 'max_depth': 7, 'min_samples_split': 0.05005458103576007, 'min_samples_leaf': 0.09673971698587937, 'max_features': 'auto'}. Best is trial 21 with value: 0.48760330578512395.\n",
      "[I 2024-03-14 10:19:32,573] Trial 48 finished with value: 0.44352617079889806 and parameters: {'n_estimators': 131, 'max_depth': 47, 'min_samples_split': 0.17938812372163976, 'min_samples_leaf': 0.011487427510600336, 'max_features': 'auto'}. Best is trial 21 with value: 0.48760330578512395.\n",
      "[I 2024-03-14 10:19:32,938] Trial 49 finished with value: 0.39944903581267216 and parameters: {'n_estimators': 160, 'max_depth': 27, 'min_samples_split': 0.12615316100592944, 'min_samples_leaf': 0.16208805704541465, 'max_features': 'auto'}. Best is trial 21 with value: 0.48760330578512395.\n",
      "[I 2024-03-14 10:19:33,209] Trial 50 finished with value: 0.39118457300275483 and parameters: {'n_estimators': 143, 'max_depth': 10, 'min_samples_split': 0.04614596808978545, 'min_samples_leaf': 0.2151666529003434, 'max_features': 'auto'}. Best is trial 21 with value: 0.48760330578512395.\n",
      "[I 2024-03-14 10:19:34,137] Trial 51 finished with value: 0.47107438016528924 and parameters: {'n_estimators': 177, 'max_depth': 30, 'min_samples_split': 0.07727816308177575, 'min_samples_leaf': 0.014986834041857704, 'max_features': 'auto'}. Best is trial 21 with value: 0.48760330578512395.\n",
      "[I 2024-03-14 10:19:34,787] Trial 52 finished with value: 0.40771349862258954 and parameters: {'n_estimators': 172, 'max_depth': 31, 'min_samples_split': 0.04365457465031907, 'min_samples_leaf': 0.05759756125292617, 'max_features': 'auto'}. Best is trial 21 with value: 0.48760330578512395.\n",
      "[I 2024-03-14 10:19:35,303] Trial 53 finished with value: 0.4132231404958678 and parameters: {'n_estimators': 185, 'max_depth': 36, 'min_samples_split': 0.07914396633329686, 'min_samples_leaf': 0.12392874133897402, 'max_features': 'auto'}. Best is trial 21 with value: 0.48760330578512395.\n",
      "[I 2024-03-14 10:19:36,000] Trial 54 finished with value: 0.42699724517906334 and parameters: {'n_estimators': 200, 'max_depth': 29, 'min_samples_split': 0.15656154928916954, 'min_samples_leaf': 0.08216663383403199, 'max_features': 'auto'}. Best is trial 21 with value: 0.48760330578512395.\n",
      "[I 2024-03-14 10:19:36,898] Trial 55 finished with value: 0.4573002754820937 and parameters: {'n_estimators': 212, 'max_depth': 34, 'min_samples_split': 0.10731782751426648, 'min_samples_leaf': 0.027910772845416168, 'max_features': 'auto'}. Best is trial 21 with value: 0.48760330578512395.\n",
      "[I 2024-03-14 10:19:37,543] Trial 56 finished with value: 0.39944903581267216 and parameters: {'n_estimators': 226, 'max_depth': 41, 'min_samples_split': 0.01506020388876441, 'min_samples_leaf': 0.12901971324373385, 'max_features': 'auto'}. Best is trial 21 with value: 0.48760330578512395.\n",
      "[I 2024-03-14 10:19:37,962] Trial 57 finished with value: 0.4022038567493113 and parameters: {'n_estimators': 160, 'max_depth': 7, 'min_samples_split': 0.05754446656447016, 'min_samples_leaf': 0.16415324935102946, 'max_features': 'auto'}. Best is trial 21 with value: 0.48760330578512395.\n",
      "[I 2024-03-14 10:19:38,317] Trial 58 finished with value: 0.3939393939393939 and parameters: {'n_estimators': 176, 'max_depth': 16, 'min_samples_split': 0.12198617773139012, 'min_samples_leaf': 0.24262652413253294, 'max_features': 'auto'}. Best is trial 21 with value: 0.48760330578512395.\n",
      "[I 2024-03-14 10:19:39,405] Trial 59 finished with value: 0.43526170798898073 and parameters: {'n_estimators': 285, 'max_depth': 13, 'min_samples_split': 0.08665062612845349, 'min_samples_leaf': 0.04488004638143845, 'max_features': 'auto'}. Best is trial 21 with value: 0.48760330578512395.\n",
      "[I 2024-03-14 10:19:40,409] Trial 60 finished with value: 0.4820936639118457 and parameters: {'n_estimators': 186, 'max_depth': 39, 'min_samples_split': 0.04159551904671873, 'min_samples_leaf': 0.010421209982824156, 'max_features': 'auto'}. Best is trial 21 with value: 0.48760330578512395.\n",
      "[I 2024-03-14 10:19:41,449] Trial 61 finished with value: 0.4931129476584022 and parameters: {'n_estimators': 189, 'max_depth': 40, 'min_samples_split': 0.039293982187812666, 'min_samples_leaf': 0.013692335605946817, 'max_features': 'auto'}. Best is trial 61 with value: 0.4931129476584022.\n",
      "[I 2024-03-14 10:19:41,989] Trial 62 finished with value: 0.41597796143250687 and parameters: {'n_estimators': 194, 'max_depth': 39, 'min_samples_split': 0.036266307315275574, 'min_samples_leaf': 0.09378037850263768, 'max_features': 'auto'}. Best is trial 61 with value: 0.4931129476584022.\n",
      "[I 2024-03-14 10:19:42,611] Trial 63 finished with value: 0.418732782369146 and parameters: {'n_estimators': 189, 'max_depth': 46, 'min_samples_split': 0.03648720688359598, 'min_samples_leaf': 0.06525658375132595, 'max_features': 'auto'}. Best is trial 61 with value: 0.4931129476584022.\n",
      "[I 2024-03-14 10:19:43,382] Trial 64 finished with value: 0.45454545454545453 and parameters: {'n_estimators': 200, 'max_depth': 44, 'min_samples_split': 0.09885158198918159, 'min_samples_leaf': 0.03902247710217028, 'max_features': 'auto'}. Best is trial 61 with value: 0.4931129476584022.\n",
      "[I 2024-03-14 10:19:43,883] Trial 65 finished with value: 0.4132231404958678 and parameters: {'n_estimators': 163, 'max_depth': 43, 'min_samples_split': 0.010464337302078876, 'min_samples_leaf': 0.0903950551245957, 'max_features': 'auto'}. Best is trial 61 with value: 0.4931129476584022.\n",
      "[I 2024-03-14 10:19:44,505] Trial 66 finished with value: 0.44352617079889806 and parameters: {'n_estimators': 147, 'max_depth': 7, 'min_samples_split': 0.15742407085438956, 'min_samples_leaf': 0.010994874189742909, 'max_features': 'auto'}. Best is trial 61 with value: 0.4931129476584022.\n",
      "[I 2024-03-14 10:19:45,034] Trial 67 finished with value: 0.4214876033057851 and parameters: {'n_estimators': 206, 'max_depth': 40, 'min_samples_split': 0.07852766439528244, 'min_samples_leaf': 0.11539188647711542, 'max_features': 'auto'}. Best is trial 61 with value: 0.4931129476584022.\n",
      "[I 2024-03-14 10:19:45,715] Trial 68 finished with value: 0.44077134986225897 and parameters: {'n_estimators': 186, 'max_depth': 50, 'min_samples_split': 0.12133111416578218, 'min_samples_leaf': 0.042156765875707145, 'max_features': 'auto'}. Best is trial 61 with value: 0.4931129476584022.\n",
      "[I 2024-03-14 10:19:46,251] Trial 69 finished with value: 0.4022038567493113 and parameters: {'n_estimators': 251, 'max_depth': 38, 'min_samples_split': 0.04152043674942151, 'min_samples_leaf': 0.17263589742244434, 'max_features': 'auto'}. Best is trial 61 with value: 0.4931129476584022.\n",
      "[I 2024-03-14 10:19:46,657] Trial 70 finished with value: 0.39669421487603307 and parameters: {'n_estimators': 170, 'max_depth': 11, 'min_samples_split': 0.19762050811070891, 'min_samples_leaf': 0.13417815906448302, 'max_features': 'auto'}. Best is trial 61 with value: 0.4931129476584022.\n",
      "[I 2024-03-14 10:19:47,562] Trial 71 finished with value: 0.46831955922865015 and parameters: {'n_estimators': 178, 'max_depth': 33, 'min_samples_split': 0.0648788882629801, 'min_samples_leaf': 0.010377001245194688, 'max_features': 'auto'}. Best is trial 61 with value: 0.4931129476584022.\n",
      "[I 2024-03-14 10:19:48,216] Trial 72 finished with value: 0.418732782369146 and parameters: {'n_estimators': 217, 'max_depth': 25, 'min_samples_split': 0.07985009708792931, 'min_samples_leaf': 0.07244447007189678, 'max_features': 'auto'}. Best is trial 61 with value: 0.4931129476584022.\n",
      "[I 2024-03-14 10:19:49,010] Trial 73 finished with value: 0.45179063360881544 and parameters: {'n_estimators': 173, 'max_depth': 19, 'min_samples_split': 0.03883105803704896, 'min_samples_leaf': 0.039209021258327606, 'max_features': 'auto'}. Best is trial 61 with value: 0.4931129476584022.\n",
      "[I 2024-03-14 10:19:49,661] Trial 74 finished with value: 0.4132231404958678 and parameters: {'n_estimators': 182, 'max_depth': 35, 'min_samples_split': 0.14370912677205855, 'min_samples_leaf': 0.07394030839904547, 'max_features': 'auto'}. Best is trial 61 with value: 0.4931129476584022.\n",
      "[I 2024-03-14 10:19:50,294] Trial 75 finished with value: 0.45454545454545453 and parameters: {'n_estimators': 155, 'max_depth': 29, 'min_samples_split': 0.010589854038597527, 'min_samples_leaf': 0.03686032006811292, 'max_features': 'auto'}. Best is trial 61 with value: 0.4931129476584022.\n",
      "[I 2024-03-14 10:19:50,859] Trial 76 finished with value: 0.41597796143250687 and parameters: {'n_estimators': 197, 'max_depth': 9, 'min_samples_split': 0.10414833234531676, 'min_samples_leaf': 0.10425469031642358, 'max_features': 'auto'}. Best is trial 61 with value: 0.4931129476584022.\n",
      "[I 2024-03-14 10:19:51,430] Trial 77 finished with value: 0.4214876033057851 and parameters: {'n_estimators': 164, 'max_depth': 6, 'min_samples_split': 0.0679296442836925, 'min_samples_leaf': 0.07451186411599249, 'max_features': 'auto'}. Best is trial 61 with value: 0.4931129476584022.\n",
      "[I 2024-03-14 10:19:52,142] Trial 78 finished with value: 0.45179063360881544 and parameters: {'n_estimators': 188, 'max_depth': 22, 'min_samples_split': 0.1694859024101159, 'min_samples_leaf': 0.034533494743219637, 'max_features': 'auto'}. Best is trial 61 with value: 0.4931129476584022.\n",
      "[I 2024-03-14 10:19:52,719] Trial 79 finished with value: 0.4022038567493113 and parameters: {'n_estimators': 231, 'max_depth': 37, 'min_samples_split': 0.22947419891947213, 'min_samples_leaf': 0.14613138749147248, 'max_features': 'auto'}. Best is trial 61 with value: 0.4931129476584022.\n",
      "[I 2024-03-14 10:19:53,755] Trial 80 finished with value: 0.47107438016528924 and parameters: {'n_estimators': 211, 'max_depth': 26, 'min_samples_split': 0.10155880277926811, 'min_samples_leaf': 0.01055809341477561, 'max_features': 'auto'}. Best is trial 61 with value: 0.4931129476584022.\n",
      "[I 2024-03-14 10:19:54,501] Trial 81 finished with value: 0.4490358126721763 and parameters: {'n_estimators': 177, 'max_depth': 30, 'min_samples_split': 0.035441502784962255, 'min_samples_leaf': 0.03362655678465527, 'max_features': 'auto'}. Best is trial 61 with value: 0.4931129476584022.\n",
      "[I 2024-03-14 10:19:55,159] Trial 82 finished with value: 0.4049586776859504 and parameters: {'n_estimators': 182, 'max_depth': 28, 'min_samples_split': 0.06798252144786858, 'min_samples_leaf': 0.06286119433929095, 'max_features': 'auto'}. Best is trial 61 with value: 0.4931129476584022.\n",
      "[I 2024-03-14 10:19:56,144] Trial 83 finished with value: 0.4793388429752066 and parameters: {'n_estimators': 166, 'max_depth': 32, 'min_samples_split': 0.035274020064758854, 'min_samples_leaf': 0.010823206530951148, 'max_features': 'auto'}. Best is trial 61 with value: 0.4931129476584022.\n",
      "[I 2024-03-14 10:19:56,594] Trial 84 finished with value: 0.41046831955922863 and parameters: {'n_estimators': 160, 'max_depth': 33, 'min_samples_split': 0.032887573012294544, 'min_samples_leaf': 0.10510326469014047, 'max_features': 'auto'}. Best is trial 61 with value: 0.4931129476584022.\n",
      "[I 2024-03-14 10:19:57,125] Trial 85 finished with value: 0.4297520661157025 and parameters: {'n_estimators': 168, 'max_depth': 32, 'min_samples_split': 0.12561509177255287, 'min_samples_leaf': 0.07006156328529567, 'max_features': 'auto'}. Best is trial 61 with value: 0.4931129476584022.\n",
      "[I 2024-03-14 10:19:57,683] Trial 86 finished with value: 0.44352617079889806 and parameters: {'n_estimators': 136, 'max_depth': 23, 'min_samples_split': 0.05479423629492878, 'min_samples_leaf': 0.034327992367310746, 'max_features': 'auto'}. Best is trial 61 with value: 0.4931129476584022.\n",
      "[I 2024-03-14 10:19:58,105] Trial 87 finished with value: 0.4132231404958678 and parameters: {'n_estimators': 151, 'max_depth': 45, 'min_samples_split': 0.010393543487264179, 'min_samples_leaf': 0.09313841426911243, 'max_features': 'auto'}. Best is trial 61 with value: 0.4931129476584022.\n",
      "[I 2024-03-14 10:19:58,819] Trial 88 finished with value: 0.4903581267217631 and parameters: {'n_estimators': 142, 'max_depth': 40, 'min_samples_split': 0.09038684402888822, 'min_samples_leaf': 0.010400654680013893, 'max_features': 'auto'}. Best is trial 61 with value: 0.4931129476584022.\n",
      "[I 2024-03-14 10:19:59,303] Trial 89 finished with value: 0.418732782369146 and parameters: {'n_estimators': 144, 'max_depth': 42, 'min_samples_split': 0.1377352159362909, 'min_samples_leaf': 0.056499302264996984, 'max_features': 'auto'}. Best is trial 61 with value: 0.4931129476584022.\n",
      "[I 2024-03-14 10:19:59,829] Trial 90 finished with value: 0.4462809917355372 and parameters: {'n_estimators': 132, 'max_depth': 40, 'min_samples_split': 0.08888032457170036, 'min_samples_leaf': 0.03280904291901063, 'max_features': 'auto'}. Best is trial 61 with value: 0.4931129476584022.\n",
      "[I 2024-03-14 10:20:00,523] Trial 91 finished with value: 0.48760330578512395 and parameters: {'n_estimators': 124, 'max_depth': 36, 'min_samples_split': 0.028572653347281846, 'min_samples_leaf': 0.012638089834636762, 'max_features': 'auto'}. Best is trial 61 with value: 0.4931129476584022.\n",
      "[I 2024-03-14 10:20:01,081] Trial 92 finished with value: 0.4738292011019284 and parameters: {'n_estimators': 100, 'max_depth': 37, 'min_samples_split': 0.03633731792846212, 'min_samples_leaf': 0.010129203223378973, 'max_features': 'auto'}. Best is trial 61 with value: 0.4931129476584022.\n",
      "[I 2024-03-14 10:20:01,410] Trial 93 finished with value: 0.418732782369146 and parameters: {'n_estimators': 110, 'max_depth': 35, 'min_samples_split': 0.028102605478388342, 'min_samples_leaf': 0.07858815725480794, 'max_features': 'auto'}. Best is trial 61 with value: 0.4931129476584022.\n",
      "[I 2024-03-14 10:20:01,828] Trial 94 finished with value: 0.418732782369146 and parameters: {'n_estimators': 120, 'max_depth': 39, 'min_samples_split': 0.06031268741701917, 'min_samples_leaf': 0.0563204345994396, 'max_features': 'auto'}. Best is trial 61 with value: 0.4931129476584022.\n",
      "[I 2024-03-14 10:20:02,172] Trial 95 finished with value: 0.4132231404958678 and parameters: {'n_estimators': 128, 'max_depth': 36, 'min_samples_split': 0.09217610083321617, 'min_samples_leaf': 0.10867175980071075, 'max_features': 'auto'}. Best is trial 61 with value: 0.4931129476584022.\n",
      "[I 2024-03-14 10:20:02,727] Trial 96 finished with value: 0.4490358126721763 and parameters: {'n_estimators': 137, 'max_depth': 40, 'min_samples_split': 0.11241403628680585, 'min_samples_leaf': 0.030675375619763072, 'max_features': 'auto'}. Best is trial 61 with value: 0.4931129476584022.\n",
      "[I 2024-03-14 10:20:03,153] Trial 97 finished with value: 0.3939393939393939 and parameters: {'n_estimators': 145, 'max_depth': 41, 'min_samples_split': 0.029410474353865255, 'min_samples_leaf': 0.13191184025416952, 'max_features': 'auto'}. Best is trial 61 with value: 0.4931129476584022.\n",
      "[I 2024-03-14 10:20:03,567] Trial 98 finished with value: 0.41046831955922863 and parameters: {'n_estimators': 126, 'max_depth': 34, 'min_samples_split': 0.05210900836272053, 'min_samples_leaf': 0.061199982927098676, 'max_features': 'auto'}. Best is trial 61 with value: 0.4931129476584022.\n",
      "[I 2024-03-14 10:20:03,881] Trial 99 finished with value: 0.39944903581267216 and parameters: {'n_estimators': 110, 'max_depth': 39, 'min_samples_split': 0.07917850121662595, 'min_samples_leaf': 0.09127282783691058, 'max_features': 'auto'}. Best is trial 61 with value: 0.4931129476584022.\n",
      "[I 2024-03-14 10:20:04,557] Trial 100 finished with value: 0.4462809917355372 and parameters: {'n_estimators': 191, 'max_depth': 8, 'min_samples_split': 0.026138795276557186, 'min_samples_leaf': 0.05021642919969416, 'max_features': 'auto'}. Best is trial 61 with value: 0.4931129476584022.\n",
      "[I 2024-03-14 10:20:05,487] Trial 101 finished with value: 0.4793388429752066 and parameters: {'n_estimators': 204, 'max_depth': 32, 'min_samples_split': 0.059726137955104765, 'min_samples_leaf': 0.025390745375048075, 'max_features': 'auto'}. Best is trial 61 with value: 0.4931129476584022.\n",
      "[I 2024-03-14 10:20:06,406] Trial 102 finished with value: 0.46831955922865015 and parameters: {'n_estimators': 204, 'max_depth': 32, 'min_samples_split': 0.05485954626593693, 'min_samples_leaf': 0.02677125247222556, 'max_features': 'auto'}. Best is trial 61 with value: 0.4931129476584022.\n",
      "[I 2024-03-14 10:20:07,372] Trial 103 finished with value: 0.45179063360881544 and parameters: {'n_estimators': 217, 'max_depth': 38, 'min_samples_split': 0.10061255070277164, 'min_samples_leaf': 0.02435556273335568, 'max_features': 'auto'}. Best is trial 61 with value: 0.4931129476584022.\n",
      "[I 2024-03-14 10:20:07,995] Trial 104 finished with value: 0.44352617079889806 and parameters: {'n_estimators': 157, 'max_depth': 31, 'min_samples_split': 0.06890283163440744, 'min_samples_leaf': 0.04917356806355172, 'max_features': 'auto'}. Best is trial 61 with value: 0.4931129476584022.\n",
      "[I 2024-03-14 10:20:08,410] Trial 105 finished with value: 0.40771349862258954 and parameters: {'n_estimators': 152, 'max_depth': 36, 'min_samples_split': 0.01297842266588062, 'min_samples_leaf': 0.12074543711559685, 'max_features': 'auto'}. Best is trial 61 with value: 0.4931129476584022.\n",
      "[I 2024-03-14 10:20:09,024] Trial 106 finished with value: 0.42699724517906334 and parameters: {'n_estimators': 197, 'max_depth': 34, 'min_samples_split': 0.12414692891366669, 'min_samples_leaf': 0.07984329302284135, 'max_features': 'auto'}. Best is trial 61 with value: 0.4931129476584022.\n",
      "[I 2024-03-14 10:20:09,958] Trial 107 finished with value: 0.47107438016528924 and parameters: {'n_estimators': 172, 'max_depth': 43, 'min_samples_split': 0.04563302094489399, 'min_samples_leaf': 0.012008566482233224, 'max_features': 'auto'}. Best is trial 61 with value: 0.4931129476584022.\n",
      "[I 2024-03-14 10:20:10,592] Trial 108 finished with value: 0.4462809917355372 and parameters: {'n_estimators': 166, 'max_depth': 13, 'min_samples_split': 0.0838272198978717, 'min_samples_leaf': 0.04751608154077139, 'max_features': 'auto'}. Best is trial 61 with value: 0.4931129476584022.\n",
      "[I 2024-03-14 10:20:11,482] Trial 109 finished with value: 0.4793388429752066 and parameters: {'n_estimators': 201, 'max_depth': 10, 'min_samples_split': 0.0265740827503134, 'min_samples_leaf': 0.02872892444850108, 'max_features': 'auto'}. Best is trial 61 with value: 0.4931129476584022.\n",
      "[I 2024-03-14 10:20:12,103] Trial 110 finished with value: 0.4132231404958678 and parameters: {'n_estimators': 225, 'max_depth': 11, 'min_samples_split': 0.02785050250701066, 'min_samples_leaf': 0.09616713905633448, 'max_features': 'auto'}. Best is trial 61 with value: 0.4931129476584022.\n",
      "[I 2024-03-14 10:20:12,947] Trial 111 finished with value: 0.44352617079889806 and parameters: {'n_estimators': 210, 'max_depth': 6, 'min_samples_split': 0.052440100891268826, 'min_samples_leaf': 0.032743927658947194, 'max_features': 'auto'}. Best is trial 61 with value: 0.4931129476584022.\n",
      "[I 2024-03-14 10:20:13,602] Trial 112 finished with value: 0.4297520661157025 and parameters: {'n_estimators': 204, 'max_depth': 10, 'min_samples_split': 0.023972076069814392, 'min_samples_leaf': 0.06936903137252273, 'max_features': 'auto'}. Best is trial 61 with value: 0.4931129476584022.\n",
      "[I 2024-03-14 10:20:14,192] Trial 113 finished with value: 0.46005509641873277 and parameters: {'n_estimators': 140, 'max_depth': 8, 'min_samples_split': 0.0711225154795885, 'min_samples_leaf': 0.02925801097197781, 'max_features': 'auto'}. Best is trial 61 with value: 0.4931129476584022.\n",
      "[I 2024-03-14 10:20:14,906] Trial 114 finished with value: 0.44352617079889806 and parameters: {'n_estimators': 201, 'max_depth': 10, 'min_samples_split': 0.10410578175755447, 'min_samples_leaf': 0.05306878863719992, 'max_features': 'auto'}. Best is trial 61 with value: 0.4931129476584022.\n",
      "[I 2024-03-14 10:20:15,726] Trial 115 finished with value: 0.4738292011019284 and parameters: {'n_estimators': 184, 'max_depth': 15, 'min_samples_split': 0.04227773786620587, 'min_samples_leaf': 0.025453983679988353, 'max_features': 'auto'}. Best is trial 61 with value: 0.4931129476584022.\n",
      "[I 2024-03-14 10:20:16,529] Trial 116 finished with value: 0.42699724517906334 and parameters: {'n_estimators': 192, 'max_depth': 31, 'min_samples_split': 0.14731174129720198, 'min_samples_leaf': 0.010874974901337825, 'max_features': 'auto'}. Best is trial 61 with value: 0.4931129476584022.\n",
      "[I 2024-03-14 10:20:17,167] Trial 117 finished with value: 0.42699724517906334 and parameters: {'n_estimators': 208, 'max_depth': 12, 'min_samples_split': 0.08531239020438228, 'min_samples_leaf': 0.07522653682611094, 'max_features': 'auto'}. Best is trial 61 with value: 0.4931129476584022.\n",
      "[I 2024-03-14 10:20:17,664] Trial 118 finished with value: 0.39118457300275483 and parameters: {'n_estimators': 215, 'max_depth': 6, 'min_samples_split': 0.06214141746089971, 'min_samples_leaf': 0.14068989133547688, 'max_features': 'auto'}. Best is trial 61 with value: 0.4931129476584022.\n",
      "[I 2024-03-14 10:20:18,261] Trial 119 finished with value: 0.45454545454545453 and parameters: {'n_estimators': 159, 'max_depth': 41, 'min_samples_split': 0.01304555441499834, 'min_samples_leaf': 0.04425763502245686, 'max_features': 'auto'}. Best is trial 61 with value: 0.4931129476584022.\n",
      "[I 2024-03-14 10:20:18,774] Trial 120 finished with value: 0.418732782369146 and parameters: {'n_estimators': 189, 'max_depth': 38, 'min_samples_split': 0.04584475895990297, 'min_samples_leaf': 0.1055524687087977, 'max_features': 'auto'}. Best is trial 61 with value: 0.4931129476584022.\n",
      "[I 2024-03-14 10:20:19,670] Trial 121 finished with value: 0.4793388429752066 and parameters: {'n_estimators': 175, 'max_depth': 28, 'min_samples_split': 0.06767660765798658, 'min_samples_leaf': 0.01047346674282983, 'max_features': 'auto'}. Best is trial 61 with value: 0.4931129476584022.\n",
      "[I 2024-03-14 10:20:20,475] Trial 122 finished with value: 0.45454545454545453 and parameters: {'n_estimators': 174, 'max_depth': 29, 'min_samples_split': 0.1076058516276788, 'min_samples_leaf': 0.011955050386254822, 'max_features': 'auto'}. Best is trial 61 with value: 0.4931129476584022.\n",
      "[I 2024-03-14 10:20:21,069] Trial 123 finished with value: 0.4049586776859504 and parameters: {'n_estimators': 182, 'max_depth': 27, 'min_samples_split': 0.01043874430052508, 'min_samples_leaf': 0.06281832282565436, 'max_features': 'auto'}. Best is trial 61 with value: 0.4931129476584022.\n",
      "[I 2024-03-14 10:20:21,755] Trial 124 finished with value: 0.4573002754820937 and parameters: {'n_estimators': 163, 'max_depth': 26, 'min_samples_split': 0.030217466346720137, 'min_samples_leaf': 0.04395352184412081, 'max_features': 'auto'}. Best is trial 61 with value: 0.4931129476584022.\n",
      "[I 2024-03-14 10:20:22,327] Trial 125 finished with value: 0.4214876033057851 and parameters: {'n_estimators': 195, 'max_depth': 28, 'min_samples_split': 0.06946121989329945, 'min_samples_leaf': 0.08721658961305474, 'max_features': 'auto'}. Best is trial 61 with value: 0.4931129476584022.\n",
      "[I 2024-03-14 10:20:23,159] Trial 126 finished with value: 0.4490358126721763 and parameters: {'n_estimators': 178, 'max_depth': 33, 'min_samples_split': 0.08531577665030543, 'min_samples_leaf': 0.025278142538003836, 'max_features': 'auto'}. Best is trial 61 with value: 0.4931129476584022.\n",
      "[I 2024-03-14 10:20:23,935] Trial 127 finished with value: 0.4380165289256198 and parameters: {'n_estimators': 170, 'max_depth': 5, 'min_samples_split': 0.1636465374671686, 'min_samples_leaf': 0.010135721109021665, 'max_features': 'auto'}. Best is trial 61 with value: 0.4931129476584022.\n",
      "[I 2024-03-14 10:20:24,535] Trial 128 finished with value: 0.42699724517906334 and parameters: {'n_estimators': 148, 'max_depth': 30, 'min_samples_split': 0.04564130412550596, 'min_samples_leaf': 0.04964598139553748, 'max_features': 'auto'}. Best is trial 61 with value: 0.4931129476584022.\n",
      "[I 2024-03-14 10:20:25,200] Trial 129 finished with value: 0.42424242424242425 and parameters: {'n_estimators': 186, 'max_depth': 9, 'min_samples_split': 0.13286918833848263, 'min_samples_leaf': 0.07151249017910116, 'max_features': 'auto'}. Best is trial 61 with value: 0.4931129476584022.\n",
      "[I 2024-03-14 10:20:25,469] Trial 130 finished with value: 0.33884297520661155 and parameters: {'n_estimators': 168, 'max_depth': 14, 'min_samples_split': 0.11613025666915586, 'min_samples_leaf': 0.5123817136411626, 'max_features': 'auto'}. Best is trial 61 with value: 0.4931129476584022.\n",
      "[I 2024-03-14 10:20:26,253] Trial 131 finished with value: 0.465564738292011 and parameters: {'n_estimators': 176, 'max_depth': 29, 'min_samples_split': 0.055290184926200726, 'min_samples_leaf': 0.031183813332426192, 'max_features': 'auto'}. Best is trial 61 with value: 0.4931129476584022.\n",
      "[I 2024-03-14 10:20:27,294] Trial 132 finished with value: 0.47107438016528924 and parameters: {'n_estimators': 180, 'max_depth': 31, 'min_samples_split': 0.027939038529784403, 'min_samples_leaf': 0.011176370802528954, 'max_features': 'auto'}. Best is trial 61 with value: 0.4931129476584022.\n",
      "[I 2024-03-14 10:20:28,086] Trial 133 finished with value: 0.45454545454545453 and parameters: {'n_estimators': 201, 'max_depth': 32, 'min_samples_split': 0.07203037048742342, 'min_samples_leaf': 0.03815854824792148, 'max_features': 'auto'}. Best is trial 61 with value: 0.4931129476584022.\n",
      "[I 2024-03-14 10:20:28,485] Trial 134 finished with value: 0.39118457300275483 and parameters: {'n_estimators': 163, 'max_depth': 28, 'min_samples_split': 0.38956304815266485, 'min_samples_leaf': 0.06287612955550365, 'max_features': 'auto'}. Best is trial 61 with value: 0.4931129476584022.\n",
      "[I 2024-03-14 10:20:29,258] Trial 135 finished with value: 0.44077134986225897 and parameters: {'n_estimators': 188, 'max_depth': 26, 'min_samples_split': 0.08636418431668222, 'min_samples_leaf': 0.02819525440661554, 'max_features': 'auto'}. Best is trial 61 with value: 0.4931129476584022.\n",
      "[I 2024-03-14 10:20:29,883] Trial 136 finished with value: 0.42699724517906334 and parameters: {'n_estimators': 220, 'max_depth': 35, 'min_samples_split': 0.010021436860857345, 'min_samples_leaf': 0.08542997920758195, 'max_features': 'auto'}. Best is trial 61 with value: 0.4931129476584022.\n",
      "[I 2024-03-14 10:20:30,420] Trial 137 finished with value: 0.40771349862258954 and parameters: {'n_estimators': 155, 'max_depth': 30, 'min_samples_split': 0.05890477191207119, 'min_samples_leaf': 0.056633942114834177, 'max_features': 'auto'}. Best is trial 61 with value: 0.4931129476584022.\n",
      "[I 2024-03-14 10:20:30,931] Trial 138 finished with value: 0.40771349862258954 and parameters: {'n_estimators': 197, 'max_depth': 18, 'min_samples_split': 0.03777030361859393, 'min_samples_leaf': 0.1196876945827005, 'max_features': 'auto'}. Best is trial 61 with value: 0.4931129476584022.\n",
      "[I 2024-03-14 10:20:31,309] Trial 139 finished with value: 0.39944903581267216 and parameters: {'n_estimators': 172, 'max_depth': 37, 'min_samples_split': 0.0995165661138506, 'min_samples_leaf': 0.1851727135242635, 'max_features': 'auto'}. Best is trial 61 with value: 0.4931129476584022.\n",
      "[I 2024-03-14 10:20:31,563] Trial 140 finished with value: 0.33884297520661155 and parameters: {'n_estimators': 181, 'max_depth': 42, 'min_samples_split': 0.032541704187362366, 'min_samples_leaf': 0.4174212903921614, 'max_features': 'auto'}. Best is trial 61 with value: 0.4931129476584022.\n",
      "[I 2024-03-14 10:20:32,083] Trial 141 finished with value: 0.4765840220385675 and parameters: {'n_estimators': 100, 'max_depth': 37, 'min_samples_split': 0.04351210779245136, 'min_samples_leaf': 0.013126236144812611, 'max_features': 'auto'}. Best is trial 61 with value: 0.4931129476584022.\n",
      "[I 2024-03-14 10:20:32,675] Trial 142 finished with value: 0.4793388429752066 and parameters: {'n_estimators': 113, 'max_depth': 39, 'min_samples_split': 0.07219706393991542, 'min_samples_leaf': 0.010162451219254173, 'max_features': 'auto'}. Best is trial 61 with value: 0.4931129476584022.\n",
      "[I 2024-03-14 10:20:32,980] Trial 143 finished with value: 0.418732782369146 and parameters: {'n_estimators': 106, 'max_depth': 39, 'min_samples_split': 0.2956976727692749, 'min_samples_leaf': 0.04130782780875797, 'max_features': 'auto'}. Best is trial 61 with value: 0.4931129476584022.\n",
      "[I 2024-03-14 10:20:33,452] Trial 144 finished with value: 0.4793388429752066 and parameters: {'n_estimators': 111, 'max_depth': 40, 'min_samples_split': 0.06937093627758362, 'min_samples_leaf': 0.028593607756603655, 'max_features': 'auto'}. Best is trial 61 with value: 0.4931129476584022.\n",
      "[I 2024-03-14 10:20:33,936] Trial 145 finished with value: 0.465564738292011 and parameters: {'n_estimators': 113, 'max_depth': 39, 'min_samples_split': 0.07298727031946664, 'min_samples_leaf': 0.026678447431324734, 'max_features': 'auto'}. Best is trial 61 with value: 0.4931129476584022.\n",
      "[I 2024-03-14 10:20:34,363] Trial 146 finished with value: 0.43526170798898073 and parameters: {'n_estimators': 119, 'max_depth': 41, 'min_samples_split': 0.04054849652214898, 'min_samples_leaf': 0.052569523543684125, 'max_features': 'auto'}. Best is trial 61 with value: 0.4931129476584022.\n",
      "[I 2024-03-14 10:20:34,679] Trial 147 finished with value: 0.418732782369146 and parameters: {'n_estimators': 101, 'max_depth': 40, 'min_samples_split': 0.09180907370774441, 'min_samples_leaf': 0.0771674417296225, 'max_features': 'auto'}. Best is trial 61 with value: 0.4931129476584022.\n",
      "[I 2024-03-14 10:20:35,352] Trial 148 finished with value: 0.47107438016528924 and parameters: {'n_estimators': 114, 'max_depth': 37, 'min_samples_split': 0.01000045758333655, 'min_samples_leaf': 0.010771386938264307, 'max_features': 'auto'}. Best is trial 61 with value: 0.4931129476584022.\n",
      "[I 2024-03-14 10:20:35,636] Trial 149 finished with value: 0.3856749311294766 and parameters: {'n_estimators': 125, 'max_depth': 36, 'min_samples_split': 0.5141118905368979, 'min_samples_leaf': 0.038760907702392294, 'max_features': 'auto'}. Best is trial 61 with value: 0.4931129476584022.\n",
      "[I 2024-03-14 10:20:36,010] Trial 150 finished with value: 0.4049586776859504 and parameters: {'n_estimators': 114, 'max_depth': 43, 'min_samples_split': 0.05383158660277206, 'min_samples_leaf': 0.06553626058830661, 'max_features': 'auto'}. Best is trial 61 with value: 0.4931129476584022.\n",
      "[I 2024-03-14 10:20:36,523] Trial 151 finished with value: 0.46005509641873277 and parameters: {'n_estimators': 117, 'max_depth': 38, 'min_samples_split': 0.064278775162593, 'min_samples_leaf': 0.02794788794433115, 'max_features': 'auto'}. Best is trial 61 with value: 0.4931129476584022.\n",
      "[I 2024-03-14 10:20:37,132] Trial 152 finished with value: 0.49586776859504134 and parameters: {'n_estimators': 108, 'max_depth': 39, 'min_samples_split': 0.030049470404495078, 'min_samples_leaf': 0.01234127702862079, 'max_features': 'auto'}. Best is trial 152 with value: 0.49586776859504134.\n",
      "[I 2024-03-14 10:20:37,819] Trial 153 finished with value: 0.48484848484848486 and parameters: {'n_estimators': 105, 'max_depth': 41, 'min_samples_split': 0.02798992571639017, 'min_samples_leaf': 0.012166567403846125, 'max_features': 'auto'}. Best is trial 152 with value: 0.49586776859504134.\n",
      "[I 2024-03-14 10:20:38,237] Trial 154 finished with value: 0.43526170798898073 and parameters: {'n_estimators': 105, 'max_depth': 40, 'min_samples_split': 0.026321811731535416, 'min_samples_leaf': 0.04619074421929932, 'max_features': 'auto'}. Best is trial 152 with value: 0.49586776859504134.\n",
      "[I 2024-03-14 10:20:38,866] Trial 155 finished with value: 0.4628099173553719 and parameters: {'n_estimators': 108, 'max_depth': 42, 'min_samples_split': 0.04087693076863348, 'min_samples_leaf': 0.01186287585447178, 'max_features': 'auto'}. Best is trial 152 with value: 0.49586776859504134.\n",
      "[I 2024-03-14 10:20:39,326] Trial 156 finished with value: 0.4490358126721763 and parameters: {'n_estimators': 105, 'max_depth': 44, 'min_samples_split': 0.11370253302865682, 'min_samples_leaf': 0.0306983271728847, 'max_features': 'auto'}. Best is trial 152 with value: 0.49586776859504134.\n",
      "[I 2024-03-14 10:20:39,738] Trial 157 finished with value: 0.40771349862258954 and parameters: {'n_estimators': 102, 'max_depth': 41, 'min_samples_split': 0.07739401356581642, 'min_samples_leaf': 0.061835883029858194, 'max_features': 'auto'}. Best is trial 152 with value: 0.49586776859504134.\n",
      "[I 2024-03-14 10:20:40,097] Trial 158 finished with value: 0.39669421487603307 and parameters: {'n_estimators': 111, 'max_depth': 38, 'min_samples_split': 0.029785092348205214, 'min_samples_leaf': 0.09631807258518855, 'max_features': 'auto'}. Best is trial 152 with value: 0.49586776859504134.\n",
      "[I 2024-03-14 10:20:40,773] Trial 159 finished with value: 0.48484848484848486 and parameters: {'n_estimators': 121, 'max_depth': 39, 'min_samples_split': 0.0509667702514599, 'min_samples_leaf': 0.010691722492283243, 'max_features': 'auto'}. Best is trial 152 with value: 0.49586776859504134.\n",
      "[I 2024-03-14 10:20:41,455] Trial 160 finished with value: 0.4765840220385675 and parameters: {'n_estimators': 123, 'max_depth': 39, 'min_samples_split': 0.09344951067608784, 'min_samples_leaf': 0.010250166308476697, 'max_features': 'auto'}. Best is trial 152 with value: 0.49586776859504134.\n",
      "[I 2024-03-14 10:20:42,151] Trial 161 finished with value: 0.4738292011019284 and parameters: {'n_estimators': 118, 'max_depth': 40, 'min_samples_split': 0.04956337233269544, 'min_samples_leaf': 0.010097038868790197, 'max_features': 'auto'}. Best is trial 152 with value: 0.49586776859504134.\n",
      "[I 2024-03-14 10:20:42,401] Trial 162 finished with value: 0.3856749311294766 and parameters: {'n_estimators': 110, 'max_depth': 39, 'min_samples_split': 0.5597853273965637, 'min_samples_leaf': 0.04154377320576559, 'max_features': 'auto'}. Best is trial 152 with value: 0.49586776859504134.\n",
      "[I 2024-03-14 10:20:42,936] Trial 163 finished with value: 0.4793388429752066 and parameters: {'n_estimators': 116, 'max_depth': 42, 'min_samples_split': 0.06444301271310693, 'min_samples_leaf': 0.027560641724998308, 'max_features': 'auto'}. Best is trial 152 with value: 0.49586776859504134.\n",
      "[I 2024-03-14 10:20:43,409] Trial 164 finished with value: 0.44352617079889806 and parameters: {'n_estimators': 122, 'max_depth': 43, 'min_samples_split': 0.057707529396852635, 'min_samples_leaf': 0.049406788374985806, 'max_features': 'auto'}. Best is trial 152 with value: 0.49586776859504134.\n",
      "[I 2024-03-14 10:20:43,701] Trial 165 finished with value: 0.3856749311294766 and parameters: {'n_estimators': 133, 'max_depth': 42, 'min_samples_split': 0.4881059700782766, 'min_samples_leaf': 0.03303979304345436, 'max_features': 'auto'}. Best is trial 152 with value: 0.49586776859504134.\n",
      "[I 2024-03-14 10:20:44,104] Trial 166 finished with value: 0.4049586776859504 and parameters: {'n_estimators': 128, 'max_depth': 41, 'min_samples_split': 0.07251892450614195, 'min_samples_leaf': 0.07647143106263724, 'max_features': 'auto'}. Best is trial 152 with value: 0.49586776859504134.\n",
      "[I 2024-03-14 10:20:44,270] Trial 167 finished with value: 0.33884297520661155 and parameters: {'n_estimators': 116, 'max_depth': 44, 'min_samples_split': 0.1352218987380961, 'min_samples_leaf': 0.6331585092102819, 'max_features': 'auto'}. Best is trial 152 with value: 0.49586776859504134.\n",
      "[I 2024-03-14 10:20:44,826] Trial 168 finished with value: 0.44352617079889806 and parameters: {'n_estimators': 130, 'max_depth': 40, 'min_samples_split': 0.021763882399279386, 'min_samples_leaf': 0.029598472052076177, 'max_features': 'auto'}. Best is trial 152 with value: 0.49586776859504134.\n",
      "[I 2024-03-14 10:20:45,203] Trial 169 finished with value: 0.41046831955922863 and parameters: {'n_estimators': 107, 'max_depth': 42, 'min_samples_split': 0.09881030071478583, 'min_samples_leaf': 0.057795942948774805, 'max_features': 'auto'}. Best is trial 152 with value: 0.49586776859504134.\n",
      "[I 2024-03-14 10:20:45,678] Trial 170 finished with value: 0.46831955922865015 and parameters: {'n_estimators': 113, 'max_depth': 24, 'min_samples_split': 0.07322991624593307, 'min_samples_leaf': 0.02952004666809334, 'max_features': 'auto'}. Best is trial 152 with value: 0.49586776859504134.\n",
      "[I 2024-03-14 10:20:46,242] Trial 171 finished with value: 0.4738292011019284 and parameters: {'n_estimators': 103, 'max_depth': 37, 'min_samples_split': 0.0455271660974057, 'min_samples_leaf': 0.01015996711361083, 'max_features': 'auto'}. Best is trial 152 with value: 0.49586776859504134.\n",
      "[I 2024-03-14 10:20:46,634] Trial 172 finished with value: 0.43526170798898073 and parameters: {'n_estimators': 106, 'max_depth': 38, 'min_samples_split': 0.027512936290569494, 'min_samples_leaf': 0.047188495350705635, 'max_features': 'auto'}. Best is trial 152 with value: 0.49586776859504134.\n",
      "[I 2024-03-14 10:20:46,830] Trial 173 finished with value: 0.41597796143250687 and parameters: {'n_estimators': 100, 'max_depth': 40, 'min_samples_split': 0.054086552803105925, 'min_samples_leaf': 0.27600176577242014, 'max_features': 'auto'}. Best is trial 152 with value: 0.49586776859504134.\n",
      "[I 2024-03-14 10:20:48,224] Trial 174 finished with value: 0.4738292011019284 and parameters: {'n_estimators': 244, 'max_depth': 39, 'min_samples_split': 0.01062919627415166, 'min_samples_leaf': 0.010195806269621119, 'max_features': 'auto'}. Best is trial 152 with value: 0.49586776859504134.\n",
      "[I 2024-03-14 10:20:48,503] Trial 175 finished with value: 0.3884297520661157 and parameters: {'n_estimators': 121, 'max_depth': 41, 'min_samples_split': 0.03862169353076188, 'min_samples_leaf': 0.21912430969262725, 'max_features': 'auto'}. Best is trial 152 with value: 0.49586776859504134.\n",
      "[I 2024-03-14 10:20:48,974] Trial 176 finished with value: 0.45454545454545453 and parameters: {'n_estimators': 110, 'max_depth': 35, 'min_samples_split': 0.08035480456350165, 'min_samples_leaf': 0.031015669728259355, 'max_features': 'auto'}. Best is trial 152 with value: 0.49586776859504134.\n",
      "[I 2024-03-14 10:20:49,328] Trial 177 finished with value: 0.418732782369146 and parameters: {'n_estimators': 112, 'max_depth': 38, 'min_samples_split': 0.1971557192638627, 'min_samples_leaf': 0.06524539142914329, 'max_features': 'auto'}. Best is trial 152 with value: 0.49586776859504134.\n",
      "[I 2024-03-14 10:20:49,842] Trial 178 finished with value: 0.47107438016528924 and parameters: {'n_estimators': 116, 'max_depth': 39, 'min_samples_split': 0.06362496650076074, 'min_samples_leaf': 0.027144970974240647, 'max_features': 'auto'}. Best is trial 152 with value: 0.49586776859504134.\n",
      "[I 2024-03-14 10:20:50,171] Trial 179 finished with value: 0.42424242424242425 and parameters: {'n_estimators': 108, 'max_depth': 37, 'min_samples_split': 0.11413169991553607, 'min_samples_leaf': 0.08211425944461241, 'max_features': 'auto'}. Best is trial 152 with value: 0.49586776859504134.\n",
      "[I 2024-03-14 10:20:50,644] Trial 180 finished with value: 0.4380165289256198 and parameters: {'n_estimators': 124, 'max_depth': 36, 'min_samples_split': 0.027839892059482084, 'min_samples_leaf': 0.04490917571629188, 'max_features': 'auto'}. Best is trial 152 with value: 0.49586776859504134.\n",
      "[I 2024-03-14 10:20:51,181] Trial 181 finished with value: 0.4573002754820937 and parameters: {'n_estimators': 123, 'max_depth': 39, 'min_samples_split': 0.09164840808368485, 'min_samples_leaf': 0.022826273005365806, 'max_features': 'auto'}. Best is trial 152 with value: 0.49586776859504134.\n",
      "[I 2024-03-14 10:20:51,354] Trial 182 finished with value: 0.33884297520661155 and parameters: {'n_estimators': 119, 'max_depth': 11, 'min_samples_split': 0.6647053275637863, 'min_samples_leaf': 0.01425169090665927, 'max_features': 'auto'}. Best is trial 152 with value: 0.49586776859504134.\n",
      "[I 2024-03-14 10:20:52,030] Trial 183 finished with value: 0.4765840220385675 and parameters: {'n_estimators': 127, 'max_depth': 40, 'min_samples_split': 0.04940175383310236, 'min_samples_leaf': 0.011389142008574691, 'max_features': 'auto'}. Best is trial 152 with value: 0.49586776859504134.\n",
      "[I 2024-03-14 10:20:52,552] Trial 184 finished with value: 0.42699724517906334 and parameters: {'n_estimators': 140, 'max_depth': 41, 'min_samples_split': 0.08397153292317358, 'min_samples_leaf': 0.04689625482162726, 'max_features': 'auto'}. Best is trial 152 with value: 0.49586776859504134.\n",
      "[I 2024-03-14 10:20:53,634] Trial 185 finished with value: 0.46831955922865015 and parameters: {'n_estimators': 193, 'max_depth': 38, 'min_samples_split': 0.06175517940643826, 'min_samples_leaf': 0.010475788057120409, 'max_features': 'auto'}. Best is trial 152 with value: 0.49586776859504134.\n",
      "[I 2024-03-14 10:20:54,017] Trial 186 finished with value: 0.4022038567493113 and parameters: {'n_estimators': 135, 'max_depth': 40, 'min_samples_split': 0.3366086849966221, 'min_samples_leaf': 0.060562452670786734, 'max_features': 'auto'}. Best is trial 152 with value: 0.49586776859504134.\n",
      "[I 2024-03-14 10:20:54,500] Trial 187 finished with value: 0.4462809917355372 and parameters: {'n_estimators': 116, 'max_depth': 36, 'min_samples_split': 0.09921524242343192, 'min_samples_leaf': 0.035766399889899755, 'max_features': 'auto'}. Best is trial 152 with value: 0.49586776859504134.\n",
      "[I 2024-03-14 10:20:54,982] Trial 188 finished with value: 0.4628099173553719 and parameters: {'n_estimators': 100, 'max_depth': 43, 'min_samples_split': 0.029026157574546047, 'min_samples_leaf': 0.02902843032093023, 'max_features': 'auto'}. Best is trial 152 with value: 0.49586776859504134.\n",
      "[I 2024-03-14 10:20:55,401] Trial 189 finished with value: 0.45454545454545453 and parameters: {'n_estimators': 104, 'max_depth': 34, 'min_samples_split': 0.04424622823708223, 'min_samples_leaf': 0.052045911635126944, 'max_features': 'auto'}. Best is trial 152 with value: 0.49586776859504134.\n",
      "[I 2024-03-14 10:20:55,747] Trial 190 finished with value: 0.33884297520661155 and parameters: {'n_estimators': 205, 'max_depth': 12, 'min_samples_split': 0.010461187800655407, 'min_samples_leaf': 0.35413272605213725, 'max_features': 'auto'}. Best is trial 152 with value: 0.49586776859504134.\n",
      "[I 2024-03-14 10:20:56,189] Trial 191 finished with value: 0.4132231404958678 and parameters: {'n_estimators': 127, 'max_depth': 39, 'min_samples_split': 0.2521219153753658, 'min_samples_leaf': 0.024365437132808018, 'max_features': 'auto'}. Best is trial 152 with value: 0.49586776859504134.\n",
      "[I 2024-03-14 10:20:56,866] Trial 192 finished with value: 0.4793388429752066 and parameters: {'n_estimators': 121, 'max_depth': 41, 'min_samples_split': 0.05090925603959118, 'min_samples_leaf': 0.011545578408020781, 'max_features': 'auto'}. Best is trial 152 with value: 0.49586776859504134.\n",
      "[I 2024-03-14 10:20:58,279] Trial 193 finished with value: 0.46831955922865015 and parameters: {'n_estimators': 263, 'max_depth': 42, 'min_samples_split': 0.06776683387892096, 'min_samples_leaf': 0.010554718828488923, 'max_features': 'auto'}. Best is trial 152 with value: 0.49586776859504134.\n",
      "[I 2024-03-14 10:20:58,776] Trial 194 finished with value: 0.4462809917355372 and parameters: {'n_estimators': 122, 'max_depth': 41, 'min_samples_split': 0.041804311853980945, 'min_samples_leaf': 0.04323715160766473, 'max_features': 'auto'}. Best is trial 152 with value: 0.49586776859504134.\n",
      "[I 2024-03-14 10:20:59,192] Trial 195 finished with value: 0.41046831955922863 and parameters: {'n_estimators': 120, 'max_depth': 38, 'min_samples_split': 0.08884172998746945, 'min_samples_leaf': 0.06415054842985816, 'max_features': 'auto'}. Best is trial 152 with value: 0.49586776859504134.\n",
      "[I 2024-03-14 10:20:59,675] Trial 196 finished with value: 0.43526170798898073 and parameters: {'n_estimators': 114, 'max_depth': 9, 'min_samples_split': 0.029149842337052107, 'min_samples_leaf': 0.03434676346177716, 'max_features': 'auto'}. Best is trial 152 with value: 0.49586776859504134.\n",
      "[I 2024-03-14 10:21:00,503] Trial 197 finished with value: 0.4462809917355372 and parameters: {'n_estimators': 186, 'max_depth': 10, 'min_samples_split': 0.12342971874750783, 'min_samples_leaf': 0.011527827465630653, 'max_features': 'auto'}. Best is trial 152 with value: 0.49586776859504134.\n",
      "[I 2024-03-14 10:21:01,163] Trial 198 finished with value: 0.418732782369146 and parameters: {'n_estimators': 230, 'max_depth': 39, 'min_samples_split': 0.05489671688198115, 'min_samples_leaf': 0.09047985978683834, 'max_features': 'auto'}. Best is trial 152 with value: 0.49586776859504134.\n",
      "[I 2024-03-14 10:21:01,515] Trial 199 finished with value: 0.4049586776859504 and parameters: {'n_estimators': 111, 'max_depth': 45, 'min_samples_split': 0.22991853938916818, 'min_samples_leaf': 0.04477076182505127, 'max_features': 'auto'}. Best is trial 152 with value: 0.49586776859504134.\n",
      "[I 2024-03-14 10:21:01,935] Trial 200 finished with value: 0.4214876033057851 and parameters: {'n_estimators': 132, 'max_depth': 40, 'min_samples_split': 0.07328431390548766, 'min_samples_leaf': 0.06904465837580588, 'max_features': 'auto'}. Best is trial 152 with value: 0.49586776859504134.\n",
      "[I 2024-03-14 10:21:02,512] Trial 201 finished with value: 0.4931129476584022 and parameters: {'n_estimators': 128, 'max_depth': 42, 'min_samples_split': 0.04835181281724028, 'min_samples_leaf': 0.025952271820484343, 'max_features': 'auto'}. Best is trial 152 with value: 0.49586776859504134.\n",
      "[I 2024-03-14 10:21:03,419] Trial 202 finished with value: 0.4738292011019284 and parameters: {'n_estimators': 213, 'max_depth': 41, 'min_samples_split': 0.010322544304022113, 'min_samples_leaf': 0.02920727125929017, 'max_features': 'auto'}. Best is trial 152 with value: 0.49586776859504134.\n",
      "[I 2024-03-14 10:21:03,713] Trial 203 finished with value: 0.4022038567493113 and parameters: {'n_estimators': 130, 'max_depth': 42, 'min_samples_split': 0.04911696985728307, 'min_samples_leaf': 0.17312673859428468, 'max_features': 'auto'}. Best is trial 152 with value: 0.49586776859504134.\n",
      "[I 2024-03-14 10:21:03,954] Trial 204 finished with value: 0.39669421487603307 and parameters: {'n_estimators': 124, 'max_depth': 21, 'min_samples_split': 0.031460990561062996, 'min_samples_leaf': 0.2433137141893371, 'max_features': 'auto'}. Best is trial 152 with value: 0.49586776859504134.\n",
      "[I 2024-03-14 10:21:04,571] Trial 205 finished with value: 0.4765840220385675 and parameters: {'n_estimators': 118, 'max_depth': 43, 'min_samples_split': 0.06695165621060861, 'min_samples_leaf': 0.010666887833349348, 'max_features': 'auto'}. Best is trial 152 with value: 0.49586776859504134.\n",
      "[I 2024-03-14 10:21:04,973] Trial 206 finished with value: 0.4214876033057851 and parameters: {'n_estimators': 137, 'max_depth': 40, 'min_samples_split': 0.2924736031044085, 'min_samples_leaf': 0.03085287010898763, 'max_features': 'auto'}. Best is trial 152 with value: 0.49586776859504134.\n",
      "[I 2024-03-14 10:21:05,652] Trial 207 finished with value: 0.41597796143250687 and parameters: {'n_estimators': 200, 'max_depth': 41, 'min_samples_split': 0.15435223246412905, 'min_samples_leaf': 0.04957328915595037, 'max_features': 'auto'}. Best is trial 152 with value: 0.49586776859504134.\n",
      "[I 2024-03-14 10:21:06,181] Trial 208 finished with value: 0.465564738292011 and parameters: {'n_estimators': 107, 'max_depth': 37, 'min_samples_split': 0.09440819684247699, 'min_samples_leaf': 0.010332219929126767, 'max_features': 'auto'}. Best is trial 152 with value: 0.49586776859504134.\n",
      "[I 2024-03-14 10:21:06,795] Trial 209 finished with value: 0.45179063360881544 and parameters: {'n_estimators': 145, 'max_depth': 39, 'min_samples_split': 0.04268444849674172, 'min_samples_leaf': 0.032341192256265305, 'max_features': 'auto'}. Best is trial 152 with value: 0.49586776859504134.\n",
      "[I 2024-03-14 10:21:06,973] Trial 210 finished with value: 0.33884297520661155 and parameters: {'n_estimators': 122, 'max_depth': 38, 'min_samples_split': 0.8301043639479846, 'min_samples_leaf': 0.05439012939040714, 'max_features': 'auto'}. Best is trial 152 with value: 0.49586776859504134.\n",
      "[I 2024-03-14 10:21:07,546] Trial 211 finished with value: 0.4931129476584022 and parameters: {'n_estimators': 127, 'max_depth': 40, 'min_samples_split': 0.052417457996470615, 'min_samples_leaf': 0.026348246500440445, 'max_features': 'auto'}. Best is trial 152 with value: 0.49586776859504134.\n",
      "[I 2024-03-14 10:21:08,129] Trial 212 finished with value: 0.47107438016528924 and parameters: {'n_estimators': 130, 'max_depth': 42, 'min_samples_split': 0.02621674838547844, 'min_samples_leaf': 0.026761452033512094, 'max_features': 'auto'}. Best is trial 152 with value: 0.49586776859504134.\n",
      "[I 2024-03-14 10:21:08,641] Trial 213 finished with value: 0.47107438016528924 and parameters: {'n_estimators': 116, 'max_depth': 41, 'min_samples_split': 0.05855925553133369, 'min_samples_leaf': 0.028272949838777116, 'max_features': 'auto'}. Best is trial 152 with value: 0.49586776859504134.\n",
      "[I 2024-03-14 10:21:09,274] Trial 214 finished with value: 0.48760330578512395 and parameters: {'n_estimators': 123, 'max_depth': 39, 'min_samples_split': 0.07363644251978656, 'min_samples_leaf': 0.010167788481150169, 'max_features': 'auto'}. Best is trial 152 with value: 0.49586776859504134.\n",
      "[I 2024-03-14 10:21:09,550] Trial 215 finished with value: 0.42424242424242425 and parameters: {'n_estimators': 112, 'max_depth': 40, 'min_samples_split': 0.04379741213865159, 'min_samples_leaf': 0.30704557979662406, 'max_features': 'auto'}. Best is trial 152 with value: 0.49586776859504134.\n",
      "[I 2024-03-14 10:21:10,055] Trial 216 finished with value: 0.43526170798898073 and parameters: {'n_estimators': 126, 'max_depth': 40, 'min_samples_split': 0.07273395726421511, 'min_samples_leaf': 0.044663370446772876, 'max_features': 'auto'}. Best is trial 152 with value: 0.49586776859504134.\n",
      "[I 2024-03-14 10:21:10,478] Trial 217 finished with value: 0.40771349862258954 and parameters: {'n_estimators': 191, 'max_depth': 37, 'min_samples_split': 0.027206116655347834, 'min_samples_leaf': 0.19613568868708303, 'max_features': 'auto'}. Best is trial 152 with value: 0.49586776859504134.\n",
      "[I 2024-03-14 10:21:11,084] Trial 218 finished with value: 0.42699724517906334 and parameters: {'n_estimators': 180, 'max_depth': 39, 'min_samples_split': 0.06096217114210809, 'min_samples_leaf': 0.07315478661562681, 'max_features': 'auto'}. Best is trial 152 with value: 0.49586776859504134.\n",
      "[I 2024-03-14 10:21:11,416] Trial 219 finished with value: 0.39669421487603307 and parameters: {'n_estimators': 120, 'max_depth': 42, 'min_samples_split': 0.011548275495476398, 'min_samples_leaf': 0.15087748050713481, 'max_features': 'auto'}. Best is trial 152 with value: 0.49586776859504134.\n",
      "[I 2024-03-14 10:21:11,940] Trial 220 finished with value: 0.4490358126721763 and parameters: {'n_estimators': 109, 'max_depth': 8, 'min_samples_split': 0.07870875085282841, 'min_samples_leaf': 0.029981250092137993, 'max_features': 'auto'}. Best is trial 152 with value: 0.49586776859504134.\n",
      "[I 2024-03-14 10:21:12,553] Trial 221 finished with value: 0.45454545454545453 and parameters: {'n_estimators': 126, 'max_depth': 39, 'min_samples_split': 0.10745001363592491, 'min_samples_leaf': 0.01289116399235231, 'max_features': 'auto'}. Best is trial 152 with value: 0.49586776859504134.\n",
      "[I 2024-03-14 10:21:13,076] Trial 222 finished with value: 0.4462809917355372 and parameters: {'n_estimators': 117, 'max_depth': 38, 'min_samples_split': 0.18131576976148922, 'min_samples_leaf': 0.012400554098336933, 'max_features': 'auto'}. Best is trial 152 with value: 0.49586776859504134.\n",
      "[I 2024-03-14 10:21:13,608] Trial 223 finished with value: 0.44352617079889806 and parameters: {'n_estimators': 123, 'max_depth': 40, 'min_samples_split': 0.04872769912369536, 'min_samples_leaf': 0.04400397037115766, 'max_features': 'auto'}. Best is trial 152 with value: 0.49586776859504134.\n",
      "[I 2024-03-14 10:21:14,296] Trial 224 finished with value: 0.45454545454545453 and parameters: {'n_estimators': 135, 'max_depth': 44, 'min_samples_split': 0.08221271707271041, 'min_samples_leaf': 0.011277079510026242, 'max_features': 'auto'}. Best is trial 152 with value: 0.49586776859504134.\n",
      "[I 2024-03-14 10:21:14,498] Trial 225 finished with value: 0.33884297520661155 and parameters: {'n_estimators': 129, 'max_depth': 41, 'min_samples_split': 0.03457187023198187, 'min_samples_leaf': 0.7949512256973432, 'max_features': 'auto'}. Best is trial 152 with value: 0.49586776859504134.\n",
      "[I 2024-03-14 10:21:15,274] Trial 226 finished with value: 0.3884297520661157 and parameters: {'n_estimators': 290, 'max_depth': 38, 'min_samples_split': 0.39248452782856114, 'min_samples_leaf': 0.032459742239872434, 'max_features': 'auto'}. Best is trial 152 with value: 0.49586776859504134.\n",
      "[I 2024-03-14 10:21:15,938] Trial 227 finished with value: 0.42424242424242425 and parameters: {'n_estimators': 185, 'max_depth': 40, 'min_samples_split': 0.057844943628355884, 'min_samples_leaf': 0.05696142051855205, 'max_features': 'auto'}. Best is trial 152 with value: 0.49586776859504134.\n",
      "[I 2024-03-14 10:21:16,221] Trial 228 finished with value: 0.33884297520661155 and parameters: {'n_estimators': 209, 'max_depth': 39, 'min_samples_split': 0.09598199918706667, 'min_samples_leaf': 0.44529300963677115, 'max_features': 'auto'}. Best is trial 152 with value: 0.49586776859504134.\n",
      "[I 2024-03-14 10:21:16,685] Trial 229 finished with value: 0.46005509641873277 and parameters: {'n_estimators': 105, 'max_depth': 10, 'min_samples_split': 0.030469464527814773, 'min_samples_leaf': 0.02941650145701421, 'max_features': 'auto'}. Best is trial 152 with value: 0.49586776859504134.\n",
      "[I 2024-03-14 10:21:17,113] Trial 230 finished with value: 0.44077134986225897 and parameters: {'n_estimators': 114, 'max_depth': 33, 'min_samples_split': 0.06822178867424963, 'min_samples_leaf': 0.04805679153546304, 'max_features': 'auto'}. Best is trial 152 with value: 0.49586776859504134.\n",
      "[I 2024-03-14 10:21:17,807] Trial 231 finished with value: 0.47107438016528924 and parameters: {'n_estimators': 128, 'max_depth': 40, 'min_samples_split': 0.05169883247360366, 'min_samples_leaf': 0.011048473396668416, 'max_features': 'auto'}. Best is trial 152 with value: 0.49586776859504134.\n",
      "[I 2024-03-14 10:21:17,985] Trial 232 finished with value: 0.33884297520661155 and parameters: {'n_estimators': 125, 'max_depth': 41, 'min_samples_split': 0.04506011730471984, 'min_samples_leaf': 0.5806715529873424, 'max_features': 'auto'}. Best is trial 152 with value: 0.49586776859504134.\n",
      "[I 2024-03-14 10:21:18,522] Trial 233 finished with value: 0.47107438016528924 and parameters: {'n_estimators': 120, 'max_depth': 39, 'min_samples_split': 0.026519475675402058, 'min_samples_leaf': 0.027190913695345074, 'max_features': 'auto'}. Best is trial 152 with value: 0.49586776859504134.\n",
      "[I 2024-03-14 10:21:19,201] Trial 234 finished with value: 0.4820936639118457 and parameters: {'n_estimators': 132, 'max_depth': 42, 'min_samples_split': 0.04868440100060165, 'min_samples_leaf': 0.013067609141011535, 'max_features': 'auto'}. Best is trial 152 with value: 0.49586776859504134.\n",
      "[I 2024-03-14 10:21:19,767] Trial 235 finished with value: 0.44077134986225897 and parameters: {'n_estimators': 133, 'max_depth': 42, 'min_samples_split': 0.08338578313606265, 'min_samples_leaf': 0.028635030776218845, 'max_features': 'auto'}. Best is trial 152 with value: 0.49586776859504134.\n",
      "[I 2024-03-14 10:21:20,568] Trial 236 finished with value: 0.4738292011019284 and parameters: {'n_estimators': 139, 'max_depth': 43, 'min_samples_split': 0.010982325843315564, 'min_samples_leaf': 0.011805591351434044, 'max_features': 'auto'}. Best is trial 152 with value: 0.49586776859504134.\n",
      "[I 2024-03-14 10:21:20,906] Trial 237 finished with value: 0.3884297520661157 and parameters: {'n_estimators': 143, 'max_depth': 41, 'min_samples_split': 0.062120103487846606, 'min_samples_leaf': 0.22338625676359575, 'max_features': 'auto'}. Best is trial 152 with value: 0.49586776859504134.\n",
      "[I 2024-03-14 10:21:21,376] Trial 238 finished with value: 0.4297520661157025 and parameters: {'n_estimators': 123, 'max_depth': 42, 'min_samples_split': 0.11135338386676817, 'min_samples_leaf': 0.04494049453339977, 'max_features': 'auto'}. Best is trial 152 with value: 0.49586776859504134.\n",
      "[I 2024-03-14 10:21:22,484] Trial 239 finished with value: 0.48760330578512395 and parameters: {'n_estimators': 175, 'max_depth': 36, 'min_samples_split': 0.033210081039282115, 'min_samples_leaf': 0.01095508190031213, 'max_features': 'auto'}. Best is trial 152 with value: 0.49586776859504134.\n",
      "[I 2024-03-14 10:21:23,122] Trial 240 finished with value: 0.4049586776859504 and parameters: {'n_estimators': 172, 'max_depth': 36, 'min_samples_split': 0.035299582809269446, 'min_samples_leaf': 0.059199708266384835, 'max_features': 'auto'}. Best is trial 152 with value: 0.49586776859504134.\n",
      "[I 2024-03-14 10:21:23,928] Trial 241 finished with value: 0.4820936639118457 and parameters: {'n_estimators': 150, 'max_depth': 35, 'min_samples_split': 0.045493961920377135, 'min_samples_leaf': 0.010940238537537875, 'max_features': 'auto'}. Best is trial 152 with value: 0.49586776859504134.\n",
      "[I 2024-03-14 10:21:24,767] Trial 242 finished with value: 0.48484848484848486 and parameters: {'n_estimators': 154, 'max_depth': 34, 'min_samples_split': 0.043939227265786265, 'min_samples_leaf': 0.010442580725608818, 'max_features': 'auto'}. Best is trial 152 with value: 0.49586776859504134.\n",
      "[I 2024-03-14 10:21:25,437] Trial 243 finished with value: 0.46005509641873277 and parameters: {'n_estimators': 150, 'max_depth': 32, 'min_samples_split': 0.02564923881783772, 'min_samples_leaf': 0.03207030284370947, 'max_features': 'auto'}. Best is trial 152 with value: 0.49586776859504134.\n",
      "[I 2024-03-14 10:21:26,307] Trial 244 finished with value: 0.47107438016528924 and parameters: {'n_estimators': 153, 'max_depth': 34, 'min_samples_split': 0.052876128068881104, 'min_samples_leaf': 0.010177143709620187, 'max_features': 'auto'}. Best is trial 152 with value: 0.49586776859504134.\n",
      "[I 2024-03-14 10:21:26,934] Trial 245 finished with value: 0.46831955922865015 and parameters: {'n_estimators': 149, 'max_depth': 34, 'min_samples_split': 0.0691992690536466, 'min_samples_leaf': 0.039768946285277426, 'max_features': 'auto'}. Best is trial 152 with value: 0.49586776859504134.\n",
      "[I 2024-03-14 10:21:27,212] Trial 246 finished with value: 0.33884297520661155 and parameters: {'n_estimators': 177, 'max_depth': 33, 'min_samples_split': 0.03725706195375818, 'min_samples_leaf': 0.3502183175988066, 'max_features': 'auto'}. Best is trial 152 with value: 0.49586776859504134.\n",
      "[I 2024-03-14 10:21:27,632] Trial 247 finished with value: 0.39118457300275483 and parameters: {'n_estimators': 157, 'max_depth': 35, 'min_samples_split': 0.47070568793780876, 'min_samples_leaf': 0.03125169914700758, 'max_features': 'auto'}. Best is trial 152 with value: 0.49586776859504134.\n",
      "[I 2024-03-14 10:21:27,906] Trial 248 finished with value: 0.33884297520661155 and parameters: {'n_estimators': 167, 'max_depth': 35, 'min_samples_split': 0.01215678349239905, 'min_samples_leaf': 0.4867051375302719, 'max_features': 'auto'}. Best is trial 152 with value: 0.49586776859504134.\n",
      "[I 2024-03-14 10:21:28,605] Trial 249 finished with value: 0.46831955922865015 and parameters: {'n_estimators': 148, 'max_depth': 35, 'min_samples_split': 0.048662620574496884, 'min_samples_leaf': 0.027426015502486207, 'max_features': 'auto'}. Best is trial 152 with value: 0.49586776859504134.\n",
      "[I 2024-03-14 10:21:29,219] Trial 250 finished with value: 0.4325068870523416 and parameters: {'n_estimators': 160, 'max_depth': 36, 'min_samples_split': 0.07176916916751454, 'min_samples_leaf': 0.053615676370149155, 'max_features': 'auto'}. Best is trial 152 with value: 0.49586776859504134.\n",
      "[I 2024-03-14 10:21:29,773] Trial 251 finished with value: 0.4132231404958678 and parameters: {'n_estimators': 182, 'max_depth': 34, 'min_samples_split': 0.3498488114188846, 'min_samples_leaf': 0.011557212122497582, 'max_features': 'auto'}. Best is trial 152 with value: 0.49586776859504134.\n",
      "[I 2024-03-14 10:21:30,601] Trial 252 finished with value: 0.45179063360881544 and parameters: {'n_estimators': 196, 'max_depth': 31, 'min_samples_split': 0.02799981135040773, 'min_samples_leaf': 0.04234996195594802, 'max_features': 'auto'}. Best is trial 152 with value: 0.49586776859504134.\n",
      "[I 2024-03-14 10:21:31,333] Trial 253 finished with value: 0.42424242424242425 and parameters: {'n_estimators': 221, 'max_depth': 32, 'min_samples_split': 0.05255760753837141, 'min_samples_leaf': 0.07214648283488029, 'max_features': 'auto'}. Best is trial 152 with value: 0.49586776859504134.\n",
      "[I 2024-03-14 10:21:32,003] Trial 254 finished with value: 0.45454545454545453 and parameters: {'n_estimators': 144, 'max_depth': 43, 'min_samples_split': 0.028661020401034833, 'min_samples_leaf': 0.028887752612682102, 'max_features': 'auto'}. Best is trial 152 with value: 0.49586776859504134.\n",
      "[I 2024-03-14 10:21:32,901] Trial 255 finished with value: 0.4793388429752066 and parameters: {'n_estimators': 154, 'max_depth': 11, 'min_samples_split': 0.011026935360144735, 'min_samples_leaf': 0.011120748651156628, 'max_features': 'auto'}. Best is trial 152 with value: 0.49586776859504134.\n",
      "[I 2024-03-14 10:21:33,655] Trial 256 finished with value: 0.45179063360881544 and parameters: {'n_estimators': 201, 'max_depth': 41, 'min_samples_split': 0.07778407700774098, 'min_samples_leaf': 0.04569613033997624, 'max_features': 'auto'}. Best is trial 152 with value: 0.49586776859504134.\n",
      "[I 2024-03-14 10:21:33,908] Trial 257 finished with value: 0.33884297520661155 and parameters: {'n_estimators': 175, 'max_depth': 33, 'min_samples_split': 0.048316652531162275, 'min_samples_leaf': 0.9718095172267334, 'max_features': 'auto'}. Best is trial 152 with value: 0.49586776859504134.\n",
      "[I 2024-03-14 10:21:34,463] Trial 258 finished with value: 0.44352617079889806 and parameters: {'n_estimators': 139, 'max_depth': 37, 'min_samples_split': 0.19174082547334764, 'min_samples_leaf': 0.01025593485922153, 'max_features': 'auto'}. Best is trial 152 with value: 0.49586776859504134.\n",
      "[I 2024-03-14 10:21:35,082] Trial 259 finished with value: 0.418732782369146 and parameters: {'n_estimators': 190, 'max_depth': 9, 'min_samples_split': 0.05841448434484563, 'min_samples_leaf': 0.06613720991229367, 'max_features': 'auto'}. Best is trial 152 with value: 0.49586776859504134.\n",
      "[I 2024-03-14 10:21:35,385] Trial 260 finished with value: 0.4049586776859504 and parameters: {'n_estimators': 133, 'max_depth': 23, 'min_samples_split': 0.08506596244586538, 'min_samples_leaf': 0.17938630987856236, 'max_features': 'auto'}. Best is trial 152 with value: 0.49586776859504134.\n",
      "[I 2024-03-14 10:21:36,092] Trial 261 finished with value: 0.46005509641873277 and parameters: {'n_estimators': 165, 'max_depth': 42, 'min_samples_split': 0.03494094896342719, 'min_samples_leaf': 0.03127155642592288, 'max_features': 'auto'}. Best is trial 152 with value: 0.49586776859504134.\n",
      "[I 2024-03-14 10:21:36,485] Trial 262 finished with value: 0.41046831955922863 and parameters: {'n_estimators': 183, 'max_depth': 44, 'min_samples_split': 0.23070810944527356, 'min_samples_leaf': 0.19762961539150176, 'max_features': 'auto'}. Best is trial 152 with value: 0.49586776859504134.\n",
      "[I 2024-03-14 10:21:36,870] Trial 263 finished with value: 0.3856749311294766 and parameters: {'n_estimators': 177, 'max_depth': 40, 'min_samples_split': 0.5629779226779104, 'min_samples_leaf': 0.0478260026543538, 'max_features': 'auto'}. Best is trial 152 with value: 0.49586776859504134.\n",
      "[I 2024-03-14 10:21:37,546] Trial 264 finished with value: 0.46005509641873277 and parameters: {'n_estimators': 158, 'max_depth': 38, 'min_samples_split': 0.010075406868604815, 'min_samples_leaf': 0.029747373473845484, 'max_features': 'auto'}. Best is trial 152 with value: 0.49586776859504134.\n",
      "[I 2024-03-14 10:21:37,867] Trial 265 finished with value: 0.40771349862258954 and parameters: {'n_estimators': 117, 'max_depth': 17, 'min_samples_split': 0.31267764254344754, 'min_samples_leaf': 0.10078799786838394, 'max_features': 'auto'}. Best is trial 152 with value: 0.49586776859504134.\n",
      "[I 2024-03-14 10:21:38,261] Trial 266 finished with value: 0.3939393939393939 and parameters: {'n_estimators': 170, 'max_depth': 36, 'min_samples_split': 0.06696494476261744, 'min_samples_leaf': 0.16082706782482425, 'max_features': 'auto'}. Best is trial 152 with value: 0.49586776859504134.\n",
      "[I 2024-03-14 10:21:38,768] Trial 267 finished with value: 0.41046831955922863 and parameters: {'n_estimators': 145, 'max_depth': 13, 'min_samples_split': 0.0396663766498297, 'min_samples_leaf': 0.05787249666502862, 'max_features': 'auto'}. Best is trial 152 with value: 0.49586776859504134.\n",
      "[I 2024-03-14 10:21:39,490] Trial 268 finished with value: 0.4765840220385675 and parameters: {'n_estimators': 130, 'max_depth': 41, 'min_samples_split': 0.09290449842852266, 'min_samples_leaf': 0.010190831251512385, 'max_features': 'auto'}. Best is trial 152 with value: 0.49586776859504134.\n",
      "[I 2024-03-14 10:21:39,722] Trial 269 finished with value: 0.41046831955922863 and parameters: {'n_estimators': 113, 'max_depth': 48, 'min_samples_split': 0.14013046425663336, 'min_samples_leaf': 0.258788599763628, 'max_features': 'auto'}. Best is trial 152 with value: 0.49586776859504134.\n",
      "[I 2024-03-14 10:21:40,262] Trial 270 finished with value: 0.465564738292011 and parameters: {'n_estimators': 120, 'max_depth': 40, 'min_samples_split': 0.06211286015377321, 'min_samples_leaf': 0.028851058991423775, 'max_features': 'auto'}. Best is trial 152 with value: 0.49586776859504134.\n",
      "[I 2024-03-14 10:21:40,479] Trial 271 finished with value: 0.33884297520661155 and parameters: {'n_estimators': 152, 'max_depth': 31, 'min_samples_split': 0.02839070977295727, 'min_samples_leaf': 0.6880885172588441, 'max_features': 'auto'}. Best is trial 152 with value: 0.49586776859504134.\n",
      "[I 2024-03-14 10:21:40,913] Trial 272 finished with value: 0.39669421487603307 and parameters: {'n_estimators': 187, 'max_depth': 37, 'min_samples_split': 0.44884906042643014, 'min_samples_leaf': 0.08667295806690133, 'max_features': 'auto'}. Best is trial 152 with value: 0.49586776859504134.\n",
      "[I 2024-03-14 10:21:41,652] Trial 273 finished with value: 0.43526170798898073 and parameters: {'n_estimators': 203, 'max_depth': 43, 'min_samples_split': 0.17229230653682348, 'min_samples_leaf': 0.03919917397521793, 'max_features': 'auto'}. Best is trial 152 with value: 0.49586776859504134.\n",
      "[I 2024-03-14 10:21:42,261] Trial 274 finished with value: 0.41597796143250687 and parameters: {'n_estimators': 179, 'max_depth': 39, 'min_samples_split': 0.1080368749949111, 'min_samples_leaf': 0.06785214763817314, 'max_features': 'auto'}. Best is trial 152 with value: 0.49586776859504134.\n",
      "[I 2024-03-14 10:21:42,802] Trial 275 finished with value: 0.465564738292011 and parameters: {'n_estimators': 110, 'max_depth': 45, 'min_samples_split': 0.047221742991359505, 'min_samples_leaf': 0.027510219787513467, 'max_features': 'auto'}. Best is trial 152 with value: 0.49586776859504134.\n",
      "[I 2024-03-14 10:21:43,651] Trial 276 finished with value: 0.4462809917355372 and parameters: {'n_estimators': 207, 'max_depth': 25, 'min_samples_split': 0.07854930286270398, 'min_samples_leaf': 0.046022728911970096, 'max_features': 'auto'}. Best is trial 152 with value: 0.49586776859504134.\n",
      "[I 2024-03-14 10:21:44,653] Trial 277 finished with value: 0.4765840220385675 and parameters: {'n_estimators': 216, 'max_depth': 34, 'min_samples_split': 0.0267921900780206, 'min_samples_leaf': 0.027930693411656222, 'max_features': 'auto'}. Best is trial 152 with value: 0.49586776859504134.\n",
      "[I 2024-03-14 10:21:45,381] Trial 278 finished with value: 0.4738292011019284 and parameters: {'n_estimators': 126, 'max_depth': 10, 'min_samples_split': 0.05451140221371606, 'min_samples_leaf': 0.010751526034997499, 'max_features': 'auto'}. Best is trial 152 with value: 0.49586776859504134.\n",
      "[I 2024-03-14 10:21:46,003] Trial 279 finished with value: 0.418732782369146 and parameters: {'n_estimators': 174, 'max_depth': 42, 'min_samples_split': 0.010333467371747382, 'min_samples_leaf': 0.05590569841181374, 'max_features': 'auto'}. Best is trial 152 with value: 0.49586776859504134.\n",
      "[I 2024-03-14 10:21:46,259] Trial 280 finished with value: 0.41597796143250687 and parameters: {'n_estimators': 135, 'max_depth': 29, 'min_samples_split': 0.6293425359300552, 'min_samples_leaf': 0.29900256776554557, 'max_features': 'auto'}. Best is trial 152 with value: 0.49586776859504134.\n",
      "[I 2024-03-14 10:21:47,175] Trial 281 finished with value: 0.4490358126721763 and parameters: {'n_estimators': 195, 'max_depth': 40, 'min_samples_split': 0.12782257109299797, 'min_samples_leaf': 0.010397260901089847, 'max_features': 'auto'}. Best is trial 152 with value: 0.49586776859504134.\n",
      "[I 2024-03-14 10:21:47,466] Trial 282 finished with value: 0.39118457300275483 and parameters: {'n_estimators': 141, 'max_depth': 38, 'min_samples_split': 0.4168409272697885, 'min_samples_leaf': 0.21240683391730447, 'max_features': 'auto'}. Best is trial 152 with value: 0.49586776859504134.\n",
      "[I 2024-03-14 10:21:47,938] Trial 283 finished with value: 0.46005509641873277 and parameters: {'n_estimators': 119, 'max_depth': 35, 'min_samples_split': 0.07117263664265934, 'min_samples_leaf': 0.04089229978068124, 'max_features': 'auto'}. Best is trial 152 with value: 0.49586776859504134.\n",
      "[I 2024-03-14 10:21:48,403] Trial 284 finished with value: 0.41597796143250687 and parameters: {'n_estimators': 162, 'max_depth': 41, 'min_samples_split': 0.2688334434570575, 'min_samples_leaf': 0.07623764204780806, 'max_features': 'auto'}. Best is trial 152 with value: 0.49586776859504134.\n",
      "[I 2024-03-14 10:21:49,073] Trial 285 finished with value: 0.4793388429752066 and parameters: {'n_estimators': 115, 'max_depth': 20, 'min_samples_split': 0.03923296271576191, 'min_samples_leaf': 0.01020213603628814, 'max_features': 'auto'}. Best is trial 152 with value: 0.49586776859504134.\n",
      "[I 2024-03-14 10:21:49,525] Trial 286 finished with value: 0.4462809917355372 and parameters: {'n_estimators': 108, 'max_depth': 39, 'min_samples_split': 0.09054129396987001, 'min_samples_leaf': 0.029618192516311787, 'max_features': 'auto'}. Best is trial 152 with value: 0.49586776859504134.\n",
      "[I 2024-03-14 10:21:49,746] Trial 287 finished with value: 0.33884297520661155 and parameters: {'n_estimators': 148, 'max_depth': 36, 'min_samples_split': 0.04504686940586416, 'min_samples_leaf': 0.3551024109230596, 'max_features': 'auto'}. Best is trial 152 with value: 0.49586776859504134.\n",
      "[I 2024-03-14 10:21:50,184] Trial 288 finished with value: 0.4132231404958678 and parameters: {'n_estimators': 127, 'max_depth': 12, 'min_samples_split': 0.20484448704164887, 'min_samples_leaf': 0.05213919339859767, 'max_features': 'auto'}. Best is trial 152 with value: 0.49586776859504134.\n",
      "[I 2024-03-14 10:21:50,551] Trial 289 finished with value: 0.3884297520661157 and parameters: {'n_estimators': 122, 'max_depth': 32, 'min_samples_split': 0.06354277363767687, 'min_samples_leaf': 0.13327973492352022, 'max_features': 'auto'}. Best is trial 152 with value: 0.49586776859504134.\n",
      "[I 2024-03-14 10:21:50,952] Trial 290 finished with value: 0.3856749311294766 and parameters: {'n_estimators': 185, 'max_depth': 42, 'min_samples_split': 0.5267130191649454, 'min_samples_leaf': 0.034253868708398444, 'max_features': 'auto'}. Best is trial 152 with value: 0.49586776859504134.\n",
      "[I 2024-03-14 10:21:51,642] Trial 291 finished with value: 0.4738292011019284 and parameters: {'n_estimators': 113, 'max_depth': 40, 'min_samples_split': 0.026173945357980746, 'min_samples_leaf': 0.01009098889763415, 'max_features': 'auto'}. Best is trial 152 with value: 0.49586776859504134.\n",
      "[I 2024-03-14 10:21:52,082] Trial 292 finished with value: 0.40771349862258954 and parameters: {'n_estimators': 131, 'max_depth': 33, 'min_samples_split': 0.11205363322157869, 'min_samples_leaf': 0.06355873646842966, 'max_features': 'auto'}. Best is trial 152 with value: 0.49586776859504134.\n",
      "[I 2024-03-14 10:21:52,857] Trial 293 finished with value: 0.4628099173553719 and parameters: {'n_estimators': 181, 'max_depth': 38, 'min_samples_split': 0.07769042332000953, 'min_samples_leaf': 0.02858951183404379, 'max_features': 'auto'}. Best is trial 152 with value: 0.49586776859504134.\n",
      "[I 2024-03-14 10:21:53,145] Trial 294 finished with value: 0.33884297520661155 and parameters: {'n_estimators': 198, 'max_depth': 41, 'min_samples_split': 0.044004205344069985, 'min_samples_leaf': 0.7698988774350368, 'max_features': 'auto'}. Best is trial 152 with value: 0.49586776859504134.\n",
      "[I 2024-03-14 10:21:53,876] Trial 295 finished with value: 0.42424242424242425 and parameters: {'n_estimators': 227, 'max_depth': 39, 'min_samples_split': 0.2153757826451032, 'min_samples_leaf': 0.04550099475002673, 'max_features': 'auto'}. Best is trial 152 with value: 0.49586776859504134.\n",
      "[I 2024-03-14 10:21:54,228] Trial 296 finished with value: 0.3939393939393939 and parameters: {'n_estimators': 168, 'max_depth': 41, 'min_samples_split': 0.026892969262999708, 'min_samples_leaf': 0.24354578336499444, 'max_features': 'auto'}. Best is trial 152 with value: 0.49586776859504134.\n",
      "[I 2024-03-14 10:21:54,492] Trial 297 finished with value: 0.33884297520661155 and parameters: {'n_estimators': 192, 'max_depth': 37, 'min_samples_split': 0.05817719346413568, 'min_samples_leaf': 0.3939741747368743, 'max_features': 'auto'}. Best is trial 152 with value: 0.49586776859504134.\n",
      "[I 2024-03-14 10:21:55,122] Trial 298 finished with value: 0.4380165289256198 and parameters: {'n_estimators': 152, 'max_depth': 7, 'min_samples_split': 0.0960836349050985, 'min_samples_leaf': 0.02715099888601308, 'max_features': 'auto'}. Best is trial 152 with value: 0.49586776859504134.\n",
      "[I 2024-03-14 10:21:55,304] Trial 299 finished with value: 0.33884297520661155 and parameters: {'n_estimators': 117, 'max_depth': 35, 'min_samples_split': 0.010345760230011252, 'min_samples_leaf': 0.5885209970239145, 'max_features': 'auto'}. Best is trial 152 with value: 0.49586776859504134.\n",
      "[I 2024-03-14 10:21:55,681] Trial 300 finished with value: 0.4132231404958678 and parameters: {'n_estimators': 137, 'max_depth': 40, 'min_samples_split': 0.06347336728629187, 'min_samples_leaf': 0.10671808281025724, 'max_features': 'auto'}. Best is trial 152 with value: 0.49586776859504134.\n",
      "[I 2024-03-14 10:21:56,072] Trial 301 finished with value: 0.41046831955922863 and parameters: {'n_estimators': 122, 'max_depth': 43, 'min_samples_split': 0.15045474055928837, 'min_samples_leaf': 0.07501539082128865, 'max_features': 'auto'}. Best is trial 152 with value: 0.49586776859504134.\n",
      "[I 2024-03-14 10:21:56,448] Trial 302 finished with value: 0.33884297520661155 and parameters: {'n_estimators': 276, 'max_depth': 27, 'min_samples_split': 0.03928185099148972, 'min_samples_leaf': 0.45340859387662463, 'max_features': 'auto'}. Best is trial 152 with value: 0.49586776859504134.\n",
      "[I 2024-03-14 10:21:56,624] Trial 303 finished with value: 0.33884297520661155 and parameters: {'n_estimators': 105, 'max_depth': 9, 'min_samples_split': 0.08198355793599457, 'min_samples_leaf': 0.32518584356855595, 'max_features': 'auto'}. Best is trial 152 with value: 0.49586776859504134.\n",
      "[I 2024-03-14 10:21:57,182] Trial 304 finished with value: 0.46831955922865015 and parameters: {'n_estimators': 124, 'max_depth': 39, 'min_samples_split': 0.029664461032845573, 'min_samples_leaf': 0.027285239728986853, 'max_features': 'auto'}. Best is trial 152 with value: 0.49586776859504134.\n",
      "[I 2024-03-14 10:21:57,534] Trial 305 finished with value: 0.3884297520661157 and parameters: {'n_estimators': 157, 'max_depth': 34, 'min_samples_split': 0.05411211662068173, 'min_samples_leaf': 0.23294465852922241, 'max_features': 'auto'}. Best is trial 152 with value: 0.49586776859504134.\n",
      "[I 2024-03-14 10:21:58,151] Trial 306 finished with value: 0.4022038567493113 and parameters: {'n_estimators': 211, 'max_depth': 38, 'min_samples_split': 0.3619875917290347, 'min_samples_leaf': 0.010670067641904632, 'max_features': 'auto'}. Best is trial 152 with value: 0.49586776859504134.\n",
      "[I 2024-03-14 10:21:58,809] Trial 307 finished with value: 0.44077134986225897 and parameters: {'n_estimators': 174, 'max_depth': 42, 'min_samples_split': 0.07222144472775173, 'min_samples_leaf': 0.04968714393482167, 'max_features': 'auto'}. Best is trial 152 with value: 0.49586776859504134.\n",
      "[I 2024-03-14 10:21:59,239] Trial 308 finished with value: 0.418732782369146 and parameters: {'n_estimators': 142, 'max_depth': 40, 'min_samples_split': 0.32118281122399267, 'min_samples_leaf': 0.04684894956054968, 'max_features': 'auto'}. Best is trial 152 with value: 0.49586776859504134.\n",
      "[I 2024-03-14 10:21:59,453] Trial 309 finished with value: 0.33884297520661155 and parameters: {'n_estimators': 110, 'max_depth': 30, 'min_samples_split': 0.9897946798903285, 'min_samples_leaf': 0.08734383032230914, 'max_features': 'auto'}. Best is trial 152 with value: 0.49586776859504134.\n",
      "[I 2024-03-14 10:22:00,094] Trial 310 finished with value: 0.465564738292011 and parameters: {'n_estimators': 128, 'max_depth': 41, 'min_samples_split': 0.043676319965213616, 'min_samples_leaf': 0.02755902616133432, 'max_features': 'auto'}. Best is trial 152 with value: 0.49586776859504134.\n",
      "[I 2024-03-14 10:22:00,289] Trial 311 finished with value: 0.33884297520661155 and parameters: {'n_estimators': 118, 'max_depth': 36, 'min_samples_split': 0.8058777360164111, 'min_samples_leaf': 0.06178267835043377, 'max_features': 'auto'}. Best is trial 152 with value: 0.49586776859504134.\n",
      "[I 2024-03-14 10:22:01,433] Trial 312 finished with value: 0.4820936639118457 and parameters: {'n_estimators': 189, 'max_depth': 37, 'min_samples_split': 0.010948319523787137, 'min_samples_leaf': 0.011130850270967997, 'max_features': 'auto'}. Best is trial 152 with value: 0.49586776859504134.\n",
      "[I 2024-03-14 10:22:02,281] Trial 313 finished with value: 0.4738292011019284 and parameters: {'n_estimators': 186, 'max_depth': 37, 'min_samples_split': 0.022791955301592365, 'min_samples_leaf': 0.029202202595822624, 'max_features': 'auto'}. Best is trial 152 with value: 0.49586776859504134.\n",
      "[I 2024-03-14 10:22:02,650] Trial 314 finished with value: 0.418732782369146 and parameters: {'n_estimators': 191, 'max_depth': 36, 'min_samples_split': 0.36775918793596807, 'min_samples_leaf': 0.2755019045714923, 'max_features': 'auto'}. Best is trial 152 with value: 0.49586776859504134.\n",
      "[I 2024-03-14 10:22:03,791] Trial 315 finished with value: 0.4765840220385675 and parameters: {'n_estimators': 189, 'max_depth': 35, 'min_samples_split': 0.012274028657760123, 'min_samples_leaf': 0.010249556109468039, 'max_features': 'auto'}. Best is trial 152 with value: 0.49586776859504134.\n",
      "[I 2024-03-14 10:22:04,535] Trial 316 finished with value: 0.4490358126721763 and parameters: {'n_estimators': 196, 'max_depth': 37, 'min_samples_split': 0.030283116814924477, 'min_samples_leaf': 0.04443185703471234, 'max_features': 'auto'}. Best is trial 152 with value: 0.49586776859504134.\n",
      "[I 2024-03-14 10:22:04,789] Trial 317 finished with value: 0.33884297520661155 and parameters: {'n_estimators': 182, 'max_depth': 38, 'min_samples_split': 0.926873121028484, 'min_samples_leaf': 0.010045572502145772, 'max_features': 'auto'}. Best is trial 152 with value: 0.49586776859504134.\n",
      "[I 2024-03-14 10:22:05,473] Trial 318 finished with value: 0.40771349862258954 and parameters: {'n_estimators': 206, 'max_depth': 38, 'min_samples_split': 0.011086026298038728, 'min_samples_leaf': 0.06293187846842095, 'max_features': 'auto'}. Best is trial 152 with value: 0.49586776859504134.\n",
      "[I 2024-03-14 10:22:05,808] Trial 319 finished with value: 0.41046831955922863 and parameters: {'n_estimators': 179, 'max_depth': 16, 'min_samples_split': 0.41940647260954533, 'min_samples_leaf': 0.2586574546740735, 'max_features': 'auto'}. Best is trial 152 with value: 0.49586776859504134.\n",
      "[I 2024-03-14 10:22:06,018] Trial 320 finished with value: 0.33884297520661155 and parameters: {'n_estimators': 149, 'max_depth': 39, 'min_samples_split': 0.6889745332499717, 'min_samples_leaf': 0.11732851231955721, 'max_features': 'auto'}. Best is trial 152 with value: 0.49586776859504134.\n",
      "[I 2024-03-14 10:22:06,565] Trial 321 finished with value: 0.42699724517906334 and parameters: {'n_estimators': 188, 'max_depth': 36, 'min_samples_split': 0.29174685997245764, 'min_samples_leaf': 0.039100799192553465, 'max_features': 'auto'}. Best is trial 152 with value: 0.49586776859504134.\n",
      "[I 2024-03-14 10:22:07,193] Trial 322 finished with value: 0.46005509641873277 and parameters: {'n_estimators': 164, 'max_depth': 34, 'min_samples_split': 0.12405060756884656, 'min_samples_leaf': 0.030405824487968282, 'max_features': 'auto'}. Best is trial 152 with value: 0.49586776859504134.\n",
      "[I 2024-03-14 10:22:07,347] Trial 323 finished with value: 0.33884297520661155 and parameters: {'n_estimators': 104, 'max_depth': 10, 'min_samples_split': 0.7425985319161983, 'min_samples_leaf': 0.07723650840670604, 'max_features': 'auto'}. Best is trial 152 with value: 0.49586776859504134.\n",
      "[I 2024-03-14 10:22:07,720] Trial 324 finished with value: 0.41046831955922863 and parameters: {'n_estimators': 171, 'max_depth': 33, 'min_samples_split': 0.09956061696170421, 'min_samples_leaf': 0.1982082294970322, 'max_features': 'auto'}. Best is trial 152 with value: 0.49586776859504134.\n",
      "[I 2024-03-14 10:22:08,148] Trial 325 finished with value: 0.39118457300275483 and parameters: {'n_estimators': 176, 'max_depth': 24, 'min_samples_split': 0.27207431049635766, 'min_samples_leaf': 0.14048594123392802, 'max_features': 'auto'}. Best is trial 152 with value: 0.49586776859504134.\n",
      "[I 2024-03-14 10:22:08,820] Trial 326 finished with value: 0.45179063360881544 and parameters: {'n_estimators': 146, 'max_depth': 11, 'min_samples_split': 0.04319367146964762, 'min_samples_leaf': 0.02880463681876628, 'max_features': 'auto'}. Best is trial 152 with value: 0.49586776859504134.\n",
      "[I 2024-03-14 10:22:09,300] Trial 327 finished with value: 0.44077134986225897 and parameters: {'n_estimators': 132, 'max_depth': 37, 'min_samples_split': 0.06679740660423204, 'min_samples_leaf': 0.048522396791904135, 'max_features': 'auto'}. Best is trial 152 with value: 0.49586776859504134.\n",
      "[I 2024-03-14 10:22:09,808] Trial 328 finished with value: 0.4820936639118457 and parameters: {'n_estimators': 112, 'max_depth': 39, 'min_samples_split': 0.030870389439879815, 'min_samples_leaf': 0.026384551436271234, 'max_features': 'auto'}. Best is trial 152 with value: 0.49586776859504134.\n",
      "[I 2024-03-14 10:22:10,428] Trial 329 finished with value: 0.48760330578512395 and parameters: {'n_estimators': 108, 'max_depth': 39, 'min_samples_split': 0.026374800244594095, 'min_samples_leaf': 0.011047908167143232, 'max_features': 'auto'}. Best is trial 152 with value: 0.49586776859504134.\n",
      "[I 2024-03-14 10:22:11,531] Trial 330 finished with value: 0.4738292011019284 and parameters: {'n_estimators': 193, 'max_depth': 38, 'min_samples_split': 0.010736755770230949, 'min_samples_leaf': 0.010670030483281433, 'max_features': 'auto'}. Best is trial 152 with value: 0.49586776859504134.\n",
      "[I 2024-03-14 10:22:12,121] Trial 331 finished with value: 0.4820936639118457 and parameters: {'n_estimators': 103, 'max_depth': 38, 'min_samples_split': 0.030568419358293804, 'min_samples_leaf': 0.010486085922676715, 'max_features': 'auto'}. Best is trial 152 with value: 0.49586776859504134.\n",
      "[I 2024-03-14 10:22:12,281] Trial 332 finished with value: 0.33884297520661155 and parameters: {'n_estimators': 102, 'max_depth': 38, 'min_samples_split': 0.02877232787326285, 'min_samples_leaf': 0.3788713554613578, 'max_features': 'auto'}. Best is trial 152 with value: 0.49586776859504134.\n",
      "[I 2024-03-14 10:22:12,650] Trial 333 finished with value: 0.41597796143250687 and parameters: {'n_estimators': 103, 'max_depth': 8, 'min_samples_split': 0.029984489167350633, 'min_samples_leaf': 0.05965650658393922, 'max_features': 'auto'}. Best is trial 152 with value: 0.49586776859504134.\n",
      "[I 2024-03-14 10:22:12,970] Trial 334 finished with value: 0.4022038567493113 and parameters: {'n_estimators': 107, 'max_depth': 37, 'min_samples_split': 0.32951712986070675, 'min_samples_leaf': 0.04211855439517213, 'max_features': 'auto'}. Best is trial 152 with value: 0.49586776859504134.\n",
      "[I 2024-03-14 10:22:13,410] Trial 335 finished with value: 0.4462809917355372 and parameters: {'n_estimators': 100, 'max_depth': 35, 'min_samples_split': 0.16932690152926227, 'min_samples_leaf': 0.02713644270272263, 'max_features': 'auto'}. Best is trial 152 with value: 0.49586776859504134.\n",
      "[I 2024-03-14 10:22:14,691] Trial 336 finished with value: 0.4765840220385675 and parameters: {'n_estimators': 202, 'max_depth': 39, 'min_samples_split': 0.04145823728381055, 'min_samples_leaf': 0.010681383130867587, 'max_features': 'auto'}. Best is trial 152 with value: 0.49586776859504134.\n",
      "[I 2024-03-14 10:22:15,091] Trial 337 finished with value: 0.33884297520661155 and parameters: {'n_estimators': 238, 'max_depth': 28, 'min_samples_split': 0.011429532067961427, 'min_samples_leaf': 0.4875215732805518, 'max_features': 'auto'}. Best is trial 152 with value: 0.49586776859504134.\n",
      "[I 2024-03-14 10:22:15,509] Trial 338 finished with value: 0.3939393939393939 and parameters: {'n_estimators': 156, 'max_depth': 37, 'min_samples_split': 0.0405791015462984, 'min_samples_leaf': 0.162328073305831, 'max_features': 'auto'}. Best is trial 152 with value: 0.49586776859504134.\n",
      "[I 2024-03-14 10:22:15,900] Trial 339 finished with value: 0.4132231404958678 and parameters: {'n_estimators': 107, 'max_depth': 36, 'min_samples_split': 0.010481678616700171, 'min_samples_leaf': 0.08848149131253417, 'max_features': 'auto'}. Best is trial 152 with value: 0.49586776859504134.\n",
      "[I 2024-03-14 10:22:16,614] Trial 340 finished with value: 0.4462809917355372 and parameters: {'n_estimators': 185, 'max_depth': 38, 'min_samples_split': 0.028833867877957393, 'min_samples_leaf': 0.0466904021477026, 'max_features': 'auto'}. Best is trial 152 with value: 0.49586776859504134.\n",
      "[I 2024-03-14 10:22:17,887] Trial 341 finished with value: 0.4765840220385675 and parameters: {'n_estimators': 220, 'max_depth': 26, 'min_samples_split': 0.05200681434169885, 'min_samples_leaf': 0.010342220417740267, 'max_features': 'auto'}. Best is trial 152 with value: 0.49586776859504134.\n",
      "[I 2024-03-14 10:22:18,661] Trial 342 finished with value: 0.47107438016528924 and parameters: {'n_estimators': 179, 'max_depth': 39, 'min_samples_split': 0.030346402635030367, 'min_samples_leaf': 0.029750076011454643, 'max_features': 'auto'}. Best is trial 152 with value: 0.49586776859504134.\n",
      "[I 2024-03-14 10:22:19,289] Trial 343 finished with value: 0.41597796143250687 and parameters: {'n_estimators': 183, 'max_depth': 36, 'min_samples_split': 0.05092878116762876, 'min_samples_leaf': 0.06642687254734514, 'max_features': 'auto'}. Best is trial 152 with value: 0.49586776859504134.\n",
      "[I 2024-03-14 10:22:19,806] Trial 344 finished with value: 0.4380165289256198 and parameters: {'n_estimators': 136, 'max_depth': 40, 'min_samples_split': 0.029656158125032223, 'min_samples_leaf': 0.04325371130726687, 'max_features': 'auto'}. Best is trial 152 with value: 0.49586776859504134.\n",
      "[I 2024-03-14 10:22:20,524] Trial 345 finished with value: 0.465564738292011 and parameters: {'n_estimators': 161, 'max_depth': 31, 'min_samples_split': 0.05060564678704432, 'min_samples_leaf': 0.02742505643360167, 'max_features': 'auto'}. Best is trial 152 with value: 0.49586776859504134.\n",
      "[I 2024-03-14 10:22:21,013] Trial 346 finished with value: 0.3939393939393939 and parameters: {'n_estimators': 199, 'max_depth': 39, 'min_samples_split': 0.3971706486057306, 'min_samples_leaf': 0.057073081553697044, 'max_features': 'auto'}. Best is trial 152 with value: 0.49586776859504134.\n",
      "[I 2024-03-14 10:22:21,325] Trial 347 finished with value: 0.3856749311294766 and parameters: {'n_estimators': 140, 'max_depth': 37, 'min_samples_split': 0.6030235188158608, 'min_samples_leaf': 0.010757329011723422, 'max_features': 'auto'}. Best is trial 152 with value: 0.49586776859504134.\n",
      "[I 2024-03-14 10:22:21,590] Trial 348 finished with value: 0.4214876033057851 and parameters: {'n_estimators': 153, 'max_depth': 11, 'min_samples_split': 0.22072942628300907, 'min_samples_leaf': 0.3142419975685484, 'max_features': 'auto'}. Best is trial 152 with value: 0.49586776859504134.\n",
      "[I 2024-03-14 10:22:21,759] Trial 349 finished with value: 0.33884297520661155 and parameters: {'n_estimators': 109, 'max_depth': 39, 'min_samples_split': 0.45066000781220333, 'min_samples_leaf': 0.6246420285520875, 'max_features': 'auto'}. Best is trial 152 with value: 0.49586776859504134.\n",
      "[I 2024-03-14 10:22:22,008] Trial 350 finished with value: 0.4132231404958678 and parameters: {'n_estimators': 104, 'max_depth': 29, 'min_samples_split': 0.0870220340069958, 'min_samples_leaf': 0.17881493574643118, 'max_features': 'auto'}. Best is trial 152 with value: 0.49586776859504134.\n",
      "[I 2024-03-14 10:22:22,276] Trial 351 finished with value: 0.3884297520661157 and parameters: {'n_estimators': 131, 'max_depth': 22, 'min_samples_split': 0.0628645244689425, 'min_samples_leaf': 0.22278630855657006, 'max_features': 'auto'}. Best is trial 152 with value: 0.49586776859504134.\n",
      "[I 2024-03-14 10:22:23,004] Trial 352 finished with value: 0.465564738292011 and parameters: {'n_estimators': 168, 'max_depth': 34, 'min_samples_split': 0.026401484424827995, 'min_samples_leaf': 0.029250122015182047, 'max_features': 'auto'}. Best is trial 152 with value: 0.49586776859504134.\n",
      "[I 2024-03-14 10:22:23,653] Trial 353 finished with value: 0.4490358126721763 and parameters: {'n_estimators': 173, 'max_depth': 38, 'min_samples_split': 0.04613806060928121, 'min_samples_leaf': 0.04406118263839892, 'max_features': 'auto'}. Best is trial 152 with value: 0.49586776859504134.\n",
      "[I 2024-03-14 10:22:23,866] Trial 354 finished with value: 0.33884297520661155 and parameters: {'n_estimators': 144, 'max_depth': 50, 'min_samples_split': 0.762861304059758, 'min_samples_leaf': 0.41007491900056303, 'max_features': 'auto'}. Best is trial 152 with value: 0.49586776859504134.\n",
      "[I 2024-03-14 10:22:24,151] Trial 355 finished with value: 0.33884297520661155 and parameters: {'n_estimators': 189, 'max_depth': 35, 'min_samples_split': 0.02666286084981978, 'min_samples_leaf': 0.5651131115335813, 'max_features': 'auto'}. Best is trial 152 with value: 0.49586776859504134.\n",
      "[I 2024-03-14 10:22:24,708] Trial 356 finished with value: 0.418732782369146 and parameters: {'n_estimators': 194, 'max_depth': 19, 'min_samples_split': 0.010296131645609313, 'min_samples_leaf': 0.10886544352790664, 'max_features': 'auto'}. Best is trial 152 with value: 0.49586776859504134.\n",
      "[I 2024-03-14 10:22:25,064] Trial 357 finished with value: 0.33884297520661155 and parameters: {'n_estimators': 209, 'max_depth': 32, 'min_samples_split': 0.07792399643930246, 'min_samples_leaf': 0.5400993450549917, 'max_features': 'auto'}. Best is trial 152 with value: 0.49586776859504134.\n",
      "[I 2024-03-14 10:22:25,259] Trial 358 finished with value: 0.33884297520661155 and parameters: {'n_estimators': 127, 'max_depth': 40, 'min_samples_split': 0.5359956442977561, 'min_samples_leaf': 0.6746630161914101, 'max_features': 'auto'}. Best is trial 152 with value: 0.49586776859504134.\n",
      "[I 2024-03-14 10:22:25,485] Trial 359 finished with value: 0.33884297520661155 and parameters: {'n_estimators': 149, 'max_depth': 40, 'min_samples_split': 0.057867360536229456, 'min_samples_leaf': 0.46291906664419435, 'max_features': 'auto'}. Best is trial 152 with value: 0.49586776859504134.\n",
      "[I 2024-03-14 10:22:25,833] Trial 360 finished with value: 0.41046831955922863 and parameters: {'n_estimators': 112, 'max_depth': 37, 'min_samples_split': 0.19672011970387973, 'min_samples_leaf': 0.08143996890850065, 'max_features': 'auto'}. Best is trial 152 with value: 0.49586776859504134.\n",
      "[I 2024-03-14 10:22:26,045] Trial 361 finished with value: 0.33884297520661155 and parameters: {'n_estimators': 135, 'max_depth': 39, 'min_samples_split': 0.04175728231863589, 'min_samples_leaf': 0.43269171606661433, 'max_features': 'auto'}. Best is trial 152 with value: 0.49586776859504134.\n",
      "[I 2024-03-14 10:22:26,397] Trial 362 finished with value: 0.33884297520661155 and parameters: {'n_estimators': 177, 'max_depth': 38, 'min_samples_split': 0.14194365552598043, 'min_samples_leaf': 0.7227125664222903, 'max_features': 'auto'}. Best is trial 152 with value: 0.49586776859504134.\n",
      "[I 2024-03-14 10:22:26,654] Trial 363 finished with value: 0.4132231404958678 and parameters: {'n_estimators': 107, 'max_depth': 36, 'min_samples_split': 0.06532494924462959, 'min_samples_leaf': 0.26681388254063443, 'max_features': 'auto'}. Best is trial 152 with value: 0.49586776859504134.\n",
      "[I 2024-03-14 10:22:27,106] Trial 364 finished with value: 0.39118457300275483 and parameters: {'n_estimators': 184, 'max_depth': 41, 'min_samples_split': 0.43864769727078845, 'min_samples_leaf': 0.026724997082908, 'max_features': 'auto'}. Best is trial 152 with value: 0.49586776859504134.\n",
      "[I 2024-03-14 10:22:27,758] Trial 365 finished with value: 0.4049586776859504 and parameters: {'n_estimators': 216, 'max_depth': 9, 'min_samples_split': 0.33412528053200785, 'min_samples_leaf': 0.01101078960451601, 'max_features': 'auto'}. Best is trial 152 with value: 0.49586776859504134.\n",
      "[I 2024-03-14 10:22:28,117] Trial 366 finished with value: 0.40771349862258954 and parameters: {'n_estimators': 100, 'max_depth': 35, 'min_samples_split': 0.010474859888650725, 'min_samples_leaf': 0.05894616095707976, 'max_features': 'auto'}. Best is trial 152 with value: 0.49586776859504134.\n",
      "[I 2024-03-14 10:22:28,421] Trial 367 finished with value: 0.33884297520661155 and parameters: {'n_estimators': 203, 'max_depth': 38, 'min_samples_split': 0.09745316549040339, 'min_samples_leaf': 0.5226798538811086, 'max_features': 'auto'}. Best is trial 152 with value: 0.49586776859504134.\n",
      "[I 2024-03-14 10:22:28,724] Trial 368 finished with value: 0.3856749311294766 and parameters: {'n_estimators': 124, 'max_depth': 33, 'min_samples_split': 0.4642653754680648, 'min_samples_leaf': 0.04045295391530533, 'max_features': 'auto'}. Best is trial 152 with value: 0.49586776859504134.\n",
      "[I 2024-03-14 10:22:29,002] Trial 369 finished with value: 0.33884297520661155 and parameters: {'n_estimators': 197, 'max_depth': 30, 'min_samples_split': 0.27794674569623723, 'min_samples_leaf': 0.8559403213734348, 'max_features': 'auto'}. Best is trial 152 with value: 0.49586776859504134.\n",
      "[I 2024-03-14 10:22:29,960] Trial 370 finished with value: 0.4903581267217631 and parameters: {'n_estimators': 158, 'max_depth': 40, 'min_samples_split': 0.039807415229780346, 'min_samples_leaf': 0.010307450308002855, 'max_features': 'auto'}. Best is trial 152 with value: 0.49586776859504134.\n",
      "[I 2024-03-14 10:22:30,736] Trial 371 finished with value: 0.465564738292011 and parameters: {'n_estimators': 160, 'max_depth': 40, 'min_samples_split': 0.03649372509209308, 'min_samples_leaf': 0.028092659269129253, 'max_features': 'auto'}. Best is trial 152 with value: 0.49586776859504134.\n",
      "[I 2024-03-14 10:22:31,300] Trial 372 finished with value: 0.418732782369146 and parameters: {'n_estimators': 153, 'max_depth': 39, 'min_samples_split': 0.028467172976814586, 'min_samples_leaf': 0.068813821616342, 'max_features': 'auto'}. Best is trial 152 with value: 0.49586776859504134.\n",
      "[I 2024-03-14 10:22:31,590] Trial 373 finished with value: 0.33884297520661155 and parameters: {'n_estimators': 157, 'max_depth': 13, 'min_samples_split': 0.05232845070052686, 'min_samples_leaf': 0.37395306617420354, 'max_features': 'auto'}. Best is trial 152 with value: 0.49586776859504134.\n",
      "[I 2024-03-14 10:22:32,395] Trial 374 finished with value: 0.465564738292011 and parameters: {'n_estimators': 163, 'max_depth': 41, 'min_samples_split': 0.010909367895868924, 'min_samples_leaf': 0.02858739767107927, 'max_features': 'auto'}. Best is trial 152 with value: 0.49586776859504134.\n",
      "[I 2024-03-14 10:22:32,639] Trial 375 finished with value: 0.40771349862258954 and parameters: {'n_estimators': 155, 'max_depth': 40, 'min_samples_split': 0.2519143886653056, 'min_samples_leaf': 0.3238387491182722, 'max_features': 'auto'}. Best is trial 152 with value: 0.49586776859504134.\n",
      "[I 2024-03-14 10:22:33,115] Trial 376 finished with value: 0.43526170798898073 and parameters: {'n_estimators': 146, 'max_depth': 39, 'min_samples_split': 0.253023544273442, 'min_samples_leaf': 0.043615788741985705, 'max_features': 'auto'}. Best is trial 152 with value: 0.49586776859504134.\n",
      "[I 2024-03-14 10:22:33,459] Trial 377 finished with value: 0.3856749311294766 and parameters: {'n_estimators': 150, 'max_depth': 42, 'min_samples_split': 0.4829971364199369, 'min_samples_leaf': 0.15912977590639832, 'max_features': 'auto'}. Best is trial 152 with value: 0.49586776859504134.\n",
      "[I 2024-03-14 10:22:33,785] Trial 378 finished with value: 0.41597796143250687 and parameters: {'n_estimators': 156, 'max_depth': 37, 'min_samples_split': 0.04065554334946783, 'min_samples_leaf': 0.2845462639817126, 'max_features': 'auto'}. Best is trial 152 with value: 0.49586776859504134.\n",
      "[I 2024-03-14 10:22:34,346] Trial 379 finished with value: 0.4462809917355372 and parameters: {'n_estimators': 105, 'max_depth': 40, 'min_samples_split': 0.07961581579017235, 'min_samples_leaf': 0.011361243574769033, 'max_features': 'auto'}. Best is trial 152 with value: 0.49586776859504134.\n",
      "[I 2024-03-14 10:22:34,784] Trial 380 finished with value: 0.42424242424242425 and parameters: {'n_estimators': 129, 'max_depth': 39, 'min_samples_split': 0.16550962219030846, 'min_samples_leaf': 0.05557832169519111, 'max_features': 'auto'}. Best is trial 152 with value: 0.49586776859504134.\n",
      "[I 2024-03-14 10:22:35,719] Trial 381 finished with value: 0.41046831955922863 and parameters: {'n_estimators': 299, 'max_depth': 38, 'min_samples_split': 0.30788091596408207, 'min_samples_leaf': 0.02397801706213773, 'max_features': 'auto'}. Best is trial 152 with value: 0.49586776859504134.\n",
      "[I 2024-03-14 10:22:35,975] Trial 382 finished with value: 0.39118457300275483 and parameters: {'n_estimators': 114, 'max_depth': 41, 'min_samples_split': 0.0564023425518412, 'min_samples_leaf': 0.2399149001386337, 'max_features': 'auto'}. Best is trial 152 with value: 0.49586776859504134.\n",
      "[I 2024-03-14 10:22:36,462] Trial 383 finished with value: 0.41597796143250687 and parameters: {'n_estimators': 160, 'max_depth': 36, 'min_samples_split': 0.02761927127687616, 'min_samples_leaf': 0.08331543188912803, 'max_features': 'auto'}. Best is trial 152 with value: 0.49586776859504134.\n",
      "[I 2024-03-14 10:22:36,948] Trial 384 finished with value: 0.41046831955922863 and parameters: {'n_estimators': 167, 'max_depth': 38, 'min_samples_split': 0.35439850994770417, 'min_samples_leaf': 0.010372284556964885, 'max_features': 'auto'}. Best is trial 152 with value: 0.49586776859504134.\n",
      "[I 2024-03-14 10:22:37,366] Trial 385 finished with value: 0.44077134986225897 and parameters: {'n_estimators': 109, 'max_depth': 43, 'min_samples_split': 0.04245563353600741, 'min_samples_leaf': 0.045334111895438796, 'max_features': 'auto'}. Best is trial 152 with value: 0.49586776859504134.\n",
      "[I 2024-03-14 10:22:37,883] Trial 386 finished with value: 0.45454545454545453 and parameters: {'n_estimators': 125, 'max_depth': 40, 'min_samples_split': 0.1142788275773943, 'min_samples_leaf': 0.03391112774684607, 'max_features': 'auto'}. Best is trial 152 with value: 0.49586776859504134.\n",
      "[I 2024-03-14 10:22:38,097] Trial 387 finished with value: 0.33884297520661155 and parameters: {'n_estimators': 140, 'max_depth': 39, 'min_samples_split': 0.06839266584382464, 'min_samples_leaf': 0.46873489746996194, 'max_features': 'auto'}. Best is trial 152 with value: 0.49586776859504134.\n",
      "[I 2024-03-14 10:22:39,390] Trial 388 finished with value: 0.4738292011019284 and parameters: {'n_estimators': 224, 'max_depth': 34, 'min_samples_split': 0.025746774322321742, 'min_samples_leaf': 0.010654889475298312, 'max_features': 'auto'}. Best is trial 152 with value: 0.49586776859504134.\n",
      "[I 2024-03-14 10:22:39,628] Trial 389 finished with value: 0.33884297520661155 and parameters: {'n_estimators': 151, 'max_depth': 37, 'min_samples_split': 0.3661669594767174, 'min_samples_leaf': 0.3286378969139601, 'max_features': 'auto'}. Best is trial 152 with value: 0.49586776859504134.\n",
      "[I 2024-03-14 10:22:40,187] Trial 390 finished with value: 0.418732782369146 and parameters: {'n_estimators': 192, 'max_depth': 41, 'min_samples_split': 0.08455567560391039, 'min_samples_leaf': 0.10503401563322062, 'max_features': 'auto'}. Best is trial 152 with value: 0.49586776859504134.\n",
      "[I 2024-03-14 10:22:40,445] Trial 391 finished with value: 0.3939393939393939 and parameters: {'n_estimators': 119, 'max_depth': 10, 'min_samples_split': 0.5032454566623331, 'min_samples_leaf': 0.20740430751597055, 'max_features': 'auto'}. Best is trial 152 with value: 0.49586776859504134.\n",
      "[I 2024-03-14 10:22:40,847] Trial 392 finished with value: 0.33884297520661155 and parameters: {'n_estimators': 189, 'max_depth': 42, 'min_samples_split': 0.4282632143885393, 'min_samples_leaf': 0.6351240023154398, 'max_features': 'auto'}. Best is trial 152 with value: 0.49586776859504134.\n",
      "[I 2024-03-14 10:22:41,383] Trial 393 finished with value: 0.418732782369146 and parameters: {'n_estimators': 133, 'max_depth': 45, 'min_samples_split': 0.23743821101631785, 'min_samples_leaf': 0.06611356900886264, 'max_features': 'auto'}. Best is trial 152 with value: 0.49586776859504134.\n",
      "[I 2024-03-14 10:22:41,727] Trial 394 finished with value: 0.3939393939393939 and parameters: {'n_estimators': 104, 'max_depth': 35, 'min_samples_split': 0.38812237676884864, 'min_samples_leaf': 0.12511756133786767, 'max_features': 'auto'}. Best is trial 152 with value: 0.49586776859504134.\n",
      "[I 2024-03-14 10:22:42,721] Trial 395 finished with value: 0.4765840220385675 and parameters: {'n_estimators': 199, 'max_depth': 12, 'min_samples_split': 0.05066739801144268, 'min_samples_leaf': 0.028409956255049093, 'max_features': 'auto'}. Best is trial 152 with value: 0.49586776859504134.\n",
      "[I 2024-03-14 10:22:43,588] Trial 396 finished with value: 0.45454545454545453 and parameters: {'n_estimators': 207, 'max_depth': 38, 'min_samples_split': 0.02713124829147774, 'min_samples_leaf': 0.043664440885236244, 'max_features': 'auto'}. Best is trial 152 with value: 0.49586776859504134.\n",
      "[I 2024-03-14 10:22:44,247] Trial 397 finished with value: 0.46005509641873277 and parameters: {'n_estimators': 110, 'max_depth': 36, 'min_samples_split': 0.01032611648614027, 'min_samples_leaf': 0.0297326116867822, 'max_features': 'auto'}. Best is trial 152 with value: 0.49586776859504134.\n",
      "[I 2024-03-14 10:22:44,514] Trial 398 finished with value: 0.33884297520661155 and parameters: {'n_estimators': 116, 'max_depth': 40, 'min_samples_split': 0.05964191505513617, 'min_samples_leaf': 0.42140782504462954, 'max_features': 'auto'}. Best is trial 152 with value: 0.49586776859504134.\n",
      "[I 2024-03-14 10:22:44,856] Trial 399 finished with value: 0.33884297520661155 and parameters: {'n_estimators': 212, 'max_depth': 8, 'min_samples_split': 0.041598689600842315, 'min_samples_leaf': 0.5138747891712455, 'max_features': 'auto'}. Best is trial 152 with value: 0.49586776859504134.\n",
      "[I 2024-03-14 10:22:45,643] Trial 400 finished with value: 0.46831955922865015 and parameters: {'n_estimators': 147, 'max_depth': 39, 'min_samples_split': 0.100187237998207, 'min_samples_leaf': 0.01042474185105219, 'max_features': 'auto'}. Best is trial 152 with value: 0.49586776859504134.\n",
      "[I 2024-03-14 10:22:46,330] Trial 401 finished with value: 0.4297520661157025 and parameters: {'n_estimators': 160, 'max_depth': 32, 'min_samples_split': 0.07763650384250825, 'min_samples_leaf': 0.05490999473329444, 'max_features': 'auto'}. Best is trial 152 with value: 0.49586776859504134.\n",
      "[I 2024-03-14 10:22:46,574] Trial 402 finished with value: 0.33884297520661155 and parameters: {'n_estimators': 129, 'max_depth': 41, 'min_samples_split': 0.028031128390072775, 'min_samples_leaf': 0.37578600727643563, 'max_features': 'auto'}. Best is trial 152 with value: 0.49586776859504134.\n",
      "[I 2024-03-14 10:22:46,851] Trial 403 finished with value: 0.33884297520661155 and parameters: {'n_estimators': 155, 'max_depth': 43, 'min_samples_split': 0.058583896288894675, 'min_samples_leaf': 0.5055591972416302, 'max_features': 'auto'}. Best is trial 152 with value: 0.49586776859504134.\n",
      "[I 2024-03-14 10:22:47,227] Trial 404 finished with value: 0.41597796143250687 and parameters: {'n_estimators': 100, 'max_depth': 37, 'min_samples_split': 0.3207771325507217, 'min_samples_leaf': 0.010318481011184093, 'max_features': 'auto'}. Best is trial 152 with value: 0.49586776859504134.\n",
      "[I 2024-03-14 10:22:47,676] Trial 405 finished with value: 0.3856749311294766 and parameters: {'n_estimators': 165, 'max_depth': 39, 'min_samples_split': 0.5948474298297108, 'min_samples_leaf': 0.041353509070514376, 'max_features': 'auto'}. Best is trial 152 with value: 0.49586776859504134.\n",
      "[I 2024-03-14 10:22:47,916] Trial 406 finished with value: 0.33884297520661155 and parameters: {'n_estimators': 121, 'max_depth': 40, 'min_samples_split': 0.010025660126070549, 'min_samples_leaf': 0.38801227582170705, 'max_features': 'auto'}. Best is trial 152 with value: 0.49586776859504134.\n",
      "[I 2024-03-14 10:22:48,293] Trial 407 finished with value: 0.33884297520661155 and parameters: {'n_estimators': 187, 'max_depth': 11, 'min_samples_split': 0.6433602281824086, 'min_samples_leaf': 0.9684242777676022, 'max_features': 'auto'}. Best is trial 152 with value: 0.49586776859504134.\n",
      "[I 2024-03-14 10:22:48,822] Trial 408 finished with value: 0.4132231404958678 and parameters: {'n_estimators': 113, 'max_depth': 38, 'min_samples_split': 0.2849629767661988, 'min_samples_leaf': 0.07304677886568502, 'max_features': 'auto'}. Best is trial 152 with value: 0.49586776859504134.\n",
      "[I 2024-03-14 10:22:49,899] Trial 409 finished with value: 0.46005509641873277 and parameters: {'n_estimators': 138, 'max_depth': 42, 'min_samples_split': 0.04306213912925363, 'min_samples_leaf': 0.028527706157125736, 'max_features': 'auto'}. Best is trial 152 with value: 0.49586776859504134.\n",
      "[I 2024-03-14 10:22:50,397] Trial 410 finished with value: 0.39944903581267216 and parameters: {'n_estimators': 127, 'max_depth': 41, 'min_samples_split': 0.2944824890907877, 'min_samples_leaf': 0.09137686906039837, 'max_features': 'auto'}. Best is trial 152 with value: 0.49586776859504134.\n",
      "[I 2024-03-14 10:22:50,598] Trial 411 finished with value: 0.33884297520661155 and parameters: {'n_estimators': 107, 'max_depth': 34, 'min_samples_split': 0.07019850041995496, 'min_samples_leaf': 0.4887308747383016, 'max_features': 'auto'}. Best is trial 152 with value: 0.49586776859504134.\n",
      "[I 2024-03-14 10:22:51,079] Trial 412 finished with value: 0.4297520661157025 and parameters: {'n_estimators': 122, 'max_depth': 36, 'min_samples_split': 0.03712574200407266, 'min_samples_leaf': 0.054967460180613395, 'max_features': 'auto'}. Best is trial 152 with value: 0.49586776859504134.\n",
      "[I 2024-03-14 10:22:51,770] Trial 413 finished with value: 0.43526170798898073 and parameters: {'n_estimators': 144, 'max_depth': 40, 'min_samples_split': 0.2118134161485119, 'min_samples_leaf': 0.030469431745310138, 'max_features': 'auto'}. Best is trial 152 with value: 0.49586776859504134.\n",
      "[I 2024-03-14 10:22:52,529] Trial 414 finished with value: 0.42424242424242425 and parameters: {'n_estimators': 194, 'max_depth': 33, 'min_samples_split': 0.13710732835619308, 'min_samples_leaf': 0.04427422783017796, 'max_features': 'auto'}. Best is trial 152 with value: 0.49586776859504134.\n",
      "[I 2024-03-14 10:22:53,017] Trial 415 finished with value: 0.4214876033057851 and parameters: {'n_estimators': 134, 'max_depth': 15, 'min_samples_split': 0.24572586935019752, 'min_samples_leaf': 0.01082139013339489, 'max_features': 'auto'}. Best is trial 152 with value: 0.49586776859504134.\n",
      "[I 2024-03-14 10:22:53,408] Trial 416 finished with value: 0.33884297520661155 and parameters: {'n_estimators': 260, 'max_depth': 44, 'min_samples_split': 0.8678716831603646, 'min_samples_leaf': 0.13319184209204166, 'max_features': 'auto'}. Best is trial 152 with value: 0.49586776859504134.\n",
      "[I 2024-03-14 10:22:53,884] Trial 417 finished with value: 0.39669421487603307 and parameters: {'n_estimators': 205, 'max_depth': 38, 'min_samples_split': 0.4663702441398031, 'min_samples_leaf': 0.028025501507559804, 'max_features': 'auto'}. Best is trial 152 with value: 0.49586776859504134.\n",
      "[I 2024-03-14 10:22:54,117] Trial 418 finished with value: 0.33884297520661155 and parameters: {'n_estimators': 152, 'max_depth': 39, 'min_samples_split': 0.7518794542028026, 'min_samples_leaf': 0.06596980129759046, 'max_features': 'auto'}. Best is trial 152 with value: 0.49586776859504134.\n",
      "[I 2024-03-14 10:22:54,546] Trial 419 finished with value: 0.4049586776859504 and parameters: {'n_estimators': 181, 'max_depth': 37, 'min_samples_split': 0.09427949111731176, 'min_samples_leaf': 0.19026149168449843, 'max_features': 'auto'}. Best is trial 152 with value: 0.49586776859504134.\n",
      "[I 2024-03-14 10:22:55,583] Trial 420 finished with value: 0.4628099173553719 and parameters: {'n_estimators': 233, 'max_depth': 9, 'min_samples_split': 0.02645513368996318, 'min_samples_leaf': 0.026950906325625676, 'max_features': 'auto'}. Best is trial 152 with value: 0.49586776859504134.\n",
      "[I 2024-03-14 10:22:55,863] Trial 421 finished with value: 0.3856749311294766 and parameters: {'n_estimators': 117, 'max_depth': 35, 'min_samples_split': 0.49092688298316767, 'min_samples_leaf': 0.04832849995863147, 'max_features': 'auto'}. Best is trial 152 with value: 0.49586776859504134.\n",
      "[I 2024-03-14 10:22:56,085] Trial 422 finished with value: 0.4022038567493113 and parameters: {'n_estimators': 105, 'max_depth': 40, 'min_samples_split': 0.40567826115931893, 'min_samples_leaf': 0.2475538724883346, 'max_features': 'auto'}. Best is trial 152 with value: 0.49586776859504134.\n",
      "[I 2024-03-14 10:22:56,261] Trial 423 finished with value: 0.33884297520661155 and parameters: {'n_estimators': 110, 'max_depth': 37, 'min_samples_split': 0.06346098821330538, 'min_samples_leaf': 0.6136981360784105, 'max_features': 'auto'}. Best is trial 152 with value: 0.49586776859504134.\n",
      "[I 2024-03-14 10:22:56,680] Trial 424 finished with value: 0.3856749311294766 and parameters: {'n_estimators': 185, 'max_depth': 40, 'min_samples_split': 0.5048532473584072, 'min_samples_leaf': 0.027301838583901134, 'max_features': 'auto'}. Best is trial 152 with value: 0.49586776859504134.\n",
      "[I 2024-03-14 10:22:57,679] Trial 425 finished with value: 0.4820936639118457 and parameters: {'n_estimators': 170, 'max_depth': 39, 'min_samples_split': 0.010394661541000848, 'min_samples_leaf': 0.011342763319593458, 'max_features': 'auto'}. Best is trial 152 with value: 0.49586776859504134.\n",
      "[I 2024-03-14 10:22:58,086] Trial 426 finished with value: 0.39118457300275483 and parameters: {'n_estimators': 170, 'max_depth': 39, 'min_samples_split': 0.19109446373511796, 'min_samples_leaf': 0.14097824444173612, 'max_features': 'auto'}. Best is trial 152 with value: 0.49586776859504134.\n",
      "[I 2024-03-14 10:22:59,266] Trial 427 finished with value: 0.48760330578512395 and parameters: {'n_estimators': 165, 'max_depth': 38, 'min_samples_split': 0.012001616436935173, 'min_samples_leaf': 0.010002274896881077, 'max_features': 'auto'}. Best is trial 152 with value: 0.49586776859504134.\n",
      "[I 2024-03-14 10:23:00,345] Trial 428 finished with value: 0.48484848484848486 and parameters: {'n_estimators': 167, 'max_depth': 38, 'min_samples_split': 0.012724118457883772, 'min_samples_leaf': 0.010215925035152533, 'max_features': 'auto'}. Best is trial 152 with value: 0.49586776859504134.\n",
      "[I 2024-03-14 10:23:01,439] Trial 429 finished with value: 0.4765840220385675 and parameters: {'n_estimators': 166, 'max_depth': 39, 'min_samples_split': 0.013015491059910518, 'min_samples_leaf': 0.011406821091397125, 'max_features': 'auto'}. Best is trial 152 with value: 0.49586776859504134.\n",
      "[I 2024-03-14 10:23:02,137] Trial 430 finished with value: 0.4490358126721763 and parameters: {'n_estimators': 169, 'max_depth': 38, 'min_samples_split': 0.012978527278426617, 'min_samples_leaf': 0.043829632708970126, 'max_features': 'auto'}. Best is trial 152 with value: 0.49586776859504134.\n",
      "[I 2024-03-14 10:23:02,404] Trial 431 finished with value: 0.33884297520661155 and parameters: {'n_estimators': 170, 'max_depth': 38, 'min_samples_split': 0.6896533202831071, 'min_samples_leaf': 0.16949547512681107, 'max_features': 'auto'}. Best is trial 152 with value: 0.49586776859504134.\n",
      "[I 2024-03-14 10:23:03,600] Trial 432 finished with value: 0.4738292011019284 and parameters: {'n_estimators': 163, 'max_depth': 38, 'min_samples_split': 0.03108060104510708, 'min_samples_leaf': 0.011826311030702367, 'max_features': 'auto'}. Best is trial 152 with value: 0.49586776859504134.\n",
      "[I 2024-03-14 10:23:03,952] Trial 433 finished with value: 0.33884297520661155 and parameters: {'n_estimators': 164, 'max_depth': 37, 'min_samples_split': 0.3754395138173068, 'min_samples_leaf': 0.5462330462272605, 'max_features': 'auto'}. Best is trial 152 with value: 0.49586776859504134.\n",
      "[I 2024-03-14 10:23:04,691] Trial 434 finished with value: 0.4022038567493113 and parameters: {'n_estimators': 173, 'max_depth': 39, 'min_samples_split': 0.011201168575302262, 'min_samples_leaf': 0.058949789344310465, 'max_features': 'auto'}. Best is trial 152 with value: 0.49586776859504134.\n",
      "[I 2024-03-14 10:23:05,231] Trial 435 finished with value: 0.41597796143250687 and parameters: {'n_estimators': 160, 'max_depth': 37, 'min_samples_split': 0.3462398469780871, 'min_samples_leaf': 0.01084023958145783, 'max_features': 'auto'}. Best is trial 152 with value: 0.49586776859504134.\n",
      "[I 2024-03-14 10:23:05,706] Trial 436 finished with value: 0.3856749311294766 and parameters: {'n_estimators': 177, 'max_depth': 41, 'min_samples_split': 0.5308291185736079, 'min_samples_leaf': 0.01005938803547074, 'max_features': 'auto'}. Best is trial 152 with value: 0.49586776859504134.\n",
      "[I 2024-03-14 10:23:06,510] Trial 437 finished with value: 0.4490358126721763 and parameters: {'n_estimators': 173, 'max_depth': 40, 'min_samples_split': 0.04446110739459133, 'min_samples_leaf': 0.03409509680945892, 'max_features': 'auto'}. Best is trial 152 with value: 0.49586776859504134.\n",
      "[I 2024-03-14 10:23:06,920] Trial 438 finished with value: 0.4214876033057851 and parameters: {'n_estimators': 168, 'max_depth': 38, 'min_samples_split': 0.028877594998609202, 'min_samples_leaf': 0.28710795569087594, 'max_features': 'auto'}. Best is trial 152 with value: 0.49586776859504134.\n",
      "[I 2024-03-14 10:23:07,281] Trial 439 finished with value: 0.41046831955922863 and parameters: {'n_estimators': 158, 'max_depth': 48, 'min_samples_split': 0.010378053344131217, 'min_samples_leaf': 0.2655951003621066, 'max_features': 'auto'}. Best is trial 152 with value: 0.49586776859504134.\n",
      "[I 2024-03-14 10:23:07,671] Trial 440 finished with value: 0.4214876033057851 and parameters: {'n_estimators': 179, 'max_depth': 39, 'min_samples_split': 0.5537045806243973, 'min_samples_leaf': 0.3132545785927895, 'max_features': 'auto'}. Best is trial 152 with value: 0.49586776859504134.\n",
      "[I 2024-03-14 10:23:08,204] Trial 441 finished with value: 0.41046831955922863 and parameters: {'n_estimators': 163, 'max_depth': 42, 'min_samples_split': 0.17417735831171052, 'min_samples_leaf': 0.09112984521352087, 'max_features': 'auto'}. Best is trial 152 with value: 0.49586776859504134.\n",
      "[I 2024-03-14 10:23:08,447] Trial 442 finished with value: 0.33884297520661155 and parameters: {'n_estimators': 156, 'max_depth': 38, 'min_samples_split': 0.04750887218787203, 'min_samples_leaf': 0.4037544693597194, 'max_features': 'auto'}. Best is trial 152 with value: 0.49586776859504134.\n",
      "[I 2024-03-14 10:23:08,718] Trial 443 finished with value: 0.33884297520661155 and parameters: {'n_estimators': 175, 'max_depth': 39, 'min_samples_split': 0.039890780703605216, 'min_samples_leaf': 0.42937910025887965, 'max_features': 'auto'}. Best is trial 152 with value: 0.49586776859504134.\n",
      "[I 2024-03-14 10:23:09,249] Trial 444 finished with value: 0.4462809917355372 and parameters: {'n_estimators': 131, 'max_depth': 41, 'min_samples_split': 0.12070756426490649, 'min_samples_leaf': 0.042648063873717654, 'max_features': 'auto'}. Best is trial 152 with value: 0.49586776859504134.\n",
      "[I 2024-03-14 10:23:09,822] Trial 445 finished with value: 0.4132231404958678 and parameters: {'n_estimators': 150, 'max_depth': 36, 'min_samples_split': 0.025766398994639738, 'min_samples_leaf': 0.07284205597954622, 'max_features': 'auto'}. Best is trial 152 with value: 0.49586776859504134.\n",
      "[I 2024-03-14 10:23:10,149] Trial 446 finished with value: 0.33884297520661155 and parameters: {'n_estimators': 167, 'max_depth': 37, 'min_samples_split': 0.05796866359608412, 'min_samples_leaf': 0.3364123344665368, 'max_features': 'auto'}. Best is trial 152 with value: 0.49586776859504134.\n",
      "[I 2024-03-14 10:23:10,397] Trial 447 finished with value: 0.33884297520661155 and parameters: {'n_estimators': 125, 'max_depth': 40, 'min_samples_split': 0.4129305723073231, 'min_samples_leaf': 0.35522100454400535, 'max_features': 'auto'}. Best is trial 152 with value: 0.49586776859504134.\n",
      "[I 2024-03-14 10:23:10,681] Trial 448 finished with value: 0.3884297520661157 and parameters: {'n_estimators': 113, 'max_depth': 39, 'min_samples_split': 0.0766139292731024, 'min_samples_leaf': 0.2195963357369104, 'max_features': 'auto'}. Best is trial 152 with value: 0.49586776859504134.\n",
      "[I 2024-03-14 10:23:10,895] Trial 449 finished with value: 0.33884297520661155 and parameters: {'n_estimators': 103, 'max_depth': 41, 'min_samples_split': 0.04436448338926072, 'min_samples_leaf': 0.6918523677013008, 'max_features': 'auto'}. Best is trial 152 with value: 0.49586776859504134.\n",
      "[I 2024-03-14 10:23:11,670] Trial 450 finished with value: 0.48760330578512395 and parameters: {'n_estimators': 143, 'max_depth': 43, 'min_samples_split': 0.026604848598302158, 'min_samples_leaf': 0.026187599159019845, 'max_features': 'auto'}. Best is trial 152 with value: 0.49586776859504134.\n",
      "[I 2024-03-14 10:23:12,151] Trial 451 finished with value: 0.39118457300275483 and parameters: {'n_estimators': 140, 'max_depth': 43, 'min_samples_split': 0.4370074584071172, 'min_samples_leaf': 0.028980914021883613, 'max_features': 'auto'}. Best is trial 152 with value: 0.49586776859504134.\n",
      "[I 2024-03-14 10:23:12,733] Trial 452 finished with value: 0.40771349862258954 and parameters: {'n_estimators': 144, 'max_depth': 45, 'min_samples_split': 0.010989986064907725, 'min_samples_leaf': 0.056981605406504404, 'max_features': 'auto'}. Best is trial 152 with value: 0.49586776859504134.\n",
      "[I 2024-03-14 10:23:12,971] Trial 453 finished with value: 0.33884297520661155 and parameters: {'n_estimators': 136, 'max_depth': 42, 'min_samples_split': 0.030095997098058366, 'min_samples_leaf': 0.7763061367484555, 'max_features': 'auto'}. Best is trial 152 with value: 0.49586776859504134.\n",
      "[I 2024-03-14 10:23:13,660] Trial 454 finished with value: 0.3856749311294766 and parameters: {'n_estimators': 243, 'max_depth': 42, 'min_samples_split': 0.3789953291784432, 'min_samples_leaf': 0.029826157522037128, 'max_features': 'auto'}. Best is trial 152 with value: 0.49586776859504134.\n",
      "[I 2024-03-14 10:23:14,262] Trial 455 finished with value: 0.42699724517906334 and parameters: {'n_estimators': 182, 'max_depth': 44, 'min_samples_split': 0.2682525578919992, 'min_samples_leaf': 0.044914940737856436, 'max_features': 'auto'}. Best is trial 152 with value: 0.49586776859504134.\n",
      "[I 2024-03-14 10:23:14,505] Trial 456 finished with value: 0.33884297520661155 and parameters: {'n_estimators': 119, 'max_depth': 43, 'min_samples_split': 0.02724464648834311, 'min_samples_leaf': 0.6003270665499457, 'max_features': 'auto'}. Best is trial 152 with value: 0.49586776859504134.\n",
      "[I 2024-03-14 10:23:15,254] Trial 457 finished with value: 0.4628099173553719 and parameters: {'n_estimators': 125, 'max_depth': 41, 'min_samples_split': 0.05266500717975943, 'min_samples_leaf': 0.02777915588323243, 'max_features': 'auto'}. Best is trial 152 with value: 0.49586776859504134.\n",
      "[I 2024-03-14 10:23:15,751] Trial 458 finished with value: 0.4049586776859504 and parameters: {'n_estimators': 132, 'max_depth': 40, 'min_samples_split': 0.010797885643285618, 'min_samples_leaf': 0.11520532787936379, 'max_features': 'auto'}. Best is trial 152 with value: 0.49586776859504134.\n",
      "[I 2024-03-14 10:23:16,007] Trial 459 finished with value: 0.33884297520661155 and parameters: {'n_estimators': 141, 'max_depth': 37, 'min_samples_split': 0.040281280129320265, 'min_samples_leaf': 0.7412085244283857, 'max_features': 'auto'}. Best is trial 152 with value: 0.49586776859504134.\n",
      "[I 2024-03-14 10:23:16,208] Trial 460 finished with value: 0.33884297520661155 and parameters: {'n_estimators': 108, 'max_depth': 38, 'min_samples_split': 0.9548279761863117, 'min_samples_leaf': 0.46428556524491427, 'max_features': 'auto'}. Best is trial 152 with value: 0.49586776859504134.\n",
      "[I 2024-03-14 10:23:16,478] Trial 461 finished with value: 0.33884297520661155 and parameters: {'n_estimators': 171, 'max_depth': 44, 'min_samples_split': 0.7888891342978384, 'min_samples_leaf': 0.5199150050917883, 'max_features': 'auto'}. Best is trial 152 with value: 0.49586776859504134.\n",
      "[I 2024-03-14 10:23:17,422] Trial 462 finished with value: 0.47107438016528924 and parameters: {'n_estimators': 147, 'max_depth': 39, 'min_samples_split': 0.06493449418771408, 'min_samples_leaf': 0.010117722267574875, 'max_features': 'auto'}. Best is trial 152 with value: 0.49586776859504134.\n",
      "[I 2024-03-14 10:23:17,650] Trial 463 finished with value: 0.33884297520661155 and parameters: {'n_estimators': 114, 'max_depth': 40, 'min_samples_split': 0.028764870250242124, 'min_samples_leaf': 0.6511430655124512, 'max_features': 'auto'}. Best is trial 152 with value: 0.49586776859504134.\n",
      "[I 2024-03-14 10:23:18,221] Trial 464 finished with value: 0.4132231404958678 and parameters: {'n_estimators': 130, 'max_depth': 36, 'min_samples_split': 0.08341390259412028, 'min_samples_leaf': 0.07449950439313863, 'max_features': 'auto'}. Best is trial 152 with value: 0.49586776859504134.\n",
      "[I 2024-03-14 10:23:18,820] Trial 465 finished with value: 0.38292011019283745 and parameters: {'n_estimators': 174, 'max_depth': 38, 'min_samples_split': 0.4556729424339475, 'min_samples_leaf': 0.0489147110510467, 'max_features': 'auto'}. Best is trial 152 with value: 0.49586776859504134.\n",
      "[I 2024-03-14 10:23:19,130] Trial 466 finished with value: 0.33884297520661155 and parameters: {'n_estimators': 136, 'max_depth': 42, 'min_samples_split': 0.04974105867274456, 'min_samples_leaf': 0.645976263492181, 'max_features': 'auto'}. Best is trial 152 with value: 0.49586776859504134.\n",
      "[I 2024-03-14 10:23:19,568] Trial 467 finished with value: 0.33884297520661155 and parameters: {'n_estimators': 179, 'max_depth': 39, 'min_samples_split': 0.027129122889079843, 'min_samples_leaf': 0.39258218957475616, 'max_features': 'auto'}. Best is trial 152 with value: 0.49586776859504134.\n",
      "[I 2024-03-14 10:23:19,954] Trial 468 finished with value: 0.3856749311294766 and parameters: {'n_estimators': 100, 'max_depth': 40, 'min_samples_split': 0.5675032956803634, 'min_samples_leaf': 0.027678679524405288, 'max_features': 'auto'}. Best is trial 152 with value: 0.49586776859504134.\n",
      "[I 2024-03-14 10:23:20,240] Trial 469 finished with value: 0.33884297520661155 and parameters: {'n_estimators': 121, 'max_depth': 41, 'min_samples_split': 0.05509938025067497, 'min_samples_leaf': 0.35898521384524346, 'max_features': 'auto'}. Best is trial 152 with value: 0.49586776859504134.\n",
      "[I 2024-03-14 10:23:21,158] Trial 470 finished with value: 0.4380165289256198 and parameters: {'n_estimators': 161, 'max_depth': 37, 'min_samples_split': 0.22563578597510126, 'min_samples_leaf': 0.010368844506934266, 'max_features': 'auto'}. Best is trial 152 with value: 0.49586776859504134.\n",
      "[I 2024-03-14 10:23:21,624] Trial 471 finished with value: 0.33884297520661155 and parameters: {'n_estimators': 237, 'max_depth': 46, 'min_samples_split': 0.1005390070488755, 'min_samples_leaf': 0.6077156506414292, 'max_features': 'auto'}. Best is trial 152 with value: 0.49586776859504134.\n",
      "[I 2024-03-14 10:23:22,174] Trial 472 finished with value: 0.4132231404958678 and parameters: {'n_estimators': 106, 'max_depth': 38, 'min_samples_split': 0.03080786553794615, 'min_samples_leaf': 0.06129490810884668, 'max_features': 'auto'}. Best is trial 152 with value: 0.49586776859504134.\n",
      "[I 2024-03-14 10:23:22,834] Trial 473 finished with value: 0.3884297520661157 and parameters: {'n_estimators': 165, 'max_depth': 39, 'min_samples_split': 0.3542129518522831, 'min_samples_leaf': 0.039974434825747966, 'max_features': 'auto'}. Best is trial 152 with value: 0.49586776859504134.\n",
      "[I 2024-03-14 10:23:23,048] Trial 474 finished with value: 0.33884297520661155 and parameters: {'n_estimators': 110, 'max_depth': 36, 'min_samples_split': 0.05888960391377186, 'min_samples_leaf': 0.8951669107701675, 'max_features': 'auto'}. Best is trial 152 with value: 0.49586776859504134.\n",
      "[I 2024-03-14 10:23:23,648] Trial 475 finished with value: 0.4628099173553719 and parameters: {'n_estimators': 123, 'max_depth': 43, 'min_samples_split': 0.0769744639319255, 'min_samples_leaf': 0.027913241766036677, 'max_features': 'auto'}. Best is trial 152 with value: 0.49586776859504134.\n",
      "[I 2024-03-14 10:23:24,147] Trial 476 finished with value: 0.3939393939393939 and parameters: {'n_estimators': 188, 'max_depth': 41, 'min_samples_split': 0.31759030788083964, 'min_samples_leaf': 0.20715258622646626, 'max_features': 'auto'}. Best is trial 152 with value: 0.49586776859504134.\n",
      "[I 2024-03-14 10:23:24,549] Trial 477 finished with value: 0.39118457300275483 and parameters: {'n_estimators': 128, 'max_depth': 40, 'min_samples_split': 0.010698929257500888, 'min_samples_leaf': 0.09429635270037372, 'max_features': 'auto'}. Best is trial 152 with value: 0.49586776859504134.\n",
      "[I 2024-03-14 10:23:24,837] Trial 478 finished with value: 0.3856749311294766 and parameters: {'n_estimators': 116, 'max_depth': 37, 'min_samples_split': 0.48630021762261966, 'min_samples_leaf': 0.0478361109981658, 'max_features': 'auto'}. Best is trial 152 with value: 0.49586776859504134.\n",
      "[I 2024-03-14 10:23:25,171] Trial 479 finished with value: 0.40771349862258954 and parameters: {'n_estimators': 170, 'max_depth': 38, 'min_samples_split': 0.15672327973264777, 'min_samples_leaf': 0.25330418439121394, 'max_features': 'auto'}. Best is trial 152 with value: 0.49586776859504134.\n",
      "[I 2024-03-14 10:23:25,421] Trial 480 finished with value: 0.33884297520661155 and parameters: {'n_estimators': 143, 'max_depth': 39, 'min_samples_split': 0.03797247023432746, 'min_samples_leaf': 0.33647297273837534, 'max_features': 'auto'}. Best is trial 152 with value: 0.49586776859504134.\n",
      "[I 2024-03-14 10:23:26,210] Trial 481 finished with value: 0.47107438016528924 and parameters: {'n_estimators': 154, 'max_depth': 40, 'min_samples_split': 0.04494746001151089, 'min_samples_leaf': 0.02705874491410701, 'max_features': 'auto'}. Best is trial 152 with value: 0.49586776859504134.\n",
      "[I 2024-03-14 10:23:26,490] Trial 482 finished with value: 0.33884297520661155 and parameters: {'n_estimators': 183, 'max_depth': 42, 'min_samples_split': 0.1099361605665907, 'min_samples_leaf': 0.5488742583581118, 'max_features': 'auto'}. Best is trial 152 with value: 0.49586776859504134.\n",
      "[I 2024-03-14 10:23:26,658] Trial 483 finished with value: 0.33884297520661155 and parameters: {'n_estimators': 104, 'max_depth': 39, 'min_samples_split': 0.6969102470481202, 'min_samples_leaf': 0.15790420772798508, 'max_features': 'auto'}. Best is trial 152 with value: 0.49586776859504134.\n",
      "[I 2024-03-14 10:23:27,160] Trial 484 finished with value: 0.418732782369146 and parameters: {'n_estimators': 138, 'max_depth': 36, 'min_samples_split': 0.027324478213376045, 'min_samples_leaf': 0.058107792804348635, 'max_features': 'auto'}. Best is trial 152 with value: 0.49586776859504134.\n",
      "[I 2024-03-14 10:23:27,353] Trial 485 finished with value: 0.33884297520661155 and parameters: {'n_estimators': 120, 'max_depth': 41, 'min_samples_split': 0.8944441218040915, 'min_samples_leaf': 0.4424725163219893, 'max_features': 'auto'}. Best is trial 152 with value: 0.49586776859504134.\n",
      "[I 2024-03-14 10:23:27,600] Trial 486 finished with value: 0.33884297520661155 and parameters: {'n_estimators': 159, 'max_depth': 38, 'min_samples_split': 0.5204592497513806, 'min_samples_leaf': 0.4282205063012348, 'max_features': 'auto'}. Best is trial 152 with value: 0.49586776859504134.\n",
      "[I 2024-03-14 10:23:28,242] Trial 487 finished with value: 0.46831955922865015 and parameters: {'n_estimators': 111, 'max_depth': 37, 'min_samples_split': 0.070151139001973, 'min_samples_leaf': 0.011082219541925196, 'max_features': 'auto'}. Best is trial 152 with value: 0.49586776859504134.\n",
      "[I 2024-03-14 10:23:29,349] Trial 488 finished with value: 0.4793388429752066 and parameters: {'n_estimators': 176, 'max_depth': 43, 'min_samples_split': 0.010033742983024299, 'min_samples_leaf': 0.010849690730282647, 'max_features': 'auto'}. Best is trial 152 with value: 0.49586776859504134.\n",
      "[I 2024-03-14 10:23:29,550] Trial 489 finished with value: 0.33884297520661155 and parameters: {'n_estimators': 128, 'max_depth': 39, 'min_samples_split': 0.4353338373247533, 'min_samples_leaf': 0.6924229936143635, 'max_features': 'auto'}. Best is trial 152 with value: 0.49586776859504134.\n",
      "[I 2024-03-14 10:23:29,783] Trial 490 finished with value: 0.33884297520661155 and parameters: {'n_estimators': 148, 'max_depth': 40, 'min_samples_split': 0.13464818285714034, 'min_samples_leaf': 0.5772025225916178, 'max_features': 'auto'}. Best is trial 152 with value: 0.49586776859504134.\n",
      "[I 2024-03-14 10:23:30,264] Trial 491 finished with value: 0.41597796143250687 and parameters: {'n_estimators': 164, 'max_depth': 41, 'min_samples_split': 0.25250732057453784, 'min_samples_leaf': 0.07519883388713644, 'max_features': 'auto'}. Best is trial 152 with value: 0.49586776859504134.\n",
      "[I 2024-03-14 10:23:30,481] Trial 492 finished with value: 0.33884297520661155 and parameters: {'n_estimators': 133, 'max_depth': 38, 'min_samples_split': 0.7119964315227452, 'min_samples_leaf': 0.03928817311225337, 'max_features': 'auto'}. Best is trial 152 with value: 0.49586776859504134.\n",
      "[I 2024-03-14 10:23:30,674] Trial 493 finished with value: 0.33884297520661155 and parameters: {'n_estimators': 116, 'max_depth': 35, 'min_samples_split': 0.6754410894683321, 'min_samples_leaf': 0.010147986902610446, 'max_features': 'auto'}. Best is trial 152 with value: 0.49586776859504134.\n",
      "[I 2024-03-14 10:23:31,260] Trial 494 finished with value: 0.4765840220385675 and parameters: {'n_estimators': 124, 'max_depth': 42, 'min_samples_split': 0.046893963726287236, 'min_samples_leaf': 0.031653888594322444, 'max_features': 'auto'}. Best is trial 152 with value: 0.49586776859504134.\n",
      "[I 2024-03-14 10:23:31,778] Trial 495 finished with value: 0.39669421487603307 and parameters: {'n_estimators': 172, 'max_depth': 40, 'min_samples_split': 0.08383671024958297, 'min_samples_leaf': 0.1844039916919778, 'max_features': 'auto'}. Best is trial 152 with value: 0.49586776859504134.\n",
      "[I 2024-03-14 10:23:32,057] Trial 496 finished with value: 0.418732782369146 and parameters: {'n_estimators': 108, 'max_depth': 37, 'min_samples_split': 0.03245733134001985, 'min_samples_leaf': 0.311113636528842, 'max_features': 'auto'}. Best is trial 152 with value: 0.49586776859504134.\n",
      "[I 2024-03-14 10:23:32,630] Trial 497 finished with value: 0.43526170798898073 and parameters: {'n_estimators': 153, 'max_depth': 39, 'min_samples_split': 0.06118362599746216, 'min_samples_leaf': 0.05291671592017853, 'max_features': 'auto'}. Best is trial 152 with value: 0.49586776859504134.\n",
      "[I 2024-03-14 10:23:32,912] Trial 498 finished with value: 0.33884297520661155 and parameters: {'n_estimators': 185, 'max_depth': 38, 'min_samples_split': 0.011154321224258981, 'min_samples_leaf': 0.5982315907456037, 'max_features': 'auto'}. Best is trial 152 with value: 0.49586776859504134.\n",
      "[I 2024-03-14 10:23:33,080] Trial 499 finished with value: 0.33884297520661155 and parameters: {'n_estimators': 103, 'max_depth': 44, 'min_samples_split': 0.040553700617960944, 'min_samples_leaf': 0.715202169991201, 'max_features': 'auto'}. Best is trial 152 with value: 0.49586776859504134.\n",
      "[I 2024-03-14 10:23:33,620] Trial 500 finished with value: 0.3856749311294766 and parameters: {'n_estimators': 190, 'max_depth': 41, 'min_samples_split': 0.5806794204118677, 'min_samples_leaf': 0.028866271012547465, 'max_features': 'auto'}. Best is trial 152 with value: 0.49586776859504134.\n",
      "[I 2024-03-14 10:23:33,911] Trial 501 finished with value: 0.33884297520661155 and parameters: {'n_estimators': 167, 'max_depth': 40, 'min_samples_split': 0.7214565143640657, 'min_samples_leaf': 0.07262745751139284, 'max_features': 'auto'}. Best is trial 152 with value: 0.49586776859504134.\n",
      "[I 2024-03-14 10:23:34,579] Trial 502 finished with value: 0.4573002754820937 and parameters: {'n_estimators': 158, 'max_depth': 38, 'min_samples_split': 0.0667438509303327, 'min_samples_leaf': 0.04078247396696238, 'max_features': 'auto'}. Best is trial 152 with value: 0.49586776859504134.\n",
      "[I 2024-03-14 10:23:34,888] Trial 503 finished with value: 0.33884297520661155 and parameters: {'n_estimators': 179, 'max_depth': 36, 'min_samples_split': 0.21170734351952597, 'min_samples_leaf': 0.5401707963340446, 'max_features': 'auto'}. Best is trial 152 with value: 0.49586776859504134.\n",
      "[I 2024-03-14 10:23:35,425] Trial 504 finished with value: 0.33884297520661155 and parameters: {'n_estimators': 278, 'max_depth': 39, 'min_samples_split': 0.010277346384170181, 'min_samples_leaf': 0.4915193719828245, 'max_features': 'auto'}. Best is trial 152 with value: 0.49586776859504134.\n",
      "[I 2024-03-14 10:23:35,684] Trial 505 finished with value: 0.33884297520661155 and parameters: {'n_estimators': 126, 'max_depth': 42, 'min_samples_split': 0.6499622944642957, 'min_samples_leaf': 0.47278959110699187, 'max_features': 'auto'}. Best is trial 152 with value: 0.49586776859504134.\n",
      "[I 2024-03-14 10:23:36,409] Trial 506 finished with value: 0.4793388429752066 and parameters: {'n_estimators': 112, 'max_depth': 39, 'min_samples_split': 0.09368615647508355, 'min_samples_leaf': 0.010592536775338094, 'max_features': 'auto'}. Best is trial 152 with value: 0.49586776859504134.\n",
      "[I 2024-03-14 10:23:37,899] Trial 507 finished with value: 0.4628099173553719 and parameters: {'n_estimators': 249, 'max_depth': 37, 'min_samples_split': 0.027057588429336376, 'min_samples_leaf': 0.028098461188804297, 'max_features': 'auto'}. Best is trial 152 with value: 0.49586776859504134.\n",
      "[I 2024-03-14 10:23:38,202] Trial 508 finished with value: 0.33884297520661155 and parameters: {'n_estimators': 118, 'max_depth': 36, 'min_samples_split': 0.7411913575186747, 'min_samples_leaf': 0.6792669445476568, 'max_features': 'auto'}. Best is trial 152 with value: 0.49586776859504134.\n",
      "[I 2024-03-14 10:23:38,520] Trial 509 finished with value: 0.33884297520661155 and parameters: {'n_estimators': 138, 'max_depth': 40, 'min_samples_split': 0.8162554741084154, 'min_samples_leaf': 0.654381456882421, 'max_features': 'auto'}. Best is trial 152 with value: 0.49586776859504134.\n",
      "[I 2024-03-14 10:23:38,828] Trial 510 finished with value: 0.33884297520661155 and parameters: {'n_estimators': 144, 'max_depth': 43, 'min_samples_split': 0.5483506214653173, 'min_samples_leaf': 0.5695281811057666, 'max_features': 'auto'}. Best is trial 152 with value: 0.49586776859504134.\n",
      "[I 2024-03-14 10:23:39,167] Trial 511 finished with value: 0.42424242424242425 and parameters: {'n_estimators': 131, 'max_depth': 35, 'min_samples_split': 0.048566852059999534, 'min_samples_leaf': 0.2911781131466253, 'max_features': 'auto'}. Best is trial 152 with value: 0.49586776859504134.\n",
      "[I 2024-03-14 10:23:39,475] Trial 512 finished with value: 0.33884297520661155 and parameters: {'n_estimators': 150, 'max_depth': 38, 'min_samples_split': 0.8630417723630822, 'min_samples_leaf': 0.057868191135120296, 'max_features': 'auto'}. Best is trial 152 with value: 0.49586776859504134.\n",
      "[I 2024-03-14 10:23:39,711] Trial 513 finished with value: 0.33884297520661155 and parameters: {'n_estimators': 100, 'max_depth': 41, 'min_samples_split': 0.030533411730313407, 'min_samples_leaf': 0.4529895405431349, 'max_features': 'auto'}. Best is trial 152 with value: 0.49586776859504134.\n",
      "[I 2024-03-14 10:23:40,251] Trial 514 finished with value: 0.43526170798898073 and parameters: {'n_estimators': 107, 'max_depth': 40, 'min_samples_split': 0.20470955230574667, 'min_samples_leaf': 0.02795647042591347, 'max_features': 'auto'}. Best is trial 152 with value: 0.49586776859504134.\n",
      "[I 2024-03-14 10:23:40,814] Trial 515 finished with value: 0.40771349862258954 and parameters: {'n_estimators': 176, 'max_depth': 37, 'min_samples_split': 0.062443025364351895, 'min_samples_leaf': 0.10010269565379479, 'max_features': 'auto'}. Best is trial 152 with value: 0.49586776859504134.\n",
      "[I 2024-03-14 10:23:41,109] Trial 516 finished with value: 0.33884297520661155 and parameters: {'n_estimators': 162, 'max_depth': 39, 'min_samples_split': 0.08275057075133337, 'min_samples_leaf': 0.8130203198939714, 'max_features': 'auto'}. Best is trial 152 with value: 0.49586776859504134.\n",
      "[I 2024-03-14 10:23:41,959] Trial 517 finished with value: 0.44077134986225897 and parameters: {'n_estimators': 181, 'max_depth': 41, 'min_samples_split': 0.0521458504661985, 'min_samples_leaf': 0.04634512179647473, 'max_features': 'auto'}. Best is trial 152 with value: 0.49586776859504134.\n",
      "[I 2024-03-14 10:23:42,360] Trial 518 finished with value: 0.33884297520661155 and parameters: {'n_estimators': 169, 'max_depth': 38, 'min_samples_split': 0.1144664263134465, 'min_samples_leaf': 0.5091591431223884, 'max_features': 'auto'}. Best is trial 152 with value: 0.49586776859504134.\n",
      "[I 2024-03-14 10:23:42,661] Trial 519 finished with value: 0.39944903581267216 and parameters: {'n_estimators': 123, 'max_depth': 39, 'min_samples_split': 0.6333848879123611, 'min_samples_leaf': 0.2369289101890758, 'max_features': 'auto'}. Best is trial 152 with value: 0.49586776859504134.\n",
      "[I 2024-03-14 10:23:43,157] Trial 520 finished with value: 0.4214876033057851 and parameters: {'n_estimators': 113, 'max_depth': 41, 'min_samples_split': 0.30809463202349263, 'min_samples_leaf': 0.025161209878627775, 'max_features': 'auto'}. Best is trial 152 with value: 0.49586776859504134.\n",
      "[I 2024-03-14 10:23:43,813] Trial 521 finished with value: 0.4573002754820937 and parameters: {'n_estimators': 119, 'max_depth': 43, 'min_samples_split': 0.15008651560536104, 'min_samples_leaf': 0.011114846907692516, 'max_features': 'auto'}. Best is trial 152 with value: 0.49586776859504134.\n",
      "[I 2024-03-14 10:23:44,145] Trial 522 finished with value: 0.33884297520661155 and parameters: {'n_estimators': 135, 'max_depth': 40, 'min_samples_split': 0.5134788261592678, 'min_samples_leaf': 0.3755998941961727, 'max_features': 'auto'}. Best is trial 152 with value: 0.49586776859504134.\n",
      "[I 2024-03-14 10:23:44,434] Trial 523 finished with value: 0.42699724517906334 and parameters: {'n_estimators': 127, 'max_depth': 5, 'min_samples_split': 0.026788220801343, 'min_samples_leaf': 0.30444080109759897, 'max_features': 'auto'}. Best is trial 152 with value: 0.49586776859504134.\n",
      "[I 2024-03-14 10:23:44,973] Trial 524 finished with value: 0.39669421487603307 and parameters: {'n_estimators': 191, 'max_depth': 37, 'min_samples_split': 0.0425873655333531, 'min_samples_leaf': 0.14549326127945, 'max_features': 'auto'}. Best is trial 152 with value: 0.49586776859504134.\n",
      "[I 2024-03-14 10:23:45,399] Trial 525 finished with value: 0.42424242424242425 and parameters: {'n_estimators': 105, 'max_depth': 42, 'min_samples_split': 0.01154923773417179, 'min_samples_leaf': 0.07860280166766535, 'max_features': 'auto'}. Best is trial 152 with value: 0.49586776859504134.\n",
      "[I 2024-03-14 10:23:46,225] Trial 526 finished with value: 0.4573002754820937 and parameters: {'n_estimators': 186, 'max_depth': 39, 'min_samples_split': 0.07160067773460493, 'min_samples_leaf': 0.04460901812985105, 'max_features': 'auto'}. Best is trial 152 with value: 0.49586776859504134.\n",
      "[I 2024-03-14 10:23:47,250] Trial 527 finished with value: 0.4793388429752066 and parameters: {'n_estimators': 156, 'max_depth': 36, 'min_samples_split': 0.027665349438056774, 'min_samples_leaf': 0.010323993866404417, 'max_features': 'auto'}. Best is trial 152 with value: 0.49586776859504134.\n",
      "[I 2024-03-14 10:23:47,492] Trial 528 finished with value: 0.33884297520661155 and parameters: {'n_estimators': 141, 'max_depth': 38, 'min_samples_split': 0.7199545625956282, 'min_samples_leaf': 0.2736394033574147, 'max_features': 'auto'}. Best is trial 152 with value: 0.49586776859504134.\n",
      "[I 2024-03-14 10:23:48,012] Trial 529 finished with value: 0.41046831955922863 and parameters: {'n_estimators': 146, 'max_depth': 7, 'min_samples_split': 0.19350923649001955, 'min_samples_leaf': 0.06380985932718163, 'max_features': 'auto'}. Best is trial 152 with value: 0.49586776859504134.\n",
      "[I 2024-03-14 10:23:48,411] Trial 530 finished with value: 0.4214876033057851 and parameters: {'n_estimators': 110, 'max_depth': 35, 'min_samples_split': 0.33715064864153277, 'min_samples_leaf': 0.03238306276070039, 'max_features': 'auto'}. Best is trial 152 with value: 0.49586776859504134.\n",
      "[I 2024-03-14 10:23:49,237] Trial 531 finished with value: 0.4490358126721763 and parameters: {'n_estimators': 172, 'max_depth': 40, 'min_samples_split': 0.046782809844186805, 'min_samples_leaf': 0.04226474292062914, 'max_features': 'auto'}. Best is trial 152 with value: 0.49586776859504134.\n",
      "[I 2024-03-14 10:23:49,761] Trial 532 finished with value: 0.39118457300275483 and parameters: {'n_estimators': 151, 'max_depth': 38, 'min_samples_split': 0.06174914630337953, 'min_samples_leaf': 0.18949727565096552, 'max_features': 'auto'}. Best is trial 152 with value: 0.49586776859504134.\n",
      "[I 2024-03-14 10:23:50,234] Trial 533 finished with value: 0.33884297520661155 and parameters: {'n_estimators': 229, 'max_depth': 42, 'min_samples_split': 0.6203835820828975, 'min_samples_leaf': 0.3930780346933235, 'max_features': 'auto'}. Best is trial 152 with value: 0.49586776859504134.\n",
      "[I 2024-03-14 10:23:50,903] Trial 534 finished with value: 0.42424242424242425 and parameters: {'n_estimators': 166, 'max_depth': 44, 'min_samples_split': 0.30432034027186916, 'min_samples_leaf': 0.026936689898116067, 'max_features': 'auto'}. Best is trial 152 with value: 0.49586776859504134.\n",
      "[I 2024-03-14 10:23:51,526] Trial 535 finished with value: 0.42699724517906334 and parameters: {'n_estimators': 132, 'max_depth': 39, 'min_samples_split': 0.2306655068352937, 'min_samples_leaf': 0.010769142793970937, 'max_features': 'auto'}. Best is trial 152 with value: 0.49586776859504134.\n",
      "[I 2024-03-14 10:23:52,098] Trial 536 finished with value: 0.4132231404958678 and parameters: {'n_estimators': 116, 'max_depth': 41, 'min_samples_split': 0.09238534413539881, 'min_samples_leaf': 0.05658937849083061, 'max_features': 'auto'}. Best is trial 152 with value: 0.49586776859504134.\n",
      "[I 2024-03-14 10:23:52,429] Trial 537 finished with value: 0.33884297520661155 and parameters: {'n_estimators': 161, 'max_depth': 37, 'min_samples_split': 0.6667639091339934, 'min_samples_leaf': 0.6174309715097889, 'max_features': 'auto'}. Best is trial 152 with value: 0.49586776859504134.\n",
      "[I 2024-03-14 10:23:52,697] Trial 538 finished with value: 0.33884297520661155 and parameters: {'n_estimators': 122, 'max_depth': 46, 'min_samples_split': 0.4555396950369066, 'min_samples_leaf': 0.446944907043351, 'max_features': 'auto'}. Best is trial 152 with value: 0.49586776859504134.\n",
      "[I 2024-03-14 10:23:53,691] Trial 539 finished with value: 0.47107438016528924 and parameters: {'n_estimators': 178, 'max_depth': 40, 'min_samples_split': 0.010070617568563717, 'min_samples_leaf': 0.03048887979285478, 'max_features': 'auto'}. Best is trial 152 with value: 0.49586776859504134.\n",
      "[I 2024-03-14 10:23:53,919] Trial 540 finished with value: 0.33884297520661155 and parameters: {'n_estimators': 103, 'max_depth': 36, 'min_samples_split': 0.9646969385518815, 'min_samples_leaf': 0.11020042757182753, 'max_features': 'auto'}. Best is trial 152 with value: 0.49586776859504134.\n",
      "[I 2024-03-14 10:23:54,413] Trial 541 finished with value: 0.39944903581267216 and parameters: {'n_estimators': 128, 'max_depth': 39, 'min_samples_split': 0.03980703167053513, 'min_samples_leaf': 0.12107073306842964, 'max_features': 'auto'}. Best is trial 152 with value: 0.49586776859504134.\n",
      "[I 2024-03-14 10:23:54,645] Trial 542 finished with value: 0.33884297520661155 and parameters: {'n_estimators': 108, 'max_depth': 37, 'min_samples_split': 0.26197561678406145, 'min_samples_leaf': 0.3329668495642004, 'max_features': 'auto'}. Best is trial 152 with value: 0.49586776859504134.\n",
      "[I 2024-03-14 10:23:55,020] Trial 543 finished with value: 0.33884297520661155 and parameters: {'n_estimators': 183, 'max_depth': 21, 'min_samples_split': 0.027458119915529863, 'min_samples_leaf': 0.6592535518875017, 'max_features': 'auto'}. Best is trial 152 with value: 0.49586776859504134.\n",
      "[I 2024-03-14 10:23:55,427] Trial 544 finished with value: 0.4022038567493113 and parameters: {'n_estimators': 113, 'max_depth': 40, 'min_samples_split': 0.388766677315681, 'min_samples_leaf': 0.08975476389749049, 'max_features': 'auto'}. Best is trial 152 with value: 0.49586776859504134.\n",
      "[I 2024-03-14 10:23:56,399] Trial 545 finished with value: 0.4490358126721763 and parameters: {'n_estimators': 194, 'max_depth': 38, 'min_samples_split': 0.08070020946337118, 'min_samples_leaf': 0.04369899943706528, 'max_features': 'auto'}. Best is trial 152 with value: 0.49586776859504134.\n",
      "[I 2024-03-14 10:23:57,018] Trial 546 finished with value: 0.41046831955922863 and parameters: {'n_estimators': 141, 'max_depth': 43, 'min_samples_split': 0.2834720960332725, 'min_samples_leaf': 0.010254215396228847, 'max_features': 'auto'}. Best is trial 152 with value: 0.49586776859504134.\n",
      "[I 2024-03-14 10:23:57,725] Trial 547 finished with value: 0.418732782369146 and parameters: {'n_estimators': 156, 'max_depth': 41, 'min_samples_split': 0.06073158085654483, 'min_samples_leaf': 0.06088973291967799, 'max_features': 'auto'}. Best is trial 152 with value: 0.49586776859504134.\n",
      "[I 2024-03-14 10:23:57,971] Trial 548 finished with value: 0.33884297520661155 and parameters: {'n_estimators': 119, 'max_depth': 42, 'min_samples_split': 0.649165024566758, 'min_samples_leaf': 0.9965690404357657, 'max_features': 'auto'}. Best is trial 152 with value: 0.49586776859504134.\n",
      "[I 2024-03-14 10:23:58,377] Trial 549 finished with value: 0.3939393939393939 and parameters: {'n_estimators': 175, 'max_depth': 35, 'min_samples_split': 0.5832615739394954, 'min_samples_leaf': 0.23587847652470567, 'max_features': 'auto'}. Best is trial 152 with value: 0.49586776859504134.\n",
      "[I 2024-03-14 10:23:59,627] Trial 550 finished with value: 0.4931129476584022 and parameters: {'n_estimators': 165, 'max_depth': 38, 'min_samples_split': 0.039773580169008955, 'min_samples_leaf': 0.010120684083958525, 'max_features': 'auto'}. Best is trial 152 with value: 0.49586776859504134.\n",
      "[I 2024-03-14 10:24:00,000] Trial 551 finished with value: 0.33884297520661155 and parameters: {'n_estimators': 160, 'max_depth': 37, 'min_samples_split': 0.11856578195657809, 'min_samples_leaf': 0.4155910048301861, 'max_features': 'auto'}. Best is trial 152 with value: 0.49586776859504134.\n",
      "[I 2024-03-14 10:24:00,364] Trial 552 finished with value: 0.33884297520661155 and parameters: {'n_estimators': 165, 'max_depth': 36, 'min_samples_split': 0.051273586409642545, 'min_samples_leaf': 0.566367412113642, 'max_features': 'auto'}. Best is trial 152 with value: 0.49586776859504134.\n",
      "[I 2024-03-14 10:24:01,325] Trial 553 finished with value: 0.45179063360881544 and parameters: {'n_estimators': 153, 'max_depth': 38, 'min_samples_split': 0.0755972915922728, 'min_samples_leaf': 0.026730836750642608, 'max_features': 'auto'}. Best is trial 152 with value: 0.49586776859504134.\n",
      "[I 2024-03-14 10:24:01,722] Trial 554 finished with value: 0.33884297520661155 and parameters: {'n_estimators': 148, 'max_depth': 37, 'min_samples_split': 0.7898733554706774, 'min_samples_leaf': 0.044503585491682526, 'max_features': 'auto'}. Best is trial 152 with value: 0.49586776859504134.\n",
      "[I 2024-03-14 10:24:02,088] Trial 555 finished with value: 0.33884297520661155 and parameters: {'n_estimators': 125, 'max_depth': 38, 'min_samples_split': 0.5313538743892341, 'min_samples_leaf': 0.5876634907649029, 'max_features': 'auto'}. Best is trial 152 with value: 0.49586776859504134.\n",
      "[I 2024-03-14 10:24:03,072] Trial 556 finished with value: 0.4132231404958678 and parameters: {'n_estimators': 189, 'max_depth': 40, 'min_samples_split': 0.3568231772356768, 'min_samples_leaf': 0.027329178459992637, 'max_features': 'auto'}. Best is trial 152 with value: 0.49586776859504134.\n",
      "[I 2024-03-14 10:24:03,589] Trial 557 finished with value: 0.39669421487603307 and parameters: {'n_estimators': 135, 'max_depth': 35, 'min_samples_split': 0.16693541485319208, 'min_samples_leaf': 0.20774474508343627, 'max_features': 'auto'}. Best is trial 152 with value: 0.49586776859504134.\n",
      "[I 2024-03-14 10:24:04,544] Trial 558 finished with value: 0.41597796143250687 and parameters: {'n_estimators': 157, 'max_depth': 39, 'min_samples_split': 0.09670599224066859, 'min_samples_leaf': 0.07133803496623065, 'max_features': 'auto'}. Best is trial 152 with value: 0.49586776859504134.\n",
      "[I 2024-03-14 10:24:05,235] Trial 559 finished with value: 0.43526170798898073 and parameters: {'n_estimators': 104, 'max_depth': 36, 'min_samples_split': 0.04180321871446332, 'min_samples_leaf': 0.047644815586347714, 'max_features': 'auto'}. Best is trial 152 with value: 0.49586776859504134.\n",
      "[I 2024-03-14 10:24:05,767] Trial 560 finished with value: 0.33884297520661155 and parameters: {'n_estimators': 130, 'max_depth': 34, 'min_samples_split': 0.40311800730349867, 'min_samples_leaf': 0.6703384493523575, 'max_features': 'auto'}. Best is trial 152 with value: 0.49586776859504134.\n",
      "[I 2024-03-14 10:24:07,122] Trial 561 finished with value: 0.47107438016528924 and parameters: {'n_estimators': 162, 'max_depth': 38, 'min_samples_split': 0.02857657555023594, 'min_samples_leaf': 0.010736107176485696, 'max_features': 'auto'}. Best is trial 152 with value: 0.49586776859504134.\n",
      "[I 2024-03-14 10:24:07,376] Trial 562 finished with value: 0.33884297520661155 and parameters: {'n_estimators': 109, 'max_depth': 45, 'min_samples_split': 0.06255489988864452, 'min_samples_leaf': 0.5236343981230721, 'max_features': 'auto'}. Best is trial 152 with value: 0.49586776859504134.\n",
      "[I 2024-03-14 10:24:08,019] Trial 563 finished with value: 0.4738292011019284 and parameters: {'n_estimators': 100, 'max_depth': 41, 'min_samples_split': 0.04024824616712868, 'min_samples_leaf': 0.028373881290604815, 'max_features': 'auto'}. Best is trial 152 with value: 0.49586776859504134.\n",
      "[I 2024-03-14 10:24:08,581] Trial 564 finished with value: 0.4022038567493113 and parameters: {'n_estimators': 120, 'max_depth': 18, 'min_samples_split': 0.28041862631883596, 'min_samples_leaf': 0.08267691295954646, 'max_features': 'auto'}. Best is trial 152 with value: 0.49586776859504134.\n",
      "[I 2024-03-14 10:24:09,111] Trial 565 finished with value: 0.42699724517906334 and parameters: {'n_estimators': 116, 'max_depth': 39, 'min_samples_split': 0.07654605424433614, 'min_samples_leaf': 0.3040761787271334, 'max_features': 'auto'}. Best is trial 152 with value: 0.49586776859504134.\n",
      "[I 2024-03-14 10:24:09,800] Trial 566 finished with value: 0.41597796143250687 and parameters: {'n_estimators': 124, 'max_depth': 14, 'min_samples_split': 0.17928441249165422, 'min_samples_leaf': 0.2795895424185927, 'max_features': 'auto'}. Best is trial 152 with value: 0.49586776859504134.\n",
      "[I 2024-03-14 10:24:11,018] Trial 567 finished with value: 0.33884297520661155 and parameters: {'n_estimators': 146, 'max_depth': 37, 'min_samples_split': 0.7320808916037627, 'min_samples_leaf': 0.010183406854135059, 'max_features': 'auto'}. Best is trial 152 with value: 0.49586776859504134.\n",
      "[I 2024-03-14 10:24:12,967] Trial 568 finished with value: 0.33884297520661155 and parameters: {'n_estimators': 154, 'max_depth': 40, 'min_samples_split': 0.3393303081867721, 'min_samples_leaf': 0.7523795706957785, 'max_features': 'auto'}. Best is trial 152 with value: 0.49586776859504134.\n",
      "[I 2024-03-14 10:24:14,467] Trial 569 finished with value: 0.33884297520661155 and parameters: {'n_estimators': 187, 'max_depth': 42, 'min_samples_split': 0.054564470135270576, 'min_samples_leaf': 0.47368318670540505, 'max_features': 'auto'}. Best is trial 152 with value: 0.49586776859504134.\n",
      "[I 2024-03-14 10:24:17,091] Trial 570 finished with value: 0.3856749311294766 and parameters: {'n_estimators': 165, 'max_depth': 38, 'min_samples_split': 0.6217971772865533, 'min_samples_leaf': 0.04212276765889268, 'max_features': 'auto'}. Best is trial 152 with value: 0.49586776859504134.\n",
      "[I 2024-03-14 10:24:19,109] Trial 571 finished with value: 0.33884297520661155 and parameters: {'n_estimators': 137, 'max_depth': 41, 'min_samples_split': 0.029454471218375022, 'min_samples_leaf': 0.4162011824128715, 'max_features': 'auto'}. Best is trial 152 with value: 0.49586776859504134.\n",
      "[I 2024-03-14 10:24:21,169] Trial 572 finished with value: 0.3856749311294766 and parameters: {'n_estimators': 113, 'max_depth': 39, 'min_samples_split': 0.6059539610520437, 'min_samples_leaf': 0.0608669034912863, 'max_features': 'auto'}. Best is trial 152 with value: 0.49586776859504134.\n",
      "[I 2024-03-14 10:24:24,301] Trial 573 finished with value: 0.46005509641873277 and parameters: {'n_estimators': 129, 'max_depth': 36, 'min_samples_split': 0.010653245156877517, 'min_samples_leaf': 0.028452719484031257, 'max_features': 'auto'}. Best is trial 152 with value: 0.49586776859504134.\n",
      "[I 2024-03-14 10:24:27,458] Trial 574 finished with value: 0.44352617079889806 and parameters: {'n_estimators': 159, 'max_depth': 40, 'min_samples_split': 0.09980012224389415, 'min_samples_leaf': 0.027784026193389252, 'max_features': 'auto'}. Best is trial 152 with value: 0.49586776859504134.\n",
      "[I 2024-03-14 10:24:31,205] Trial 575 finished with value: 0.44077134986225897 and parameters: {'n_estimators': 181, 'max_depth': 37, 'min_samples_split': 0.04773369524833802, 'min_samples_leaf': 0.04595363830861283, 'max_features': 'auto'}. Best is trial 152 with value: 0.49586776859504134.\n",
      "[I 2024-03-14 10:24:33,440] Trial 576 finished with value: 0.38292011019283745 and parameters: {'n_estimators': 107, 'max_depth': 43, 'min_samples_split': 0.028809949492508473, 'min_samples_leaf': 0.1377739980422124, 'max_features': 'auto'}. Best is trial 152 with value: 0.49586776859504134.\n",
      "[I 2024-03-14 10:24:37,051] Trial 577 finished with value: 0.4049586776859504 and parameters: {'n_estimators': 193, 'max_depth': 39, 'min_samples_split': 0.06950728589880138, 'min_samples_leaf': 0.06281187644680696, 'max_features': 'auto'}. Best is trial 152 with value: 0.49586776859504134.\n",
      "[I 2024-03-14 10:24:37,655] Trial 578 finished with value: 0.33884297520661155 and parameters: {'n_estimators': 133, 'max_depth': 35, 'min_samples_split': 0.41467410708929203, 'min_samples_leaf': 0.5389198160810019, 'max_features': 'auto'}. Best is trial 152 with value: 0.49586776859504134.\n",
      "[I 2024-03-14 10:24:39,913] Trial 579 finished with value: 0.44077134986225897 and parameters: {'n_estimators': 141, 'max_depth': 38, 'min_samples_split': 0.13239170838425796, 'min_samples_leaf': 0.026812263114759045, 'max_features': 'auto'}. Best is trial 152 with value: 0.49586776859504134.\n",
      "[I 2024-03-14 10:24:41,257] Trial 580 finished with value: 0.4132231404958678 and parameters: {'n_estimators': 151, 'max_depth': 42, 'min_samples_split': 0.23358117339410628, 'min_samples_leaf': 0.17023443652800846, 'max_features': 'auto'}. Best is trial 152 with value: 0.49586776859504134.\n",
      "[I 2024-03-14 10:24:42,147] Trial 581 finished with value: 0.33884297520661155 and parameters: {'n_estimators': 121, 'max_depth': 40, 'min_samples_split': 0.04714257094289587, 'min_samples_leaf': 0.3561437785126994, 'max_features': 'auto'}. Best is trial 152 with value: 0.49586776859504134.\n",
      "[I 2024-03-14 10:24:43,343] Trial 582 finished with value: 0.33884297520661155 and parameters: {'n_estimators': 222, 'max_depth': 44, 'min_samples_split': 0.9085688676230704, 'min_samples_leaf': 0.7077378907654667, 'max_features': 'auto'}. Best is trial 152 with value: 0.49586776859504134.\n",
      "[I 2024-03-14 10:24:43,945] Trial 583 finished with value: 0.33884297520661155 and parameters: {'n_estimators': 111, 'max_depth': 38, 'min_samples_split': 0.08487165267593792, 'min_samples_leaf': 0.9355433721160848, 'max_features': 'auto'}. Best is trial 152 with value: 0.49586776859504134.\n",
      "[I 2024-03-14 10:24:44,571] Trial 584 finished with value: 0.33884297520661155 and parameters: {'n_estimators': 104, 'max_depth': 37, 'min_samples_split': 0.029046260304678207, 'min_samples_leaf': 0.8766221983906595, 'max_features': 'auto'}. Best is trial 152 with value: 0.49586776859504134.\n",
      "[I 2024-03-14 10:24:46,405] Trial 585 finished with value: 0.45179063360881544 and parameters: {'n_estimators': 184, 'max_depth': 40, 'min_samples_split': 0.05945912738611315, 'min_samples_leaf': 0.04509817686988357, 'max_features': 'auto'}. Best is trial 152 with value: 0.49586776859504134.\n",
      "[I 2024-03-14 10:24:47,139] Trial 586 finished with value: 0.3884297520661157 and parameters: {'n_estimators': 125, 'max_depth': 41, 'min_samples_split': 0.5019208159183453, 'min_samples_leaf': 0.01115806721921822, 'max_features': 'auto'}. Best is trial 152 with value: 0.49586776859504134.\n",
      "[I 2024-03-14 10:24:48,698] Trial 587 finished with value: 0.4628099173553719 and parameters: {'n_estimators': 169, 'max_depth': 39, 'min_samples_split': 0.029184724277293947, 'min_samples_leaf': 0.029829627843936626, 'max_features': 'auto'}. Best is trial 152 with value: 0.49586776859504134.\n",
      "[I 2024-03-14 10:24:49,131] Trial 588 finished with value: 0.33884297520661155 and parameters: {'n_estimators': 116, 'max_depth': 42, 'min_samples_split': 0.010222862906124845, 'min_samples_leaf': 0.5007807604030693, 'max_features': 'auto'}. Best is trial 152 with value: 0.49586776859504134.\n",
      "[I 2024-03-14 10:24:50,105] Trial 589 finished with value: 0.418732782369146 and parameters: {'n_estimators': 144, 'max_depth': 24, 'min_samples_split': 0.15382274576259675, 'min_samples_leaf': 0.06518450236128426, 'max_features': 'auto'}. Best is trial 152 with value: 0.49586776859504134.\n",
      "[I 2024-03-14 10:24:51,293] Trial 590 finished with value: 0.4573002754820937 and parameters: {'n_estimators': 163, 'max_depth': 38, 'min_samples_split': 0.04482109991262931, 'min_samples_leaf': 0.04332410761134843, 'max_features': 'auto'}. Best is trial 152 with value: 0.49586776859504134.\n",
      "[I 2024-03-14 10:24:51,919] Trial 591 finished with value: 0.33884297520661155 and parameters: {'n_estimators': 174, 'max_depth': 41, 'min_samples_split': 0.9912727068494511, 'min_samples_leaf': 0.8049486053007731, 'max_features': 'auto'}. Best is trial 152 with value: 0.49586776859504134.\n",
      "[I 2024-03-14 10:24:53,829] Trial 592 finished with value: 0.4049586776859504 and parameters: {'n_estimators': 158, 'max_depth': 36, 'min_samples_split': 0.07384348893622027, 'min_samples_leaf': 0.09423734307158192, 'max_features': 'auto'}. Best is trial 152 with value: 0.49586776859504134.\n",
      "[I 2024-03-14 10:24:55,572] Trial 593 finished with value: 0.45454545454545453 and parameters: {'n_estimators': 107, 'max_depth': 39, 'min_samples_split': 0.10248650724823821, 'min_samples_leaf': 0.027010435743827187, 'max_features': 'auto'}. Best is trial 152 with value: 0.49586776859504134.\n",
      "[I 2024-03-14 10:24:56,406] Trial 594 finished with value: 0.33884297520661155 and parameters: {'n_estimators': 198, 'max_depth': 40, 'min_samples_split': 0.38430930154642196, 'min_samples_leaf': 0.729970440498941, 'max_features': 'auto'}. Best is trial 152 with value: 0.49586776859504134.\n",
      "[I 2024-03-14 10:24:56,990] Trial 595 finished with value: 0.4132231404958678 and parameters: {'n_estimators': 149, 'max_depth': 37, 'min_samples_split': 0.010216077838856547, 'min_samples_leaf': 0.28315196686727134, 'max_features': 'auto'}. Best is trial 152 with value: 0.49586776859504134.\n",
      "[I 2024-03-14 10:24:57,417] Trial 596 finished with value: 0.41046831955922863 and parameters: {'n_estimators': 100, 'max_depth': 35, 'min_samples_split': 0.057656302465006255, 'min_samples_leaf': 0.26077887900265495, 'max_features': 'auto'}. Best is trial 152 with value: 0.49586776859504134.\n",
      "[I 2024-03-14 10:24:58,339] Trial 597 finished with value: 0.33884297520661155 and parameters: {'n_estimators': 188, 'max_depth': 38, 'min_samples_split': 0.6589383101609099, 'min_samples_leaf': 0.010597522810978427, 'max_features': 'auto'}. Best is trial 152 with value: 0.49586776859504134.\n",
      "[I 2024-03-14 10:25:00,273] Trial 598 finished with value: 0.4490358126721763 and parameters: {'n_estimators': 129, 'max_depth': 39, 'min_samples_split': 0.033519789155341824, 'min_samples_leaf': 0.043723133414860046, 'max_features': 'auto'}. Best is trial 152 with value: 0.49586776859504134.\n",
      "[I 2024-03-14 10:25:02,837] Trial 599 finished with value: 0.46831955922865015 and parameters: {'n_estimators': 122, 'max_depth': 43, 'min_samples_split': 0.04703830681740877, 'min_samples_leaf': 0.011127576315781594, 'max_features': 'auto'}. Best is trial 152 with value: 0.49586776859504134.\n",
      "[I 2024-03-14 10:25:04,088] Trial 600 finished with value: 0.33884297520661155 and parameters: {'n_estimators': 168, 'max_depth': 41, 'min_samples_split': 0.8112520863068069, 'min_samples_leaf': 0.08048916773886118, 'max_features': 'auto'}. Best is trial 152 with value: 0.49586776859504134.\n",
      "[I 2024-03-14 10:25:05,329] Trial 601 finished with value: 0.3939393939393939 and parameters: {'n_estimators': 179, 'max_depth': 11, 'min_samples_split': 0.4484445335937128, 'min_samples_leaf': 0.12209354964362085, 'max_features': 'auto'}. Best is trial 152 with value: 0.49586776859504134.\n",
      "[I 2024-03-14 10:25:07,930] Trial 602 finished with value: 0.4738292011019284 and parameters: {'n_estimators': 138, 'max_depth': 37, 'min_samples_split': 0.08261405578409661, 'min_samples_leaf': 0.01006617349110064, 'max_features': 'auto'}. Best is trial 152 with value: 0.49586776859504134.\n",
      "[I 2024-03-14 10:25:08,412] Trial 603 finished with value: 0.33884297520661155 and parameters: {'n_estimators': 133, 'max_depth': 34, 'min_samples_split': 0.02445684124723134, 'min_samples_leaf': 0.34203276006516037, 'max_features': 'auto'}. Best is trial 152 with value: 0.49586776859504134.\n",
      "[I 2024-03-14 10:25:09,796] Trial 604 finished with value: 0.3856749311294766 and parameters: {'n_estimators': 154, 'max_depth': 40, 'min_samples_split': 0.5998765134358602, 'min_samples_leaf': 0.17561668943467867, 'max_features': 'auto'}. Best is trial 152 with value: 0.49586776859504134.\n",
      "[I 2024-03-14 10:25:10,671] Trial 605 finished with value: 0.33884297520661155 and parameters: {'n_estimators': 112, 'max_depth': 12, 'min_samples_split': 0.3226530811172876, 'min_samples_leaf': 0.8074992630832047, 'max_features': 'auto'}. Best is trial 152 with value: 0.49586776859504134.\n",
      "[I 2024-03-14 10:25:11,350] Trial 606 finished with value: 0.33884297520661155 and parameters: {'n_estimators': 115, 'max_depth': 39, 'min_samples_split': 0.24961649609318184, 'min_samples_leaf': 0.7090654751115141, 'max_features': 'auto'}. Best is trial 152 with value: 0.49586776859504134.\n",
      "[I 2024-03-14 10:25:12,602] Trial 607 finished with value: 0.39118457300275483 and parameters: {'n_estimators': 126, 'max_depth': 44, 'min_samples_split': 0.4779033145190505, 'min_samples_leaf': 0.030023782936555395, 'max_features': 'auto'}. Best is trial 152 with value: 0.49586776859504134.\n",
      "[I 2024-03-14 10:25:14,638] Trial 608 finished with value: 0.41597796143250687 and parameters: {'n_estimators': 162, 'max_depth': 36, 'min_samples_split': 0.06194466124961447, 'min_samples_leaf': 0.057379439070309186, 'max_features': 'auto'}. Best is trial 152 with value: 0.49586776859504134.\n",
      "[I 2024-03-14 10:25:16,532] Trial 609 finished with value: 0.45179063360881544 and parameters: {'n_estimators': 119, 'max_depth': 38, 'min_samples_split': 0.02976905239044355, 'min_samples_leaf': 0.029938269207869114, 'max_features': 'auto'}. Best is trial 152 with value: 0.49586776859504134.\n",
      "[I 2024-03-14 10:25:17,817] Trial 610 finished with value: 0.418732782369146 and parameters: {'n_estimators': 184, 'max_depth': 40, 'min_samples_split': 0.11888886288771972, 'min_samples_leaf': 0.31713658710758164, 'max_features': 'auto'}. Best is trial 152 with value: 0.49586776859504134.\n",
      "[I 2024-03-14 10:25:19,829] Trial 611 finished with value: 0.4297520661157025 and parameters: {'n_estimators': 172, 'max_depth': 37, 'min_samples_split': 0.17909989540275734, 'min_samples_leaf': 0.05448440193502897, 'max_features': 'auto'}. Best is trial 152 with value: 0.49586776859504134.\n",
      "[I 2024-03-14 10:25:20,786] Trial 612 finished with value: 0.3856749311294766 and parameters: {'n_estimators': 105, 'max_depth': 41, 'min_samples_split': 0.49329886611189533, 'min_samples_leaf': 0.030903836877469226, 'max_features': 'auto'}. Best is trial 152 with value: 0.49586776859504134.\n",
      "[I 2024-03-14 10:25:22,089] Trial 613 finished with value: 0.41597796143250687 and parameters: {'n_estimators': 110, 'max_depth': 42, 'min_samples_split': 0.043868301321642184, 'min_samples_leaf': 0.0713686524661924, 'max_features': 'auto'}. Best is trial 152 with value: 0.49586776859504134.\n",
      "[I 2024-03-14 10:25:23,399] Trial 614 finished with value: 0.33884297520661155 and parameters: {'n_estimators': 192, 'max_depth': 38, 'min_samples_split': 0.07333469962336145, 'min_samples_leaf': 0.9632306486014197, 'max_features': 'auto'}. Best is trial 152 with value: 0.49586776859504134.\n",
      "[I 2024-03-14 10:25:24,492] Trial 615 finished with value: 0.33884297520661155 and parameters: {'n_estimators': 145, 'max_depth': 39, 'min_samples_split': 0.024897834936277303, 'min_samples_leaf': 0.6688772336018016, 'max_features': 'auto'}. Best is trial 152 with value: 0.49586776859504134.\n",
      "[I 2024-03-14 10:25:25,639] Trial 616 finished with value: 0.39118457300275483 and parameters: {'n_estimators': 151, 'max_depth': 40, 'min_samples_split': 0.3636300698926902, 'min_samples_leaf': 0.2206960326618974, 'max_features': 'auto'}. Best is trial 152 with value: 0.49586776859504134.\n",
      "[I 2024-03-14 10:25:26,864] Trial 617 finished with value: 0.4022038567493113 and parameters: {'n_estimators': 167, 'max_depth': 9, 'min_samples_split': 0.054181931295372326, 'min_samples_leaf': 0.1531306137007576, 'max_features': 'auto'}. Best is trial 152 with value: 0.49586776859504134.\n",
      "[I 2024-03-14 10:25:27,752] Trial 618 finished with value: 0.33884297520661155 and parameters: {'n_estimators': 158, 'max_depth': 36, 'min_samples_split': 0.09258855954314348, 'min_samples_leaf': 0.3958836137635727, 'max_features': 'auto'}. Best is trial 152 with value: 0.49586776859504134.\n",
      "[I 2024-03-14 10:25:29,502] Trial 619 finished with value: 0.43526170798898073 and parameters: {'n_estimators': 127, 'max_depth': 34, 'min_samples_split': 0.0398151000482884, 'min_samples_leaf': 0.044493970187028775, 'max_features': 'auto'}. Best is trial 152 with value: 0.49586776859504134.\n",
      "[I 2024-03-14 10:25:30,685] Trial 620 finished with value: 0.3856749311294766 and parameters: {'n_estimators': 131, 'max_depth': 42, 'min_samples_split': 0.582162954615783, 'min_samples_leaf': 0.02661941124746523, 'max_features': 'auto'}. Best is trial 152 with value: 0.49586776859504134.\n",
      "[I 2024-03-14 10:25:31,612] Trial 621 finished with value: 0.33884297520661155 and parameters: {'n_estimators': 136, 'max_depth': 39, 'min_samples_split': 0.6834724411055486, 'min_samples_leaf': 0.010267039917082742, 'max_features': 'auto'}. Best is trial 152 with value: 0.49586776859504134.\n",
      "[I 2024-03-14 10:25:33,235] Trial 622 finished with value: 0.3856749311294766 and parameters: {'n_estimators': 178, 'max_depth': 38, 'min_samples_split': 0.5392544335862848, 'min_samples_leaf': 0.01032703438864118, 'max_features': 'auto'}. Best is trial 152 with value: 0.49586776859504134.\n",
      "[I 2024-03-14 10:25:34,066] Trial 623 finished with value: 0.33884297520661155 and parameters: {'n_estimators': 123, 'max_depth': 41, 'min_samples_split': 0.8545404172991972, 'min_samples_leaf': 0.4064420974616159, 'max_features': 'auto'}. Best is trial 152 with value: 0.49586776859504134.\n",
      "[I 2024-03-14 10:25:34,701] Trial 624 finished with value: 0.33884297520661155 and parameters: {'n_estimators': 103, 'max_depth': 37, 'min_samples_split': 0.010754667174579716, 'min_samples_leaf': 0.37467816301887813, 'max_features': 'auto'}. Best is trial 152 with value: 0.49586776859504134.\n",
      "[I 2024-03-14 10:25:35,930] Trial 625 finished with value: 0.39944903581267216 and parameters: {'n_estimators': 116, 'max_depth': 40, 'min_samples_split': 0.06293819415439793, 'min_samples_leaf': 0.09687813814512042, 'max_features': 'auto'}. Best is trial 152 with value: 0.49586776859504134.\n",
      "[I 2024-03-14 10:25:36,978] Trial 626 finished with value: 0.4214876033057851 and parameters: {'n_estimators': 142, 'max_depth': 43, 'min_samples_split': 0.028761329773804786, 'min_samples_leaf': 0.2916445338812633, 'max_features': 'auto'}. Best is trial 152 with value: 0.49586776859504134.\n",
      "[I 2024-03-14 10:25:38,105] Trial 627 finished with value: 0.33884297520661155 and parameters: {'n_estimators': 181, 'max_depth': 10, 'min_samples_split': 0.7051254718252811, 'min_samples_leaf': 0.7276135356278784, 'max_features': 'auto'}. Best is trial 152 with value: 0.49586776859504134.\n",
      "[I 2024-03-14 10:25:38,834] Trial 628 finished with value: 0.33884297520661155 and parameters: {'n_estimators': 108, 'max_depth': 39, 'min_samples_split': 0.010088341143037593, 'min_samples_leaf': 0.5708633251600089, 'max_features': 'auto'}. Best is trial 152 with value: 0.49586776859504134.\n",
      "[I 2024-03-14 10:25:39,871] Trial 629 finished with value: 0.33884297520661155 and parameters: {'n_estimators': 164, 'max_depth': 36, 'min_samples_split': 0.7377948971488338, 'min_samples_leaf': 0.04456261020915561, 'max_features': 'auto'}. Best is trial 152 with value: 0.49586776859504134.\n",
      "[I 2024-03-14 10:25:43,167] Trial 630 finished with value: 0.43526170798898073 and parameters: {'n_estimators': 257, 'max_depth': 38, 'min_samples_split': 0.13131663389317633, 'min_samples_leaf': 0.02902129184460136, 'max_features': 'auto'}. Best is trial 152 with value: 0.49586776859504134.\n",
      "[I 2024-03-14 10:25:44,443] Trial 631 finished with value: 0.33884297520661155 and parameters: {'n_estimators': 218, 'max_depth': 45, 'min_samples_split': 0.6948908187745514, 'min_samples_leaf': 0.6272116432306931, 'max_features': 'auto'}. Best is trial 152 with value: 0.49586776859504134.\n",
      "[I 2024-03-14 10:25:46,570] Trial 632 finished with value: 0.42424242424242425 and parameters: {'n_estimators': 186, 'max_depth': 40, 'min_samples_split': 0.18788380515985548, 'min_samples_leaf': 0.05905780308662799, 'max_features': 'auto'}. Best is trial 152 with value: 0.49586776859504134.\n",
      "[I 2024-03-14 10:25:47,998] Trial 633 finished with value: 0.3856749311294766 and parameters: {'n_estimators': 155, 'max_depth': 35, 'min_samples_split': 0.5208050619181693, 'min_samples_leaf': 0.030038016855574796, 'max_features': 'auto'}. Best is trial 152 with value: 0.49586776859504134.\n",
      "[I 2024-03-14 10:25:49,441] Trial 634 finished with value: 0.41597796143250687 and parameters: {'n_estimators': 121, 'max_depth': 16, 'min_samples_split': 0.04718488237731499, 'min_samples_leaf': 0.07117462588705536, 'max_features': 'auto'}. Best is trial 152 with value: 0.49586776859504134.\n",
      "[I 2024-03-14 10:25:50,608] Trial 635 finished with value: 0.33884297520661155 and parameters: {'n_estimators': 196, 'max_depth': 41, 'min_samples_split': 0.5611549294573451, 'min_samples_leaf': 0.7626913309545611, 'max_features': 'auto'}. Best is trial 152 with value: 0.49586776859504134.\n",
      "[I 2024-03-14 10:25:51,553] Trial 636 finished with value: 0.33884297520661155 and parameters: {'n_estimators': 172, 'max_depth': 39, 'min_samples_split': 0.07760207215978682, 'min_samples_leaf': 0.4488617775163091, 'max_features': 'auto'}. Best is trial 152 with value: 0.49586776859504134.\n",
      "[I 2024-03-14 10:25:52,887] Trial 637 finished with value: 0.44352617079889806 and parameters: {'n_estimators': 112, 'max_depth': 38, 'min_samples_split': 0.10730796225264827, 'min_samples_leaf': 0.04386948707232169, 'max_features': 'auto'}. Best is trial 152 with value: 0.49586776859504134.\n",
      "[I 2024-03-14 10:25:54,906] Trial 638 finished with value: 0.39669421487603307 and parameters: {'n_estimators': 190, 'max_depth': 37, 'min_samples_split': 0.4196872817449281, 'min_samples_leaf': 0.010934205309341902, 'max_features': 'auto'}. Best is trial 152 with value: 0.49586776859504134.\n",
      "[I 2024-03-14 10:25:56,080] Trial 639 finished with value: 0.33884297520661155 and parameters: {'n_estimators': 148, 'max_depth': 42, 'min_samples_split': 0.038539302817800096, 'min_samples_leaf': 0.5091993697078164, 'max_features': 'auto'}. Best is trial 152 with value: 0.49586776859504134.\n",
      "[I 2024-03-14 10:25:57,984] Trial 640 finished with value: 0.4573002754820937 and parameters: {'n_estimators': 118, 'max_depth': 47, 'min_samples_split': 0.06481986065847546, 'min_samples_leaf': 0.02851775702489094, 'max_features': 'auto'}. Best is trial 152 with value: 0.49586776859504134.\n",
      "[I 2024-03-14 10:25:59,052] Trial 641 finished with value: 0.40771349862258954 and parameters: {'n_estimators': 130, 'max_depth': 39, 'min_samples_split': 0.39303930794589703, 'min_samples_leaf': 0.2516246186480491, 'max_features': 'auto'}. Best is trial 152 with value: 0.49586776859504134.\n",
      "[I 2024-03-14 10:25:59,587] Trial 642 finished with value: 0.33884297520661155 and parameters: {'n_estimators': 138, 'max_depth': 6, 'min_samples_split': 0.03020847679282361, 'min_samples_leaf': 0.5938021372960547, 'max_features': 'auto'}. Best is trial 152 with value: 0.49586776859504134.\n",
      "[I 2024-03-14 10:26:00,171] Trial 643 finished with value: 0.3939393939393939 and parameters: {'n_estimators': 105, 'max_depth': 36, 'min_samples_split': 0.648478734300213, 'min_samples_leaf': 0.052906680982830565, 'max_features': 'auto'}. Best is trial 152 with value: 0.49586776859504134.\n",
      "[I 2024-03-14 10:26:01,099] Trial 644 finished with value: 0.33884297520661155 and parameters: {'n_estimators': 159, 'max_depth': 43, 'min_samples_split': 0.6692895086222459, 'min_samples_leaf': 0.21744891225190427, 'max_features': 'auto'}. Best is trial 152 with value: 0.49586776859504134.\n",
      "[I 2024-03-14 10:26:02,370] Trial 645 finished with value: 0.3884297520661157 and parameters: {'n_estimators': 126, 'max_depth': 40, 'min_samples_split': 0.4236237037812385, 'min_samples_leaf': 0.02672659844400202, 'max_features': 'auto'}. Best is trial 152 with value: 0.49586776859504134.\n",
      "[I 2024-03-14 10:26:03,050] Trial 646 finished with value: 0.33884297520661155 and parameters: {'n_estimators': 174, 'max_depth': 38, 'min_samples_split': 0.7539471389090839, 'min_samples_leaf': 0.9409566886509357, 'max_features': 'auto'}. Best is trial 152 with value: 0.49586776859504134.\n",
      "[I 2024-03-14 10:26:03,523] Trial 647 finished with value: 0.33884297520661155 and parameters: {'n_estimators': 166, 'max_depth': 41, 'min_samples_split': 0.33915321168144164, 'min_samples_leaf': 0.6424320583178598, 'max_features': 'auto'}. Best is trial 152 with value: 0.49586776859504134.\n",
      "[I 2024-03-14 10:26:03,891] Trial 648 finished with value: 0.33884297520661155 and parameters: {'n_estimators': 108, 'max_depth': 34, 'min_samples_split': 0.08887030214852418, 'min_samples_leaf': 0.49236561732838535, 'max_features': 'auto'}. Best is trial 152 with value: 0.49586776859504134.\n",
      "[I 2024-03-14 10:26:04,532] Trial 649 finished with value: 0.33884297520661155 and parameters: {'n_estimators': 226, 'max_depth': 37, 'min_samples_split': 0.010132373598487362, 'min_samples_leaf': 0.8994257357650562, 'max_features': 'auto'}. Best is trial 152 with value: 0.49586776859504134.\n",
      "[I 2024-03-14 10:26:06,261] Trial 650 finished with value: 0.4820936639118457 and parameters: {'n_estimators': 134, 'max_depth': 42, 'min_samples_split': 0.054040842290340785, 'min_samples_leaf': 0.01173055894762351, 'max_features': 'auto'}. Best is trial 152 with value: 0.49586776859504134.\n",
      "[I 2024-03-14 10:26:07,158] Trial 651 finished with value: 0.33884297520661155 and parameters: {'n_estimators': 183, 'max_depth': 39, 'min_samples_split': 0.2975621010784304, 'min_samples_leaf': 0.8640972617936019, 'max_features': 'auto'}. Best is trial 152 with value: 0.49586776859504134.\n",
      "[I 2024-03-14 10:26:07,747] Trial 652 finished with value: 0.33884297520661155 and parameters: {'n_estimators': 114, 'max_depth': 40, 'min_samples_split': 0.8433257261423761, 'min_samples_leaf': 0.10709438152042619, 'max_features': 'auto'}. Best is trial 152 with value: 0.49586776859504134.\n",
      "[I 2024-03-14 10:26:08,213] Trial 653 finished with value: 0.33884297520661155 and parameters: {'n_estimators': 152, 'max_depth': 35, 'min_samples_split': 0.042208309204109395, 'min_samples_leaf': 0.47228255350619813, 'max_features': 'auto'}. Best is trial 152 with value: 0.49586776859504134.\n",
      "[I 2024-03-14 10:26:08,755] Trial 654 finished with value: 0.33884297520661155 and parameters: {'n_estimators': 162, 'max_depth': 38, 'min_samples_split': 0.8144917053754568, 'min_samples_leaf': 0.7338080748471963, 'max_features': 'auto'}. Best is trial 152 with value: 0.49586776859504134.\n",
      "[I 2024-03-14 10:26:09,472] Trial 655 finished with value: 0.4022038567493113 and parameters: {'n_estimators': 146, 'max_depth': 41, 'min_samples_split': 0.06799075173989053, 'min_samples_leaf': 0.18455671523324552, 'max_features': 'auto'}. Best is trial 152 with value: 0.49586776859504134.\n",
      "[I 2024-03-14 10:26:10,195] Trial 656 finished with value: 0.418732782369146 and parameters: {'n_estimators': 121, 'max_depth': 20, 'min_samples_split': 0.1991676209306016, 'min_samples_leaf': 0.08302514666963373, 'max_features': 'auto'}. Best is trial 152 with value: 0.49586776859504134.\n",
      "[I 2024-03-14 10:26:10,968] Trial 657 finished with value: 0.4325068870523416 and parameters: {'n_estimators': 101, 'max_depth': 26, 'min_samples_split': 0.02498822061639471, 'min_samples_leaf': 0.04641533135885731, 'max_features': 'auto'}. Best is trial 152 with value: 0.49586776859504134.\n",
      "[I 2024-03-14 10:26:11,205] Trial 658 finished with value: 0.33884297520661155 and parameters: {'n_estimators': 110, 'max_depth': 8, 'min_samples_split': 0.04321541471818637, 'min_samples_leaf': 0.7676343634280833, 'max_features': 'auto'}. Best is trial 152 with value: 0.49586776859504134.\n",
      "[I 2024-03-14 10:26:11,516] Trial 659 finished with value: 0.33884297520661155 and parameters: {'n_estimators': 178, 'max_depth': 39, 'min_samples_split': 0.059108621340620324, 'min_samples_leaf': 0.7877852277490132, 'max_features': 'auto'}. Best is trial 152 with value: 0.49586776859504134.\n",
      "[I 2024-03-14 10:26:11,761] Trial 660 finished with value: 0.33884297520661155 and parameters: {'n_estimators': 140, 'max_depth': 10, 'min_samples_split': 0.45797393497088984, 'min_samples_leaf': 0.44136010664550757, 'max_features': 'auto'}. Best is trial 152 with value: 0.49586776859504134.\n",
      "[I 2024-03-14 10:26:12,740] Trial 661 finished with value: 0.48484848484848486 and parameters: {'n_estimators': 169, 'max_depth': 23, 'min_samples_split': 0.09011882181220474, 'min_samples_leaf': 0.010020721750356603, 'max_features': 'auto'}. Best is trial 152 with value: 0.49586776859504134.\n",
      "[I 2024-03-14 10:26:13,521] Trial 662 finished with value: 0.45454545454545453 and parameters: {'n_estimators': 170, 'max_depth': 44, 'min_samples_split': 0.10616426792798872, 'min_samples_leaf': 0.02874150208758361, 'max_features': 'auto'}. Best is trial 152 with value: 0.49586776859504134.\n",
      "[I 2024-03-14 10:26:13,954] Trial 663 finished with value: 0.3856749311294766 and parameters: {'n_estimators': 175, 'max_depth': 13, 'min_samples_split': 0.5479197216319349, 'min_samples_leaf': 0.06003697010057529, 'max_features': 'auto'}. Best is trial 152 with value: 0.49586776859504134.\n",
      "[I 2024-03-14 10:26:14,237] Trial 664 finished with value: 0.33884297520661155 and parameters: {'n_estimators': 167, 'max_depth': 17, 'min_samples_split': 0.11347790880356874, 'min_samples_leaf': 0.5617655214630745, 'max_features': 'auto'}. Best is trial 152 with value: 0.49586776859504134.\n",
      "[I 2024-03-14 10:26:14,523] Trial 665 finished with value: 0.33884297520661155 and parameters: {'n_estimators': 169, 'max_depth': 20, 'min_samples_split': 0.878047543831151, 'min_samples_leaf': 0.038491422283598704, 'max_features': 'auto'}. Best is trial 152 with value: 0.49586776859504134.\n",
      "[I 2024-03-14 10:26:14,800] Trial 666 finished with value: 0.33884297520661155 and parameters: {'n_estimators': 165, 'max_depth': 27, 'min_samples_split': 0.6186149985928777, 'min_samples_leaf': 0.4244969661424083, 'max_features': 'auto'}. Best is trial 152 with value: 0.49586776859504134.\n",
      "[I 2024-03-14 10:26:15,830] Trial 667 finished with value: 0.48484848484848486 and parameters: {'n_estimators': 175, 'max_depth': 13, 'min_samples_split': 0.09179983127628658, 'min_samples_leaf': 0.010520654019694653, 'max_features': 'auto'}. Best is trial 152 with value: 0.49586776859504134.\n",
      "[I 2024-03-14 10:26:16,775] Trial 668 finished with value: 0.44077134986225897 and parameters: {'n_estimators': 174, 'max_depth': 11, 'min_samples_split': 0.14306670418153827, 'min_samples_leaf': 0.02522738045134096, 'max_features': 'auto'}. Best is trial 152 with value: 0.49586776859504134.\n",
      "[I 2024-03-14 10:26:17,781] Trial 669 finished with value: 0.4765840220385675 and parameters: {'n_estimators': 176, 'max_depth': 12, 'min_samples_split': 0.09298346048462908, 'min_samples_leaf': 0.011603793068996594, 'max_features': 'auto'}. Best is trial 152 with value: 0.49586776859504134.\n",
      "[I 2024-03-14 10:26:18,079] Trial 670 finished with value: 0.33884297520661155 and parameters: {'n_estimators': 178, 'max_depth': 13, 'min_samples_split': 0.12521112922933203, 'min_samples_leaf': 0.6177386194424833, 'max_features': 'auto'}. Best is trial 152 with value: 0.49586776859504134.\n",
      "[I 2024-03-14 10:26:18,380] Trial 671 finished with value: 0.33884297520661155 and parameters: {'n_estimators': 170, 'max_depth': 33, 'min_samples_split': 0.7835967510596965, 'min_samples_leaf': 0.3575683715409977, 'max_features': 'auto'}. Best is trial 152 with value: 0.49586776859504134.\n",
      "[I 2024-03-14 10:26:19,347] Trial 672 finished with value: 0.465564738292011 and parameters: {'n_estimators': 167, 'max_depth': 22, 'min_samples_split': 0.08670349143855985, 'min_samples_leaf': 0.010688261289233305, 'max_features': 'auto'}. Best is trial 152 with value: 0.49586776859504134.\n",
      "[I 2024-03-14 10:26:19,643] Trial 673 finished with value: 0.33884297520661155 and parameters: {'n_estimators': 162, 'max_depth': 14, 'min_samples_split': 0.9820145366545692, 'min_samples_leaf': 0.7016118500079027, 'max_features': 'auto'}. Best is trial 152 with value: 0.49586776859504134.\n",
      "[I 2024-03-14 10:26:19,956] Trial 674 finished with value: 0.33884297520661155 and parameters: {'n_estimators': 181, 'max_depth': 12, 'min_samples_split': 0.8456163301339931, 'min_samples_leaf': 0.9892150804692244, 'max_features': 'auto'}. Best is trial 152 with value: 0.49586776859504134.\n",
      "[I 2024-03-14 10:26:20,279] Trial 675 finished with value: 0.33884297520661155 and parameters: {'n_estimators': 170, 'max_depth': 9, 'min_samples_split': 0.8824551930927228, 'min_samples_leaf': 0.2311791870243483, 'max_features': 'auto'}. Best is trial 152 with value: 0.49586776859504134.\n",
      "[I 2024-03-14 10:26:20,591] Trial 676 finished with value: 0.33884297520661155 and parameters: {'n_estimators': 171, 'max_depth': 18, 'min_samples_split': 0.09955943561121314, 'min_samples_leaf': 0.8123664127258969, 'max_features': 'auto'}. Best is trial 152 with value: 0.49586776859504134.\n",
      "[I 2024-03-14 10:26:21,012] Trial 677 finished with value: 0.33884297520661155 and parameters: {'n_estimators': 175, 'max_depth': 10, 'min_samples_split': 0.9542973562511804, 'min_samples_leaf': 0.5266598511026257, 'max_features': 'auto'}. Best is trial 152 with value: 0.49586776859504134.\n",
      "[I 2024-03-14 10:26:21,794] Trial 678 finished with value: 0.43526170798898073 and parameters: {'n_estimators': 181, 'max_depth': 8, 'min_samples_split': 0.14025897082014563, 'min_samples_leaf': 0.047103294159399116, 'max_features': 'auto'}. Best is trial 152 with value: 0.49586776859504134.\n",
      "[I 2024-03-14 10:26:22,096] Trial 679 finished with value: 0.33884297520661155 and parameters: {'n_estimators': 186, 'max_depth': 11, 'min_samples_split': 0.43219884785064855, 'min_samples_leaf': 0.6814601759282524, 'max_features': 'auto'}. Best is trial 152 with value: 0.49586776859504134.\n",
      "[I 2024-03-14 10:26:22,582] Trial 680 finished with value: 0.39944903581267216 and parameters: {'n_estimators': 173, 'max_depth': 11, 'min_samples_split': 0.07943609569245194, 'min_samples_leaf': 0.12404654561844797, 'max_features': 'auto'}. Best is trial 152 with value: 0.49586776859504134.\n",
      "[I 2024-03-14 10:26:23,086] Trial 681 finished with value: 0.39669421487603307 and parameters: {'n_estimators': 161, 'max_depth': 43, 'min_samples_split': 0.3168004630686208, 'min_samples_leaf': 0.07688307330362942, 'max_features': 'auto'}. Best is trial 152 with value: 0.49586776859504134.\n",
      "[I 2024-03-14 10:26:23,785] Trial 682 finished with value: 0.4132231404958678 and parameters: {'n_estimators': 178, 'max_depth': 22, 'min_samples_split': 0.23134551855511215, 'min_samples_leaf': 0.03650988870821296, 'max_features': 'auto'}. Best is trial 152 with value: 0.49586776859504134.\n",
      "[I 2024-03-14 10:26:24,052] Trial 683 finished with value: 0.33884297520661155 and parameters: {'n_estimators': 165, 'max_depth': 10, 'min_samples_split': 0.11023011221865636, 'min_samples_leaf': 0.632364701714876, 'max_features': 'auto'}. Best is trial 152 with value: 0.49586776859504134.\n",
      "[I 2024-03-14 10:26:24,828] Trial 684 finished with value: 0.4628099173553719 and parameters: {'n_estimators': 172, 'max_depth': 25, 'min_samples_split': 0.07337179676744751, 'min_samples_leaf': 0.027765743792550347, 'max_features': 'auto'}. Best is trial 152 with value: 0.49586776859504134.\n",
      "[I 2024-03-14 10:26:25,590] Trial 685 finished with value: 0.44352617079889806 and parameters: {'n_estimators': 155, 'max_depth': 14, 'min_samples_split': 0.12500695814931906, 'min_samples_leaf': 0.011207457562780429, 'max_features': 'auto'}. Best is trial 152 with value: 0.49586776859504134.\n",
      "[I 2024-03-14 10:26:26,154] Trial 686 finished with value: 0.4214876033057851 and parameters: {'n_estimators': 158, 'max_depth': 15, 'min_samples_split': 0.08265369848661087, 'min_samples_leaf': 0.05734264186732488, 'max_features': 'auto'}. Best is trial 152 with value: 0.49586776859504134.\n",
      "[I 2024-03-14 10:26:26,372] Trial 687 finished with value: 0.33884297520661155 and parameters: {'n_estimators': 133, 'max_depth': 12, 'min_samples_split': 0.15116706914310668, 'min_samples_leaf': 0.3823602829818137, 'max_features': 'auto'}. Best is trial 152 with value: 0.49586776859504134.\n",
      "[I 2024-03-14 10:26:26,764] Trial 688 finished with value: 0.4132231404958678 and parameters: {'n_estimators': 189, 'max_depth': 42, 'min_samples_split': 0.2639859882092418, 'min_samples_leaf': 0.2618672116690437, 'max_features': 'auto'}. Best is trial 152 with value: 0.49586776859504134.\n",
      "[I 2024-03-14 10:26:27,306] Trial 689 finished with value: 0.3856749311294766 and parameters: {'n_estimators': 168, 'max_depth': 23, 'min_samples_split': 0.5954474823682668, 'min_samples_leaf': 0.04047013207980177, 'max_features': 'auto'}. Best is trial 152 with value: 0.49586776859504134.\n",
      "[I 2024-03-14 10:26:27,950] Trial 690 finished with value: 0.40771349862258954 and parameters: {'n_estimators': 176, 'max_depth': 41, 'min_samples_split': 0.24124433252985014, 'min_samples_leaf': 0.027219062893152995, 'max_features': 'auto'}. Best is trial 152 with value: 0.49586776859504134.\n",
      "[I 2024-03-14 10:26:28,249] Trial 691 finished with value: 0.33884297520661155 and parameters: {'n_estimators': 182, 'max_depth': 9, 'min_samples_split': 0.06095110138558897, 'min_samples_leaf': 0.3300777576236543, 'max_features': 'auto'}. Best is trial 152 with value: 0.49586776859504134.\n",
      "[I 2024-03-14 10:26:28,545] Trial 692 finished with value: 0.33884297520661155 and parameters: {'n_estimators': 195, 'max_depth': 35, 'min_samples_split': 0.3623735037883171, 'min_samples_leaf': 0.9184544610817823, 'max_features': 'auto'}. Best is trial 152 with value: 0.49586776859504134.\n",
      "[I 2024-03-14 10:26:29,077] Trial 693 finished with value: 0.33884297520661155 and parameters: {'n_estimators': 289, 'max_depth': 33, 'min_samples_split': 0.058162005404798725, 'min_samples_leaf': 0.7442993343318481, 'max_features': 'auto'}. Best is trial 152 with value: 0.49586776859504134.\n",
      "[I 2024-03-14 10:26:29,347] Trial 694 finished with value: 0.33884297520661155 and parameters: {'n_estimators': 144, 'max_depth': 36, 'min_samples_split': 0.47550884306331687, 'min_samples_leaf': 0.8369955542900842, 'max_features': 'auto'}. Best is trial 152 with value: 0.49586776859504134.\n",
      "[I 2024-03-14 10:26:29,721] Trial 695 finished with value: 0.3856749311294766 and parameters: {'n_estimators': 129, 'max_depth': 41, 'min_samples_split': 0.5002769152479153, 'min_samples_leaf': 0.06612715860792567, 'max_features': 'auto'}. Best is trial 152 with value: 0.49586776859504134.\n",
      "[I 2024-03-14 10:26:30,063] Trial 696 finished with value: 0.33884297520661155 and parameters: {'n_estimators': 150, 'max_depth': 43, 'min_samples_split': 0.09288963353010925, 'min_samples_leaf': 0.7722946357217435, 'max_features': 'auto'}. Best is trial 152 with value: 0.49586776859504134.\n",
      "[I 2024-03-14 10:26:30,657] Trial 697 finished with value: 0.3856749311294766 and parameters: {'n_estimators': 164, 'max_depth': 42, 'min_samples_split': 0.010210727326573653, 'min_samples_leaf': 0.14775777022385414, 'max_features': 'auto'}. Best is trial 152 with value: 0.49586776859504134.\n",
      "[I 2024-03-14 10:26:31,118] Trial 698 finished with value: 0.3939393939393939 and parameters: {'n_estimators': 136, 'max_depth': 40, 'min_samples_split': 0.47774092869308393, 'min_samples_leaf': 0.01084413317324966, 'max_features': 'auto'}. Best is trial 152 with value: 0.49586776859504134.\n",
      "[I 2024-03-14 10:26:31,454] Trial 699 finished with value: 0.33884297520661155 and parameters: {'n_estimators': 185, 'max_depth': 13, 'min_samples_split': 0.045991333598342135, 'min_samples_leaf': 0.8398299554171296, 'max_features': 'auto'}. Best is trial 152 with value: 0.49586776859504134.\n",
      "[I 2024-03-14 10:26:31,871] Trial 700 finished with value: 0.3939393939393939 and parameters: {'n_estimators': 125, 'max_depth': 10, 'min_samples_split': 0.3778138129192724, 'min_samples_leaf': 0.043361983283317154, 'max_features': 'auto'}. Best is trial 152 with value: 0.49586776859504134.\n",
      "[I 2024-03-14 10:26:32,261] Trial 701 finished with value: 0.418732782369146 and parameters: {'n_estimators': 161, 'max_depth': 11, 'min_samples_split': 0.2112333700549623, 'min_samples_leaf': 0.31257827581902764, 'max_features': 'auto'}. Best is trial 152 with value: 0.49586776859504134.\n",
      "[I 2024-03-14 10:26:32,517] Trial 702 finished with value: 0.33884297520661155 and parameters: {'n_estimators': 141, 'max_depth': 37, 'min_samples_split': 0.07601047753378776, 'min_samples_leaf': 0.7864409398040721, 'max_features': 'auto'}. Best is trial 152 with value: 0.49586776859504134.\n",
      "[I 2024-03-14 10:26:33,630] Trial 703 finished with value: 0.46831955922865015 and parameters: {'n_estimators': 154, 'max_depth': 44, 'min_samples_split': 0.028837965965468136, 'min_samples_leaf': 0.010451827559380792, 'max_features': 'auto'}. Best is trial 152 with value: 0.49586776859504134.\n",
      "[I 2024-03-14 10:26:34,114] Trial 704 finished with value: 0.3856749311294766 and parameters: {'n_estimators': 171, 'max_depth': 40, 'min_samples_split': 0.5684687806719011, 'min_samples_leaf': 0.08271519162858929, 'max_features': 'auto'}. Best is trial 152 with value: 0.49586776859504134.\n",
      "[I 2024-03-14 10:26:34,526] Trial 705 finished with value: 0.33884297520661155 and parameters: {'n_estimators': 235, 'max_depth': 28, 'min_samples_split': 0.8920788551135184, 'min_samples_leaf': 0.028342151424871717, 'max_features': 'auto'}. Best is trial 152 with value: 0.49586776859504134.\n",
      "[I 2024-03-14 10:26:35,276] Trial 706 finished with value: 0.42424242424242425 and parameters: {'n_estimators': 200, 'max_depth': 36, 'min_samples_split': 0.16783325171302307, 'min_samples_leaf': 0.055110239866498684, 'max_features': 'auto'}. Best is trial 152 with value: 0.49586776859504134.\n",
      "[I 2024-03-14 10:26:36,426] Trial 707 finished with value: 0.48484848484848486 and parameters: {'n_estimators': 180, 'max_depth': 41, 'min_samples_split': 0.050927588209661714, 'min_samples_leaf': 0.010378980412307122, 'max_features': 'auto'}. Best is trial 152 with value: 0.49586776859504134.\n",
      "[I 2024-03-14 10:26:36,712] Trial 708 finished with value: 0.33884297520661155 and parameters: {'n_estimators': 174, 'max_depth': 42, 'min_samples_split': 0.10045597430316955, 'min_samples_leaf': 0.40801134362472263, 'max_features': 'auto'}. Best is trial 152 with value: 0.49586776859504134.\n",
      "[I 2024-03-14 10:26:36,998] Trial 709 finished with value: 0.33884297520661155 and parameters: {'n_estimators': 178, 'max_depth': 41, 'min_samples_split': 0.06610542858866364, 'min_samples_leaf': 0.6491996487271631, 'max_features': 'auto'}. Best is trial 152 with value: 0.49586776859504134.\n",
      "[I 2024-03-14 10:26:37,372] Trial 710 finished with value: 0.33884297520661155 and parameters: {'n_estimators': 179, 'max_depth': 41, 'min_samples_split': 0.05187551848388252, 'min_samples_leaf': 0.8943995110385345, 'max_features': 'auto'}. Best is trial 152 with value: 0.49586776859504134.\n",
      "[I 2024-03-14 10:26:37,794] Trial 711 finished with value: 0.33884297520661155 and parameters: {'n_estimators': 174, 'max_depth': 43, 'min_samples_split': 0.07587976794471288, 'min_samples_leaf': 0.5898199303508661, 'max_features': 'auto'}. Best is trial 152 with value: 0.49586776859504134.\n",
      "[I 2024-03-14 10:26:38,439] Trial 712 finished with value: 0.39944903581267216 and parameters: {'n_estimators': 169, 'max_depth': 42, 'min_samples_split': 0.11325817827446087, 'min_samples_leaf': 0.16435369061659572, 'max_features': 'auto'}. Best is trial 152 with value: 0.49586776859504134.\n",
      "[I 2024-03-14 10:26:38,828] Trial 713 finished with value: 0.33884297520661155 and parameters: {'n_estimators': 180, 'max_depth': 41, 'min_samples_split': 0.7657250275284293, 'min_samples_leaf': 0.8243071785922567, 'max_features': 'auto'}. Best is trial 152 with value: 0.49586776859504134.\n",
      "[I 2024-03-14 10:26:39,524] Trial 714 finished with value: 0.45454545454545453 and parameters: {'n_estimators': 130, 'max_depth': 40, 'min_samples_split': 0.042966373018073614, 'min_samples_leaf': 0.04046046135671019, 'max_features': 'auto'}. Best is trial 152 with value: 0.49586776859504134.\n",
      "[I 2024-03-14 10:26:40,193] Trial 715 finished with value: 0.43526170798898073 and parameters: {'n_estimators': 148, 'max_depth': 19, 'min_samples_split': 0.09059176809076613, 'min_samples_leaf': 0.029222683518383107, 'max_features': 'auto'}. Best is trial 152 with value: 0.49586776859504134.\n",
      "[I 2024-03-14 10:26:40,755] Trial 716 finished with value: 0.4214876033057851 and parameters: {'n_estimators': 158, 'max_depth': 40, 'min_samples_split': 0.2896820463695183, 'min_samples_leaf': 0.010492690240540831, 'max_features': 'auto'}. Best is trial 152 with value: 0.49586776859504134.\n",
      "[I 2024-03-14 10:26:41,088] Trial 717 finished with value: 0.33884297520661155 and parameters: {'n_estimators': 166, 'max_depth': 42, 'min_samples_split': 0.9461358799780097, 'min_samples_leaf': 0.0620759355008748, 'max_features': 'auto'}. Best is trial 152 with value: 0.49586776859504134.\n",
      "[I 2024-03-14 10:26:41,500] Trial 718 finished with value: 0.3856749311294766 and parameters: {'n_estimators': 173, 'max_depth': 42, 'min_samples_split': 0.6152535981785352, 'min_samples_leaf': 0.09707141400512528, 'max_features': 'auto'}. Best is trial 152 with value: 0.49586776859504134.\n",
      "[I 2024-03-14 10:26:41,990] Trial 719 finished with value: 0.3884297520661157 and parameters: {'n_estimators': 181, 'max_depth': 7, 'min_samples_split': 0.3983761630931425, 'min_samples_leaf': 0.03963439042342154, 'max_features': 'auto'}. Best is trial 152 with value: 0.49586776859504134.\n",
      "[I 2024-03-14 10:26:42,413] Trial 720 finished with value: 0.3856749311294766 and parameters: {'n_estimators': 176, 'max_depth': 41, 'min_samples_split': 0.5724169245081815, 'min_samples_leaf': 0.010790876113641275, 'max_features': 'auto'}. Best is trial 152 with value: 0.49586776859504134.\n",
      "[I 2024-03-14 10:26:42,625] Trial 721 finished with value: 0.33884297520661155 and parameters: {'n_estimators': 126, 'max_depth': 44, 'min_samples_split': 0.9164588764014788, 'min_samples_leaf': 0.010131443176110625, 'max_features': 'auto'}. Best is trial 152 with value: 0.49586776859504134.\n",
      "[I 2024-03-14 10:26:42,940] Trial 722 finished with value: 0.4022038567493113 and parameters: {'n_estimators': 134, 'max_depth': 40, 'min_samples_split': 0.06668342809739639, 'min_samples_leaf': 0.2005931607112243, 'max_features': 'auto'}. Best is trial 152 with value: 0.49586776859504134.\n",
      "[I 2024-03-14 10:26:43,485] Trial 723 finished with value: 0.43526170798898073 and parameters: {'n_estimators': 164, 'max_depth': 29, 'min_samples_split': 0.2601840000270719, 'min_samples_leaf': 0.04485205947399492, 'max_features': 'auto'}. Best is trial 152 with value: 0.49586776859504134.\n",
      "[I 2024-03-14 10:26:43,833] Trial 724 finished with value: 0.33884297520661155 and parameters: {'n_estimators': 184, 'max_depth': 8, 'min_samples_split': 0.7597219390765145, 'min_samples_leaf': 0.3031112493161708, 'max_features': 'auto'}. Best is trial 152 with value: 0.49586776859504134.\n",
      "[I 2024-03-14 10:26:44,110] Trial 725 finished with value: 0.33884297520661155 and parameters: {'n_estimators': 169, 'max_depth': 40, 'min_samples_split': 0.34483563938045775, 'min_samples_leaf': 0.4961345302189074, 'max_features': 'auto'}. Best is trial 152 with value: 0.49586776859504134.\n",
      "[I 2024-03-14 10:26:44,336] Trial 726 finished with value: 0.33884297520661155 and parameters: {'n_estimators': 142, 'max_depth': 39, 'min_samples_split': 0.04391453873919615, 'min_samples_leaf': 0.6967475240198593, 'max_features': 'auto'}. Best is trial 152 with value: 0.49586776859504134.\n",
      "[I 2024-03-14 10:26:44,647] Trial 727 finished with value: 0.33884297520661155 and parameters: {'n_estimators': 213, 'max_depth': 46, 'min_samples_split': 0.7168813129473113, 'min_samples_leaf': 0.7883513058349783, 'max_features': 'auto'}. Best is trial 152 with value: 0.49586776859504134.\n",
      "[I 2024-03-14 10:26:45,374] Trial 728 finished with value: 0.45454545454545453 and parameters: {'n_estimators': 151, 'max_depth': 41, 'min_samples_split': 0.02890694863098705, 'min_samples_leaf': 0.029382934579750948, 'max_features': 'auto'}. Best is trial 152 with value: 0.49586776859504134.\n",
      "[I 2024-03-14 10:26:45,665] Trial 729 finished with value: 0.33884297520661155 and parameters: {'n_estimators': 157, 'max_depth': 42, 'min_samples_split': 0.6876010106790871, 'min_samples_leaf': 0.06523677078188969, 'max_features': 'auto'}. Best is trial 152 with value: 0.49586776859504134.\n",
      "[I 2024-03-14 10:26:45,921] Trial 730 finished with value: 0.33884297520661155 and parameters: {'n_estimators': 137, 'max_depth': 43, 'min_samples_split': 0.16058612658069776, 'min_samples_leaf': 0.9176790650234481, 'max_features': 'auto'}. Best is trial 152 with value: 0.49586776859504134.\n",
      "[I 2024-03-14 10:26:46,560] Trial 731 finished with value: 0.4380165289256198 and parameters: {'n_estimators': 127, 'max_depth': 39, 'min_samples_split': 0.12710432910772868, 'min_samples_leaf': 0.032095426654349786, 'max_features': 'auto'}. Best is trial 152 with value: 0.49586776859504134.\n",
      "[I 2024-03-14 10:26:47,291] Trial 732 finished with value: 0.44352617079889806 and parameters: {'n_estimators': 177, 'max_depth': 34, 'min_samples_split': 0.05510357910202565, 'min_samples_leaf': 0.053052600565234316, 'max_features': 'auto'}. Best is trial 152 with value: 0.49586776859504134.\n",
      "[I 2024-03-14 10:26:47,833] Trial 733 finished with value: 0.4049586776859504 and parameters: {'n_estimators': 162, 'max_depth': 41, 'min_samples_split': 0.08196282690515597, 'min_samples_leaf': 0.11663030145004816, 'max_features': 'auto'}. Best is trial 152 with value: 0.49586776859504134.\n",
      "[I 2024-03-14 10:26:48,072] Trial 734 finished with value: 0.33884297520661155 and parameters: {'n_estimators': 122, 'max_depth': 39, 'min_samples_split': 0.026023432013356964, 'min_samples_leaf': 0.8302611376279458, 'max_features': 'auto'}. Best is trial 152 with value: 0.49586776859504134.\n",
      "[I 2024-03-14 10:26:48,926] Trial 735 finished with value: 0.4573002754820937 and parameters: {'n_estimators': 167, 'max_depth': 9, 'min_samples_split': 0.06276724673725291, 'min_samples_leaf': 0.02905182586789423, 'max_features': 'auto'}. Best is trial 152 with value: 0.49586776859504134.\n",
      "[I 2024-03-14 10:26:49,282] Trial 736 finished with value: 0.3939393939393939 and parameters: {'n_estimators': 147, 'max_depth': 40, 'min_samples_split': 0.3236300131215187, 'min_samples_leaf': 0.20767732491522523, 'max_features': 'auto'}. Best is trial 152 with value: 0.49586776859504134.\n",
      "[I 2024-03-14 10:26:49,621] Trial 737 finished with value: 0.33884297520661155 and parameters: {'n_estimators': 131, 'max_depth': 45, 'min_samples_split': 0.29702172941914295, 'min_samples_leaf': 0.5308706788661646, 'max_features': 'auto'}. Best is trial 152 with value: 0.49586776859504134.\n",
      "[I 2024-03-14 10:26:50,266] Trial 738 finished with value: 0.4022038567493113 and parameters: {'n_estimators': 155, 'max_depth': 42, 'min_samples_split': 0.04137042002711633, 'min_samples_leaf': 0.08539680707768296, 'max_features': 'auto'}. Best is trial 152 with value: 0.49586776859504134.\n",
      "[I 2024-03-14 10:26:50,865] Trial 739 finished with value: 0.41597796143250687 and parameters: {'n_estimators': 172, 'max_depth': 40, 'min_samples_split': 0.2666825163983204, 'min_samples_leaf': 0.02635076911773354, 'max_features': 'auto'}. Best is trial 152 with value: 0.49586776859504134.\n",
      "[I 2024-03-14 10:26:51,626] Trial 740 finished with value: 0.4793388429752066 and parameters: {'n_estimators': 139, 'max_depth': 12, 'min_samples_split': 0.09689228983418151, 'min_samples_leaf': 0.01006299884565809, 'max_features': 'auto'}. Best is trial 152 with value: 0.49586776859504134.\n",
      "[I 2024-03-14 10:26:52,002] Trial 741 finished with value: 0.3939393939393939 and parameters: {'n_estimators': 183, 'max_depth': 39, 'min_samples_split': 0.5315544780720645, 'min_samples_leaf': 0.24302531740691985, 'max_features': 'auto'}. Best is trial 152 with value: 0.49586776859504134.\n",
      "[I 2024-03-14 10:26:52,208] Trial 742 finished with value: 0.33884297520661155 and parameters: {'n_estimators': 124, 'max_depth': 41, 'min_samples_split': 0.02659860607910482, 'min_samples_leaf': 0.37029890649678576, 'max_features': 'auto'}. Best is trial 152 with value: 0.49586776859504134.\n",
      "[I 2024-03-14 10:26:52,474] Trial 743 finished with value: 0.33884297520661155 and parameters: {'n_estimators': 160, 'max_depth': 43, 'min_samples_split': 0.010451924321966767, 'min_samples_leaf': 0.8628685853475454, 'max_features': 'auto'}. Best is trial 152 with value: 0.49586776859504134.\n",
      "[I 2024-03-14 10:26:52,895] Trial 744 finished with value: 0.4022038567493113 and parameters: {'n_estimators': 177, 'max_depth': 40, 'min_samples_split': 0.05616514766896199, 'min_samples_leaf': 0.1795219305352982, 'max_features': 'auto'}. Best is trial 152 with value: 0.49586776859504134.\n",
      "[I 2024-03-14 10:26:53,206] Trial 745 finished with value: 0.33884297520661155 and parameters: {'n_estimators': 144, 'max_depth': 38, 'min_samples_split': 0.72635399981765, 'min_samples_leaf': 0.04988771232606887, 'max_features': 'auto'}. Best is trial 152 with value: 0.49586776859504134.\n",
      "[I 2024-03-14 10:26:53,993] Trial 746 finished with value: 0.418732782369146 and parameters: {'n_estimators': 241, 'max_depth': 39, 'min_samples_split': 0.07983857627312027, 'min_samples_leaf': 0.0691077646526651, 'max_features': 'auto'}. Best is trial 152 with value: 0.49586776859504134.\n",
      "[I 2024-03-14 10:26:54,603] Trial 747 finished with value: 0.42699724517906334 and parameters: {'n_estimators': 172, 'max_depth': 17, 'min_samples_split': 0.21434701925443714, 'min_samples_leaf': 0.02839834745211472, 'max_features': 'auto'}. Best is trial 152 with value: 0.49586776859504134.\n",
      "[I 2024-03-14 10:26:55,178] Trial 748 finished with value: 0.4297520661157025 and parameters: {'n_estimators': 152, 'max_depth': 41, 'min_samples_split': 0.03971716941350933, 'min_samples_leaf': 0.046338879222267974, 'max_features': 'auto'}. Best is trial 152 with value: 0.49586776859504134.\n",
      "[I 2024-03-14 10:26:55,972] Trial 749 finished with value: 0.45179063360881544 and parameters: {'n_estimators': 165, 'max_depth': 11, 'min_samples_split': 0.10832151793947956, 'min_samples_leaf': 0.01103438654753208, 'max_features': 'auto'}. Best is trial 152 with value: 0.49586776859504134.\n",
      "[I 2024-03-14 10:26:56,277] Trial 750 finished with value: 0.3884297520661157 and parameters: {'n_estimators': 118, 'max_depth': 38, 'min_samples_split': 0.441450683721342, 'min_samples_leaf': 0.029617167891952928, 'max_features': 'auto'}. Best is trial 152 with value: 0.49586776859504134.\n",
      "[I 2024-03-14 10:26:56,982] Trial 751 finished with value: 0.48760330578512395 and parameters: {'n_estimators': 132, 'max_depth': 16, 'min_samples_split': 0.06648091812706831, 'min_samples_leaf': 0.010642841908787642, 'max_features': 'auto'}. Best is trial 152 with value: 0.49586776859504134.\n",
      "[I 2024-03-14 10:26:57,221] Trial 752 finished with value: 0.33884297520661155 and parameters: {'n_estimators': 133, 'max_depth': 18, 'min_samples_split': 0.9214696262697741, 'min_samples_leaf': 0.339384618890203, 'max_features': 'auto'}. Best is trial 152 with value: 0.49586776859504134.\n",
      "[I 2024-03-14 10:26:57,432] Trial 753 finished with value: 0.33884297520661155 and parameters: {'n_estimators': 131, 'max_depth': 24, 'min_samples_split': 0.9901773720567464, 'min_samples_leaf': 0.050763971941789984, 'max_features': 'auto'}. Best is trial 152 with value: 0.49586776859504134.\n",
      "[I 2024-03-14 10:26:57,868] Trial 754 finished with value: 0.41046831955922863 and parameters: {'n_estimators': 127, 'max_depth': 13, 'min_samples_split': 0.07336177339687983, 'min_samples_leaf': 0.07569362907211113, 'max_features': 'auto'}. Best is trial 152 with value: 0.49586776859504134.\n",
      "[I 2024-03-14 10:26:58,086] Trial 755 finished with value: 0.33884297520661155 and parameters: {'n_estimators': 130, 'max_depth': 15, 'min_samples_split': 0.13163542487821905, 'min_samples_leaf': 0.8812003455604622, 'max_features': 'auto'}. Best is trial 152 with value: 0.49586776859504134.\n",
      "[I 2024-03-14 10:26:58,589] Trial 756 finished with value: 0.4490358126721763 and parameters: {'n_estimators': 136, 'max_depth': 43, 'min_samples_split': 0.19194881331242591, 'min_samples_leaf': 0.02655852270122416, 'max_features': 'auto'}. Best is trial 152 with value: 0.49586776859504134.\n",
      "[I 2024-03-14 10:26:58,808] Trial 757 finished with value: 0.33884297520661155 and parameters: {'n_estimators': 134, 'max_depth': 13, 'min_samples_split': 0.056060984712349826, 'min_samples_leaf': 0.8454842436609797, 'max_features': 'auto'}. Best is trial 152 with value: 0.49586776859504134.\n",
      "[I 2024-03-14 10:26:59,020] Trial 758 finished with value: 0.33884297520661155 and parameters: {'n_estimators': 127, 'max_depth': 10, 'min_samples_split': 0.8176810580176541, 'min_samples_leaf': 0.39108784701070287, 'max_features': 'auto'}. Best is trial 152 with value: 0.49586776859504134.\n",
      "[I 2024-03-14 10:26:59,273] Trial 759 finished with value: 0.33884297520661155 and parameters: {'n_estimators': 123, 'max_depth': 19, 'min_samples_split': 0.4724964763932968, 'min_samples_leaf': 0.3481003547980658, 'max_features': 'auto'}. Best is trial 152 with value: 0.49586776859504134.\n",
      "[I 2024-03-14 10:26:59,691] Trial 760 finished with value: 0.40771349862258954 and parameters: {'n_estimators': 130, 'max_depth': 15, 'min_samples_split': 0.09522558780672855, 'min_samples_leaf': 0.10717420459730603, 'max_features': 'auto'}. Best is trial 152 with value: 0.49586776859504134.\n",
      "[I 2024-03-14 10:27:00,230] Trial 761 finished with value: 0.43526170798898073 and parameters: {'n_estimators': 134, 'max_depth': 21, 'min_samples_split': 0.02652949040685311, 'min_samples_leaf': 0.043704249939048215, 'max_features': 'auto'}. Best is trial 152 with value: 0.49586776859504134.\n",
      "[I 2024-03-14 10:27:00,573] Trial 762 finished with value: 0.40771349862258954 and parameters: {'n_estimators': 124, 'max_depth': 40, 'min_samples_split': 0.07205761749648433, 'min_samples_leaf': 0.129909061662211, 'max_features': 'auto'}. Best is trial 152 with value: 0.49586776859504134.\n",
      "[I 2024-03-14 10:27:01,461] Trial 763 finished with value: 0.4738292011019284 and parameters: {'n_estimators': 180, 'max_depth': 12, 'min_samples_split': 0.04714162213957247, 'min_samples_leaf': 0.02669280345345195, 'max_features': 'auto'}. Best is trial 152 with value: 0.49586776859504134.\n",
      "[I 2024-03-14 10:27:01,936] Trial 764 finished with value: 0.33884297520661155 and parameters: {'n_estimators': 273, 'max_depth': 10, 'min_samples_split': 0.7633352834433085, 'min_samples_leaf': 0.05982343025579548, 'max_features': 'auto'}. Best is trial 152 with value: 0.49586776859504134.\n",
      "[I 2024-03-14 10:27:02,341] Trial 765 finished with value: 0.3939393939393939 and parameters: {'n_estimators': 169, 'max_depth': 13, 'min_samples_split': 0.5593335989292163, 'min_samples_leaf': 0.2293335258579315, 'max_features': 'auto'}. Best is trial 152 with value: 0.49586776859504134.\n",
      "[I 2024-03-14 10:27:03,239] Trial 766 finished with value: 0.48760330578512395 and parameters: {'n_estimators': 128, 'max_depth': 12, 'min_samples_split': 0.010235120677097174, 'min_samples_leaf': 0.01026251388603254, 'max_features': 'auto'}. Best is trial 152 with value: 0.49586776859504134.\n",
      "[I 2024-03-14 10:27:03,473] Trial 767 finished with value: 0.33884297520661155 and parameters: {'n_estimators': 120, 'max_depth': 14, 'min_samples_split': 0.8382974662116219, 'min_samples_leaf': 0.1373857555101094, 'max_features': 'auto'}. Best is trial 152 with value: 0.49586776859504134.\n",
      "[I 2024-03-14 10:27:03,810] Trial 768 finished with value: 0.4325068870523416 and parameters: {'n_estimators': 128, 'max_depth': 12, 'min_samples_split': 0.5142919831895794, 'min_samples_leaf': 0.2935126047022501, 'max_features': 'auto'}. Best is trial 152 with value: 0.49586776859504134.\n",
      "[I 2024-03-14 10:27:04,124] Trial 769 finished with value: 0.40771349862258954 and parameters: {'n_estimators': 123, 'max_depth': 12, 'min_samples_split': 0.024134718196816014, 'min_samples_leaf': 0.25002994844238574, 'max_features': 'auto'}. Best is trial 152 with value: 0.49586776859504134.\n",
      "[I 2024-03-14 10:27:04,724] Trial 770 finished with value: 0.46831955922865015 and parameters: {'n_estimators': 119, 'max_depth': 14, 'min_samples_split': 0.012438572114742578, 'min_samples_leaf': 0.02704785252300854, 'max_features': 'auto'}. Best is trial 152 with value: 0.49586776859504134.\n",
      "[I 2024-03-14 10:27:05,514] Trial 771 finished with value: 0.44352617079889806 and parameters: {'n_estimators': 175, 'max_depth': 11, 'min_samples_split': 0.1793337480849121, 'min_samples_leaf': 0.012216991628308528, 'max_features': 'auto'}. Best is trial 152 with value: 0.49586776859504134.\n",
      "[I 2024-03-14 10:27:05,822] Trial 772 finished with value: 0.33884297520661155 and parameters: {'n_estimators': 184, 'max_depth': 14, 'min_samples_split': 0.03813368608096312, 'min_samples_leaf': 0.3606204969420401, 'max_features': 'auto'}. Best is trial 152 with value: 0.49586776859504134.\n",
      "[I 2024-03-14 10:27:06,099] Trial 773 finished with value: 0.33884297520661155 and parameters: {'n_estimators': 129, 'max_depth': 13, 'min_samples_split': 0.6384423733064044, 'min_samples_leaf': 0.7643732046346495, 'max_features': 'auto'}. Best is trial 152 with value: 0.49586776859504134.\n",
      "[I 2024-03-14 10:27:06,362] Trial 774 finished with value: 0.33884297520661155 and parameters: {'n_estimators': 167, 'max_depth': 16, 'min_samples_split': 0.010937742271293845, 'min_samples_leaf': 0.4310786192520361, 'max_features': 'auto'}. Best is trial 152 with value: 0.49586776859504134.\n",
      "[I 2024-03-14 10:27:06,813] Trial 775 finished with value: 0.4049586776859504 and parameters: {'n_estimators': 171, 'max_depth': 12, 'min_samples_split': 0.14469238568276757, 'min_samples_leaf': 0.1674547105660702, 'max_features': 'auto'}. Best is trial 152 with value: 0.49586776859504134.\n",
      "[I 2024-03-14 10:27:07,575] Trial 776 finished with value: 0.46831955922865015 and parameters: {'n_estimators': 125, 'max_depth': 11, 'min_samples_split': 0.031076292865528748, 'min_samples_leaf': 0.010629259770756436, 'max_features': 'auto'}. Best is trial 152 with value: 0.49586776859504134.\n",
      "[I 2024-03-14 10:27:08,055] Trial 777 finished with value: 0.4380165289256198 and parameters: {'n_estimators': 116, 'max_depth': 10, 'min_samples_split': 0.11597582126619355, 'min_samples_leaf': 0.04264987114874111, 'max_features': 'auto'}. Best is trial 152 with value: 0.49586776859504134.\n",
      "[I 2024-03-14 10:27:08,326] Trial 778 finished with value: 0.33884297520661155 and parameters: {'n_estimators': 178, 'max_depth': 16, 'min_samples_split': 0.06323510284171496, 'min_samples_leaf': 0.678932712791416, 'max_features': 'auto'}. Best is trial 152 with value: 0.49586776859504134.\n",
      "[I 2024-03-14 10:27:08,666] Trial 779 finished with value: 0.3856749311294766 and parameters: {'n_estimators': 119, 'max_depth': 10, 'min_samples_split': 0.38715772232095735, 'min_samples_leaf': 0.0742872705325137, 'max_features': 'auto'}. Best is trial 152 with value: 0.49586776859504134.\n",
      "[I 2024-03-14 10:27:09,390] Trial 780 finished with value: 0.4490358126721763 and parameters: {'n_estimators': 165, 'max_depth': 12, 'min_samples_split': 0.02879051124286897, 'min_samples_leaf': 0.042931283644962216, 'max_features': 'auto'}. Best is trial 152 with value: 0.49586776859504134.\n",
      "[I 2024-03-14 10:27:10,078] Trial 781 finished with value: 0.4049586776859504 and parameters: {'n_estimators': 248, 'max_depth': 11, 'min_samples_split': 0.3674464126625976, 'min_samples_leaf': 0.010632170317000492, 'max_features': 'auto'}. Best is trial 152 with value: 0.49586776859504134.\n",
      "[I 2024-03-14 10:27:10,613] Trial 782 finished with value: 0.44352617079889806 and parameters: {'n_estimators': 124, 'max_depth': 15, 'min_samples_split': 0.08436920668381752, 'min_samples_leaf': 0.030736604421606334, 'max_features': 'auto'}. Best is trial 152 with value: 0.49586776859504134.\n",
      "[I 2024-03-14 10:27:11,269] Trial 783 finished with value: 0.418732782369146 and parameters: {'n_estimators': 187, 'max_depth': 13, 'min_samples_split': 0.048539559389769976, 'min_samples_leaf': 0.056098036483527076, 'max_features': 'auto'}. Best is trial 152 with value: 0.49586776859504134.\n",
      "[I 2024-03-14 10:27:11,531] Trial 784 finished with value: 0.33884297520661155 and parameters: {'n_estimators': 173, 'max_depth': 11, 'min_samples_split': 0.22002005715953188, 'min_samples_leaf': 0.8607499505140543, 'max_features': 'auto'}. Best is trial 152 with value: 0.49586776859504134.\n",
      "[I 2024-03-14 10:27:11,864] Trial 785 finished with value: 0.33884297520661155 and parameters: {'n_estimators': 232, 'max_depth': 26, 'min_samples_split': 0.8984028307497194, 'min_samples_leaf': 0.515149810774541, 'max_features': 'auto'}. Best is trial 152 with value: 0.49586776859504134.\n",
      "[I 2024-03-14 10:27:12,122] Trial 786 finished with value: 0.33884297520661155 and parameters: {'n_estimators': 127, 'max_depth': 9, 'min_samples_split': 0.8698353360294628, 'min_samples_leaf': 0.010327762905510341, 'max_features': 'auto'}. Best is trial 152 with value: 0.49586776859504134.\n",
      "[I 2024-03-14 10:27:12,660] Trial 787 finished with value: 0.41046831955922863 and parameters: {'n_estimators': 181, 'max_depth': 12, 'min_samples_split': 0.316458527473485, 'min_samples_leaf': 0.03834957192458108, 'max_features': 'auto'}. Best is trial 152 with value: 0.49586776859504134.\n",
      "[I 2024-03-14 10:27:12,886] Trial 788 finished with value: 0.33884297520661155 and parameters: {'n_estimators': 134, 'max_depth': 23, 'min_samples_split': 0.02317064743225659, 'min_samples_leaf': 0.46900896538479003, 'max_features': 'auto'}. Best is trial 152 with value: 0.49586776859504134.\n",
      "[I 2024-03-14 10:27:13,135] Trial 789 finished with value: 0.33884297520661155 and parameters: {'n_estimators': 162, 'max_depth': 25, 'min_samples_split': 0.9499995752188694, 'min_samples_leaf': 0.092232977625307, 'max_features': 'auto'}. Best is trial 152 with value: 0.49586776859504134.\n",
      "[I 2024-03-14 10:27:13,563] Trial 790 finished with value: 0.3856749311294766 and parameters: {'n_estimators': 191, 'max_depth': 39, 'min_samples_split': 0.4999884223276082, 'min_samples_leaf': 0.029651007467856975, 'max_features': 'auto'}. Best is trial 152 with value: 0.49586776859504134.\n",
      "[I 2024-03-14 10:27:13,783] Trial 791 finished with value: 0.33884297520661155 and parameters: {'n_estimators': 138, 'max_depth': 39, 'min_samples_split': 0.27100526398885516, 'min_samples_leaf': 0.7513777690574747, 'max_features': 'auto'}. Best is trial 152 with value: 0.49586776859504134.\n",
      "[I 2024-03-14 10:27:14,304] Trial 792 finished with value: 0.4049586776859504 and parameters: {'n_estimators': 175, 'max_depth': 38, 'min_samples_split': 0.4006816326886398, 'min_samples_leaf': 0.010083833738233123, 'max_features': 'auto'}. Best is trial 152 with value: 0.49586776859504134.\n",
      "[I 2024-03-14 10:27:14,899] Trial 793 finished with value: 0.4132231404958678 and parameters: {'n_estimators': 169, 'max_depth': 39, 'min_samples_split': 0.010326553769055571, 'min_samples_leaf': 0.06179514179063638, 'max_features': 'auto'}. Best is trial 152 with value: 0.49586776859504134.\n",
      "[I 2024-03-14 10:27:15,101] Trial 794 finished with value: 0.33884297520661155 and parameters: {'n_estimators': 121, 'max_depth': 9, 'min_samples_split': 0.7782274408184089, 'min_samples_leaf': 0.04298403797244448, 'max_features': 'auto'}. Best is trial 152 with value: 0.49586776859504134.\n",
      "[I 2024-03-14 10:27:15,315] Trial 795 finished with value: 0.33884297520661155 and parameters: {'n_estimators': 130, 'max_depth': 16, 'min_samples_split': 0.06383625428980004, 'min_samples_leaf': 0.9762450632964639, 'max_features': 'auto'}. Best is trial 152 with value: 0.49586776859504134.\n",
      "[I 2024-03-14 10:27:15,674] Trial 796 finished with value: 0.42699724517906334 and parameters: {'n_estimators': 184, 'max_depth': 40, 'min_samples_split': 0.6011349270253495, 'min_samples_leaf': 0.2775242676075679, 'max_features': 'auto'}. Best is trial 152 with value: 0.49586776859504134.\n",
      "[I 2024-03-14 10:27:15,943] Trial 797 finished with value: 0.3939393939393939 and parameters: {'n_estimators': 116, 'max_depth': 38, 'min_samples_split': 0.044574171591900746, 'min_samples_leaf': 0.20636337935464016, 'max_features': 'auto'}. Best is trial 152 with value: 0.49586776859504134.\n",
      "[I 2024-03-14 10:27:16,691] Trial 798 finished with value: 0.4462809917355372 and parameters: {'n_estimators': 164, 'max_depth': 31, 'min_samples_split': 0.0993913997158729, 'min_samples_leaf': 0.029367855470926647, 'max_features': 'auto'}. Best is trial 152 with value: 0.49586776859504134.\n",
      "[I 2024-03-14 10:27:16,969] Trial 799 finished with value: 0.33884297520661155 and parameters: {'n_estimators': 178, 'max_depth': 14, 'min_samples_split': 0.01016872190683727, 'min_samples_leaf': 0.7061673138069534, 'max_features': 'auto'}. Best is trial 152 with value: 0.49586776859504134.\n",
      "[I 2024-03-14 10:27:17,170] Trial 800 finished with value: 0.33884297520661155 and parameters: {'n_estimators': 125, 'max_depth': 40, 'min_samples_split': 0.2478589811323797, 'min_samples_leaf': 0.5533574526149105, 'max_features': 'auto'}. Best is trial 152 with value: 0.49586776859504134.\n",
      "[I 2024-03-14 10:27:17,974] Trial 801 finished with value: 0.4049586776859504 and parameters: {'n_estimators': 216, 'max_depth': 21, 'min_samples_split': 0.06835700394901235, 'min_samples_leaf': 0.06310171748235571, 'max_features': 'auto'}. Best is trial 152 with value: 0.49586776859504134.\n",
      "[I 2024-03-14 10:27:18,203] Trial 802 finished with value: 0.33884297520661155 and parameters: {'n_estimators': 130, 'max_depth': 39, 'min_samples_split': 0.042498214293892125, 'min_samples_leaf': 0.660814961516214, 'max_features': 'auto'}. Best is trial 152 with value: 0.49586776859504134.\n",
      "[I 2024-03-14 10:27:19,151] Trial 803 finished with value: 0.4628099173553719 and parameters: {'n_estimators': 169, 'max_depth': 11, 'min_samples_split': 0.08710023950395493, 'min_samples_leaf': 0.010560387533858231, 'max_features': 'auto'}. Best is trial 152 with value: 0.49586776859504134.\n",
      "[I 2024-03-14 10:27:19,711] Trial 804 finished with value: 0.41597796143250687 and parameters: {'n_estimators': 223, 'max_depth': 17, 'min_samples_split': 0.030652946518647996, 'min_samples_leaf': 0.26191809060150173, 'max_features': 'auto'}. Best is trial 152 with value: 0.49586776859504134.\n",
      "[I 2024-03-14 10:27:20,137] Trial 805 finished with value: 0.3856749311294766 and parameters: {'n_estimators': 188, 'max_depth': 38, 'min_samples_split': 0.630573485306932, 'min_samples_leaf': 0.029249080096727314, 'max_features': 'auto'}. Best is trial 152 with value: 0.49586776859504134.\n",
      "[I 2024-03-14 10:27:20,351] Trial 806 finished with value: 0.33884297520661155 and parameters: {'n_estimators': 121, 'max_depth': 41, 'min_samples_split': 0.5488904874363852, 'min_samples_leaf': 0.33961989345835575, 'max_features': 'auto'}. Best is trial 152 with value: 0.49586776859504134.\n",
      "[I 2024-03-14 10:27:20,633] Trial 807 finished with value: 0.33884297520661155 and parameters: {'n_estimators': 174, 'max_depth': 40, 'min_samples_split': 0.6686803979966625, 'min_samples_leaf': 0.9977281511130399, 'max_features': 'auto'}. Best is trial 152 with value: 0.49586776859504134.\n",
      "[I 2024-03-14 10:27:20,928] Trial 808 finished with value: 0.33884297520661155 and parameters: {'n_estimators': 160, 'max_depth': 38, 'min_samples_split': 0.05768700630943262, 'min_samples_leaf': 0.8071272757683343, 'max_features': 'auto'}. Best is trial 152 with value: 0.49586776859504134.\n",
      "[I 2024-03-14 10:27:21,446] Trial 809 finished with value: 0.418732782369146 and parameters: {'n_estimators': 136, 'max_depth': 12, 'min_samples_split': 0.11902597289097733, 'min_samples_leaf': 0.07711358880909365, 'max_features': 'auto'}. Best is trial 152 with value: 0.49586776859504134.\n",
      "[I 2024-03-14 10:27:21,803] Trial 810 finished with value: 0.33884297520661155 and parameters: {'n_estimators': 182, 'max_depth': 39, 'min_samples_split': 0.459259386021298, 'min_samples_leaf': 0.40034099388899996, 'max_features': 'auto'}. Best is trial 152 with value: 0.49586776859504134.\n",
      "[I 2024-03-14 10:27:22,072] Trial 811 finished with value: 0.33884297520661155 and parameters: {'n_estimators': 166, 'max_depth': 10, 'min_samples_split': 0.6953615760317606, 'min_samples_leaf': 0.7455075548922999, 'max_features': 'auto'}. Best is trial 152 with value: 0.49586776859504134.\n",
      "[I 2024-03-14 10:27:22,294] Trial 812 finished with value: 0.33884297520661155 and parameters: {'n_estimators': 127, 'max_depth': 13, 'min_samples_split': 0.03189951934248887, 'min_samples_leaf': 0.6068140511624455, 'max_features': 'auto'}. Best is trial 152 with value: 0.49586776859504134.\n",
      "[I 2024-03-14 10:27:22,510] Trial 813 finished with value: 0.33884297520661155 and parameters: {'n_estimators': 133, 'max_depth': 40, 'min_samples_split': 0.20050076805525202, 'min_samples_leaf': 0.46779535812331935, 'max_features': 'auto'}. Best is trial 152 with value: 0.49586776859504134.\n",
      "[I 2024-03-14 10:27:22,857] Trial 814 finished with value: 0.4214876033057851 and parameters: {'n_estimators': 178, 'max_depth': 41, 'min_samples_split': 0.051696508199767774, 'min_samples_leaf': 0.3135620962575524, 'max_features': 'auto'}. Best is trial 152 with value: 0.49586776859504134.\n",
      "[I 2024-03-14 10:27:23,072] Trial 815 finished with value: 0.33884297520661155 and parameters: {'n_estimators': 118, 'max_depth': 37, 'min_samples_split': 0.08043676508070981, 'min_samples_leaf': 0.5570995874098124, 'max_features': 'auto'}. Best is trial 152 with value: 0.49586776859504134.\n",
      "[I 2024-03-14 10:27:23,751] Trial 816 finished with value: 0.42424242424242425 and parameters: {'n_estimators': 169, 'max_depth': 39, 'min_samples_split': 0.1554548848388933, 'min_samples_leaf': 0.04594906004434599, 'max_features': 'auto'}. Best is trial 152 with value: 0.49586776859504134.\n",
      "[I 2024-03-14 10:27:24,324] Trial 817 finished with value: 0.4628099173553719 and parameters: {'n_estimators': 123, 'max_depth': 38, 'min_samples_split': 0.030687536053258198, 'min_samples_leaf': 0.028228142161000783, 'max_features': 'auto'}. Best is trial 152 with value: 0.49586776859504134.\n",
      "[I 2024-03-14 10:27:24,599] Trial 818 finished with value: 0.33884297520661155 and parameters: {'n_estimators': 173, 'max_depth': 41, 'min_samples_split': 0.011175008872355681, 'min_samples_leaf': 0.7221845561070418, 'max_features': 'auto'}. Best is trial 152 with value: 0.49586776859504134.\n",
      "[I 2024-03-14 10:27:25,362] Trial 819 finished with value: 0.44352617079889806 and parameters: {'n_estimators': 209, 'max_depth': 37, 'min_samples_split': 0.0677348852888212, 'min_samples_leaf': 0.04957711811619696, 'max_features': 'auto'}. Best is trial 152 with value: 0.49586776859504134.\n",
      "[I 2024-03-14 10:27:25,931] Trial 820 finished with value: 0.4765840220385675 and parameters: {'n_estimators': 114, 'max_depth': 40, 'min_samples_split': 0.10362977181933095, 'min_samples_leaf': 0.010456720001955085, 'max_features': 'auto'}. Best is trial 152 with value: 0.49586776859504134.\n",
      "[I 2024-03-14 10:27:26,491] Trial 821 finished with value: 0.41597796143250687 and parameters: {'n_estimators': 186, 'max_depth': 11, 'min_samples_split': 0.34941612521030246, 'min_samples_leaf': 0.010128318439558139, 'max_features': 'auto'}. Best is trial 152 with value: 0.49586776859504134.\n",
      "[I 2024-03-14 10:27:26,771] Trial 822 finished with value: 0.33884297520661155 and parameters: {'n_estimators': 139, 'max_depth': 39, 'min_samples_split': 0.9702003852183123, 'min_samples_leaf': 0.09500065712579742, 'max_features': 'auto'}. Best is trial 152 with value: 0.49586776859504134.\n",
      "[I 2024-03-14 10:27:27,031] Trial 823 finished with value: 0.33884297520661155 and parameters: {'n_estimators': 164, 'max_depth': 40, 'min_samples_split': 0.7144643228948865, 'min_samples_leaf': 0.5843797306830478, 'max_features': 'auto'}. Best is trial 152 with value: 0.49586776859504134.\n",
      "[I 2024-03-14 10:27:27,275] Trial 824 finished with value: 0.33884297520661155 and parameters: {'n_estimators': 158, 'max_depth': 42, 'min_samples_split': 0.8078104413639802, 'min_samples_leaf': 0.2837217947073919, 'max_features': 'auto'}. Best is trial 152 with value: 0.49586776859504134.\n",
      "[I 2024-03-14 10:27:27,497] Trial 825 finished with value: 0.33884297520661155 and parameters: {'n_estimators': 127, 'max_depth': 30, 'min_samples_split': 0.04356319783872778, 'min_samples_leaf': 0.3239308096476843, 'max_features': 'auto'}. Best is trial 152 with value: 0.49586776859504134.\n",
      "[I 2024-03-14 10:27:28,104] Trial 826 finished with value: 0.45454545454545453 and parameters: {'n_estimators': 161, 'max_depth': 38, 'min_samples_split': 0.1707275889825569, 'min_samples_leaf': 0.03024141938432487, 'max_features': 'auto'}. Best is trial 152 with value: 0.49586776859504134.\n",
      "[I 2024-03-14 10:27:28,322] Trial 827 finished with value: 0.33884297520661155 and parameters: {'n_estimators': 132, 'max_depth': 41, 'min_samples_split': 0.8634893704680362, 'min_samples_leaf': 0.06142862413747298, 'max_features': 'auto'}. Best is trial 152 with value: 0.49586776859504134.\n",
      "[I 2024-03-14 10:27:28,637] Trial 828 finished with value: 0.33884297520661155 and parameters: {'n_estimators': 179, 'max_depth': 39, 'min_samples_split': 0.8267681325987681, 'min_samples_leaf': 0.8491384096905776, 'max_features': 'auto'}. Best is trial 152 with value: 0.49586776859504134.\n",
      "[I 2024-03-14 10:27:28,896] Trial 829 finished with value: 0.33884297520661155 and parameters: {'n_estimators': 171, 'max_depth': 37, 'min_samples_split': 0.05560659439297187, 'min_samples_leaf': 0.6131209488507852, 'max_features': 'auto'}. Best is trial 152 with value: 0.49586776859504134.\n",
      "[I 2024-03-14 10:27:29,100] Trial 830 finished with value: 0.33884297520661155 and parameters: {'n_estimators': 122, 'max_depth': 40, 'min_samples_split': 0.9440498425252717, 'min_samples_leaf': 0.6310605712718979, 'max_features': 'auto'}. Best is trial 152 with value: 0.49586776859504134.\n",
      "[I 2024-03-14 10:27:29,657] Trial 831 finished with value: 0.4297520661157025 and parameters: {'n_estimators': 176, 'max_depth': 10, 'min_samples_split': 0.23355049409760165, 'min_samples_leaf': 0.04475717833904516, 'max_features': 'auto'}. Best is trial 152 with value: 0.49586776859504134.\n",
      "[I 2024-03-14 10:27:29,934] Trial 832 finished with value: 0.33884297520661155 and parameters: {'n_estimators': 190, 'max_depth': 38, 'min_samples_split': 0.028024485093839147, 'min_samples_leaf': 0.5031837704241054, 'max_features': 'auto'}. Best is trial 152 with value: 0.49586776859504134.\n",
      "[I 2024-03-14 10:27:30,236] Trial 833 finished with value: 0.38016528925619836 and parameters: {'n_estimators': 129, 'max_depth': 13, 'min_samples_split': 0.423697755183676, 'min_samples_leaf': 0.15335501777310778, 'max_features': 'auto'}. Best is trial 152 with value: 0.49586776859504134.\n",
      "[I 2024-03-14 10:27:30,587] Trial 834 finished with value: 0.33884297520661155 and parameters: {'n_estimators': 183, 'max_depth': 20, 'min_samples_split': 0.7466019070224479, 'min_samples_leaf': 0.20171198903156995, 'max_features': 'auto'}. Best is trial 152 with value: 0.49586776859504134.\n",
      "[I 2024-03-14 10:27:31,160] Trial 835 finished with value: 0.4820936639118457 and parameters: {'n_estimators': 116, 'max_depth': 39, 'min_samples_split': 0.010429237241597972, 'min_samples_leaf': 0.026950566175153165, 'max_features': 'auto'}. Best is trial 152 with value: 0.49586776859504134.\n",
      "[I 2024-03-14 10:27:31,424] Trial 836 finished with value: 0.33884297520661155 and parameters: {'n_estimators': 166, 'max_depth': 8, 'min_samples_split': 0.33393223945002204, 'min_samples_leaf': 0.8877500885889447, 'max_features': 'auto'}. Best is trial 152 with value: 0.49586776859504134.\n",
      "[I 2024-03-14 10:27:32,263] Trial 837 finished with value: 0.45179063360881544 and parameters: {'n_estimators': 202, 'max_depth': 27, 'min_samples_split': 0.077278327887811, 'min_samples_leaf': 0.03180232254897428, 'max_features': 'auto'}. Best is trial 152 with value: 0.49586776859504134.\n",
      "[I 2024-03-14 10:27:32,555] Trial 838 finished with value: 0.33884297520661155 and parameters: {'n_estimators': 194, 'max_depth': 40, 'min_samples_split': 0.9722459724269854, 'min_samples_leaf': 0.9220929912119411, 'max_features': 'auto'}. Best is trial 152 with value: 0.49586776859504134.\n",
      "[I 2024-03-14 10:27:32,955] Trial 839 finished with value: 0.41597796143250687 and parameters: {'n_estimators': 137, 'max_depth': 41, 'min_samples_split': 0.03709481467860693, 'min_samples_leaf': 0.10772397765702653, 'max_features': 'auto'}. Best is trial 152 with value: 0.49586776859504134.\n",
      "[I 2024-03-14 10:27:33,451] Trial 840 finished with value: 0.4132231404958678 and parameters: {'n_estimators': 112, 'max_depth': 42, 'min_samples_split': 0.05648470098584851, 'min_samples_leaf': 0.06164797086771999, 'max_features': 'auto'}. Best is trial 152 with value: 0.49586776859504134.\n",
      "[I 2024-03-14 10:27:33,696] Trial 841 finished with value: 0.33884297520661155 and parameters: {'n_estimators': 125, 'max_depth': 37, 'min_samples_split': 0.0932960775927475, 'min_samples_leaf': 0.562701460362412, 'max_features': 'auto'}. Best is trial 152 with value: 0.49586776859504134.\n",
      "[I 2024-03-14 10:27:34,533] Trial 842 finished with value: 0.44077134986225897 and parameters: {'n_estimators': 173, 'max_depth': 38, 'min_samples_split': 0.1331808223391302, 'min_samples_leaf': 0.010124420609853111, 'max_features': 'auto'}. Best is trial 152 with value: 0.49586776859504134.\n",
      "[I 2024-03-14 10:27:34,940] Trial 843 finished with value: 0.3856749311294766 and parameters: {'n_estimators': 141, 'max_depth': 18, 'min_samples_split': 0.0284628809276195, 'min_samples_leaf': 0.1390780731390992, 'max_features': 'auto'}. Best is trial 152 with value: 0.49586776859504134.\n",
      "[I 2024-03-14 10:27:35,538] Trial 844 finished with value: 0.42424242424242425 and parameters: {'n_estimators': 169, 'max_depth': 11, 'min_samples_split': 0.06760190560458955, 'min_samples_leaf': 0.0809877684280417, 'max_features': 'auto'}. Best is trial 152 with value: 0.49586776859504134.\n",
      "[I 2024-03-14 10:27:36,287] Trial 845 finished with value: 0.48484848484848486 and parameters: {'n_estimators': 118, 'max_depth': 41, 'min_samples_split': 0.04556270333617631, 'min_samples_leaf': 0.01027276637504353, 'max_features': 'auto'}. Best is trial 152 with value: 0.49586776859504134.\n",
      "[I 2024-03-14 10:27:36,626] Trial 846 finished with value: 0.3856749311294766 and parameters: {'n_estimators': 117, 'max_depth': 43, 'min_samples_split': 0.576470242928342, 'min_samples_leaf': 0.04229544915862264, 'max_features': 'auto'}. Best is trial 152 with value: 0.49586776859504134.\n",
      "[I 2024-03-14 10:27:36,846] Trial 847 finished with value: 0.33884297520661155 and parameters: {'n_estimators': 119, 'max_depth': 42, 'min_samples_split': 0.40374989890412316, 'min_samples_leaf': 0.7813229777361284, 'max_features': 'auto'}. Best is trial 152 with value: 0.49586776859504134.\n",
      "[I 2024-03-14 10:27:37,265] Trial 848 finished with value: 0.4297520661157025 and parameters: {'n_estimators': 114, 'max_depth': 41, 'min_samples_split': 0.30609441365138834, 'min_samples_leaf': 0.027424736291093058, 'max_features': 'auto'}. Best is trial 152 with value: 0.49586776859504134.\n",
      "[I 2024-03-14 10:27:37,787] Trial 849 finished with value: 0.4297520661157025 and parameters: {'n_estimators': 120, 'max_depth': 42, 'min_samples_split': 0.04440470947223003, 'min_samples_leaf': 0.04598521096587212, 'max_features': 'auto'}. Best is trial 152 with value: 0.49586776859504134.\n",
      "[I 2024-03-14 10:27:37,976] Trial 850 finished with value: 0.33884297520661155 and parameters: {'n_estimators': 108, 'max_depth': 41, 'min_samples_split': 0.28891401915717785, 'min_samples_leaf': 0.48126789230451394, 'max_features': 'auto'}. Best is trial 152 with value: 0.49586776859504134.\n",
      "[I 2024-03-14 10:27:38,305] Trial 851 finished with value: 0.38016528925619836 and parameters: {'n_estimators': 111, 'max_depth': 42, 'min_samples_split': 0.36902038391308456, 'min_samples_leaf': 0.027920946161420206, 'max_features': 'auto'}. Best is trial 152 with value: 0.49586776859504134.\n",
      "[I 2024-03-14 10:27:38,792] Trial 852 finished with value: 0.41597796143250687 and parameters: {'n_estimators': 122, 'max_depth': 41, 'min_samples_split': 0.08439789568595164, 'min_samples_leaf': 0.06982416150943255, 'max_features': 'auto'}. Best is trial 152 with value: 0.49586776859504134.\n",
      "[I 2024-03-14 10:27:39,099] Trial 853 finished with value: 0.3856749311294766 and parameters: {'n_estimators': 118, 'max_depth': 40, 'min_samples_split': 0.6044369634326608, 'min_samples_leaf': 0.02692963500227527, 'max_features': 'auto'}. Best is trial 152 with value: 0.49586776859504134.\n",
      "[I 2024-03-14 10:27:39,322] Trial 854 finished with value: 0.33884297520661155 and parameters: {'n_estimators': 124, 'max_depth': 43, 'min_samples_split': 0.7860559556266378, 'min_samples_leaf': 0.010964822293254753, 'max_features': 'auto'}. Best is trial 152 with value: 0.49586776859504134.\n",
      "[I 2024-03-14 10:27:39,533] Trial 855 finished with value: 0.33884297520661155 and parameters: {'n_estimators': 127, 'max_depth': 44, 'min_samples_split': 0.1140219576861834, 'min_samples_leaf': 0.656161172791604, 'max_features': 'auto'}. Best is trial 152 with value: 0.49586776859504134.\n",
      "[I 2024-03-14 10:27:40,215] Trial 856 finished with value: 0.48760330578512395 and parameters: {'n_estimators': 115, 'max_depth': 9, 'min_samples_split': 0.02691178464252251, 'min_samples_leaf': 0.010378436181955424, 'max_features': 'auto'}. Best is trial 152 with value: 0.49586776859504134.\n",
      "[I 2024-03-14 10:27:40,419] Trial 857 finished with value: 0.3939393939393939 and parameters: {'n_estimators': 113, 'max_depth': 8, 'min_samples_split': 0.6439001439520246, 'min_samples_leaf': 0.1702719895702831, 'max_features': 'auto'}. Best is trial 152 with value: 0.49586776859504134.\n",
      "[I 2024-03-14 10:27:40,662] Trial 858 finished with value: 0.33884297520661155 and parameters: {'n_estimators': 115, 'max_depth': 5, 'min_samples_split': 0.4308872173845251, 'min_samples_leaf': 0.4309900122257862, 'max_features': 'auto'}. Best is trial 152 with value: 0.49586776859504134.\n",
      "[I 2024-03-14 10:27:41,241] Trial 859 finished with value: 0.4573002754820937 and parameters: {'n_estimators': 108, 'max_depth': 7, 'min_samples_split': 0.057505380591553294, 'min_samples_leaf': 0.010141559348847345, 'max_features': 'auto'}. Best is trial 152 with value: 0.49586776859504134.\n",
      "[I 2024-03-14 10:27:41,435] Trial 860 finished with value: 0.33884297520661155 and parameters: {'n_estimators': 112, 'max_depth': 44, 'min_samples_split': 0.04546715800651767, 'min_samples_leaf': 0.4068687242906779, 'max_features': 'auto'}. Best is trial 152 with value: 0.49586776859504134.\n",
      "[I 2024-03-14 10:27:41,897] Trial 861 finished with value: 0.44077134986225897 and parameters: {'n_estimators': 121, 'max_depth': 9, 'min_samples_split': 0.07341782375560804, 'min_samples_leaf': 0.04937610379457579, 'max_features': 'auto'}. Best is trial 152 with value: 0.49586776859504134.\n",
      "[I 2024-03-14 10:27:42,434] Trial 862 finished with value: 0.46005509641873277 and parameters: {'n_estimators': 117, 'max_depth': 8, 'min_samples_split': 0.02555286049194011, 'min_samples_leaf': 0.028985305862165626, 'max_features': 'auto'}. Best is trial 152 with value: 0.49586776859504134.\n",
      "[I 2024-03-14 10:27:42,866] Trial 863 finished with value: 0.41597796143250687 and parameters: {'n_estimators': 110, 'max_depth': 41, 'min_samples_split': 0.2531202630872027, 'min_samples_leaf': 0.010047833760535335, 'max_features': 'auto'}. Best is trial 152 with value: 0.49586776859504134.\n",
      "[I 2024-03-14 10:27:43,181] Trial 864 finished with value: 0.41046831955922863 and parameters: {'n_estimators': 116, 'max_depth': 8, 'min_samples_split': 0.6211788145016806, 'min_samples_leaf': 0.27019979747848677, 'max_features': 'auto'}. Best is trial 152 with value: 0.49586776859504134.\n",
      "[I 2024-03-14 10:27:43,389] Trial 865 finished with value: 0.33884297520661155 and parameters: {'n_estimators': 119, 'max_depth': 9, 'min_samples_split': 0.8454875007148072, 'min_samples_leaf': 0.051567256422230846, 'max_features': 'auto'}. Best is trial 152 with value: 0.49586776859504134.\n",
      "[I 2024-03-14 10:27:43,574] Trial 866 finished with value: 0.33884297520661155 and parameters: {'n_estimators': 105, 'max_depth': 9, 'min_samples_split': 0.04421668824861395, 'min_samples_leaf': 0.44323202751408913, 'max_features': 'auto'}. Best is trial 152 with value: 0.49586776859504134.\n",
      "[I 2024-03-14 10:27:43,780] Trial 867 finished with value: 0.33884297520661155 and parameters: {'n_estimators': 113, 'max_depth': 7, 'min_samples_split': 0.09678035460982976, 'min_samples_leaf': 0.41896805671137494, 'max_features': 'auto'}. Best is trial 152 with value: 0.49586776859504134.\n",
      "[I 2024-03-14 10:27:44,044] Trial 868 finished with value: 0.40771349862258954 and parameters: {'n_estimators': 121, 'max_depth': 42, 'min_samples_split': 0.2797537083198626, 'min_samples_leaf': 0.24954467815981546, 'max_features': 'auto'}. Best is trial 152 with value: 0.49586776859504134.\n",
      "[I 2024-03-14 10:27:44,244] Trial 869 finished with value: 0.33884297520661155 and parameters: {'n_estimators': 111, 'max_depth': 24, 'min_samples_split': 0.0111137191656209, 'min_samples_leaf': 0.36559482971743856, 'max_features': 'auto'}. Best is trial 152 with value: 0.49586776859504134.\n",
      "[I 2024-03-14 10:27:44,755] Trial 870 finished with value: 0.4490358126721763 and parameters: {'n_estimators': 108, 'max_depth': 39, 'min_samples_split': 0.06498707167143389, 'min_samples_leaf': 0.0423175285499882, 'max_features': 'auto'}. Best is trial 152 with value: 0.49586776859504134.\n",
      "[I 2024-03-14 10:27:44,959] Trial 871 finished with value: 0.33884297520661155 and parameters: {'n_estimators': 122, 'max_depth': 40, 'min_samples_split': 0.6826160979844553, 'min_samples_leaf': 0.9318914093028383, 'max_features': 'auto'}. Best is trial 152 with value: 0.49586776859504134.\n",
      "[I 2024-03-14 10:27:45,171] Trial 872 finished with value: 0.33884297520661155 and parameters: {'n_estimators': 118, 'max_depth': 40, 'min_samples_split': 0.8815613569074241, 'min_samples_leaf': 0.5512815491954993, 'max_features': 'auto'}. Best is trial 152 with value: 0.49586776859504134.\n",
      "[I 2024-03-14 10:27:45,593] Trial 873 finished with value: 0.4132231404958678 and parameters: {'n_estimators': 125, 'max_depth': 43, 'min_samples_split': 0.15240899058464596, 'min_samples_leaf': 0.07878610116935393, 'max_features': 'auto'}. Best is trial 152 with value: 0.49586776859504134.\n",
      "[I 2024-03-14 10:27:45,801] Trial 874 finished with value: 0.33884297520661155 and parameters: {'n_estimators': 115, 'max_depth': 41, 'min_samples_split': 0.027245534398577284, 'min_samples_leaf': 0.8203132983739742, 'max_features': 'auto'}. Best is trial 152 with value: 0.49586776859504134.\n",
      "[I 2024-03-14 10:27:46,091] Trial 875 finished with value: 0.3884297520661157 and parameters: {'n_estimators': 105, 'max_depth': 39, 'min_samples_split': 0.5820735339498438, 'min_samples_leaf': 0.19646881073521222, 'max_features': 'auto'}. Best is trial 152 with value: 0.49586776859504134.\n",
      "[I 2024-03-14 10:27:46,315] Trial 876 finished with value: 0.33884297520661155 and parameters: {'n_estimators': 128, 'max_depth': 22, 'min_samples_split': 0.8312675614934786, 'min_samples_leaf': 0.8699323815012561, 'max_features': 'auto'}. Best is trial 152 with value: 0.49586776859504134.\n",
      "[I 2024-03-14 10:27:46,862] Trial 877 finished with value: 0.43526170798898073 and parameters: {'n_estimators': 124, 'max_depth': 41, 'min_samples_split': 0.08663424611499537, 'min_samples_leaf': 0.027339094907866845, 'max_features': 'auto'}. Best is trial 152 with value: 0.49586776859504134.\n",
      "[I 2024-03-14 10:27:47,113] Trial 878 finished with value: 0.3884297520661157 and parameters: {'n_estimators': 113, 'max_depth': 6, 'min_samples_split': 0.13013623054033982, 'min_samples_leaf': 0.23201786917712758, 'max_features': 'auto'}. Best is trial 152 with value: 0.49586776859504134.\n",
      "[I 2024-03-14 10:27:47,311] Trial 879 finished with value: 0.33884297520661155 and parameters: {'n_estimators': 119, 'max_depth': 6, 'min_samples_split': 0.052391700355300455, 'min_samples_leaf': 0.34941814621084427, 'max_features': 'auto'}. Best is trial 152 with value: 0.49586776859504134.\n",
      "[I 2024-03-14 10:27:47,626] Trial 880 finished with value: 0.33884297520661155 and parameters: {'n_estimators': 162, 'max_depth': 37, 'min_samples_split': 0.5400515354400919, 'min_samples_leaf': 0.4861312304321498, 'max_features': 'auto'}. Best is trial 152 with value: 0.49586776859504134.\n",
      "[I 2024-03-14 10:27:48,001] Trial 881 finished with value: 0.39944903581267216 and parameters: {'n_estimators': 132, 'max_depth': 15, 'min_samples_split': 0.10849511426034497, 'min_samples_leaf': 0.12089982078268209, 'max_features': 'auto'}. Best is trial 152 with value: 0.49586776859504134.\n",
      "[I 2024-03-14 10:27:48,194] Trial 882 finished with value: 0.33884297520661155 and parameters: {'n_estimators': 108, 'max_depth': 39, 'min_samples_split': 0.9233692897197945, 'min_samples_leaf': 0.028027096945901712, 'max_features': 'auto'}. Best is trial 152 with value: 0.49586776859504134.\n",
      "[I 2024-03-14 10:27:48,411] Trial 883 finished with value: 0.33884297520661155 and parameters: {'n_estimators': 123, 'max_depth': 40, 'min_samples_split': 0.03182443733890052, 'min_samples_leaf': 0.6057054872353118, 'max_features': 'auto'}. Best is trial 152 with value: 0.49586776859504134.\n",
      "[I 2024-03-14 10:27:48,675] Trial 884 finished with value: 0.3939393939393939 and parameters: {'n_estimators': 156, 'max_depth': 42, 'min_samples_split': 0.6504267435720125, 'min_samples_leaf': 0.058088692200163355, 'max_features': 'auto'}. Best is trial 152 with value: 0.49586776859504134.\n",
      "[I 2024-03-14 10:27:49,001] Trial 885 finished with value: 0.3856749311294766 and parameters: {'n_estimators': 115, 'max_depth': 38, 'min_samples_split': 0.5167687700909501, 'min_samples_leaf': 0.15695110860574996, 'max_features': 'auto'}. Best is trial 152 with value: 0.49586776859504134.\n",
      "[I 2024-03-14 10:27:49,851] Trial 886 finished with value: 0.4820936639118457 and parameters: {'n_estimators': 129, 'max_depth': 14, 'min_samples_split': 0.01079536225748661, 'min_samples_leaf': 0.010248114375978645, 'max_features': 'auto'}. Best is trial 152 with value: 0.49586776859504134.\n",
      "[I 2024-03-14 10:27:50,265] Trial 887 finished with value: 0.3856749311294766 and parameters: {'n_estimators': 165, 'max_depth': 32, 'min_samples_split': 0.47177925775233787, 'min_samples_leaf': 0.041664198025640274, 'max_features': 'auto'}. Best is trial 152 with value: 0.49586776859504134.\n",
      "[I 2024-03-14 10:27:50,459] Trial 888 finished with value: 0.33884297520661155 and parameters: {'n_estimators': 100, 'max_depth': 36, 'min_samples_split': 0.07025156095674195, 'min_samples_leaf': 0.5430116565468867, 'max_features': 'auto'}. Best is trial 152 with value: 0.49586776859504134.\n",
      "[I 2024-03-14 10:27:51,049] Trial 889 finished with value: 0.45454545454545453 and parameters: {'n_estimators': 118, 'max_depth': 16, 'min_samples_split': 0.03993263664421148, 'min_samples_leaf': 0.02885469985966356, 'max_features': 'auto'}. Best is trial 152 with value: 0.49586776859504134.\n",
      "[I 2024-03-14 10:27:51,718] Trial 890 finished with value: 0.41597796143250687 and parameters: {'n_estimators': 159, 'max_depth': 40, 'min_samples_split': 0.05965938027103061, 'min_samples_leaf': 0.06539593181422652, 'max_features': 'auto'}. Best is trial 152 with value: 0.49586776859504134.\n",
      "[I 2024-03-14 10:27:51,942] Trial 891 finished with value: 0.33884297520661155 and parameters: {'n_estimators': 110, 'max_depth': 43, 'min_samples_split': 0.3349446357466609, 'min_samples_leaf': 0.45927623780541477, 'max_features': 'auto'}. Best is trial 152 with value: 0.49586776859504134.\n",
      "[I 2024-03-14 10:27:52,296] Trial 892 finished with value: 0.4049586776859504 and parameters: {'n_estimators': 104, 'max_depth': 39, 'min_samples_split': 0.02710020038748107, 'min_samples_leaf': 0.09238185524456806, 'max_features': 'auto'}. Best is trial 152 with value: 0.49586776859504134.\n",
      "[I 2024-03-14 10:27:52,605] Trial 893 finished with value: 0.33884297520661155 and parameters: {'n_estimators': 168, 'max_depth': 37, 'min_samples_split': 0.7939261283949459, 'min_samples_leaf': 0.029604143537196204, 'max_features': 'auto'}. Best is trial 152 with value: 0.49586776859504134.\n",
      "[I 2024-03-14 10:27:53,135] Trial 894 finished with value: 0.43526170798898073 and parameters: {'n_estimators': 127, 'max_depth': 41, 'min_samples_split': 0.07991464836301121, 'min_samples_leaf': 0.046647060545315436, 'max_features': 'auto'}. Best is trial 152 with value: 0.49586776859504134.\n",
      "[I 2024-03-14 10:27:53,408] Trial 895 finished with value: 0.33884297520661155 and parameters: {'n_estimators': 121, 'max_depth': 9, 'min_samples_split': 0.935811556565661, 'min_samples_leaf': 0.835356650331609, 'max_features': 'auto'}. Best is trial 152 with value: 0.49586776859504134.\n",
      "[I 2024-03-14 10:27:53,927] Trial 896 finished with value: 0.39118457300275483 and parameters: {'n_estimators': 171, 'max_depth': 29, 'min_samples_split': 0.38615512895133186, 'min_samples_leaf': 0.010781347199554342, 'max_features': 'auto'}. Best is trial 152 with value: 0.49586776859504134.\n",
      "[I 2024-03-14 10:27:55,138] Trial 897 finished with value: 0.46831955922865015 and parameters: {'n_estimators': 268, 'max_depth': 45, 'min_samples_split': 0.010408399980985163, 'min_samples_leaf': 0.028812954400208098, 'max_features': 'auto'}. Best is trial 152 with value: 0.49586776859504134.\n",
      "[I 2024-03-14 10:27:55,366] Trial 898 finished with value: 0.33884297520661155 and parameters: {'n_estimators': 132, 'max_depth': 38, 'min_samples_split': 0.704774810425578, 'min_samples_leaf': 0.0605608822168303, 'max_features': 'auto'}. Best is trial 152 with value: 0.49586776859504134.\n",
      "[I 2024-03-14 10:27:56,011] Trial 899 finished with value: 0.46831955922865015 and parameters: {'n_estimators': 114, 'max_depth': 42, 'min_samples_split': 0.04713479596198568, 'min_samples_leaf': 0.011477414956319772, 'max_features': 'auto'}. Best is trial 152 with value: 0.49586776859504134.\n",
      "[I 2024-03-14 10:27:56,399] Trial 900 finished with value: 0.3856749311294766 and parameters: {'n_estimators': 124, 'max_depth': 7, 'min_samples_split': 0.43881124278881045, 'min_samples_leaf': 0.040710410534751926, 'max_features': 'auto'}. Best is trial 152 with value: 0.49586776859504134.\n",
      "[I 2024-03-14 10:27:56,624] Trial 901 finished with value: 0.33884297520661155 and parameters: {'n_estimators': 135, 'max_depth': 40, 'min_samples_split': 0.10584012031630144, 'min_samples_leaf': 0.7099122294043969, 'max_features': 'auto'}. Best is trial 152 with value: 0.49586776859504134.\n",
      "[I 2024-03-14 10:27:56,891] Trial 902 finished with value: 0.33884297520661155 and parameters: {'n_estimators': 162, 'max_depth': 39, 'min_samples_split': 0.5118558511597867, 'min_samples_leaf': 0.3281303120002468, 'max_features': 'auto'}. Best is trial 152 with value: 0.49586776859504134.\n",
      "[I 2024-03-14 10:27:57,179] Trial 903 finished with value: 0.33884297520661155 and parameters: {'n_estimators': 175, 'max_depth': 19, 'min_samples_split': 0.062132873749072136, 'min_samples_leaf': 0.7518159490331916, 'max_features': 'auto'}. Best is trial 152 with value: 0.49586776859504134.\n",
      "[I 2024-03-14 10:27:57,362] Trial 904 finished with value: 0.33884297520661155 and parameters: {'n_estimators': 106, 'max_depth': 38, 'min_samples_split': 0.22998758131133196, 'min_samples_leaf': 0.9171832651657477, 'max_features': 'auto'}. Best is trial 152 with value: 0.49586776859504134.\n",
      "[I 2024-03-14 10:27:58,148] Trial 905 finished with value: 0.47107438016528924 and parameters: {'n_estimators': 166, 'max_depth': 41, 'min_samples_split': 0.039075938661402736, 'min_samples_leaf': 0.027736684526112224, 'max_features': 'auto'}. Best is trial 152 with value: 0.49586776859504134.\n",
      "[I 2024-03-14 10:27:58,365] Trial 906 finished with value: 0.33884297520661155 and parameters: {'n_estimators': 118, 'max_depth': 36, 'min_samples_split': 0.08458343730349367, 'min_samples_leaf': 0.6790505422125418, 'max_features': 'auto'}. Best is trial 152 with value: 0.49586776859504134.\n",
      "[I 2024-03-14 10:27:58,562] Trial 907 finished with value: 0.33884297520661155 and parameters: {'n_estimators': 111, 'max_depth': 40, 'min_samples_split': 0.9078262853257548, 'min_samples_leaf': 0.4559875866599457, 'max_features': 'auto'}. Best is trial 152 with value: 0.49586776859504134.\n",
      "[I 2024-03-14 10:27:58,782] Trial 908 finished with value: 0.33884297520661155 and parameters: {'n_estimators': 127, 'max_depth': 42, 'min_samples_split': 0.04216057124449912, 'min_samples_leaf': 0.5193639507644245, 'max_features': 'auto'}. Best is trial 152 with value: 0.49586776859504134.\n",
      "[I 2024-03-14 10:27:59,051] Trial 909 finished with value: 0.33884297520661155 and parameters: {'n_estimators': 171, 'max_depth': 40, 'min_samples_split': 0.02633643562478678, 'min_samples_leaf': 0.5817858159624918, 'max_features': 'auto'}. Best is trial 152 with value: 0.49586776859504134.\n",
      "[I 2024-03-14 10:28:00,052] Trial 910 finished with value: 0.48484848484848486 and parameters: {'n_estimators': 156, 'max_depth': 44, 'min_samples_split': 0.010065833140646019, 'min_samples_leaf': 0.010304675652872413, 'max_features': 'auto'}. Best is trial 152 with value: 0.49586776859504134.\n",
      "[I 2024-03-14 10:28:00,485] Trial 911 finished with value: 0.41046831955922863 and parameters: {'n_estimators': 130, 'max_depth': 35, 'min_samples_split': 0.14365730812839822, 'min_samples_leaf': 0.07532196396735384, 'max_features': 'auto'}. Best is trial 152 with value: 0.49586776859504134.\n",
      "[I 2024-03-14 10:28:00,689] Trial 912 finished with value: 0.33884297520661155 and parameters: {'n_estimators': 122, 'max_depth': 41, 'min_samples_split': 0.5911304317088293, 'min_samples_leaf': 0.7333755574838237, 'max_features': 'auto'}. Best is trial 152 with value: 0.49586776859504134.\n",
      "[I 2024-03-14 10:28:00,882] Trial 913 finished with value: 0.33884297520661155 and parameters: {'n_estimators': 116, 'max_depth': 38, 'min_samples_split': 0.6715902006770844, 'min_samples_leaf': 0.620025707574959, 'max_features': 'auto'}. Best is trial 152 with value: 0.49586776859504134.\n",
      "[I 2024-03-14 10:28:01,759] Trial 914 finished with value: 0.46831955922865015 and parameters: {'n_estimators': 162, 'max_depth': 39, 'min_samples_split': 0.06328140830203657, 'min_samples_leaf': 0.01054336583127626, 'max_features': 'auto'}. Best is trial 152 with value: 0.49586776859504134.\n",
      "[I 2024-03-14 10:28:02,048] Trial 915 finished with value: 0.33884297520661155 and parameters: {'n_estimators': 143, 'max_depth': 17, 'min_samples_split': 0.9709819872676781, 'min_samples_leaf': 0.0484874935292359, 'max_features': 'auto'}. Best is trial 152 with value: 0.49586776859504134.\n",
      "[I 2024-03-14 10:28:02,466] Trial 916 finished with value: 0.41046831955922863 and parameters: {'n_estimators': 138, 'max_depth': 37, 'min_samples_split': 0.20839193284859872, 'min_samples_leaf': 0.10013688858375702, 'max_features': 'auto'}. Best is trial 152 with value: 0.49586776859504134.\n",
      "[I 2024-03-14 10:28:03,112] Trial 917 finished with value: 0.4325068870523416 and parameters: {'n_estimators': 175, 'max_depth': 39, 'min_samples_split': 0.11986345158058177, 'min_samples_leaf': 0.0420038183649234, 'max_features': 'auto'}. Best is trial 152 with value: 0.49586776859504134.\n",
      "[I 2024-03-14 10:28:03,382] Trial 918 finished with value: 0.33884297520661155 and parameters: {'n_estimators': 168, 'max_depth': 41, 'min_samples_split': 0.4644148764818762, 'min_samples_leaf': 0.9383574598329438, 'max_features': 'auto'}. Best is trial 152 with value: 0.49586776859504134.\n",
      "[I 2024-03-14 10:28:03,892] Trial 919 finished with value: 0.4573002754820937 and parameters: {'n_estimators': 110, 'max_depth': 10, 'min_samples_split': 0.05202367586493104, 'min_samples_leaf': 0.02765111234426815, 'max_features': 'auto'}. Best is trial 152 with value: 0.49586776859504134.\n",
      "[I 2024-03-14 10:28:04,388] Trial 920 finished with value: 0.4022038567493113 and parameters: {'n_estimators': 125, 'max_depth': 43, 'min_samples_split': 0.08920190460714306, 'min_samples_leaf': 0.05814347878411098, 'max_features': 'auto'}. Best is trial 152 with value: 0.49586776859504134.\n",
      "[I 2024-03-14 10:28:04,642] Trial 921 finished with value: 0.33884297520661155 and parameters: {'n_estimators': 159, 'max_depth': 40, 'min_samples_split': 0.02884389774059396, 'min_samples_leaf': 0.6926369267186289, 'max_features': 'auto'}. Best is trial 152 with value: 0.49586776859504134.\n",
      "[I 2024-03-14 10:28:04,929] Trial 922 finished with value: 0.39118457300275483 and parameters: {'n_estimators': 122, 'max_depth': 42, 'min_samples_split': 0.0739570569863452, 'min_samples_leaf': 0.21137368475886886, 'max_features': 'auto'}. Best is trial 152 with value: 0.49586776859504134.\n",
      "[I 2024-03-14 10:28:05,221] Trial 923 finished with value: 0.4132231404958678 and parameters: {'n_estimators': 133, 'max_depth': 37, 'min_samples_split': 0.48304770225062077, 'min_samples_leaf': 0.2783840697849511, 'max_features': 'auto'}. Best is trial 152 with value: 0.49586776859504134.\n",
      "[I 2024-03-14 10:28:05,651] Trial 924 finished with value: 0.3856749311294766 and parameters: {'n_estimators': 154, 'max_depth': 38, 'min_samples_split': 0.545779951740756, 'min_samples_leaf': 0.028028597857420838, 'max_features': 'auto'}. Best is trial 152 with value: 0.49586776859504134.\n",
      "[I 2024-03-14 10:28:05,888] Trial 925 finished with value: 0.33884297520661155 and parameters: {'n_estimators': 104, 'max_depth': 39, 'min_samples_split': 0.9947013267356098, 'min_samples_leaf': 0.045638317127570924, 'max_features': 'auto'}. Best is trial 152 with value: 0.49586776859504134.\n",
      "[I 2024-03-14 10:28:06,224] Trial 926 finished with value: 0.4049586776859504 and parameters: {'n_estimators': 115, 'max_depth': 40, 'min_samples_split': 0.04439893784885663, 'min_samples_leaf': 0.1845928975404107, 'max_features': 'auto'}. Best is trial 152 with value: 0.49586776859504134.\n",
      "[I 2024-03-14 10:28:06,766] Trial 927 finished with value: 0.4049586776859504 and parameters: {'n_estimators': 165, 'max_depth': 15, 'min_samples_split': 0.27899759280315045, 'min_samples_leaf': 0.07413669671902826, 'max_features': 'auto'}. Best is trial 152 with value: 0.49586776859504134.\n",
      "[I 2024-03-14 10:28:07,534] Trial 928 finished with value: 0.44352617079889806 and parameters: {'n_estimators': 179, 'max_depth': 36, 'min_samples_split': 0.18550518104440092, 'min_samples_leaf': 0.027398122556784213, 'max_features': 'auto'}. Best is trial 152 with value: 0.49586776859504134.\n",
      "[I 2024-03-14 10:28:08,116] Trial 929 finished with value: 0.3774104683195592 and parameters: {'n_estimators': 172, 'max_depth': 9, 'min_samples_split': 0.3695066939937919, 'min_samples_leaf': 0.026619993438533947, 'max_features': 'auto'}. Best is trial 152 with value: 0.49586776859504134.\n",
      "[I 2024-03-14 10:28:08,886] Trial 930 finished with value: 0.48760330578512395 and parameters: {'n_estimators': 119, 'max_depth': 8, 'min_samples_split': 0.027158030081945703, 'min_samples_leaf': 0.010404430018026364, 'max_features': 'auto'}. Best is trial 152 with value: 0.49586776859504134.\n",
      "[I 2024-03-14 10:28:09,132] Trial 931 finished with value: 0.33884297520661155 and parameters: {'n_estimators': 128, 'max_depth': 7, 'min_samples_split': 0.025661680917927025, 'min_samples_leaf': 0.48325226768725527, 'max_features': 'auto'}. Best is trial 152 with value: 0.49586776859504134.\n",
      "[I 2024-03-14 10:28:09,582] Trial 932 finished with value: 0.39669421487603307 and parameters: {'n_estimators': 148, 'max_depth': 7, 'min_samples_split': 0.4498454854131684, 'min_samples_leaf': 0.010245785289516831, 'max_features': 'auto'}. Best is trial 152 with value: 0.49586776859504134.\n",
      "[I 2024-03-14 10:28:09,835] Trial 933 finished with value: 0.33884297520661155 and parameters: {'n_estimators': 126, 'max_depth': 7, 'min_samples_split': 0.01080197896678805, 'min_samples_leaf': 0.9714663986428081, 'max_features': 'auto'}. Best is trial 152 with value: 0.49586776859504134.\n",
      "[I 2024-03-14 10:28:10,074] Trial 934 finished with value: 0.33884297520661155 and parameters: {'n_estimators': 133, 'max_depth': 10, 'min_samples_split': 0.9362496590446133, 'min_samples_leaf': 0.7966900329263954, 'max_features': 'auto'}. Best is trial 152 with value: 0.49586776859504134.\n",
      "[I 2024-03-14 10:28:10,544] Trial 935 finished with value: 0.41046831955922863 and parameters: {'n_estimators': 120, 'max_depth': 8, 'min_samples_split': 0.03211099044609961, 'min_samples_leaf': 0.1149128937254834, 'max_features': 'auto'}. Best is trial 152 with value: 0.49586776859504134.\n",
      "[I 2024-03-14 10:28:10,798] Trial 936 finished with value: 0.33884297520661155 and parameters: {'n_estimators': 107, 'max_depth': 9, 'min_samples_split': 0.1670615616800173, 'min_samples_leaf': 0.40430656482138794, 'max_features': 'auto'}. Best is trial 152 with value: 0.49586776859504134.\n",
      "[I 2024-03-14 10:28:11,098] Trial 937 finished with value: 0.33884297520661155 and parameters: {'n_estimators': 176, 'max_depth': 8, 'min_samples_split': 0.06295847012149113, 'min_samples_leaf': 0.5740835144271212, 'max_features': 'auto'}. Best is trial 152 with value: 0.49586776859504134.\n",
      "[I 2024-03-14 10:28:11,815] Trial 938 finished with value: 0.44352617079889806 and parameters: {'n_estimators': 170, 'max_depth': 8, 'min_samples_split': 0.02624089087825525, 'min_samples_leaf': 0.052823509678055124, 'max_features': 'auto'}. Best is trial 152 with value: 0.49586776859504134.\n",
      "[I 2024-03-14 10:28:12,072] Trial 939 finished with value: 0.33884297520661155 and parameters: {'n_estimators': 162, 'max_depth': 10, 'min_samples_split': 0.22079217100922466, 'min_samples_leaf': 0.38641775787818566, 'max_features': 'auto'}. Best is trial 152 with value: 0.49586776859504134.\n",
      "[I 2024-03-14 10:28:12,623] Trial 940 finished with value: 0.43526170798898073 and parameters: {'n_estimators': 140, 'max_depth': 10, 'min_samples_split': 0.18284821410313412, 'min_samples_leaf': 0.042379013993648566, 'max_features': 'auto'}. Best is trial 152 with value: 0.49586776859504134.\n",
      "[I 2024-03-14 10:28:13,065] Trial 941 finished with value: 0.41046831955922863 and parameters: {'n_estimators': 131, 'max_depth': 6, 'min_samples_split': 0.09436154980881455, 'min_samples_leaf': 0.08453607232897423, 'max_features': 'auto'}. Best is trial 152 with value: 0.49586776859504134.\n",
      "[I 2024-03-14 10:28:13,279] Trial 942 finished with value: 0.33884297520661155 and parameters: {'n_estimators': 121, 'max_depth': 7, 'min_samples_split': 0.7363775540906572, 'min_samples_leaf': 0.010064144155323808, 'max_features': 'auto'}. Best is trial 152 with value: 0.49586776859504134.\n",
      "[I 2024-03-14 10:28:13,561] Trial 943 finished with value: 0.33884297520661155 and parameters: {'n_estimators': 167, 'max_depth': 38, 'min_samples_split': 0.6107820723836751, 'min_samples_leaf': 0.3435391092550268, 'max_features': 'auto'}. Best is trial 152 with value: 0.49586776859504134.\n",
      "[I 2024-03-14 10:28:13,763] Trial 944 finished with value: 0.33884297520661155 and parameters: {'n_estimators': 113, 'max_depth': 25, 'min_samples_split': 0.5029774704783244, 'min_samples_leaf': 0.6622477369641302, 'max_features': 'auto'}. Best is trial 152 with value: 0.49586776859504134.\n",
      "[I 2024-03-14 10:28:14,067] Trial 945 finished with value: 0.3856749311294766 and parameters: {'n_estimators': 100, 'max_depth': 9, 'min_samples_split': 0.5274951529075039, 'min_samples_leaf': 0.06507549602802165, 'max_features': 'auto'}. Best is trial 152 with value: 0.49586776859504134.\n",
      "[I 2024-03-14 10:28:14,331] Trial 946 finished with value: 0.33884297520661155 and parameters: {'n_estimators': 152, 'max_depth': 34, 'min_samples_split': 0.010302392323897926, 'min_samples_leaf': 0.42888804054790025, 'max_features': 'auto'}. Best is trial 152 with value: 0.49586776859504134.\n",
      "[I 2024-03-14 10:28:14,794] Trial 947 finished with value: 0.3884297520661157 and parameters: {'n_estimators': 158, 'max_depth': 9, 'min_samples_split': 0.35677511486747426, 'min_samples_leaf': 0.030153574791237113, 'max_features': 'auto'}. Best is trial 152 with value: 0.49586776859504134.\n",
      "[I 2024-03-14 10:28:15,318] Trial 948 finished with value: 0.44352617079889806 and parameters: {'n_estimators': 125, 'max_depth': 6, 'min_samples_split': 0.05424698366189912, 'min_samples_leaf': 0.04057037347706631, 'max_features': 'auto'}. Best is trial 152 with value: 0.49586776859504134.\n",
      "[I 2024-03-14 10:28:15,755] Trial 949 finished with value: 0.4022038567493113 and parameters: {'n_estimators': 180, 'max_depth': 9, 'min_samples_split': 0.3157399467859128, 'min_samples_leaf': 0.17591071780043815, 'max_features': 'auto'}. Best is trial 152 with value: 0.49586776859504134.\n",
      "[I 2024-03-14 10:28:16,743] Trial 950 finished with value: 0.47107438016528924 and parameters: {'n_estimators': 175, 'max_depth': 8, 'min_samples_split': 0.07173881872765403, 'min_samples_leaf': 0.01032217964083828, 'max_features': 'auto'}. Best is trial 152 with value: 0.49586776859504134.\n",
      "[I 2024-03-14 10:28:17,005] Trial 951 finished with value: 0.33884297520661155 and parameters: {'n_estimators': 146, 'max_depth': 8, 'min_samples_split': 0.8531556049433409, 'min_samples_leaf': 0.8430282563621403, 'max_features': 'auto'}. Best is trial 152 with value: 0.49586776859504134.\n",
      "[I 2024-03-14 10:28:17,205] Trial 952 finished with value: 0.33884297520661155 and parameters: {'n_estimators': 116, 'max_depth': 28, 'min_samples_split': 0.9062833287428733, 'min_samples_leaf': 0.010243664890318641, 'max_features': 'auto'}. Best is trial 152 with value: 0.49586776859504134.\n",
      "[I 2024-03-14 10:28:17,546] Trial 953 finished with value: 0.39669421487603307 and parameters: {'n_estimators': 109, 'max_depth': 35, 'min_samples_split': 0.294893242757031, 'min_samples_leaf': 0.05340360994193572, 'max_features': 'auto'}. Best is trial 152 with value: 0.49586776859504134.\n",
      "[I 2024-03-14 10:28:17,840] Trial 954 finished with value: 0.3884297520661157 and parameters: {'n_estimators': 128, 'max_depth': 37, 'min_samples_split': 0.03927033905102595, 'min_samples_leaf': 0.23930587238670065, 'max_features': 'auto'}. Best is trial 152 with value: 0.49586776859504134.\n",
      "[I 2024-03-14 10:28:18,124] Trial 955 finished with value: 0.33884297520661155 and parameters: {'n_estimators': 135, 'max_depth': 47, 'min_samples_split': 0.7505918111299961, 'min_samples_leaf': 0.3102833011331067, 'max_features': 'auto'}. Best is trial 152 with value: 0.49586776859504134.\n",
      "[I 2024-03-14 10:28:18,352] Trial 956 finished with value: 0.33884297520661155 and parameters: {'n_estimators': 122, 'max_depth': 12, 'min_samples_split': 0.01024614091377143, 'min_samples_leaf': 0.4607739488083364, 'max_features': 'auto'}. Best is trial 152 with value: 0.49586776859504134.\n",
      "[I 2024-03-14 10:28:18,732] Trial 957 finished with value: 0.418732782369146 and parameters: {'n_estimators': 167, 'max_depth': 38, 'min_samples_split': 0.10796483072317713, 'min_samples_leaf': 0.2850378174265197, 'max_features': 'auto'}. Best is trial 152 with value: 0.49586776859504134.\n",
      "[I 2024-03-14 10:28:19,169] Trial 958 finished with value: 0.39669421487603307 and parameters: {'n_estimators': 172, 'max_depth': 14, 'min_samples_split': 0.050622576790727014, 'min_samples_leaf': 0.1539512020520481, 'max_features': 'auto'}. Best is trial 152 with value: 0.49586776859504134.\n",
      "[I 2024-03-14 10:28:19,429] Trial 959 finished with value: 0.33884297520661155 and parameters: {'n_estimators': 164, 'max_depth': 11, 'min_samples_split': 0.02719568664250486, 'min_samples_leaf': 0.6375850477457287, 'max_features': 'auto'}. Best is trial 152 with value: 0.49586776859504134.\n",
      "[I 2024-03-14 10:28:20,036] Trial 960 finished with value: 0.46831955922865015 and parameters: {'n_estimators': 125, 'max_depth': 36, 'min_samples_split': 0.07620662653841995, 'min_samples_leaf': 0.031114118499647903, 'max_features': 'auto'}. Best is trial 152 with value: 0.49586776859504134.\n",
      "[I 2024-03-14 10:28:20,251] Trial 961 finished with value: 0.33884297520661155 and parameters: {'n_estimators': 118, 'max_depth': 39, 'min_samples_split': 0.03955563708800559, 'min_samples_leaf': 0.4448086379549602, 'max_features': 'auto'}. Best is trial 152 with value: 0.49586776859504134.\n",
      "[I 2024-03-14 10:28:20,979] Trial 962 finished with value: 0.4738292011019284 and parameters: {'n_estimators': 130, 'max_depth': 37, 'min_samples_split': 0.05915443466054295, 'min_samples_leaf': 0.010132159557597956, 'max_features': 'auto'}. Best is trial 152 with value: 0.49586776859504134.\n",
      "[I 2024-03-14 10:28:21,173] Trial 963 finished with value: 0.33884297520661155 and parameters: {'n_estimators': 112, 'max_depth': 38, 'min_samples_split': 0.7793356597418822, 'min_samples_leaf': 0.7622989840962637, 'max_features': 'auto'}. Best is trial 152 with value: 0.49586776859504134.\n",
      "[I 2024-03-14 10:28:21,819] Trial 964 finished with value: 0.41046831955922863 and parameters: {'n_estimators': 158, 'max_depth': 39, 'min_samples_split': 0.124495992326244, 'min_samples_leaf': 0.06630800319708702, 'max_features': 'auto'}. Best is trial 152 with value: 0.49586776859504134.\n",
      "[I 2024-03-14 10:28:22,319] Trial 965 finished with value: 0.4049586776859504 and parameters: {'n_estimators': 137, 'max_depth': 27, 'min_samples_split': 0.40669628500956345, 'min_samples_leaf': 0.040005697030271944, 'max_features': 'auto'}. Best is trial 152 with value: 0.49586776859504134.\n",
      "[I 2024-03-14 10:28:22,643] Trial 966 finished with value: 0.33884297520661155 and parameters: {'n_estimators': 181, 'max_depth': 8, 'min_samples_split': 0.14430833438958168, 'min_samples_leaf': 0.9085028101548797, 'max_features': 'auto'}. Best is trial 152 with value: 0.49586776859504134.\n",
      "[I 2024-03-14 10:28:22,866] Trial 967 finished with value: 0.33884297520661155 and parameters: {'n_estimators': 104, 'max_depth': 32, 'min_samples_split': 0.027444195233339404, 'min_samples_leaf': 0.541743166376589, 'max_features': 'auto'}. Best is trial 152 with value: 0.49586776859504134.\n",
      "[I 2024-03-14 10:28:23,751] Trial 968 finished with value: 0.44077134986225897 and parameters: {'n_estimators': 175, 'max_depth': 39, 'min_samples_split': 0.09278613106858613, 'min_samples_leaf': 0.02827487641802921, 'max_features': 'auto'}. Best is trial 152 with value: 0.49586776859504134.\n",
      "[I 2024-03-14 10:28:24,473] Trial 969 finished with value: 0.4049586776859504 and parameters: {'n_estimators': 141, 'max_depth': 33, 'min_samples_split': 0.06465915239121403, 'min_samples_leaf': 0.05631136887755142, 'max_features': 'auto'}. Best is trial 152 with value: 0.49586776859504134.\n",
      "[I 2024-03-14 10:28:24,901] Trial 970 finished with value: 0.3939393939393939 and parameters: {'n_estimators': 169, 'max_depth': 36, 'min_samples_split': 0.041846318429613276, 'min_samples_leaf': 0.23603563708348324, 'max_features': 'auto'}. Best is trial 152 with value: 0.49586776859504134.\n",
      "[I 2024-03-14 10:28:25,189] Trial 971 finished with value: 0.33884297520661155 and parameters: {'n_estimators': 161, 'max_depth': 40, 'min_samples_split': 0.3354464615993382, 'min_samples_leaf': 0.5142998353957612, 'max_features': 'auto'}. Best is trial 152 with value: 0.49586776859504134.\n",
      "[I 2024-03-14 10:28:25,422] Trial 972 finished with value: 0.33884297520661155 and parameters: {'n_estimators': 119, 'max_depth': 38, 'min_samples_split': 0.5481946526604131, 'min_samples_leaf': 0.5840463872555968, 'max_features': 'auto'}. Best is trial 152 with value: 0.49586776859504134.\n",
      "[I 2024-03-14 10:28:25,793] Trial 973 finished with value: 0.3856749311294766 and parameters: {'n_estimators': 130, 'max_depth': 18, 'min_samples_split': 0.026704464331594364, 'min_samples_leaf': 0.22605904672411564, 'max_features': 'auto'}. Best is trial 152 with value: 0.49586776859504134.\n",
      "[I 2024-03-14 10:28:26,012] Trial 974 finished with value: 0.33884297520661155 and parameters: {'n_estimators': 109, 'max_depth': 21, 'min_samples_split': 0.6658695063389047, 'min_samples_leaf': 0.08735336156236788, 'max_features': 'auto'}. Best is trial 152 with value: 0.49586776859504134.\n",
      "[I 2024-03-14 10:28:26,555] Trial 975 finished with value: 0.41046831955922863 and parameters: {'n_estimators': 153, 'max_depth': 40, 'min_samples_split': 0.24851184519172045, 'min_samples_leaf': 0.03045510671847921, 'max_features': 'auto'}. Best is trial 152 with value: 0.49586776859504134.\n",
      "[I 2024-03-14 10:28:26,771] Trial 976 finished with value: 0.33884297520661155 and parameters: {'n_estimators': 124, 'max_depth': 11, 'min_samples_split': 0.08493839432465337, 'min_samples_leaf': 0.37300517363384655, 'max_features': 'auto'}. Best is trial 152 with value: 0.49586776859504134.\n",
      "[I 2024-03-14 10:28:27,131] Trial 977 finished with value: 0.3856749311294766 and parameters: {'n_estimators': 114, 'max_depth': 37, 'min_samples_split': 0.5591372667351509, 'min_samples_leaf': 0.04566481445030806, 'max_features': 'auto'}. Best is trial 152 with value: 0.49586776859504134.\n",
      "[I 2024-03-14 10:28:28,222] Trial 978 finished with value: 0.48484848484848486 and parameters: {'n_estimators': 172, 'max_depth': 13, 'min_samples_split': 0.010738622541277384, 'min_samples_leaf': 0.010073661282119532, 'max_features': 'auto'}. Best is trial 152 with value: 0.49586776859504134.\n",
      "[I 2024-03-14 10:28:28,434] Trial 979 finished with value: 0.33884297520661155 and parameters: {'n_estimators': 121, 'max_depth': 23, 'min_samples_split': 0.4233210640028819, 'min_samples_leaf': 0.8255351445390142, 'max_features': 'auto'}. Best is trial 152 with value: 0.49586776859504134.\n",
      "[I 2024-03-14 10:28:28,987] Trial 980 finished with value: 0.41597796143250687 and parameters: {'n_estimators': 178, 'max_depth': 39, 'min_samples_split': 0.05592474775418612, 'min_samples_leaf': 0.11097607642805506, 'max_features': 'auto'}. Best is trial 152 with value: 0.49586776859504134.\n",
      "[I 2024-03-14 10:28:29,806] Trial 981 finished with value: 0.4628099173553719 and parameters: {'n_estimators': 164, 'max_depth': 42, 'min_samples_split': 0.043989598836347, 'min_samples_leaf': 0.029427695006645684, 'max_features': 'auto'}. Best is trial 152 with value: 0.49586776859504134.\n",
      "[I 2024-03-14 10:28:30,035] Trial 982 finished with value: 0.33884297520661155 and parameters: {'n_estimators': 133, 'max_depth': 10, 'min_samples_split': 0.6255547967941386, 'min_samples_leaf': 0.3794749226493731, 'max_features': 'auto'}. Best is trial 152 with value: 0.49586776859504134.\n",
      "[I 2024-03-14 10:28:30,357] Trial 983 finished with value: 0.38292011019283745 and parameters: {'n_estimators': 127, 'max_depth': 26, 'min_samples_split': 0.4501214886998772, 'min_samples_leaf': 0.0676499265044818, 'max_features': 'auto'}. Best is trial 152 with value: 0.49586776859504134.\n",
      "[I 2024-03-14 10:28:30,837] Trial 984 finished with value: 0.4573002754820937 and parameters: {'n_estimators': 107, 'max_depth': 30, 'min_samples_split': 0.10460858200185777, 'min_samples_leaf': 0.028638276201482012, 'max_features': 'auto'}. Best is trial 152 with value: 0.49586776859504134.\n",
      "[I 2024-03-14 10:28:31,487] Trial 985 finished with value: 0.46005509641873277 and parameters: {'n_estimators': 149, 'max_depth': 38, 'min_samples_split': 0.07326475440237164, 'min_samples_leaf': 0.043174782258916265, 'max_features': 'auto'}. Best is trial 152 with value: 0.49586776859504134.\n",
      "[I 2024-03-14 10:28:31,726] Trial 986 finished with value: 0.33884297520661155 and parameters: {'n_estimators': 137, 'max_depth': 41, 'min_samples_split': 0.8296323962041068, 'min_samples_leaf': 0.13170430311516623, 'max_features': 'auto'}. Best is trial 152 with value: 0.49586776859504134.\n",
      "[I 2024-03-14 10:28:32,210] Trial 987 finished with value: 0.465564738292011 and parameters: {'n_estimators': 103, 'max_depth': 40, 'min_samples_split': 0.0266581999659506, 'min_samples_leaf': 0.030015433057695176, 'max_features': 'auto'}. Best is trial 152 with value: 0.49586776859504134.\n",
      "[I 2024-03-14 10:28:32,418] Trial 988 finished with value: 0.33884297520661155 and parameters: {'n_estimators': 115, 'max_depth': 7, 'min_samples_split': 0.6995644312458335, 'min_samples_leaf': 0.0579420299782049, 'max_features': 'auto'}. Best is trial 152 with value: 0.49586776859504134.\n",
      "[I 2024-03-14 10:28:32,884] Trial 989 finished with value: 0.33884297520661155 and parameters: {'n_estimators': 293, 'max_depth': 34, 'min_samples_split': 0.5906630872582667, 'min_samples_leaf': 0.9709527135316924, 'max_features': 'auto'}. Best is trial 152 with value: 0.49586776859504134.\n",
      "[I 2024-03-14 10:28:33,151] Trial 990 finished with value: 0.33884297520661155 and parameters: {'n_estimators': 171, 'max_depth': 39, 'min_samples_split': 0.05334243245517732, 'min_samples_leaf': 0.7264531121599618, 'max_features': 'auto'}. Best is trial 152 with value: 0.49586776859504134.\n",
      "[I 2024-03-14 10:28:33,450] Trial 991 finished with value: 0.42699724517906334 and parameters: {'n_estimators': 143, 'max_depth': 37, 'min_samples_split': 0.35082110386959164, 'min_samples_leaf': 0.290598928680466, 'max_features': 'auto'}. Best is trial 152 with value: 0.49586776859504134.\n",
      "[I 2024-03-14 10:28:33,711] Trial 992 finished with value: 0.33884297520661155 and parameters: {'n_estimators': 156, 'max_depth': 44, 'min_samples_split': 0.8151491686574761, 'min_samples_leaf': 0.17867800261523276, 'max_features': 'auto'}. Best is trial 152 with value: 0.49586776859504134.\n",
      "[I 2024-03-14 10:28:34,186] Trial 993 finished with value: 0.4132231404958678 and parameters: {'n_estimators': 123, 'max_depth': 35, 'min_samples_split': 0.30264900623558, 'min_samples_leaf': 0.01116838210719397, 'max_features': 'auto'}. Best is trial 152 with value: 0.49586776859504134.\n",
      "[I 2024-03-14 10:28:35,331] Trial 994 finished with value: 0.47107438016528924 and parameters: {'n_estimators': 185, 'max_depth': 31, 'min_samples_split': 0.030001301371268548, 'min_samples_leaf': 0.010574683563770712, 'max_features': 'auto'}. Best is trial 152 with value: 0.49586776859504134.\n",
      "[I 2024-03-14 10:28:35,598] Trial 995 finished with value: 0.33884297520661155 and parameters: {'n_estimators': 167, 'max_depth': 6, 'min_samples_split': 0.7786321645388921, 'min_samples_leaf': 0.36342406593416354, 'max_features': 'auto'}. Best is trial 152 with value: 0.49586776859504134.\n",
      "[I 2024-03-14 10:28:35,874] Trial 996 finished with value: 0.33884297520661155 and parameters: {'n_estimators': 178, 'max_depth': 10, 'min_samples_split': 0.07761509029406682, 'min_samples_leaf': 0.6530452985397227, 'max_features': 'auto'}. Best is trial 152 with value: 0.49586776859504134.\n",
      "[I 2024-03-14 10:28:36,139] Trial 997 finished with value: 0.33884297520661155 and parameters: {'n_estimators': 130, 'max_depth': 40, 'min_samples_split': 0.726868765888035, 'min_samples_leaf': 0.2512683410395321, 'max_features': 'auto'}. Best is trial 152 with value: 0.49586776859504134.\n",
      "[I 2024-03-14 10:28:36,576] Trial 998 finished with value: 0.3939393939393939 and parameters: {'n_estimators': 160, 'max_depth': 9, 'min_samples_split': 0.23246564094188465, 'min_samples_leaf': 0.13202274997420305, 'max_features': 'auto'}. Best is trial 152 with value: 0.49586776859504134.\n",
      "[I 2024-03-14 10:28:36,834] Trial 999 finished with value: 0.3884297520661157 and parameters: {'n_estimators': 110, 'max_depth': 38, 'min_samples_split': 0.12254076377612472, 'min_samples_leaf': 0.21141434812682047, 'max_features': 'auto'}. Best is trial 152 with value: 0.49586776859504134.\n"
     ]
    }
   ],
   "source": [
    "def objective(trial):\n",
    "    n_estimators = trial.suggest_int('n_estimators', 100, 300)\n",
    "    max_depth = trial.suggest_int('max_depth', 5, 50)\n",
    "    min_samples_split = trial.suggest_float('min_samples_split', 0.01, 1.0)\n",
    "    min_samples_leaf = trial.suggest_float('min_samples_leaf', 0.01, 1.0)\n",
    "    max_features = trial.suggest_categorical('max_features', ['auto'])\n",
    "\n",
    "    rf_clf = RandomForestClassifier(\n",
    "        n_estimators=n_estimators,\n",
    "        max_depth=max_depth,\n",
    "        min_samples_split=min_samples_split,\n",
    "        min_samples_leaf=min_samples_leaf,\n",
    "        max_features=max_features,\n",
    "        random_state=42\n",
    "    )\n",
    "\n",
    "    rf_clf.fit(X_train_cbow, y_train)\n",
    "    y_val_pred = rf_clf.predict(X_val_cbow)\n",
    "    accuracy = accuracy_score(y_val, y_val_pred)\n",
    "\n",
    "    return accuracy\n",
    "\n",
    "study = optuna.create_study(direction='maximize')\n",
    "study.optimize(objective, n_trials=1000)\n",
    "\n",
    "best_params_cbow = study.best_params\n",
    "best_accuracy_cbow = study.best_value"
   ]
  },
  {
   "cell_type": "code",
   "execution_count": 349,
   "metadata": {
    "colab": {
     "base_uri": "https://localhost:8080/",
     "height": 126
    },
    "executionInfo": {
     "elapsed": 2907,
     "status": "ok",
     "timestamp": 1710299027418,
     "user": {
      "displayName": "Alfandy Surya",
      "userId": "04251874478570968890"
     },
     "user_tz": -420
    },
    "id": "4uOBQrCnf9XN",
    "outputId": "e6d3eda4-a19f-4585-e35c-7dbeba413010"
   },
   "outputs": [
    {
     "data": {
      "text/html": [
       "<style>#sk-container-id-22 {color: black;background-color: white;}#sk-container-id-22 pre{padding: 0;}#sk-container-id-22 div.sk-toggleable {background-color: white;}#sk-container-id-22 label.sk-toggleable__label {cursor: pointer;display: block;width: 100%;margin-bottom: 0;padding: 0.3em;box-sizing: border-box;text-align: center;}#sk-container-id-22 label.sk-toggleable__label-arrow:before {content: \"▸\";float: left;margin-right: 0.25em;color: #696969;}#sk-container-id-22 label.sk-toggleable__label-arrow:hover:before {color: black;}#sk-container-id-22 div.sk-estimator:hover label.sk-toggleable__label-arrow:before {color: black;}#sk-container-id-22 div.sk-toggleable__content {max-height: 0;max-width: 0;overflow: hidden;text-align: left;background-color: #f0f8ff;}#sk-container-id-22 div.sk-toggleable__content pre {margin: 0.2em;color: black;border-radius: 0.25em;background-color: #f0f8ff;}#sk-container-id-22 input.sk-toggleable__control:checked~div.sk-toggleable__content {max-height: 200px;max-width: 100%;overflow: auto;}#sk-container-id-22 input.sk-toggleable__control:checked~label.sk-toggleable__label-arrow:before {content: \"▾\";}#sk-container-id-22 div.sk-estimator input.sk-toggleable__control:checked~label.sk-toggleable__label {background-color: #d4ebff;}#sk-container-id-22 div.sk-label input.sk-toggleable__control:checked~label.sk-toggleable__label {background-color: #d4ebff;}#sk-container-id-22 input.sk-hidden--visually {border: 0;clip: rect(1px 1px 1px 1px);clip: rect(1px, 1px, 1px, 1px);height: 1px;margin: -1px;overflow: hidden;padding: 0;position: absolute;width: 1px;}#sk-container-id-22 div.sk-estimator {font-family: monospace;background-color: #f0f8ff;border: 1px dotted black;border-radius: 0.25em;box-sizing: border-box;margin-bottom: 0.5em;}#sk-container-id-22 div.sk-estimator:hover {background-color: #d4ebff;}#sk-container-id-22 div.sk-parallel-item::after {content: \"\";width: 100%;border-bottom: 1px solid gray;flex-grow: 1;}#sk-container-id-22 div.sk-label:hover label.sk-toggleable__label {background-color: #d4ebff;}#sk-container-id-22 div.sk-serial::before {content: \"\";position: absolute;border-left: 1px solid gray;box-sizing: border-box;top: 0;bottom: 0;left: 50%;z-index: 0;}#sk-container-id-22 div.sk-serial {display: flex;flex-direction: column;align-items: center;background-color: white;padding-right: 0.2em;padding-left: 0.2em;position: relative;}#sk-container-id-22 div.sk-item {position: relative;z-index: 1;}#sk-container-id-22 div.sk-parallel {display: flex;align-items: stretch;justify-content: center;background-color: white;position: relative;}#sk-container-id-22 div.sk-item::before, #sk-container-id-22 div.sk-parallel-item::before {content: \"\";position: absolute;border-left: 1px solid gray;box-sizing: border-box;top: 0;bottom: 0;left: 50%;z-index: -1;}#sk-container-id-22 div.sk-parallel-item {display: flex;flex-direction: column;z-index: 1;position: relative;background-color: white;}#sk-container-id-22 div.sk-parallel-item:first-child::after {align-self: flex-end;width: 50%;}#sk-container-id-22 div.sk-parallel-item:last-child::after {align-self: flex-start;width: 50%;}#sk-container-id-22 div.sk-parallel-item:only-child::after {width: 0;}#sk-container-id-22 div.sk-dashed-wrapped {border: 1px dashed gray;margin: 0 0.4em 0.5em 0.4em;box-sizing: border-box;padding-bottom: 0.4em;background-color: white;}#sk-container-id-22 div.sk-label label {font-family: monospace;font-weight: bold;display: inline-block;line-height: 1.2em;}#sk-container-id-22 div.sk-label-container {text-align: center;}#sk-container-id-22 div.sk-container {/* jupyter's `normalize.less` sets `[hidden] { display: none; }` but bootstrap.min.css set `[hidden] { display: none !important; }` so we also need the `!important` here to be able to override the default hidden behavior on the sphinx rendered scikit-learn.org. See: https://github.com/scikit-learn/scikit-learn/issues/21755 */display: inline-block !important;position: relative;}#sk-container-id-22 div.sk-text-repr-fallback {display: none;}</style><div id=\"sk-container-id-22\" class=\"sk-top-container\"><div class=\"sk-text-repr-fallback\"><pre>RandomForestClassifier(max_depth=39, max_features=&#x27;auto&#x27;,\n",
       "                       min_samples_leaf=0.01234127702862079,\n",
       "                       min_samples_split=0.030049470404495078, n_estimators=108,\n",
       "                       random_state=42)</pre><b>In a Jupyter environment, please rerun this cell to show the HTML representation or trust the notebook. <br />On GitHub, the HTML representation is unable to render, please try loading this page with nbviewer.org.</b></div><div class=\"sk-container\" hidden><div class=\"sk-item\"><div class=\"sk-estimator sk-toggleable\"><input class=\"sk-toggleable__control sk-hidden--visually\" id=\"sk-estimator-id-22\" type=\"checkbox\" checked><label for=\"sk-estimator-id-22\" class=\"sk-toggleable__label sk-toggleable__label-arrow\">RandomForestClassifier</label><div class=\"sk-toggleable__content\"><pre>RandomForestClassifier(max_depth=39, max_features=&#x27;auto&#x27;,\n",
       "                       min_samples_leaf=0.01234127702862079,\n",
       "                       min_samples_split=0.030049470404495078, n_estimators=108,\n",
       "                       random_state=42)</pre></div></div></div></div></div>"
      ],
      "text/plain": [
       "RandomForestClassifier(max_depth=39, max_features='auto',\n",
       "                       min_samples_leaf=0.01234127702862079,\n",
       "                       min_samples_split=0.030049470404495078, n_estimators=108,\n",
       "                       random_state=42)"
      ]
     },
     "execution_count": 349,
     "metadata": {},
     "output_type": "execute_result"
    }
   ],
   "source": [
    "rf_model_cbow_tuned = RandomForestClassifier(random_state=42, **best_params_cbow)\n",
    "rf_model_cbow_tuned.fit(X_train_cbow, y_train)"
   ]
  },
  {
   "cell_type": "code",
   "execution_count": 350,
   "metadata": {
    "colab": {
     "base_uri": "https://localhost:8080/",
     "height": 112
    },
    "executionInfo": {
     "elapsed": 5,
     "status": "ok",
     "timestamp": 1710299029843,
     "user": {
      "displayName": "Alfandy Surya",
      "userId": "04251874478570968890"
     },
     "user_tz": -420
    },
    "id": "jg8Hjzvsf5YK",
    "outputId": "ecc6ab3a-f4a1-4af0-93d3-f88a30fef68d"
   },
   "outputs": [
    {
     "data": {
      "text/html": [
       "<div>\n",
       "<style scoped>\n",
       "    .dataframe tbody tr th:only-of-type {\n",
       "        vertical-align: middle;\n",
       "    }\n",
       "\n",
       "    .dataframe tbody tr th {\n",
       "        vertical-align: top;\n",
       "    }\n",
       "\n",
       "    .dataframe thead th {\n",
       "        text-align: right;\n",
       "    }\n",
       "</style>\n",
       "<table border=\"1\" class=\"dataframe\">\n",
       "  <thead>\n",
       "    <tr style=\"text-align: right;\">\n",
       "      <th></th>\n",
       "      <th>Train Accuracy</th>\n",
       "      <th>Validation Accuracy</th>\n",
       "      <th>Test Accuracy</th>\n",
       "    </tr>\n",
       "    <tr>\n",
       "      <th>Model Name</th>\n",
       "      <th></th>\n",
       "      <th></th>\n",
       "      <th></th>\n",
       "    </tr>\n",
       "  </thead>\n",
       "  <tbody>\n",
       "    <tr>\n",
       "      <th>RandomForestClassifier - CBOW (Tuned)</th>\n",
       "      <td>0.76</td>\n",
       "      <td>0.5</td>\n",
       "      <td>0.45</td>\n",
       "    </tr>\n",
       "  </tbody>\n",
       "</table>\n",
       "</div>"
      ],
      "text/plain": [
       "                                       Train Accuracy  Validation Accuracy  \\\n",
       "Model Name                                                                   \n",
       "RandomForestClassifier - CBOW (Tuned)            0.76                  0.5   \n",
       "\n",
       "                                       Test Accuracy  \n",
       "Model Name                                            \n",
       "RandomForestClassifier - CBOW (Tuned)           0.45  "
      ]
     },
     "execution_count": 350,
     "metadata": {},
     "output_type": "execute_result"
    }
   ],
   "source": [
    "metrics_rf_cbow_tuned = evaluate_classification_model(y_train,\n",
    "                                                  rf_model_cbow_tuned.predict(X_train_cbow),\n",
    "                                                  y_val,\n",
    "                                                  rf_model_cbow_tuned.predict(X_val_cbow),\n",
    "                                                  y_test,\n",
    "                                                  rf_model_cbow_tuned.predict(X_test_cbow),\n",
    "                                                  'RandomForestClassifier - CBOW (Tuned)')\n",
    "metrics_rf_cbow_tuned"
   ]
  },
  {
   "cell_type": "markdown",
   "metadata": {
    "id": "v6oQSPMwhE-i"
   },
   "source": [
    "## Random Forest Model Summary & Save Best Model"
   ]
  },
  {
   "cell_type": "code",
   "execution_count": 351,
   "metadata": {
    "colab": {
     "base_uri": "https://localhost:8080/",
     "height": 206
    },
    "executionInfo": {
     "elapsed": 669,
     "status": "ok",
     "timestamp": 1710299037000,
     "user": {
      "displayName": "Alfandy Surya",
      "userId": "04251874478570968890"
     },
     "user_tz": -420
    },
    "id": "s9O95AxSgolC",
    "outputId": "c33a4e1c-4d33-41f0-a06f-6d2c41702cff"
   },
   "outputs": [
    {
     "data": {
      "text/html": [
       "<div>\n",
       "<style scoped>\n",
       "    .dataframe tbody tr th:only-of-type {\n",
       "        vertical-align: middle;\n",
       "    }\n",
       "\n",
       "    .dataframe tbody tr th {\n",
       "        vertical-align: top;\n",
       "    }\n",
       "\n",
       "    .dataframe thead th {\n",
       "        text-align: right;\n",
       "    }\n",
       "</style>\n",
       "<table border=\"1\" class=\"dataframe\">\n",
       "  <thead>\n",
       "    <tr style=\"text-align: right;\">\n",
       "      <th></th>\n",
       "      <th>Train Accuracy</th>\n",
       "      <th>Validation Accuracy</th>\n",
       "      <th>Test Accuracy</th>\n",
       "    </tr>\n",
       "    <tr>\n",
       "      <th>Model Name</th>\n",
       "      <th></th>\n",
       "      <th></th>\n",
       "      <th></th>\n",
       "    </tr>\n",
       "  </thead>\n",
       "  <tbody>\n",
       "    <tr>\n",
       "      <th>RandomForestClassifier - SkipGram (Baseline)</th>\n",
       "      <td>0.99</td>\n",
       "      <td>0.60</td>\n",
       "      <td>0.53</td>\n",
       "    </tr>\n",
       "    <tr>\n",
       "      <th>RandomForestClassifier - CBOW (Baseline)</th>\n",
       "      <td>0.99</td>\n",
       "      <td>0.48</td>\n",
       "      <td>0.46</td>\n",
       "    </tr>\n",
       "    <tr>\n",
       "      <th>RandomForestClassifier - SkipGram (Tuned)</th>\n",
       "      <td>0.76</td>\n",
       "      <td>0.61</td>\n",
       "      <td>0.52</td>\n",
       "    </tr>\n",
       "    <tr>\n",
       "      <th>RandomForestClassifier - CBOW (Tuned)</th>\n",
       "      <td>0.76</td>\n",
       "      <td>0.50</td>\n",
       "      <td>0.45</td>\n",
       "    </tr>\n",
       "  </tbody>\n",
       "</table>\n",
       "</div>"
      ],
      "text/plain": [
       "                                              Train Accuracy  \\\n",
       "Model Name                                                     \n",
       "RandomForestClassifier - SkipGram (Baseline)            0.99   \n",
       "RandomForestClassifier - CBOW (Baseline)                0.99   \n",
       "RandomForestClassifier - SkipGram (Tuned)               0.76   \n",
       "RandomForestClassifier - CBOW (Tuned)                   0.76   \n",
       "\n",
       "                                              Validation Accuracy  \\\n",
       "Model Name                                                          \n",
       "RandomForestClassifier - SkipGram (Baseline)                 0.60   \n",
       "RandomForestClassifier - CBOW (Baseline)                     0.48   \n",
       "RandomForestClassifier - SkipGram (Tuned)                    0.61   \n",
       "RandomForestClassifier - CBOW (Tuned)                        0.50   \n",
       "\n",
       "                                              Test Accuracy  \n",
       "Model Name                                                   \n",
       "RandomForestClassifier - SkipGram (Baseline)           0.53  \n",
       "RandomForestClassifier - CBOW (Baseline)               0.46  \n",
       "RandomForestClassifier - SkipGram (Tuned)              0.52  \n",
       "RandomForestClassifier - CBOW (Tuned)                  0.45  "
      ]
     },
     "execution_count": 351,
     "metadata": {},
     "output_type": "execute_result"
    }
   ],
   "source": [
    "rf_summary = pd.concat([metrics_rf_sg_baseline,\n",
    "                        metrics_rf_cbow_baseline,\n",
    "                        metrics_rf_sg_tuned,\n",
    "                        metrics_rf_cbow_tuned])\n",
    "rf_summary"
   ]
  },
  {
   "cell_type": "code",
   "execution_count": 354,
   "metadata": {
    "colab": {
     "base_uri": "https://localhost:8080/"
    },
    "executionInfo": {
     "elapsed": 644,
     "status": "ok",
     "timestamp": 1710299061525,
     "user": {
      "displayName": "Alfandy Surya",
      "userId": "04251874478570968890"
     },
     "user_tz": -420
    },
    "id": "uhhF55iLiY1c",
    "outputId": "b05db25f-8ff1-460c-bc21-3b05b4f28d14"
   },
   "outputs": [
    {
     "data": {
      "text/plain": [
       "['C:\\\\Users\\\\alfan\\\\Bootcamp NLP Indonesia AI\\\\SentimentAnalysis\\\\models\\\\model_rf_cbow_tuned_no_sw.joblib']"
      ]
     },
     "execution_count": 354,
     "metadata": {},
     "output_type": "execute_result"
    }
   ],
   "source": [
    "joblib.dump(rf_model_sg_baseline, os.path.join(model_path, 'model_rf_sg_baseline_no_sw.joblib'))\n",
    "joblib.dump(rf_model_sg_tuned, os.path.join(model_path, 'model_rf_sg_tuned_no_sw.joblib'))\n",
    "joblib.dump(rf_model_cbow_baseline, os.path.join(model_path, 'model_rf_cbow_baseline_no_sw.joblib'))\n",
    "joblib.dump(rf_model_cbow_tuned, os.path.join(model_path, 'model_rf_cbow_tuned_no_sw.joblib'))"
   ]
  },
  {
   "cell_type": "code",
   "execution_count": null,
   "metadata": {},
   "outputs": [],
   "source": []
  }
 ],
 "metadata": {
  "colab": {
   "authorship_tag": "ABX9TyMejmB+CqIpkUCG2Ohfpmdz",
   "provenance": [
    {
     "file_id": "1yJpmX1qlsAjO3kEwk7F5jPPXLV-i5Lh3",
     "timestamp": 1710231079254
    },
    {
     "file_id": "1IcEIrsyIce7kyUupGxsyLspps-KMvKci",
     "timestamp": 1709600980420
    },
    {
     "file_id": "1G7gtIw47m53wmX9HF5gQkRAU0nn6eAAe",
     "timestamp": 1709398985223
    }
   ],
   "toc_visible": true
  },
  "kernelspec": {
   "display_name": "Python 3 (ipykernel)",
   "language": "python",
   "name": "python3"
  },
  "language_info": {
   "codemirror_mode": {
    "name": "ipython",
    "version": 3
   },
   "file_extension": ".py",
   "mimetype": "text/x-python",
   "name": "python",
   "nbconvert_exporter": "python",
   "pygments_lexer": "ipython3",
   "version": "3.10.9"
  }
 },
 "nbformat": 4,
 "nbformat_minor": 4
}
